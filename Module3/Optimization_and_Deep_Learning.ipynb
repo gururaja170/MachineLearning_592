{
  "nbformat": 4,
  "nbformat_minor": 0,
  "metadata": {
    "colab": {
      "provenance": [],
      "collapsed_sections": [],
      "authorship_tag": "ABX9TyOBdo6XyItegzieBCikge/y",
      "include_colab_link": true
    },
    "kernelspec": {
      "name": "python3",
      "display_name": "Python 3"
    },
    "language_info": {
      "name": "python"
    }
  },
  "cells": [
    {
      "cell_type": "markdown",
      "metadata": {
        "id": "view-in-github",
        "colab_type": "text"
      },
      "source": [
        "<a href=\"https://colab.research.google.com/github/yexf308/MachineLearning/blob/main/Module3/Optimization_and_Deep_Learning.ipynb\" target=\"_parent\"><img src=\"https://colab.research.google.com/assets/colab-badge.svg\" alt=\"Open In Colab\"/></a>"
      ]
    },
    {
      "cell_type": "code",
      "execution_count": 1,
      "metadata": {
        "colab": {
          "base_uri": "https://localhost:8080/"
        },
        "id": "l9cZ2uEXFXm6",
        "outputId": "a22e516d-ef06-462e-9673-e7f37afa2de8"
      },
      "outputs": [
        {
          "output_type": "stream",
          "name": "stdout",
          "text": [
            "Populating the interactive namespace from numpy and matplotlib\n"
          ]
        }
      ],
      "source": [
        "%pylab inline \n",
        "import pandas as pd\n",
        "from scipy import linalg\n",
        "from itertools import combinations\n",
        "import scipy\n",
        "import torch"
      ]
    },
    {
      "cell_type": "markdown",
      "source": [
        "$\\def\\m#1{\\mathbf{#1}}$\n",
        "$\\def\\mm#1{\\boldsymbol{#1}}$\n",
        "$\\def\\mb#1{\\mathbb{#1}}$\n",
        "$\\def\\c#1{\\mathcal{#1}}$\n",
        "$\\def\\mr#1{\\mathrm{#1}}$\n",
        "$\\newenvironment{rmat}{\\left[\\begin{array}{rrrrrrrrrrrrr}}{\\end{array}\\right]}$\n",
        "$\\newcommand\\brm{\\begin{rmat}}$\n",
        "$\\newcommand\\erm{\\end{rmat}}$\n",
        "$\\newenvironment{cmat}{\\left[\\begin{array}{ccccccccc}}{\\end{array}\\right]}$\n",
        "$\\newcommand\\bcm{\\begin{cmat}}$\n",
        "$\\newcommand\\ecm{\\end{cmat}}$\n"
      ],
      "metadata": {
        "id": "jLfdbWxkHHOO"
      }
    },
    {
      "cell_type": "markdown",
      "source": [
        "This notebook is based on chapter 12 in Dive into deep learning. \n",
        "\n",
        "In deep learning, most objective functions are complicated and do not have analytical solutions. Instead, we must use numerical optimization algorithms. There are many challenges in deep learning optimization.\n",
        "\n",
        "- **Local Minima**: For example, given the function\n",
        "$$f(x) = x \\cdot \\text{cos}(\\pi x) \\text{ for } -1.0 \\leq x \\leq 2.0,$$\n",
        "we can approximate the local minimum and global minimum of this function.\n",
        "\n",
        " The objective function of deep learning models usually has many local optima.\n",
        "When the numerical solution of an optimization problem is near the local optimum, the numerical solution obtained by the final iteration may only minimize the objective function *locally*, rather than *globally*, as the gradient of the objective function's solutions approaches or becomes zero.\n",
        "Only some degree of noise might knock the parameter out of the local minimum. In fact, this is one of the beneficial properties of\n",
        "minibatch stochastic gradient descent where the natural variation of gradients over minibatches is able to dislodge the parameters from local minima.\n",
        "\n"
      ],
      "metadata": {
        "id": "bJ-HVjbhHAmn"
      }
    },
    {
      "cell_type": "code",
      "source": [
        "def f(x):\n",
        "    return x * torch.cos(np.pi * x)\n",
        "\n",
        "x = torch.arange(-1.0, 2.0, 0.01)\n",
        "plt.plot(x, f(x))\n",
        "plt.annotate('local minimum', (-0.3, -0.25), (-0.77, -1.0))\n",
        "plt.annotate('global minimum', (1.1, -0.95), (0.6, 0.8))\n",
        "plt.show()"
      ],
      "metadata": {
        "colab": {
          "base_uri": "https://localhost:8080/",
          "height": 265
        },
        "id": "wX2RqN14IYFi",
        "outputId": "67218ef1-d9ae-4ff5-cff1-5d5b69259a6c"
      },
      "execution_count": 2,
      "outputs": [
        {
          "output_type": "display_data",
          "data": {
            "text/plain": [
              "<Figure size 432x288 with 1 Axes>"
            ],
            "image/png": "[encoded data removed]"
          },
          "metadata": {
            "needs_background": "light"
          }
        }
      ]
    },
    {
      "cell_type": "markdown",
      "source": [
        "### Saddle Points\n",
        "\n",
        "Besides local minima, saddle points are another reason for gradients to vanish. A *saddle point* is any location where all gradients of a function vanish but which is neither a global nor a local minimum.\n",
        "\n",
        "Saddle points in higher dimensions are even more insidious, as the example below shows. Consider the function $f(x, y) = x^2 - y^2$. It has its saddle point at $(0, 0)$. This is a maximum with respect to $y$ and a minimum with respect to $x$.\n"
      ],
      "metadata": {
        "id": "klpuZ-iyJ81G"
      }
    },
    {
      "cell_type": "code",
      "source": [
        "x, y = torch.meshgrid(\n",
        "    torch.linspace(-1.0, 1.0, 101), torch.linspace(-1.0, 1.0, 101))\n",
        "z = x**2 - y**2\n",
        "\n",
        "ax = plt.figure().add_subplot(111, projection='3d')\n",
        "ax.plot_wireframe(x, y, z, **{'rstride': 10, 'cstride': 10})\n",
        "ax.plot([0], [0], [0], 'rx')\n",
        "ticks = [-1, 0, 1]\n",
        "plt.xticks(ticks)\n",
        "plt.yticks(ticks)\n",
        "ax.set_zticks(ticks)\n",
        "plt.xlabel('x')\n",
        "plt.ylabel('y')\n",
        "plt.show()"
      ],
      "metadata": {
        "colab": {
          "base_uri": "https://localhost:8080/",
          "height": 303
        },
        "id": "_mRmdxekKAEK",
        "outputId": "c6839296-9d66-413c-b188-1550368d9663"
      },
      "execution_count": 3,
      "outputs": [
        {
          "output_type": "stream",
          "name": "stderr",
          "text": [
            "/usr/local/lib/python3.7/dist-packages/torch/functional.py:478: UserWarning: torch.meshgrid: in an upcoming release, it will be required to pass the indexing argument. (Triggered internally at  ../aten/src/ATen/native/TensorShape.cpp:2894.)\n",
            "  return _VF.meshgrid(tensors, **kwargs)  # type: ignore[attr-defined]\n"
          ]
        },
        {
          "output_type": "display_data",
          "data": {
            "text/plain": [
              "<Figure size 432x288 with 1 Axes>"
            ],
            "image/png": "[encoded data removed]"
          },
          "metadata": {
            "needs_background": "light"
          }
        }
      ]
    },
    {
      "cell_type": "markdown",
      "source": [
        "We assume that the input of a function is a $k$-dimensional vector and its\n",
        "output is a scalar, so its Hessian matrix will have $k$ eigenvalues.\n",
        "The solution of the\n",
        "function could be a local minimum, a local maximum, or a saddle point at a\n",
        "position where the function gradient is zero:\n",
        "\n",
        "* When the eigenvalues of the function's Hessian matrix at the zero-gradient position are all positive, we have a local minimum for the function.\n",
        "* When the eigenvalues of the function's Hessian matrix at the zero-gradient position are all negative, we have a local maximum for the function.\n",
        "* When the eigenvalues of the function's Hessian matrix at the zero-gradient position are negative and positive, we have a saddle point for the function.\n",
        "\n",
        "\n",
        "For high-dimensional problems the likelihood that at least *some* of the eigenvalues are negative is quite high. This makes saddle points more likely than local minima."
      ],
      "metadata": {
        "id": "Qt89SfbOKpO9"
      }
    },
    {
      "cell_type": "markdown",
      "source": [
        "### Vanishing Gradients\n",
        "\n",
        "Probably the most insidious problem to encounter is the vanishing gradient.\n",
        "Recall our commonly-used activation functions and their derivatives in :numref:`subsec_activation-functions`.\n",
        "For instance, assume that we want to minimize the function $f(x) = \\tanh(x)$ and we happen to get started at $x = 4$. As we can see, the gradient of $f$ is close to nil.\n",
        "More specifically, $f'(x) = 1 - \\tanh^2(x)$ and thus $f'(4) = 0.0013$.\n",
        "Consequently, optimization will get stuck for a long time before we make progress. This turns out to be one of the reasons that training deep learning models was quite tricky prior to the introduction of the ReLU activation function."
      ],
      "metadata": {
        "id": "N3K6vjcXK62p"
      }
    },
    {
      "cell_type": "code",
      "source": [
        "x = torch.arange(-2.0, 5.0, 0.01)\n",
        "plt.plot(x, torch.tanh(x))\n",
        "plt.annotate('vanishing gradient', (4, 1), (2, 0.0))\n",
        "plt.show()"
      ],
      "metadata": {
        "colab": {
          "base_uri": "https://localhost:8080/",
          "height": 265
        },
        "id": "yhMUXlUJLAp_",
        "outputId": "e8997033-2ff9-451c-ecd9-15bb774daf56"
      },
      "execution_count": 4,
      "outputs": [
        {
          "output_type": "display_data",
          "data": {
            "text/plain": [
              "<Figure size 432x288 with 1 Axes>"
            ],
            "image/png": "[encoded data removed]"
          },
          "metadata": {
            "needs_background": "light"
          }
        }
      ]
    },
    {
      "cell_type": "markdown",
      "source": [
        "# 1. Stochastic Gradient Descent \n",
        "We have covered enough in this course. \n",
        "\n",
        "$$\n",
        "\\begin{aligned}\n",
        "    \\eta_t & = \\eta_i \\text{ if } t_i \\leq t \\leq t_{i+1}  && \\text{piecewise constant} \\\\\n",
        "    \\eta_t & = \\eta_0 \\cdot (\\beta t + 1)^{-\\alpha} && \\text{polynomial decay}\n",
        "\\end{aligned}\n",
        "$$\n",
        "\n",
        "- In the first *piecewise constant* scenario we decrease the learning rate, e.g., whenever progress in optimization stalls. This is a common strategy for training deep networks. \n",
        "\n",
        "- For *polynomial decay* with $\\alpha = 0.5$, in the case of convex optimization there are a number of proofs that show that this rate is well behaved.\n"
      ],
      "metadata": {
        "id": "coddYP8kMUi1"
      }
    },
    {
      "cell_type": "markdown",
      "source": [
        "# 2. Minibatch Stochastic Gradient Descent\n",
        "- Gradient descent is not particularly *data efficient* whenever data is very similar.\n",
        "- Stochastic gradient descent is not particularly *computationally efficient* since CPUs and GPUs cannot exploit the full power of vectorization.\n",
        "\n",
        "Minibatch SGD can fully utilize the power of vectorization. \n",
        "In each epoch, randomly sample mini-batch $\\mathcal{B}_t\\subset \\{1,\\dots, N\\}$ of fixed size $|\\mathcal{B}_t|$.\n",
        "\n",
        "Evaluate and sum up and average gradient of sample loss functions: \n",
        "$$ \\mathbf{w}_{t+1}=\\mathbf{w}_t-\\frac{\\eta_t}{|\\mathcal{B}_t|} \\sum_{i\\in \\mathcal{B}_t}\\nabla f(\\m{x}^{(i)}, \\m{w}_t)$$ \n",
        "Minibatch SGD in fact reduces the amount of variance by averaging gradients. \n",
        "\n",
        "In practice we pick a minibatch $\\mathcal{B}_t$ that is large enough to offer good computational efficiency while still fitting into the memory of a GPU. \n",
        "\n",
        "### Example: airfoil dataset"
      ],
      "metadata": {
        "id": "zIF8n8cpFjSt"
      }
    },
    {
      "cell_type": "code",
      "source": [
        "!wget https://github.com/yexf308/MAT592/blob/main/data/airfoil_self_noise.dat?raw=true -O airfoil_self_noise.dat\n"
      ],
      "metadata": {
        "colab": {
          "base_uri": "https://localhost:8080/"
        },
        "id": "7SZs04K8JXdz",
        "outputId": "d1681e17-e4b5-4195-d54d-3bf12ead309b"
      },
      "execution_count": 5,
      "outputs": [
        {
          "output_type": "stream",
          "name": "stdout",
          "text": [
            "--2022-11-11 17:35:58--  https://github.com/yexf308/MAT592/blob/main/data/airfoil_self_noise.dat?raw=true\n",
            "Resolving github.com (github.com)... 140.82.121.4\n",
            "Connecting to github.com (github.com)|140.82.121.4|:443... connected.\n",
            "HTTP request sent, awaiting response... 301 Moved Permanently\n",
            "Location: https://github.com/yexf308/MachineLearning/blob/main/data/airfoil_self_noise.dat?raw=true [following]\n",
            "--2022-11-11 17:35:58--  https://github.com/yexf308/MachineLearning/blob/main/data/airfoil_self_noise.dat?raw=true\n",
            "Reusing existing connection to github.com:443.\n",
            "HTTP request sent, awaiting response... 302 Found\n",
            "Location: https://github.com/yexf308/MachineLearning/raw/main/data/airfoil_self_noise.dat [following]\n",
            "--2022-11-11 17:35:59--  https://github.com/yexf308/MachineLearning/raw/main/data/airfoil_self_noise.dat\n",
            "Reusing existing connection to github.com:443.\n",
            "HTTP request sent, awaiting response... 302 Found\n",
            "Location: https://raw.githubusercontent.com/yexf308/MachineLearning/main/data/airfoil_self_noise.dat [following]\n",
            "--2022-11-11 17:35:59--  https://raw.githubusercontent.com/yexf308/MachineLearning/main/data/airfoil_self_noise.dat\n",
            "Resolving raw.githubusercontent.com (raw.githubusercontent.com)... 185.199.108.133, 185.199.109.133, 185.199.110.133, ...\n",
            "Connecting to raw.githubusercontent.com (raw.githubusercontent.com)|185.199.108.133|:443... connected.\n",
            "HTTP request sent, awaiting response... 200 OK\n",
            "Length: 58481 (57K) [text/plain]\n",
            "Saving to: ‘airfoil_self_noise.dat’\n",
            "\n",
            "airfoil_self_noise. 100%[===================>]  57.11K  --.-KB/s    in 0.007s  \n",
            "\n",
            "2022-11-11 17:35:59 (7.67 MB/s) - ‘airfoil_self_noise.dat’ saved [58481/58481]\n",
            "\n"
          ]
        }
      ]
    },
    {
      "cell_type": "code",
      "source": [
        "data = np.genfromtxt('airfoil_self_noise.dat',\n",
        "                         dtype=np.float32, delimiter='\\t')\n",
        "#data = torch.from_numpy(data)\n",
        "data = torch.from_numpy((data - data.mean(axis=0)) / data.std(axis=0))\n",
        "X    = data[:1500, :-1]\n",
        "y    = data[:1500, -1]"
      ],
      "metadata": {
        "id": "SBXOt2rHJqUh"
      },
      "execution_count": 6,
      "outputs": []
    },
    {
      "cell_type": "markdown",
      "source": [
        "Training models consists of making multiple passes over the dataset, grabbing one minibatch of examples at a time, and using them to update our model. Since this process is so fundamental to training machine learning algorithms, it is worth defining a utility function to shuffle the dataset and access it in minibatches.\n",
        "\n",
        "In general, note that we want to use reasonably sized minibatches to take advantage of the GPU hardware, which excels at parallelizing operations. Because each example can be fed through our models in parallel and the gradient of the loss function for each example can also be taken in parallel, GPUs allow us to process hundreds of examples in scarcely more time than it might take to process just a single example."
      ],
      "metadata": {
        "id": "G-8I1hf89MjX"
      }
    },
    {
      "cell_type": "code",
      "source": [
        "def data_iter(batch_size, features, labels):\n",
        "    num_examples = len(features)\n",
        "    indices = list(range(num_examples))\n",
        "    random.shuffle(indices)\n",
        "    for i in range(0, num_examples, batch_size):\n",
        "        batch_indices = torch.tensor(\n",
        "            indices[i: min(i + batch_size, num_examples)])\n",
        "        yield features[batch_indices], labels[batch_indices]"
      ],
      "metadata": {
        "id": "jOYr8HKhPqFJ"
      },
      "execution_count": 7,
      "outputs": []
    },
    {
      "cell_type": "code",
      "source": [
        "feature_dim = X.shape[1]\n",
        "w = torch.normal(0, 0.05, size=(feature_dim,1), requires_grad=True)\n",
        "b = torch.zeros(1, requires_grad=True)\n",
        "\n",
        "def linreg(X, w, b):  \n",
        "    return torch.matmul(X, w) + b\n",
        "\n",
        "def squared_loss(y_hat, y):  \n",
        "    return (y_hat - y.reshape(y_hat.shape)) ** 2 / 2    \n",
        "\n",
        "\n",
        "def sgd(params, lr, batch_size):  \n",
        "    \"\"\"Minibatch stochastic gradient descent.\"\"\"\n",
        "    with torch.no_grad():\n",
        "        for w in params:\n",
        "            w -= lr * w.grad / batch_size\n",
        "            w.grad.zero_()\n",
        "     \n"
      ],
      "metadata": {
        "id": "_IoFC4Hk-HDo"
      },
      "execution_count": 8,
      "outputs": []
    },
    {
      "cell_type": "code",
      "source": [
        "lr = 0.03\n",
        "num_epochs = 20\n",
        "net = linreg\n",
        "loss = squared_loss\n",
        "batch_size = 10"
      ],
      "metadata": {
        "id": "LfV1aYxq7FkC"
      },
      "execution_count": 9,
      "outputs": []
    },
    {
      "cell_type": "code",
      "source": [
        "print(f'epoch {0}, loss {float(loss(net(X, w, b), y).mean()):f}')\n",
        "\n",
        "for epoch in range(num_epochs):\n",
        "    for Xi, yi in data_iter(batch_size, X, y):\n",
        "        l = loss(net(Xi, w, b), yi)  # Minibatch loss in `X` and `y`\n",
        "        # Compute gradient on `l` with respect to [`w`, `b`]\n",
        "        l.sum().backward()\n",
        "        sgd([w, b], lr, batch_size)  # Update parameters using their gradient\n",
        "   \n",
        "    train_l = loss(net(X, w, b), y)\n",
        "    print(f'epoch {epoch + 1}, loss {float(train_l.mean()):f}')"
      ],
      "metadata": {
        "colab": {
          "base_uri": "https://localhost:8080/"
        },
        "id": "hQbKHZXB7J9i",
        "outputId": "63eaff9e-fb09-42ec-a350-43fcc02dcd21"
      },
      "execution_count": 10,
      "outputs": [
        {
          "output_type": "stream",
          "name": "stdout",
          "text": [
            "epoch 0, loss 0.526335\n",
            "epoch 1, loss 0.245988\n",
            "epoch 2, loss 0.245064\n",
            "epoch 3, loss 0.242810\n",
            "epoch 4, loss 0.242441\n",
            "epoch 5, loss 0.242419\n",
            "epoch 6, loss 0.242765\n",
            "epoch 7, loss 0.243516\n",
            "epoch 8, loss 0.244819\n",
            "epoch 9, loss 0.242983\n",
            "epoch 10, loss 0.242214\n",
            "epoch 11, loss 0.243701\n",
            "epoch 12, loss 0.243543\n",
            "epoch 13, loss 0.244780\n",
            "epoch 14, loss 0.245101\n",
            "epoch 15, loss 0.242630\n",
            "epoch 16, loss 0.241874\n",
            "epoch 17, loss 0.245391\n",
            "epoch 18, loss 0.242510\n",
            "epoch 19, loss 0.243267\n",
            "epoch 20, loss 0.242787\n"
          ]
        }
      ]
    },
    {
      "cell_type": "code",
      "source": [
        "num_epochs =2\n",
        "w = torch.normal(0, 0.1, size=(feature_dim,1), requires_grad=True)\n",
        "b = torch.zeros(1, requires_grad=True)\n",
        "N = int(X.shape[0]/batch_size)*num_epochs +1\n",
        "\n",
        "loss_store = [loss(net(X, w, b), y).mean().detach().numpy()]\n",
        "for epoch in range(num_epochs):\n",
        "    for Xi, yi in data_iter(batch_size, X, y):\n",
        "        l = loss(net(Xi, w, b), yi)  # Minibatch loss in `X` and `y`\n",
        "        l.sum().backward()\n",
        "        sgd([w, b], lr, batch_size)  # Update parameters using their gradient\n",
        "        loss_store.append(loss(net(X, w, b), y).mean().detach().numpy())\n",
        "        \n",
        "loss_store = np.array(loss_store)\n"
      ],
      "metadata": {
        "id": "5kzvFMJALRBD"
      },
      "execution_count": 11,
      "outputs": []
    },
    {
      "cell_type": "code",
      "source": [
        "epoch_list = np.linspace(0, num_epochs, N)\n",
        "ax = plt.gca()\n",
        "ax.plot(epoch_list, loss_store)\n",
        "ax.set_xlabel('epoch')\n",
        "ax.set_title('Mini-Batch SGD')\n",
        "plt.show()\n"
      ],
      "metadata": {
        "colab": {
          "base_uri": "https://localhost:8080/",
          "height": 295
        },
        "id": "9K1UHgpZMUYh",
        "outputId": "f825e77d-dcf6-402f-8653-ed88aaadaeb0"
      },
      "execution_count": 12,
      "outputs": [
        {
          "output_type": "display_data",
          "data": {
            "text/plain": [
              "<Figure size 432x288 with 1 Axes>"
            ],
            "image/png": "[encoded data removed]"
          },
          "metadata": {
            "needs_background": "light"
          }
        }
      ]
    },
    {
      "cell_type": "markdown",
      "source": [
        "# 3. Momentum\n",
        "\n",
        "The method is described as follows.\n",
        "$$\n",
        "\\begin{aligned}\n",
        "\\mathbf{v}_t &\\leftarrow \\beta \\mathbf{v}_{t-1} + \\mathbf{g}_{t, t-1}, \\\\\n",
        "\\mathbf{x}_t &\\leftarrow \\mathbf{x}_{t-1} - \\eta_t \\mathbf{v}_t.\n",
        "\\end{aligned}\n",
        "$$\n",
        "\n",
        "Note that for $\\beta = 0$ we recover regular gradient descent. $\\mathbf{v}$ is the momentum. \n",
        "\n",
        "Equivalently, with the recursive argument\n",
        "\n",
        "$$\\begin{aligned}\n",
        "\\mathbf{v}_t = \\beta^2 \\mathbf{v}_{t-2} + \\beta \\mathbf{g}_{t-1, t-2} + \\mathbf{g}_{t, t-1}\n",
        "= \\ldots, = \\sum_{\\tau = 0}^{t-1} \\beta^{\\tau} \\mathbf{g}_{t-\\tau, t-\\tau-1}.\n",
        "\\end{aligned}$$\n",
        "where \n",
        "large $\\beta$ amounts to a long-range average, whereas small $\\beta$ amounts to only a slight correction relative to a gradient method. This accelerates convergence significantly.\n",
        "\n",
        "In the limit the terms add up to $\\sum_{\\tau=0}^\\infty \\beta^\\tau = \\frac{1}{1-\\beta}$. In other words, rather than taking a step of size $\\eta$ in gradient descent or stochastic gradient descent we take a step of size $\\frac{\\eta}{1-\\beta}$ while at the same time, dealing with a potentially much better behaved descent direction. \n",
        "\n",
        "\n",
        "More theoretical analysis, please see [here](https://distill.pub/2017/momentum/). \n",
        "\n",
        "\n",
        "### Summary\n",
        "\n",
        "* Momentum replaces gradients with a leaky average over past gradients. This accelerates convergence significantly.\n",
        "* It is desirable for both noise-free gradient descent and (noisy) stochastic gradient descent.\n",
        "* Momentum prevents stalling of the optimization process that is much more likely to occur for stochastic gradient descent.\n",
        "* The effective number of gradients is given by $\\frac{1}{1-\\beta}$ due to exponentiated downweighting of past data.\n",
        "* In the case of convex quadratic problems this can be analyzed explicitly in detail.\n",
        "* Implementation is quite straightforward but it requires us to store an additional state vector (momentum $\\mathbf{v}$).\n",
        "\n",
        "\n"
      ],
      "metadata": {
        "id": "J_uW7vRhIMgM"
      }
    },
    {
      "cell_type": "code",
      "source": [
        "# implement from scratch\n",
        "def sgd_momentum(params, states, lr, momentum,batch_size):\n",
        "    for w, v in zip(params, states):\n",
        "        with torch.no_grad():\n",
        "            v[:] =  momentum * v + w.grad/batch_size\n",
        "            w[:] -= lr * v\n",
        "        w.grad.data.zero_()"
      ],
      "metadata": {
        "id": "xxq1wqB-T_MI"
      },
      "execution_count": 13,
      "outputs": []
    },
    {
      "cell_type": "code",
      "source": [
        "lr = 0.005\n",
        "momentum = 0.9\n",
        "num_epochs = 2\n",
        "net = linreg\n",
        "loss = squared_loss\n",
        "batch_size = 10\n",
        "\n",
        "v_w = torch.zeros((feature_dim, 1))   #<--\n",
        "v_b = torch.zeros(1)        #<--\n",
        "\n",
        "w = torch.normal(0, 0.1, size=(feature_dim,1), requires_grad=True)\n",
        "b = torch.zeros(1, requires_grad=True)\n",
        "N = int(X.shape[0]/batch_size)*num_epochs +1\n",
        "\n",
        "loss_store = [loss(net(X, w, b), y).mean().detach().numpy()]\n",
        "for epoch in range(num_epochs):\n",
        "    for Xi, yi in data_iter(batch_size, X, y):\n",
        "        l = loss(net(Xi, w, b), yi).sum()  \n",
        "        l.backward()\n",
        "        sgd_momentum([w, b], [v_w, v_b], lr, momentum, batch_size)  #<--\n",
        "        loss_store.append(loss(net(X, w, b), y).mean().detach().numpy())\n",
        "        \n",
        "loss_store = np.array(loss_store)"
      ],
      "metadata": {
        "id": "8JwQUsqRToEr"
      },
      "execution_count": 14,
      "outputs": []
    },
    {
      "cell_type": "code",
      "source": [
        "epoch_list = np.linspace(0, num_epochs, N)\n",
        "ax = plt.gca()\n",
        "ax.plot(epoch_list, loss_store)\n",
        "ax.set_xlabel('epoch')\n",
        "ax.set_title('Momentum')\n",
        "plt.show()"
      ],
      "metadata": {
        "colab": {
          "base_uri": "https://localhost:8080/",
          "height": 295
        },
        "id": "nZy1E4bUYDWY",
        "outputId": "50d93775-eb7e-4e27-a564-a8c62cd0853f"
      },
      "execution_count": 15,
      "outputs": [
        {
          "output_type": "display_data",
          "data": {
            "text/plain": [
              "<Figure size 432x288 with 1 Axes>"
            ],
            "image/png": "[encoded data removed]"
          },
          "metadata": {
            "needs_background": "light"
          }
        }
      ]
    },
    {
      "cell_type": "code",
      "source": [
        "# use package in pytorch\n",
        "import torch.optim as optim\n",
        "lr = 0.001\n",
        "momentum = 0.9\n",
        "num_epochs = 2\n",
        "net = linreg\n",
        "loss = squared_loss\n",
        "batch_size = 10\n",
        "\n",
        "\n",
        "w = torch.normal(0, 0.1, size=(feature_dim,1), requires_grad=True)\n",
        "b = torch.zeros(1, requires_grad=True)\n",
        "N = int(X.shape[0]/batch_size)*num_epochs +1\n",
        "\n",
        "\n",
        "optimizer = optim.SGD([w,b], lr=lr, momentum=momentum) #<--\n",
        "\n",
        "\n",
        "loss_store = [loss(net(X, w, b), y).mean().detach().numpy()]\n",
        "for epoch in range(num_epochs):\n",
        "    for Xi, yi in data_iter(batch_size, X, y):\n",
        "        optimizer.zero_grad()   #<--\n",
        "        l = loss(net(Xi, w, b), yi).sum()\n",
        "        l.backward()\n",
        "        optimizer.step()         #<--\n",
        "        loss_store.append(loss(net(X, w, b), y).mean().detach().numpy())\n",
        "        \n",
        "loss_store = np.array(loss_store)"
      ],
      "metadata": {
        "id": "T3-4gnsvncaM"
      },
      "execution_count": 16,
      "outputs": []
    },
    {
      "cell_type": "code",
      "source": [
        "epoch_list = np.linspace(0, num_epochs, N)\n",
        "ax = plt.gca()\n",
        "ax.plot(epoch_list, loss_store)\n",
        "ax.set_xlabel('epoch')\n",
        "ax.set_title('Momentum')\n",
        "plt.show()"
      ],
      "metadata": {
        "colab": {
          "base_uri": "https://localhost:8080/",
          "height": 295
        },
        "id": "MeVWZa6woyKP",
        "outputId": "04bf1218-96dc-4fa2-eb5e-611529c99de4"
      },
      "execution_count": 17,
      "outputs": [
        {
          "output_type": "display_data",
          "data": {
            "text/plain": [
              "<Figure size 432x288 with 1 Axes>"
            ],
            "image/png": "[encoded data removed]"
          },
          "metadata": {
            "needs_background": "light"
          }
        }
      ]
    },
    {
      "cell_type": "markdown",
      "source": [
        "# 4.AdaGrad\n",
        "If your feature is sparse, i.e., features that occur only infrequently. This is common for natural language. \n",
        "\n",
        "Parameters associated with infrequent features only receive meaningful updates whenever these features occur. Given a decreasing learning rate we might end up in a situation where the parameters for common features converge rather quickly to their optimal values, whereas for infrequent features we are still short of observing them sufficiently frequently before their optimal values can be determined. In other words, the learning rate either decreases too slowly for frequent features or too quickly for infrequent ones.\n",
        "\n",
        "A possible hack to redress this issue would be to count the number of times we see a particular feature and to use this as a clock for adjusting learning rates. That is, rather than choosing a learning rate of the form $\\eta = \\frac{\\eta_0}{\\sqrt{t + c}}$ we could use $\\eta_i = \\frac{\\eta_0}{\\sqrt{s(i, t) + c}}$. Here $s(i, t)$ counts the number of nonzeros for feature $i$ that we have observed up to time $t$. However, it fails whenever we do not quite have sparsity but rather just data where the gradients are often very small and only rarely large. After all, it is unclear where one would draw the line between something that qualifies as an observed feature or not.\n",
        "\n",
        "In AdaGrad, we use\n",
        "$s(i, t+1) = s(i, t) + \\left(\\partial_i f(\\mathbf{x})\\right)^2$ as a means to adjust the learning rate. \n",
        "\n",
        "- We no longer need to decide just when a gradient is large enough.\n",
        "\n",
        "- It scales automatically with the magnitude of the gradients. Coordinates that routinely correspond to large gradients are scaled down significantly, whereas others with small gradients receive a much more gentle treatment.\n",
        "\n",
        "\n",
        "## The Algorithm\n",
        "\n",
        "Let's formalize the discussion from above. We use the variable $\\mathbf{s}_t$ to accumulate past gradient variance as follows.\n",
        "\n",
        "$$\\begin{aligned}\n",
        "    \\mathbf{g}_t & = \\partial_{\\mathbf{w}} l(y_t, f(\\mathbf{x}_t, \\mathbf{w})), \\\\\n",
        "    \\mathbf{s}_t & = \\mathbf{s}_{t-1} + \\mathbf{g}_t^2, \\\\\n",
        "    \\mathbf{w}_t & = \\mathbf{w}_{t-1} - \\frac{\\eta}{\\sqrt{\\mathbf{s}_t + \\epsilon}} \\cdot \\mathbf{g}_t.\n",
        "\\end{aligned}$$\n",
        "Here the operation are applied coordinate wise.\n",
        "\n",
        "## Summary\n",
        "\n",
        "* Adagrad decreases the learning rate dynamically on a per-coordinate basis.\n",
        "* It uses the magnitude of the gradient as a means of adjusting how quickly progress is achieved - coordinates with large gradients are compensated with a smaller learning rate.\n",
        "* If the optimization problem has a rather uneven structure Adagrad can help mitigate the distortion.\n",
        "* Adagrad is particularly effective for sparse features where the learning rate needs to decrease more slowly for infrequently occurring terms.\n",
        "* On deep learning problems Adagrad can sometimes be too aggressive in reducing learning rates.\n"
      ],
      "metadata": {
        "id": "acAlB3OCjkBH"
      }
    },
    {
      "cell_type": "code",
      "source": [
        "# implement from scratch\n",
        "def adagrad(params, states, lr, batch_size):\n",
        "    eps = 1e-6\n",
        "    for w, s in zip(params, states):\n",
        "        with torch.no_grad():\n",
        "            s[:] += torch.square(w.grad/batch_size)\n",
        "            w[:] -= lr * (w.grad/batch_size) / torch.sqrt(s + eps)\n",
        "        w.grad.data.zero_()"
      ],
      "metadata": {
        "id": "uZpSKfrwkE9-"
      },
      "execution_count": 18,
      "outputs": []
    },
    {
      "cell_type": "code",
      "source": [
        "lr = 0.1        #<--\n",
        "num_epochs = 2\n",
        "net = linreg\n",
        "loss = squared_loss\n",
        "batch_size = 10\n",
        "\n",
        "s_w = torch.zeros((feature_dim, 1))   \n",
        "s_b = torch.zeros(1)        \n",
        "\n",
        "w = torch.normal(0, 0.1, size=(feature_dim,1), requires_grad=True)\n",
        "b = torch.zeros(1, requires_grad=True)\n",
        "N = int(X.shape[0]/batch_size)*num_epochs +1\n",
        "\n",
        "loss_store = [loss(net(X, w, b), y).mean().detach().numpy()]\n",
        "for epoch in range(num_epochs):\n",
        "    for Xi, yi in data_iter(batch_size, X, y):\n",
        "        l = loss(net(Xi, w, b), yi)  \n",
        "        l.sum().backward()\n",
        "        adagrad([w, b], [s_w, s_b], lr,  batch_size)  #<--\n",
        "        loss_store.append(loss(net(X, w, b), y).mean().detach().numpy())\n",
        "        \n",
        "loss_store = np.array(loss_store)"
      ],
      "metadata": {
        "id": "Qu22HNn7k0y5"
      },
      "execution_count": 19,
      "outputs": []
    },
    {
      "cell_type": "code",
      "source": [
        "epoch_list = np.linspace(0, num_epochs, N)\n",
        "ax = plt.gca()\n",
        "ax.plot(epoch_list, loss_store)\n",
        "ax.set_xlabel('epoch')\n",
        "ax.set_title('AdaGrad')\n",
        "plt.show()"
      ],
      "metadata": {
        "colab": {
          "base_uri": "https://localhost:8080/",
          "height": 295
        },
        "id": "Tjxxi974mpXy",
        "outputId": "87eb8a5e-3b14-4fe1-db0b-c5fc0d83e908"
      },
      "execution_count": 20,
      "outputs": [
        {
          "output_type": "display_data",
          "data": {
            "text/plain": [
              "<Figure size 432x288 with 1 Axes>"
            ],
            "image/png": "[encoded data removed]"
          },
          "metadata": {
            "needs_background": "light"
          }
        }
      ]
    },
    {
      "cell_type": "code",
      "source": [
        "# use package in pytorch \n",
        "w = torch.normal(0, 0.1, size=(feature_dim,1), requires_grad=True)\n",
        "b = torch.zeros(1, requires_grad=True)\n",
        "\n",
        "optimizer = optim.Adagrad([w,b], lr=lr) #<--\n",
        "\n",
        "loss_store = [loss(net(X, w, b), y).mean().detach().numpy()]\n",
        "for epoch in range(num_epochs):\n",
        "    for Xi, yi in data_iter(batch_size, X, y):\n",
        "        optimizer.zero_grad()   #<--\n",
        "        l = loss(net(Xi, w, b), yi).sum()\n",
        "        l.backward()\n",
        "        optimizer.step()         #<--\n",
        "        loss_store.append(loss(net(X, w, b), y).mean().detach().numpy())\n",
        "        \n",
        "loss_store = np.array(loss_store)\n",
        "\n",
        "epoch_list = np.linspace(0, num_epochs, N)\n",
        "ax = plt.gca()\n",
        "ax.plot(epoch_list, loss_store)\n",
        "ax.set_xlabel('epoch')\n",
        "ax.set_title('AdaGrad')\n",
        "plt.show()"
      ],
      "metadata": {
        "colab": {
          "base_uri": "https://localhost:8080/",
          "height": 295
        },
        "id": "3WsS3PWm32UZ",
        "outputId": "725b815a-fe40-43a7-ce7c-77c5bc6e784e"
      },
      "execution_count": 21,
      "outputs": [
        {
          "output_type": "display_data",
          "data": {
            "text/plain": [
              "<Figure size 432x288 with 1 Axes>"
            ],
            "image/png": "[encoded data removed]"
          },
          "metadata": {
            "needs_background": "light"
          }
        }
      ]
    },
    {
      "cell_type": "markdown",
      "source": [
        "# 5.RMSProp\n",
        "In AdaGrad, one can show the learning rate decreases at a predefined schedule of effectively $O(1/\\sqrt{t})$. While this is generally appropriate for convex problems, it might not be ideal for nonconvex ones, such as those encountered in deep learning. Yet, the coordinate-wise adaptivity of Adagrad is highly desirable as a preconditioner. \n",
        "\n",
        "The method is to use a leaky average in the same way we used in the momentum method, i.e., $\\mathbf{s}_t \\leftarrow \\gamma \\mathbf{s}_{t-1} + (1-\\gamma) \\mathbf{g}_t^2$ for some parameter $\\gamma > 0$. Keeping all other parts unchanged yields RMSProp.\n",
        "\n",
        "\\begin{align}\n",
        "    \\mathbf{s}_t & \\leftarrow \\gamma \\mathbf{s}_{t-1} + (1 - \\gamma) \\mathbf{g}_t^2, \\\\\n",
        "    \\mathbf{x}_t & \\leftarrow \\mathbf{x}_{t-1} - \\frac{\\eta}{\\sqrt{\\mathbf{s}_t + \\epsilon}} \\odot \\mathbf{g}_t.\n",
        "\\end{align}\n",
        "The constant $\\epsilon > 0$ is typically set to $10^{-6}$ to ensure that we do not suffer from division by zero or overly large step sizes. Given this expansion we are now free to control the learning rate $\\eta$ independently of the scaling that is applied on a per-coordinate basis. "
      ],
      "metadata": {
        "id": "aha0yxQinMMp"
      }
    },
    {
      "cell_type": "code",
      "source": [
        "def rmsprop(params, states, lr, gamma, batch_size):\n",
        "    eps = 1e-6\n",
        "    for w, s in zip(params, states):\n",
        "        with torch.no_grad():\n",
        "            s[:] = gamma * s + (1 - gamma) * torch.square(w.grad/batch_size)\n",
        "            w[:] -= lr * (w.grad/batch_size) / torch.sqrt(s + eps)\n",
        "        w.grad.data.zero_()"
      ],
      "metadata": {
        "id": "5N4XtZJpobpN"
      },
      "execution_count": 22,
      "outputs": []
    },
    {
      "cell_type": "code",
      "source": [
        "lr = 0.01\n",
        "gamma = 0.9  # <--\n",
        "num_epochs = 2\n",
        "net = linreg\n",
        "loss = squared_loss\n",
        "batch_size = 10\n",
        "\n",
        "s_w = torch.zeros((feature_dim, 1))   \n",
        "s_b = torch.zeros(1)        \n",
        "\n",
        "w = torch.normal(0, 0.1, size=(feature_dim,1), requires_grad=True)\n",
        "b = torch.zeros(1, requires_grad=True)\n",
        "N = int(X.shape[0]/batch_size)*num_epochs +1\n",
        "\n",
        "loss_store = [loss(net(X, w, b), y).mean().detach().numpy()]\n",
        "for epoch in range(num_epochs):\n",
        "    for Xi, yi in data_iter(batch_size, X, y):\n",
        "        l = loss(net(Xi, w, b), yi)  \n",
        "        l.sum().backward()\n",
        "        rmsprop([w, b], [s_w, s_b], lr, gamma, batch_size)  #<--\n",
        "        loss_store.append(loss(net(X, w, b), y).mean().detach().numpy())\n",
        "        \n",
        "loss_store = np.array(loss_store)"
      ],
      "metadata": {
        "id": "fv9cpjP8q280"
      },
      "execution_count": 23,
      "outputs": []
    },
    {
      "cell_type": "code",
      "source": [
        "epoch_list = np.linspace(0, num_epochs, N)\n",
        "ax = plt.gca()\n",
        "ax.plot(epoch_list, loss_store)\n",
        "ax.set_xlabel('epoch')\n",
        "ax.set_title('Rmsprop')\n",
        "plt.show()"
      ],
      "metadata": {
        "colab": {
          "base_uri": "https://localhost:8080/",
          "height": 295
        },
        "id": "HZ-OmIJZrd_h",
        "outputId": "3757ca9a-2514-4f33-fc07-21974b9ad68f"
      },
      "execution_count": 24,
      "outputs": [
        {
          "output_type": "display_data",
          "data": {
            "text/plain": [
              "<Figure size 432x288 with 1 Axes>"
            ],
            "image/png": "[encoded data removed]"
          },
          "metadata": {
            "needs_background": "light"
          }
        }
      ]
    },
    {
      "cell_type": "markdown",
      "source": [
        "# 6. AdaDelta\n",
        "\n",
        "Adadelta is a variant of AdaGrad. The main difference lies in the fact that it decreases the amount by which the learning rate is adaptive to coordinates.\n",
        "\n",
        "Adadelta uses two state variables:\n",
        "\n",
        "- $\\mathbf{s}_t$: to store a leaky average of the second moment of the gradient. \n",
        "\n",
        "- $\\Delta\\mathbf{x}_t$: to store a leaky average of the second moment of the change of parameters. \n",
        "\n",
        "The algorithm gives as follows, the leaky update is similar with Rmsprop. \n",
        "\\begin{align}\n",
        " \\mathbf{s}_t & = \\rho \\mathbf{s}_{t-1} + (1 - \\rho) \\mathbf{g}_t^2 \\\\\n",
        "  \\mathbf{x}_t  & = \\mathbf{x}_{t-1} - \\frac{\\sqrt{\\Delta\\mathbf{x}_{t-1} + \\epsilon}}{\\sqrt{{\\mathbf{s}_t + \\epsilon}}} \\odot \\mathbf{g}_t\n",
        "\\end{align}\n",
        "where $\\Delta \\mathbf{x}_{t-1}$ is the leaky average of the squared rescaled gradients $\\mathbf{g}_t'$. We initialize $\\Delta \\mathbf{x}_{0}$ to be $0$ and update it at each step with $\\mathbf{g}_t'$, i.e.,\n",
        "\n",
        "\\begin{align}\n",
        "    \\Delta \\mathbf{x}_t & = \\rho \\Delta\\mathbf{x}_{t-1} + (1 - \\rho) {\\mathbf{g}_t'}^2,\n",
        "\\end{align}\n",
        "and $\\epsilon$ (a small value such as $10^{-5}$) is added to maintain numerical stability. Choosing $\\rho = 0.9$ amounts to a half-life time of 10 for each parameter update."
      ],
      "metadata": {
        "id": "6WYVAreos5P7"
      }
    },
    {
      "cell_type": "code",
      "source": [
        "def adadelta(params, states, rho, batch_size):\n",
        "    eps = 1e-6\n",
        "    for w, (s, delta) in zip(params, states):\n",
        "        s[:] = rho * s + (1 - rho) * np.square(w.grad)\n",
        "        g = (np.sqrt(delta + eps) / np.sqrt(s + eps)) * w.grad\n",
        "        w[:] -= g\n",
        "        delta[:] = rho * delta + (1 - rho) * g * g"
      ],
      "metadata": {
        "id": "aCV0ITlLtXbx"
      },
      "execution_count": 25,
      "outputs": []
    },
    {
      "cell_type": "code",
      "source": [
        "s_w, s_b          = np.zeros((feature_dim, 1)), np.zeros(1)\n",
        "delta_w, delta_b  = np.zeros((feature_dim, 1)), np.zeros(1)\n",
        "\n"
      ],
      "metadata": {
        "id": "lrXMoRKIt9hB"
      },
      "execution_count": 26,
      "outputs": []
    },
    {
      "cell_type": "markdown",
      "source": [
        "# 7. Adam\n",
        "ADAM combines all these techniques into one efficient learning algorithm. As expected, this is an algorithm that has become rather popular as one of the more robust and effective optimization algorithms to use in deep learning.\n",
        "\n",
        "The algorithm is given as follows,\n",
        "\n",
        "One of the key components of Adam is that it uses exponential weighted moving averages (also known as leaky averaging) to obtain an estimate of both the momentum and also the second moment of the gradient. That is, it uses the state variables\n",
        "\n",
        "\\begin{align}\n",
        "    \\mathbf{v}_t & = \\beta_1 \\mathbf{v}_{t-1} + (1 - \\beta_1) \\mathbf{g}_t, \\\\\n",
        "    \\mathbf{s}_t & = \\beta_2 \\mathbf{s}_{t-1} + (1 - \\beta_2) \\mathbf{g}_t^2, \\\\\n",
        "    \\hat{\\mathbf{v}}_t &= \\frac{\\mathbf{v}_t}{1 - \\beta_1^t} \\\\\n",
        "   \\hat{\\mathbf{s}}_t &= \\frac{\\mathbf{s}_t}{1 - \\beta_2^t} \\\\\n",
        "    \\mathbf{g}_t' &= \\frac{\\eta \\hat{\\mathbf{v}}_t}{\\sqrt{\\hat{\\mathbf{s}}_t} + \\epsilon}, \\\\\n",
        "    \\mathbf{x}_t &= \\mathbf{x}_{t-1} - \\mathbf{g}_t'\n",
        "\\end{align}\n",
        "Common choices for parameters are $\\beta_1 = 0.9, \\beta_2 = 0.999, \\epsilon = 10^{-6} $.\n"
      ],
      "metadata": {
        "id": "9Mo1YbkAkpMa"
      }
    },
    {
      "cell_type": "code",
      "source": [
        "def adam(params, states, hyperparams):\n",
        "    beta1, beta2, eps = 0.9, 0.999, 1e-6\n",
        "    for p, (v, s) in zip(params, states):\n",
        "        with torch.no_grad():\n",
        "            v[:] = beta1 * v + (1 - beta1) * p.grad\n",
        "            s[:] = beta2 * s + (1 - beta2) * torch.square(p.grad)\n",
        "            v_bias_corr = v / (1 - beta1 ** hyperparams['t'])\n",
        "            s_bias_corr = s / (1 - beta2 ** hyperparams['t'])\n",
        "            p[:] -= hyperparams['lr'] * v_bias_corr / (torch.sqrt(s_bias_corr)\n",
        "                                                       + eps)\n",
        "        p.grad.data.zero_()\n",
        "    hyperparams['t'] += 1"
      ],
      "metadata": {
        "id": "dqEU7SOqWxPY"
      },
      "execution_count": null,
      "outputs": []
    },
    {
      "cell_type": "code",
      "source": [
        "v_w, v_b = torch.zeros((feature_dim, 1)), torch.zeros(1)\n",
        "s_w, s_b = torch.zeros((feature_dim, 1)), torch.zeros(1)"
      ],
      "metadata": {
        "id": "S4C5n43xXn-Y"
      },
      "execution_count": null,
      "outputs": []
    },
    {
      "cell_type": "markdown",
      "source": [
        "## Yogi \n",
        "One of the problems of Adam is that it can fail to converge even in convex settings when the second moment estimate in $\\mathbf{s}_t$ blows up.\n",
        "\n",
        "To understand what's going on, let's rewrite the Adam update as follows:\n",
        "\n",
        "$$\\mathbf{s}_t = \\mathbf{s}_{t-1} + (1 - \\beta_2) \\left(\\mathbf{g}_t^2 - \\mathbf{s}_{t-1}\\right).$$\n",
        "\n",
        "Whenever $\\mathbf{g}_t^2$ has high variance or updates are sparse, $\\mathbf{s}_t$ might forget past values too quickly. A possible fix for this is to replace $\\mathbf{g}_t^2 - \\mathbf{s}_{t-1}$ by $\\mathbf{g}_t^2 \\odot \\mathop{\\mathrm{sgn}}(\\mathbf{g}_t^2 - \\mathbf{s}_{t-1})$. Now the magnitude of the update no longer depends on the amount of deviation. This yields the Yogi updates\n",
        "\n",
        "$$\\mathbf{s}_t = \\mathbf{s}_{t-1} + (1 - \\beta_2) \\mathbf{g}_t^2 \\odot \\mathop{\\mathrm{sgn}}(\\mathbf{g}_t^2 - \\mathbf{s}_{t-1}).$$\n",
        "\n"
      ],
      "metadata": {
        "id": "5zkx52p4Z6n-"
      }
    },
    {
      "cell_type": "code",
      "source": [
        "def yogi(params, states, hyperparams):\n",
        "    beta1, beta2, eps = 0.9, 0.999, 1e-3\n",
        "    for p, (v, s) in zip(params, states):\n",
        "        with torch.no_grad():\n",
        "            v[:] = beta1 * v + (1 - beta1) * p.grad\n",
        "            s[:] = s + (1 - beta2) * torch.sign(\n",
        "                torch.square(p.grad) - s) * torch.square(p.grad)\n",
        "            v_bias_corr = v / (1 - beta1 ** hyperparams['t'])\n",
        "            s_bias_corr = s / (1 - beta2 ** hyperparams['t'])\n",
        "            p[:] -= hyperparams['lr'] * v_bias_corr / (torch.sqrt(s_bias_corr)\n",
        "                                                       + eps)\n",
        "        p.grad.data.zero_()\n",
        "    hyperparams['t'] += 1\n"
      ],
      "metadata": {
        "id": "03nD79bqasDO"
      },
      "execution_count": null,
      "outputs": []
    }
  ]
}