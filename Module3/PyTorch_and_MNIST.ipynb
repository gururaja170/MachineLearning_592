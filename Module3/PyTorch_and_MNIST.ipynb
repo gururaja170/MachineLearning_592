{
  "nbformat": 4,
  "nbformat_minor": 0,
  "metadata": {
    "colab": {
      "name": "PyTorch and MNIST.ipynb",
      "provenance": [],
      "collapsed_sections": [],
      "authorship_tag": "ABX9TyO+kKSkHFGzP+/yPz+IyRPS",
      "include_colab_link": true
    },
    "kernelspec": {
      "name": "python3",
      "display_name": "Python 3"
    },
    "language_info": {
      "name": "python"
    },
    "widgets": {
      "application/vnd.jupyter.widget-state+json": {
        "2a6607f6c1f040758d8189a84cf3e49c": {
          "model_module": "@jupyter-widgets/controls",
          "model_name": "HBoxModel",
          "model_module_version": "1.5.0",
          "state": {
            "_dom_classes": [],
            "_model_module": "@jupyter-widgets/controls",
            "_model_module_version": "1.5.0",
            "_model_name": "HBoxModel",
            "_view_count": null,
            "_view_module": "@jupyter-widgets/controls",
            "_view_module_version": "1.5.0",
            "_view_name": "HBoxView",
            "box_style": "",
            "children": [
              "IPY_MODEL_e2e47a15687b4adda43595f55eda80f2",
              "IPY_MODEL_926ee1cce4184438be04d0fbe7f26596",
              "IPY_MODEL_a98ddb1d7f774c878d23b6285b0e5873"
            ],
            "layout": "IPY_MODEL_70954010db3343699f419b87d8263773"
          }
        },
        "e2e47a15687b4adda43595f55eda80f2": {
          "model_module": "@jupyter-widgets/controls",
          "model_name": "HTMLModel",
          "model_module_version": "1.5.0",
          "state": {
            "_dom_classes": [],
            "_model_module": "@jupyter-widgets/controls",
            "_model_module_version": "1.5.0",
            "_model_name": "HTMLModel",
            "_view_count": null,
            "_view_module": "@jupyter-widgets/controls",
            "_view_module_version": "1.5.0",
            "_view_name": "HTMLView",
            "description": "",
            "description_tooltip": null,
            "layout": "IPY_MODEL_a6382abd6e1b4917bba918fc05c55643",
            "placeholder": "​",
            "style": "IPY_MODEL_96c5dd2f6bcb4c14826a664436fdf0a5",
            "value": "100%"
          }
        },
        "926ee1cce4184438be04d0fbe7f26596": {
          "model_module": "@jupyter-widgets/controls",
          "model_name": "FloatProgressModel",
          "model_module_version": "1.5.0",
          "state": {
            "_dom_classes": [],
            "_model_module": "@jupyter-widgets/controls",
            "_model_module_version": "1.5.0",
            "_model_name": "FloatProgressModel",
            "_view_count": null,
            "_view_module": "@jupyter-widgets/controls",
            "_view_module_version": "1.5.0",
            "_view_name": "ProgressView",
            "bar_style": "success",
            "description": "",
            "description_tooltip": null,
            "layout": "IPY_MODEL_baccf791b1d24e4d85c2964a7e3114a6",
            "max": 9912422,
            "min": 0,
            "orientation": "horizontal",
            "style": "IPY_MODEL_951f3b639eea4f959d33c641797585a7",
            "value": 9912422
          }
        },
        "a98ddb1d7f774c878d23b6285b0e5873": {
          "model_module": "@jupyter-widgets/controls",
          "model_name": "HTMLModel",
          "model_module_version": "1.5.0",
          "state": {
            "_dom_classes": [],
            "_model_module": "@jupyter-widgets/controls",
            "_model_module_version": "1.5.0",
            "_model_name": "HTMLModel",
            "_view_count": null,
            "_view_module": "@jupyter-widgets/controls",
            "_view_module_version": "1.5.0",
            "_view_name": "HTMLView",
            "description": "",
            "description_tooltip": null,
            "layout": "IPY_MODEL_30f90b5dab154bd69e36a9576af14b47",
            "placeholder": "​",
            "style": "IPY_MODEL_075d8a21888c41359467ef481b8b40dd",
            "value": " 9912422/9912422 [00:00&lt;00:00, 16191848.91it/s]"
          }
        },
        "70954010db3343699f419b87d8263773": {
          "model_module": "@jupyter-widgets/base",
          "model_name": "LayoutModel",
          "model_module_version": "1.2.0",
          "state": {
            "_model_module": "@jupyter-widgets/base",
            "_model_module_version": "1.2.0",
            "_model_name": "LayoutModel",
            "_view_count": null,
            "_view_module": "@jupyter-widgets/base",
            "_view_module_version": "1.2.0",
            "_view_name": "LayoutView",
            "align_content": null,
            "align_items": null,
            "align_self": null,
            "border": null,
            "bottom": null,
            "display": null,
            "flex": null,
            "flex_flow": null,
            "grid_area": null,
            "grid_auto_columns": null,
            "grid_auto_flow": null,
            "grid_auto_rows": null,
            "grid_column": null,
            "grid_gap": null,
            "grid_row": null,
            "grid_template_areas": null,
            "grid_template_columns": null,
            "grid_template_rows": null,
            "height": null,
            "justify_content": null,
            "justify_items": null,
            "left": null,
            "margin": null,
            "max_height": null,
            "max_width": null,
            "min_height": null,
            "min_width": null,
            "object_fit": null,
            "object_position": null,
            "order": null,
            "overflow": null,
            "overflow_x": null,
            "overflow_y": null,
            "padding": null,
            "right": null,
            "top": null,
            "visibility": null,
            "width": null
          }
        },
        "a6382abd6e1b4917bba918fc05c55643": {
          "model_module": "@jupyter-widgets/base",
          "model_name": "LayoutModel",
          "model_module_version": "1.2.0",
          "state": {
            "_model_module": "@jupyter-widgets/base",
            "_model_module_version": "1.2.0",
            "_model_name": "LayoutModel",
            "_view_count": null,
            "_view_module": "@jupyter-widgets/base",
            "_view_module_version": "1.2.0",
            "_view_name": "LayoutView",
            "align_content": null,
            "align_items": null,
            "align_self": null,
            "border": null,
            "bottom": null,
            "display": null,
            "flex": null,
            "flex_flow": null,
            "grid_area": null,
            "grid_auto_columns": null,
            "grid_auto_flow": null,
            "grid_auto_rows": null,
            "grid_column": null,
            "grid_gap": null,
            "grid_row": null,
            "grid_template_areas": null,
            "grid_template_columns": null,
            "grid_template_rows": null,
            "height": null,
            "justify_content": null,
            "justify_items": null,
            "left": null,
            "margin": null,
            "max_height": null,
            "max_width": null,
            "min_height": null,
            "min_width": null,
            "object_fit": null,
            "object_position": null,
            "order": null,
            "overflow": null,
            "overflow_x": null,
            "overflow_y": null,
            "padding": null,
            "right": null,
            "top": null,
            "visibility": null,
            "width": null
          }
        },
        "96c5dd2f6bcb4c14826a664436fdf0a5": {
          "model_module": "@jupyter-widgets/controls",
          "model_name": "DescriptionStyleModel",
          "model_module_version": "1.5.0",
          "state": {
            "_model_module": "@jupyter-widgets/controls",
            "_model_module_version": "1.5.0",
            "_model_name": "DescriptionStyleModel",
            "_view_count": null,
            "_view_module": "@jupyter-widgets/base",
            "_view_module_version": "1.2.0",
            "_view_name": "StyleView",
            "description_width": ""
          }
        },
        "baccf791b1d24e4d85c2964a7e3114a6": {
          "model_module": "@jupyter-widgets/base",
          "model_name": "LayoutModel",
          "model_module_version": "1.2.0",
          "state": {
            "_model_module": "@jupyter-widgets/base",
            "_model_module_version": "1.2.0",
            "_model_name": "LayoutModel",
            "_view_count": null,
            "_view_module": "@jupyter-widgets/base",
            "_view_module_version": "1.2.0",
            "_view_name": "LayoutView",
            "align_content": null,
            "align_items": null,
            "align_self": null,
            "border": null,
            "bottom": null,
            "display": null,
            "flex": null,
            "flex_flow": null,
            "grid_area": null,
            "grid_auto_columns": null,
            "grid_auto_flow": null,
            "grid_auto_rows": null,
            "grid_column": null,
            "grid_gap": null,
            "grid_row": null,
            "grid_template_areas": null,
            "grid_template_columns": null,
            "grid_template_rows": null,
            "height": null,
            "justify_content": null,
            "justify_items": null,
            "left": null,
            "margin": null,
            "max_height": null,
            "max_width": null,
            "min_height": null,
            "min_width": null,
            "object_fit": null,
            "object_position": null,
            "order": null,
            "overflow": null,
            "overflow_x": null,
            "overflow_y": null,
            "padding": null,
            "right": null,
            "top": null,
            "visibility": null,
            "width": null
          }
        },
        "951f3b639eea4f959d33c641797585a7": {
          "model_module": "@jupyter-widgets/controls",
          "model_name": "ProgressStyleModel",
          "model_module_version": "1.5.0",
          "state": {
            "_model_module": "@jupyter-widgets/controls",
            "_model_module_version": "1.5.0",
            "_model_name": "ProgressStyleModel",
            "_view_count": null,
            "_view_module": "@jupyter-widgets/base",
            "_view_module_version": "1.2.0",
            "_view_name": "StyleView",
            "bar_color": null,
            "description_width": ""
          }
        },
        "30f90b5dab154bd69e36a9576af14b47": {
          "model_module": "@jupyter-widgets/base",
          "model_name": "LayoutModel",
          "model_module_version": "1.2.0",
          "state": {
            "_model_module": "@jupyter-widgets/base",
            "_model_module_version": "1.2.0",
            "_model_name": "LayoutModel",
            "_view_count": null,
            "_view_module": "@jupyter-widgets/base",
            "_view_module_version": "1.2.0",
            "_view_name": "LayoutView",
            "align_content": null,
            "align_items": null,
            "align_self": null,
            "border": null,
            "bottom": null,
            "display": null,
            "flex": null,
            "flex_flow": null,
            "grid_area": null,
            "grid_auto_columns": null,
            "grid_auto_flow": null,
            "grid_auto_rows": null,
            "grid_column": null,
            "grid_gap": null,
            "grid_row": null,
            "grid_template_areas": null,
            "grid_template_columns": null,
            "grid_template_rows": null,
            "height": null,
            "justify_content": null,
            "justify_items": null,
            "left": null,
            "margin": null,
            "max_height": null,
            "max_width": null,
            "min_height": null,
            "min_width": null,
            "object_fit": null,
            "object_position": null,
            "order": null,
            "overflow": null,
            "overflow_x": null,
            "overflow_y": null,
            "padding": null,
            "right": null,
            "top": null,
            "visibility": null,
            "width": null
          }
        },
        "075d8a21888c41359467ef481b8b40dd": {
          "model_module": "@jupyter-widgets/controls",
          "model_name": "DescriptionStyleModel",
          "model_module_version": "1.5.0",
          "state": {
            "_model_module": "@jupyter-widgets/controls",
            "_model_module_version": "1.5.0",
            "_model_name": "DescriptionStyleModel",
            "_view_count": null,
            "_view_module": "@jupyter-widgets/base",
            "_view_module_version": "1.2.0",
            "_view_name": "StyleView",
            "description_width": ""
          }
        },
        "1a38dea99a3a4e4c809652a03b31c1d7": {
          "model_module": "@jupyter-widgets/controls",
          "model_name": "HBoxModel",
          "model_module_version": "1.5.0",
          "state": {
            "_dom_classes": [],
            "_model_module": "@jupyter-widgets/controls",
            "_model_module_version": "1.5.0",
            "_model_name": "HBoxModel",
            "_view_count": null,
            "_view_module": "@jupyter-widgets/controls",
            "_view_module_version": "1.5.0",
            "_view_name": "HBoxView",
            "box_style": "",
            "children": [
              "IPY_MODEL_c9d5fe7e7de8495d9960c1361fdf9922",
              "IPY_MODEL_f388508ab2844fb582feaf6de43169d5",
              "IPY_MODEL_b4c892ec73cc4ef292d6ff60d56291ab"
            ],
            "layout": "IPY_MODEL_89969bf86503430e943873c98f3e3735"
          }
        },
        "c9d5fe7e7de8495d9960c1361fdf9922": {
          "model_module": "@jupyter-widgets/controls",
          "model_name": "HTMLModel",
          "model_module_version": "1.5.0",
          "state": {
            "_dom_classes": [],
            "_model_module": "@jupyter-widgets/controls",
            "_model_module_version": "1.5.0",
            "_model_name": "HTMLModel",
            "_view_count": null,
            "_view_module": "@jupyter-widgets/controls",
            "_view_module_version": "1.5.0",
            "_view_name": "HTMLView",
            "description": "",
            "description_tooltip": null,
            "layout": "IPY_MODEL_dd7880c4adc6463ca3e9e14f8ff379ca",
            "placeholder": "​",
            "style": "IPY_MODEL_fd749eb482ac4f8ca6e8ddb66cb18cd7",
            "value": "100%"
          }
        },
        "f388508ab2844fb582feaf6de43169d5": {
          "model_module": "@jupyter-widgets/controls",
          "model_name": "FloatProgressModel",
          "model_module_version": "1.5.0",
          "state": {
            "_dom_classes": [],
            "_model_module": "@jupyter-widgets/controls",
            "_model_module_version": "1.5.0",
            "_model_name": "FloatProgressModel",
            "_view_count": null,
            "_view_module": "@jupyter-widgets/controls",
            "_view_module_version": "1.5.0",
            "_view_name": "ProgressView",
            "bar_style": "success",
            "description": "",
            "description_tooltip": null,
            "layout": "IPY_MODEL_63a1231c04714898a51dc8830b3ab9c3",
            "max": 28881,
            "min": 0,
            "orientation": "horizontal",
            "style": "IPY_MODEL_2792090bd1584b849ac2e6dec1c1d3e6",
            "value": 28881
          }
        },
        "b4c892ec73cc4ef292d6ff60d56291ab": {
          "model_module": "@jupyter-widgets/controls",
          "model_name": "HTMLModel",
          "model_module_version": "1.5.0",
          "state": {
            "_dom_classes": [],
            "_model_module": "@jupyter-widgets/controls",
            "_model_module_version": "1.5.0",
            "_model_name": "HTMLModel",
            "_view_count": null,
            "_view_module": "@jupyter-widgets/controls",
            "_view_module_version": "1.5.0",
            "_view_name": "HTMLView",
            "description": "",
            "description_tooltip": null,
            "layout": "IPY_MODEL_1227e6695627452488864596e828ff69",
            "placeholder": "​",
            "style": "IPY_MODEL_0991603cd93b4ef7bc5728e27021835a",
            "value": " 28881/28881 [00:00&lt;00:00, 742112.06it/s]"
          }
        },
        "89969bf86503430e943873c98f3e3735": {
          "model_module": "@jupyter-widgets/base",
          "model_name": "LayoutModel",
          "model_module_version": "1.2.0",
          "state": {
            "_model_module": "@jupyter-widgets/base",
            "_model_module_version": "1.2.0",
            "_model_name": "LayoutModel",
            "_view_count": null,
            "_view_module": "@jupyter-widgets/base",
            "_view_module_version": "1.2.0",
            "_view_name": "LayoutView",
            "align_content": null,
            "align_items": null,
            "align_self": null,
            "border": null,
            "bottom": null,
            "display": null,
            "flex": null,
            "flex_flow": null,
            "grid_area": null,
            "grid_auto_columns": null,
            "grid_auto_flow": null,
            "grid_auto_rows": null,
            "grid_column": null,
            "grid_gap": null,
            "grid_row": null,
            "grid_template_areas": null,
            "grid_template_columns": null,
            "grid_template_rows": null,
            "height": null,
            "justify_content": null,
            "justify_items": null,
            "left": null,
            "margin": null,
            "max_height": null,
            "max_width": null,
            "min_height": null,
            "min_width": null,
            "object_fit": null,
            "object_position": null,
            "order": null,
            "overflow": null,
            "overflow_x": null,
            "overflow_y": null,
            "padding": null,
            "right": null,
            "top": null,
            "visibility": null,
            "width": null
          }
        },
        "dd7880c4adc6463ca3e9e14f8ff379ca": {
          "model_module": "@jupyter-widgets/base",
          "model_name": "LayoutModel",
          "model_module_version": "1.2.0",
          "state": {
            "_model_module": "@jupyter-widgets/base",
            "_model_module_version": "1.2.0",
            "_model_name": "LayoutModel",
            "_view_count": null,
            "_view_module": "@jupyter-widgets/base",
            "_view_module_version": "1.2.0",
            "_view_name": "LayoutView",
            "align_content": null,
            "align_items": null,
            "align_self": null,
            "border": null,
            "bottom": null,
            "display": null,
            "flex": null,
            "flex_flow": null,
            "grid_area": null,
            "grid_auto_columns": null,
            "grid_auto_flow": null,
            "grid_auto_rows": null,
            "grid_column": null,
            "grid_gap": null,
            "grid_row": null,
            "grid_template_areas": null,
            "grid_template_columns": null,
            "grid_template_rows": null,
            "height": null,
            "justify_content": null,
            "justify_items": null,
            "left": null,
            "margin": null,
            "max_height": null,
            "max_width": null,
            "min_height": null,
            "min_width": null,
            "object_fit": null,
            "object_position": null,
            "order": null,
            "overflow": null,
            "overflow_x": null,
            "overflow_y": null,
            "padding": null,
            "right": null,
            "top": null,
            "visibility": null,
            "width": null
          }
        },
        "fd749eb482ac4f8ca6e8ddb66cb18cd7": {
          "model_module": "@jupyter-widgets/controls",
          "model_name": "DescriptionStyleModel",
          "model_module_version": "1.5.0",
          "state": {
            "_model_module": "@jupyter-widgets/controls",
            "_model_module_version": "1.5.0",
            "_model_name": "DescriptionStyleModel",
            "_view_count": null,
            "_view_module": "@jupyter-widgets/base",
            "_view_module_version": "1.2.0",
            "_view_name": "StyleView",
            "description_width": ""
          }
        },
        "63a1231c04714898a51dc8830b3ab9c3": {
          "model_module": "@jupyter-widgets/base",
          "model_name": "LayoutModel",
          "model_module_version": "1.2.0",
          "state": {
            "_model_module": "@jupyter-widgets/base",
            "_model_module_version": "1.2.0",
            "_model_name": "LayoutModel",
            "_view_count": null,
            "_view_module": "@jupyter-widgets/base",
            "_view_module_version": "1.2.0",
            "_view_name": "LayoutView",
            "align_content": null,
            "align_items": null,
            "align_self": null,
            "border": null,
            "bottom": null,
            "display": null,
            "flex": null,
            "flex_flow": null,
            "grid_area": null,
            "grid_auto_columns": null,
            "grid_auto_flow": null,
            "grid_auto_rows": null,
            "grid_column": null,
            "grid_gap": null,
            "grid_row": null,
            "grid_template_areas": null,
            "grid_template_columns": null,
            "grid_template_rows": null,
            "height": null,
            "justify_content": null,
            "justify_items": null,
            "left": null,
            "margin": null,
            "max_height": null,
            "max_width": null,
            "min_height": null,
            "min_width": null,
            "object_fit": null,
            "object_position": null,
            "order": null,
            "overflow": null,
            "overflow_x": null,
            "overflow_y": null,
            "padding": null,
            "right": null,
            "top": null,
            "visibility": null,
            "width": null
          }
        },
        "2792090bd1584b849ac2e6dec1c1d3e6": {
          "model_module": "@jupyter-widgets/controls",
          "model_name": "ProgressStyleModel",
          "model_module_version": "1.5.0",
          "state": {
            "_model_module": "@jupyter-widgets/controls",
            "_model_module_version": "1.5.0",
            "_model_name": "ProgressStyleModel",
            "_view_count": null,
            "_view_module": "@jupyter-widgets/base",
            "_view_module_version": "1.2.0",
            "_view_name": "StyleView",
            "bar_color": null,
            "description_width": ""
          }
        },
        "1227e6695627452488864596e828ff69": {
          "model_module": "@jupyter-widgets/base",
          "model_name": "LayoutModel",
          "model_module_version": "1.2.0",
          "state": {
            "_model_module": "@jupyter-widgets/base",
            "_model_module_version": "1.2.0",
            "_model_name": "LayoutModel",
            "_view_count": null,
            "_view_module": "@jupyter-widgets/base",
            "_view_module_version": "1.2.0",
            "_view_name": "LayoutView",
            "align_content": null,
            "align_items": null,
            "align_self": null,
            "border": null,
            "bottom": null,
            "display": null,
            "flex": null,
            "flex_flow": null,
            "grid_area": null,
            "grid_auto_columns": null,
            "grid_auto_flow": null,
            "grid_auto_rows": null,
            "grid_column": null,
            "grid_gap": null,
            "grid_row": null,
            "grid_template_areas": null,
            "grid_template_columns": null,
            "grid_template_rows": null,
            "height": null,
            "justify_content": null,
            "justify_items": null,
            "left": null,
            "margin": null,
            "max_height": null,
            "max_width": null,
            "min_height": null,
            "min_width": null,
            "object_fit": null,
            "object_position": null,
            "order": null,
            "overflow": null,
            "overflow_x": null,
            "overflow_y": null,
            "padding": null,
            "right": null,
            "top": null,
            "visibility": null,
            "width": null
          }
        },
        "0991603cd93b4ef7bc5728e27021835a": {
          "model_module": "@jupyter-widgets/controls",
          "model_name": "DescriptionStyleModel",
          "model_module_version": "1.5.0",
          "state": {
            "_model_module": "@jupyter-widgets/controls",
            "_model_module_version": "1.5.0",
            "_model_name": "DescriptionStyleModel",
            "_view_count": null,
            "_view_module": "@jupyter-widgets/base",
            "_view_module_version": "1.2.0",
            "_view_name": "StyleView",
            "description_width": ""
          }
        },
        "53aea331dab6401196c2d10cdf2e8efc": {
          "model_module": "@jupyter-widgets/controls",
          "model_name": "HBoxModel",
          "model_module_version": "1.5.0",
          "state": {
            "_dom_classes": [],
            "_model_module": "@jupyter-widgets/controls",
            "_model_module_version": "1.5.0",
            "_model_name": "HBoxModel",
            "_view_count": null,
            "_view_module": "@jupyter-widgets/controls",
            "_view_module_version": "1.5.0",
            "_view_name": "HBoxView",
            "box_style": "",
            "children": [
              "IPY_MODEL_1152936461ec4a978e473efaef509331",
              "IPY_MODEL_b79d1041b6be43a9b745aa620a5a9c49",
              "IPY_MODEL_36468ea503024194807cff4038f8fa9f"
            ],
            "layout": "IPY_MODEL_385fabfbc4a04f96a473657cd2bafd75"
          }
        },
        "1152936461ec4a978e473efaef509331": {
          "model_module": "@jupyter-widgets/controls",
          "model_name": "HTMLModel",
          "model_module_version": "1.5.0",
          "state": {
            "_dom_classes": [],
            "_model_module": "@jupyter-widgets/controls",
            "_model_module_version": "1.5.0",
            "_model_name": "HTMLModel",
            "_view_count": null,
            "_view_module": "@jupyter-widgets/controls",
            "_view_module_version": "1.5.0",
            "_view_name": "HTMLView",
            "description": "",
            "description_tooltip": null,
            "layout": "IPY_MODEL_e363d7891a224405986d02d9565b7eee",
            "placeholder": "​",
            "style": "IPY_MODEL_a6f0da0cba244c96a44d543d6646d2cb",
            "value": "100%"
          }
        },
        "b79d1041b6be43a9b745aa620a5a9c49": {
          "model_module": "@jupyter-widgets/controls",
          "model_name": "FloatProgressModel",
          "model_module_version": "1.5.0",
          "state": {
            "_dom_classes": [],
            "_model_module": "@jupyter-widgets/controls",
            "_model_module_version": "1.5.0",
            "_model_name": "FloatProgressModel",
            "_view_count": null,
            "_view_module": "@jupyter-widgets/controls",
            "_view_module_version": "1.5.0",
            "_view_name": "ProgressView",
            "bar_style": "success",
            "description": "",
            "description_tooltip": null,
            "layout": "IPY_MODEL_c18a8b42922e465f8b5cceba3d87392c",
            "max": 1648877,
            "min": 0,
            "orientation": "horizontal",
            "style": "IPY_MODEL_7b68bbaf6f8d4ad7845c159e0e2af0fa",
            "value": 1648877
          }
        },
        "36468ea503024194807cff4038f8fa9f": {
          "model_module": "@jupyter-widgets/controls",
          "model_name": "HTMLModel",
          "model_module_version": "1.5.0",
          "state": {
            "_dom_classes": [],
            "_model_module": "@jupyter-widgets/controls",
            "_model_module_version": "1.5.0",
            "_model_name": "HTMLModel",
            "_view_count": null,
            "_view_module": "@jupyter-widgets/controls",
            "_view_module_version": "1.5.0",
            "_view_name": "HTMLView",
            "description": "",
            "description_tooltip": null,
            "layout": "IPY_MODEL_47738d6fec9f492a943ae554e95e74d2",
            "placeholder": "​",
            "style": "IPY_MODEL_b517e0974b434a77aef7ba8497dfd869",
            "value": " 1648877/1648877 [00:00&lt;00:00, 8174778.47it/s]"
          }
        },
        "385fabfbc4a04f96a473657cd2bafd75": {
          "model_module": "@jupyter-widgets/base",
          "model_name": "LayoutModel",
          "model_module_version": "1.2.0",
          "state": {
            "_model_module": "@jupyter-widgets/base",
            "_model_module_version": "1.2.0",
            "_model_name": "LayoutModel",
            "_view_count": null,
            "_view_module": "@jupyter-widgets/base",
            "_view_module_version": "1.2.0",
            "_view_name": "LayoutView",
            "align_content": null,
            "align_items": null,
            "align_self": null,
            "border": null,
            "bottom": null,
            "display": null,
            "flex": null,
            "flex_flow": null,
            "grid_area": null,
            "grid_auto_columns": null,
            "grid_auto_flow": null,
            "grid_auto_rows": null,
            "grid_column": null,
            "grid_gap": null,
            "grid_row": null,
            "grid_template_areas": null,
            "grid_template_columns": null,
            "grid_template_rows": null,
            "height": null,
            "justify_content": null,
            "justify_items": null,
            "left": null,
            "margin": null,
            "max_height": null,
            "max_width": null,
            "min_height": null,
            "min_width": null,
            "object_fit": null,
            "object_position": null,
            "order": null,
            "overflow": null,
            "overflow_x": null,
            "overflow_y": null,
            "padding": null,
            "right": null,
            "top": null,
            "visibility": null,
            "width": null
          }
        },
        "e363d7891a224405986d02d9565b7eee": {
          "model_module": "@jupyter-widgets/base",
          "model_name": "LayoutModel",
          "model_module_version": "1.2.0",
          "state": {
            "_model_module": "@jupyter-widgets/base",
            "_model_module_version": "1.2.0",
            "_model_name": "LayoutModel",
            "_view_count": null,
            "_view_module": "@jupyter-widgets/base",
            "_view_module_version": "1.2.0",
            "_view_name": "LayoutView",
            "align_content": null,
            "align_items": null,
            "align_self": null,
            "border": null,
            "bottom": null,
            "display": null,
            "flex": null,
            "flex_flow": null,
            "grid_area": null,
            "grid_auto_columns": null,
            "grid_auto_flow": null,
            "grid_auto_rows": null,
            "grid_column": null,
            "grid_gap": null,
            "grid_row": null,
            "grid_template_areas": null,
            "grid_template_columns": null,
            "grid_template_rows": null,
            "height": null,
            "justify_content": null,
            "justify_items": null,
            "left": null,
            "margin": null,
            "max_height": null,
            "max_width": null,
            "min_height": null,
            "min_width": null,
            "object_fit": null,
            "object_position": null,
            "order": null,
            "overflow": null,
            "overflow_x": null,
            "overflow_y": null,
            "padding": null,
            "right": null,
            "top": null,
            "visibility": null,
            "width": null
          }
        },
        "a6f0da0cba244c96a44d543d6646d2cb": {
          "model_module": "@jupyter-widgets/controls",
          "model_name": "DescriptionStyleModel",
          "model_module_version": "1.5.0",
          "state": {
            "_model_module": "@jupyter-widgets/controls",
            "_model_module_version": "1.5.0",
            "_model_name": "DescriptionStyleModel",
            "_view_count": null,
            "_view_module": "@jupyter-widgets/base",
            "_view_module_version": "1.2.0",
            "_view_name": "StyleView",
            "description_width": ""
          }
        },
        "c18a8b42922e465f8b5cceba3d87392c": {
          "model_module": "@jupyter-widgets/base",
          "model_name": "LayoutModel",
          "model_module_version": "1.2.0",
          "state": {
            "_model_module": "@jupyter-widgets/base",
            "_model_module_version": "1.2.0",
            "_model_name": "LayoutModel",
            "_view_count": null,
            "_view_module": "@jupyter-widgets/base",
            "_view_module_version": "1.2.0",
            "_view_name": "LayoutView",
            "align_content": null,
            "align_items": null,
            "align_self": null,
            "border": null,
            "bottom": null,
            "display": null,
            "flex": null,
            "flex_flow": null,
            "grid_area": null,
            "grid_auto_columns": null,
            "grid_auto_flow": null,
            "grid_auto_rows": null,
            "grid_column": null,
            "grid_gap": null,
            "grid_row": null,
            "grid_template_areas": null,
            "grid_template_columns": null,
            "grid_template_rows": null,
            "height": null,
            "justify_content": null,
            "justify_items": null,
            "left": null,
            "margin": null,
            "max_height": null,
            "max_width": null,
            "min_height": null,
            "min_width": null,
            "object_fit": null,
            "object_position": null,
            "order": null,
            "overflow": null,
            "overflow_x": null,
            "overflow_y": null,
            "padding": null,
            "right": null,
            "top": null,
            "visibility": null,
            "width": null
          }
        },
        "7b68bbaf6f8d4ad7845c159e0e2af0fa": {
          "model_module": "@jupyter-widgets/controls",
          "model_name": "ProgressStyleModel",
          "model_module_version": "1.5.0",
          "state": {
            "_model_module": "@jupyter-widgets/controls",
            "_model_module_version": "1.5.0",
            "_model_name": "ProgressStyleModel",
            "_view_count": null,
            "_view_module": "@jupyter-widgets/base",
            "_view_module_version": "1.2.0",
            "_view_name": "StyleView",
            "bar_color": null,
            "description_width": ""
          }
        },
        "47738d6fec9f492a943ae554e95e74d2": {
          "model_module": "@jupyter-widgets/base",
          "model_name": "LayoutModel",
          "model_module_version": "1.2.0",
          "state": {
            "_model_module": "@jupyter-widgets/base",
            "_model_module_version": "1.2.0",
            "_model_name": "LayoutModel",
            "_view_count": null,
            "_view_module": "@jupyter-widgets/base",
            "_view_module_version": "1.2.0",
            "_view_name": "LayoutView",
            "align_content": null,
            "align_items": null,
            "align_self": null,
            "border": null,
            "bottom": null,
            "display": null,
            "flex": null,
            "flex_flow": null,
            "grid_area": null,
            "grid_auto_columns": null,
            "grid_auto_flow": null,
            "grid_auto_rows": null,
            "grid_column": null,
            "grid_gap": null,
            "grid_row": null,
            "grid_template_areas": null,
            "grid_template_columns": null,
            "grid_template_rows": null,
            "height": null,
            "justify_content": null,
            "justify_items": null,
            "left": null,
            "margin": null,
            "max_height": null,
            "max_width": null,
            "min_height": null,
            "min_width": null,
            "object_fit": null,
            "object_position": null,
            "order": null,
            "overflow": null,
            "overflow_x": null,
            "overflow_y": null,
            "padding": null,
            "right": null,
            "top": null,
            "visibility": null,
            "width": null
          }
        },
        "b517e0974b434a77aef7ba8497dfd869": {
          "model_module": "@jupyter-widgets/controls",
          "model_name": "DescriptionStyleModel",
          "model_module_version": "1.5.0",
          "state": {
            "_model_module": "@jupyter-widgets/controls",
            "_model_module_version": "1.5.0",
            "_model_name": "DescriptionStyleModel",
            "_view_count": null,
            "_view_module": "@jupyter-widgets/base",
            "_view_module_version": "1.2.0",
            "_view_name": "StyleView",
            "description_width": ""
          }
        },
        "25c56d14fbab4cc7a51997eb5262a98d": {
          "model_module": "@jupyter-widgets/controls",
          "model_name": "HBoxModel",
          "model_module_version": "1.5.0",
          "state": {
            "_dom_classes": [],
            "_model_module": "@jupyter-widgets/controls",
            "_model_module_version": "1.5.0",
            "_model_name": "HBoxModel",
            "_view_count": null,
            "_view_module": "@jupyter-widgets/controls",
            "_view_module_version": "1.5.0",
            "_view_name": "HBoxView",
            "box_style": "",
            "children": [
              "IPY_MODEL_324f11f75f014383b31e5b3dbe2ed1d3",
              "IPY_MODEL_dd3dfaf3ce4442eda0b3775a659abf76",
              "IPY_MODEL_8aa97b6eebdc49968b34f313d3b3e685"
            ],
            "layout": "IPY_MODEL_84597d662ce2474cb464fd7595496b7d"
          }
        },
        "324f11f75f014383b31e5b3dbe2ed1d3": {
          "model_module": "@jupyter-widgets/controls",
          "model_name": "HTMLModel",
          "model_module_version": "1.5.0",
          "state": {
            "_dom_classes": [],
            "_model_module": "@jupyter-widgets/controls",
            "_model_module_version": "1.5.0",
            "_model_name": "HTMLModel",
            "_view_count": null,
            "_view_module": "@jupyter-widgets/controls",
            "_view_module_version": "1.5.0",
            "_view_name": "HTMLView",
            "description": "",
            "description_tooltip": null,
            "layout": "IPY_MODEL_0947d9dd082e42098ddb3586fd145dd2",
            "placeholder": "​",
            "style": "IPY_MODEL_9a490444368246d79271fec5d2324e55",
            "value": "100%"
          }
        },
        "dd3dfaf3ce4442eda0b3775a659abf76": {
          "model_module": "@jupyter-widgets/controls",
          "model_name": "FloatProgressModel",
          "model_module_version": "1.5.0",
          "state": {
            "_dom_classes": [],
            "_model_module": "@jupyter-widgets/controls",
            "_model_module_version": "1.5.0",
            "_model_name": "FloatProgressModel",
            "_view_count": null,
            "_view_module": "@jupyter-widgets/controls",
            "_view_module_version": "1.5.0",
            "_view_name": "ProgressView",
            "bar_style": "success",
            "description": "",
            "description_tooltip": null,
            "layout": "IPY_MODEL_000213eed899469a81cfd6c4b98ac393",
            "max": 4542,
            "min": 0,
            "orientation": "horizontal",
            "style": "IPY_MODEL_bb8fa305929e47c694a9fa39868deb40",
            "value": 4542
          }
        },
        "8aa97b6eebdc49968b34f313d3b3e685": {
          "model_module": "@jupyter-widgets/controls",
          "model_name": "HTMLModel",
          "model_module_version": "1.5.0",
          "state": {
            "_dom_classes": [],
            "_model_module": "@jupyter-widgets/controls",
            "_model_module_version": "1.5.0",
            "_model_name": "HTMLModel",
            "_view_count": null,
            "_view_module": "@jupyter-widgets/controls",
            "_view_module_version": "1.5.0",
            "_view_name": "HTMLView",
            "description": "",
            "description_tooltip": null,
            "layout": "IPY_MODEL_781d1076ced74863a5e3d8765a15f5d5",
            "placeholder": "​",
            "style": "IPY_MODEL_4bb77313e3a947a689c30097d559a38b",
            "value": " 4542/4542 [00:00&lt;00:00, 88759.03it/s]"
          }
        },
        "84597d662ce2474cb464fd7595496b7d": {
          "model_module": "@jupyter-widgets/base",
          "model_name": "LayoutModel",
          "model_module_version": "1.2.0",
          "state": {
            "_model_module": "@jupyter-widgets/base",
            "_model_module_version": "1.2.0",
            "_model_name": "LayoutModel",
            "_view_count": null,
            "_view_module": "@jupyter-widgets/base",
            "_view_module_version": "1.2.0",
            "_view_name": "LayoutView",
            "align_content": null,
            "align_items": null,
            "align_self": null,
            "border": null,
            "bottom": null,
            "display": null,
            "flex": null,
            "flex_flow": null,
            "grid_area": null,
            "grid_auto_columns": null,
            "grid_auto_flow": null,
            "grid_auto_rows": null,
            "grid_column": null,
            "grid_gap": null,
            "grid_row": null,
            "grid_template_areas": null,
            "grid_template_columns": null,
            "grid_template_rows": null,
            "height": null,
            "justify_content": null,
            "justify_items": null,
            "left": null,
            "margin": null,
            "max_height": null,
            "max_width": null,
            "min_height": null,
            "min_width": null,
            "object_fit": null,
            "object_position": null,
            "order": null,
            "overflow": null,
            "overflow_x": null,
            "overflow_y": null,
            "padding": null,
            "right": null,
            "top": null,
            "visibility": null,
            "width": null
          }
        },
        "0947d9dd082e42098ddb3586fd145dd2": {
          "model_module": "@jupyter-widgets/base",
          "model_name": "LayoutModel",
          "model_module_version": "1.2.0",
          "state": {
            "_model_module": "@jupyter-widgets/base",
            "_model_module_version": "1.2.0",
            "_model_name": "LayoutModel",
            "_view_count": null,
            "_view_module": "@jupyter-widgets/base",
            "_view_module_version": "1.2.0",
            "_view_name": "LayoutView",
            "align_content": null,
            "align_items": null,
            "align_self": null,
            "border": null,
            "bottom": null,
            "display": null,
            "flex": null,
            "flex_flow": null,
            "grid_area": null,
            "grid_auto_columns": null,
            "grid_auto_flow": null,
            "grid_auto_rows": null,
            "grid_column": null,
            "grid_gap": null,
            "grid_row": null,
            "grid_template_areas": null,
            "grid_template_columns": null,
            "grid_template_rows": null,
            "height": null,
            "justify_content": null,
            "justify_items": null,
            "left": null,
            "margin": null,
            "max_height": null,
            "max_width": null,
            "min_height": null,
            "min_width": null,
            "object_fit": null,
            "object_position": null,
            "order": null,
            "overflow": null,
            "overflow_x": null,
            "overflow_y": null,
            "padding": null,
            "right": null,
            "top": null,
            "visibility": null,
            "width": null
          }
        },
        "9a490444368246d79271fec5d2324e55": {
          "model_module": "@jupyter-widgets/controls",
          "model_name": "DescriptionStyleModel",
          "model_module_version": "1.5.0",
          "state": {
            "_model_module": "@jupyter-widgets/controls",
            "_model_module_version": "1.5.0",
            "_model_name": "DescriptionStyleModel",
            "_view_count": null,
            "_view_module": "@jupyter-widgets/base",
            "_view_module_version": "1.2.0",
            "_view_name": "StyleView",
            "description_width": ""
          }
        },
        "000213eed899469a81cfd6c4b98ac393": {
          "model_module": "@jupyter-widgets/base",
          "model_name": "LayoutModel",
          "model_module_version": "1.2.0",
          "state": {
            "_model_module": "@jupyter-widgets/base",
            "_model_module_version": "1.2.0",
            "_model_name": "LayoutModel",
            "_view_count": null,
            "_view_module": "@jupyter-widgets/base",
            "_view_module_version": "1.2.0",
            "_view_name": "LayoutView",
            "align_content": null,
            "align_items": null,
            "align_self": null,
            "border": null,
            "bottom": null,
            "display": null,
            "flex": null,
            "flex_flow": null,
            "grid_area": null,
            "grid_auto_columns": null,
            "grid_auto_flow": null,
            "grid_auto_rows": null,
            "grid_column": null,
            "grid_gap": null,
            "grid_row": null,
            "grid_template_areas": null,
            "grid_template_columns": null,
            "grid_template_rows": null,
            "height": null,
            "justify_content": null,
            "justify_items": null,
            "left": null,
            "margin": null,
            "max_height": null,
            "max_width": null,
            "min_height": null,
            "min_width": null,
            "object_fit": null,
            "object_position": null,
            "order": null,
            "overflow": null,
            "overflow_x": null,
            "overflow_y": null,
            "padding": null,
            "right": null,
            "top": null,
            "visibility": null,
            "width": null
          }
        },
        "bb8fa305929e47c694a9fa39868deb40": {
          "model_module": "@jupyter-widgets/controls",
          "model_name": "ProgressStyleModel",
          "model_module_version": "1.5.0",
          "state": {
            "_model_module": "@jupyter-widgets/controls",
            "_model_module_version": "1.5.0",
            "_model_name": "ProgressStyleModel",
            "_view_count": null,
            "_view_module": "@jupyter-widgets/base",
            "_view_module_version": "1.2.0",
            "_view_name": "StyleView",
            "bar_color": null,
            "description_width": ""
          }
        },
        "781d1076ced74863a5e3d8765a15f5d5": {
          "model_module": "@jupyter-widgets/base",
          "model_name": "LayoutModel",
          "model_module_version": "1.2.0",
          "state": {
            "_model_module": "@jupyter-widgets/base",
            "_model_module_version": "1.2.0",
            "_model_name": "LayoutModel",
            "_view_count": null,
            "_view_module": "@jupyter-widgets/base",
            "_view_module_version": "1.2.0",
            "_view_name": "LayoutView",
            "align_content": null,
            "align_items": null,
            "align_self": null,
            "border": null,
            "bottom": null,
            "display": null,
            "flex": null,
            "flex_flow": null,
            "grid_area": null,
            "grid_auto_columns": null,
            "grid_auto_flow": null,
            "grid_auto_rows": null,
            "grid_column": null,
            "grid_gap": null,
            "grid_row": null,
            "grid_template_areas": null,
            "grid_template_columns": null,
            "grid_template_rows": null,
            "height": null,
            "justify_content": null,
            "justify_items": null,
            "left": null,
            "margin": null,
            "max_height": null,
            "max_width": null,
            "min_height": null,
            "min_width": null,
            "object_fit": null,
            "object_position": null,
            "order": null,
            "overflow": null,
            "overflow_x": null,
            "overflow_y": null,
            "padding": null,
            "right": null,
            "top": null,
            "visibility": null,
            "width": null
          }
        },
        "4bb77313e3a947a689c30097d559a38b": {
          "model_module": "@jupyter-widgets/controls",
          "model_name": "DescriptionStyleModel",
          "model_module_version": "1.5.0",
          "state": {
            "_model_module": "@jupyter-widgets/controls",
            "_model_module_version": "1.5.0",
            "_model_name": "DescriptionStyleModel",
            "_view_count": null,
            "_view_module": "@jupyter-widgets/base",
            "_view_module_version": "1.2.0",
            "_view_name": "StyleView",
            "description_width": ""
          }
        }
      }
    }
  },
  "cells": [
    {
      "cell_type": "markdown",
      "metadata": {
        "id": "view-in-github",
        "colab_type": "text"
      },
      "source": [
        "<a href=\"https://colab.research.google.com/github/yexf308/MAT592/blob/main/Module3/PyTorch_and_MNIST.ipynb\" target=\"_parent\"><img src=\"https://colab.research.google.com/assets/colab-badge.svg\" alt=\"Open In Colab\"/></a>"
      ]
    },
    {
      "cell_type": "code",
      "execution_count": 1,
      "metadata": {
        "colab": {
          "base_uri": "https://localhost:8080/"
        },
        "id": "BIv2UY2F0kwe",
        "outputId": "a44c2af7-b515-48e6-a3f1-c19e1ce600d5"
      },
      "outputs": [
        {
          "output_type": "stream",
          "name": "stdout",
          "text": [
            "Populating the interactive namespace from numpy and matplotlib\n"
          ]
        }
      ],
      "source": [
        "%pylab inline \n",
        "import pandas as pd\n",
        "from scipy import linalg\n",
        "import scipy\n",
        "\n",
        "import torch\n",
        "import torch.nn as nn\n",
        "import torch.nn.functional as F"
      ]
    },
    {
      "cell_type": "markdown",
      "source": [
        "# Logistic regression in PyTorch\n"
      ],
      "metadata": {
        "id": "NeUVSsBf0um7"
      }
    },
    {
      "cell_type": "code",
      "source": [
        "from keras.datasets import mnist\n",
        "(train_X, train_y), (test_X, test_y) = mnist.load_data()"
      ],
      "metadata": {
        "colab": {
          "base_uri": "https://localhost:8080/"
        },
        "id": "BJ6YOH9m3YEf",
        "outputId": "516ea467-7dd7-425f-92cc-c6d8e4b0b567"
      },
      "execution_count": 2,
      "outputs": [
        {
          "output_type": "stream",
          "name": "stdout",
          "text": [
            "Downloading data from https://storage.googleapis.com/tensorflow/tf-keras-datasets/mnist.npz\n",
            "11493376/11490434 [==============================] - 0s 0us/step\n",
            "11501568/11490434 [==============================] - 0s 0us/step\n"
          ]
        }
      ]
    },
    {
      "cell_type": "markdown",
      "source": [
        "### Binary Logistic Regression: 9 or not 9\n"
      ],
      "metadata": {
        "id": "k3vppzrT4yAw"
      }
    },
    {
      "cell_type": "code",
      "source": [
        "Xtr                   = train_X[0:6000, :]\n",
        "train_y_part          = train_y[0:6000]\n",
        "Ytr                   = zeros(train_y_part.size)\n",
        "Ytr[train_y_part==9]=1\n",
        "\n",
        "Xte                   = test_X[0:1000,:]\n",
        "test_y_part           = test_y[0:1000]\n",
        "Yte  = zeros(test_y_part.size)\n",
        "Yte[test_y_part==9]=1\n",
        "\n",
        "Xtr = torch.from_numpy(Xtr)\n",
        "Xte = torch.from_numpy(Xte)\n",
        "\n",
        "Xtrain = Xtr.view(-1, 28*28)/256\n",
        "Xtest  = Xte.view(-1, 28*28)/256\n",
        "\n",
        "Ytr = torch.from_numpy(Ytr)\n",
        "Yte = torch.from_numpy(Yte)"
      ],
      "metadata": {
        "id": "-yXfO6fb3rzh"
      },
      "execution_count": 3,
      "outputs": []
    },
    {
      "cell_type": "code",
      "source": [
        "#Feel free to play around with these :) \n",
        "\n",
        "batch_size = 100\n",
        "epochs = 10\n",
        "input_dim = 784\n",
        "output_dim = 1 #binary classification problem first \n",
        "lr_rate = 0.001\n",
        "\n",
        "#setting up our model - one way to set up models in PyTorch is with nn.Sequential \n",
        "\n",
        "binaryMNIST = nn.Sequential(\n",
        "    nn.Linear(784, 1), \n",
        "    nn.Sigmoid())\n"
      ],
      "metadata": {
        "id": "edKBXKV_5aoD"
      },
      "execution_count": 4,
      "outputs": []
    },
    {
      "cell_type": "code",
      "source": [
        "#We can look at the untrained weights in the model if we want:\n",
        "print('\\n\\nModel params:')\n",
        "for param in binaryMNIST.parameters():\n",
        "    print(param)"
      ],
      "metadata": {
        "colab": {
          "base_uri": "https://localhost:8080/"
        },
        "id": "SxStiR8D7dUz",
        "outputId": "0943c217-9d83-4f7a-b1c8-7838c7bdc568"
      },
      "execution_count": 5,
      "outputs": [
        {
          "output_type": "stream",
          "name": "stdout",
          "text": [
            "\n",
            "\n",
            "Model params:\n",
            "Parameter containing:\n",
            "tensor([[-2.2956e-02, -4.3506e-03, -3.7787e-03, -2.6011e-02,  1.8904e-02,\n",
            "          1.4502e-02, -1.4677e-02, -3.5072e-03, -2.1450e-02, -2.9399e-02,\n",
            "          3.3719e-02,  2.5092e-02,  3.0730e-02,  6.3172e-03,  5.6465e-03,\n",
            "          3.4160e-02,  8.3831e-03, -1.8042e-02, -1.3260e-02, -2.5713e-02,\n",
            "          3.0248e-02,  2.3237e-02,  1.0855e-02,  9.6578e-03,  4.3952e-03,\n",
            "          1.4134e-02, -2.3823e-02, -2.3152e-02, -3.0001e-02,  2.2481e-02,\n",
            "          2.0184e-02,  6.5491e-03, -1.2269e-02, -1.8810e-02,  1.2524e-02,\n",
            "          2.0135e-03, -2.0958e-02, -5.5186e-03, -6.7462e-03,  1.2036e-02,\n",
            "         -1.2404e-02, -6.3908e-03, -8.1926e-03,  2.7559e-02, -1.1748e-02,\n",
            "         -3.7573e-03,  2.9346e-03, -7.1540e-03, -8.1423e-03, -1.1910e-02,\n",
            "         -1.7798e-02, -2.9285e-02, -1.4559e-02, -3.4594e-02,  1.5188e-02,\n",
            "         -3.5142e-02,  3.3703e-02,  3.1787e-02,  3.2395e-02,  6.2849e-03,\n",
            "          3.7875e-04,  1.4451e-02,  6.7097e-03,  2.2632e-02, -1.4374e-02,\n",
            "          2.5899e-02,  1.5384e-02,  1.6097e-02,  1.4117e-02, -2.3899e-03,\n",
            "         -1.0683e-02,  3.8615e-03, -1.7563e-03, -2.6935e-02,  2.8360e-02,\n",
            "         -1.0956e-02, -3.3218e-02, -1.2722e-02,  2.6585e-02,  5.8928e-04,\n",
            "         -8.7442e-03, -3.3919e-02, -3.2447e-02, -2.3409e-02,  2.4322e-02,\n",
            "          1.0063e-02,  1.6598e-02,  6.0497e-03, -4.4635e-03,  8.4022e-03,\n",
            "          8.9442e-03, -9.6964e-04, -3.3981e-02,  2.9800e-03, -2.3398e-02,\n",
            "          2.5821e-02,  1.5691e-02,  1.5847e-02, -4.5349e-03, -5.2991e-04,\n",
            "         -2.3170e-02,  2.8150e-02,  2.1393e-02,  1.6513e-02, -3.4107e-03,\n",
            "          2.8317e-02,  5.0903e-03, -1.2163e-02, -1.8266e-02, -7.0066e-03,\n",
            "         -1.1778e-02, -8.6672e-03,  8.8286e-04, -1.8831e-02,  3.4838e-02,\n",
            "          2.0052e-02, -1.7250e-02, -1.7821e-02, -2.1485e-02,  7.4035e-03,\n",
            "         -1.6207e-02,  1.4834e-02, -1.7702e-02,  2.2567e-02,  9.8006e-03,\n",
            "         -1.8197e-02,  2.6644e-02, -3.1220e-03, -1.9405e-02,  6.1806e-03,\n",
            "          6.7150e-03, -9.3905e-03,  2.8720e-02,  1.4156e-02,  1.7034e-02,\n",
            "         -8.6890e-03, -3.1796e-02,  3.0464e-02,  9.6039e-03, -2.2643e-02,\n",
            "          3.3840e-02,  3.1549e-02,  3.3913e-02,  2.9957e-02,  3.1427e-02,\n",
            "          2.6222e-03,  2.1805e-02, -5.1074e-03, -3.0807e-02, -7.7307e-03,\n",
            "          2.5265e-02, -1.9424e-02,  1.6023e-02, -2.5037e-02,  2.4826e-03,\n",
            "         -2.6068e-02,  1.8056e-02, -1.3117e-02,  2.5723e-02, -2.9183e-02,\n",
            "         -1.3283e-02, -3.3784e-02,  7.3350e-03,  1.7202e-02,  1.4628e-02,\n",
            "         -9.0795e-03, -9.1148e-03, -1.9374e-02,  1.4040e-02,  1.1287e-02,\n",
            "         -5.6814e-03,  7.8158e-03, -3.4573e-02,  2.6164e-02, -1.3806e-02,\n",
            "         -1.0331e-02,  2.8645e-03, -5.0285e-03, -3.3866e-02, -3.0664e-03,\n",
            "         -2.4998e-02, -3.2507e-02,  2.9873e-02, -2.7339e-02,  2.6248e-02,\n",
            "          6.7869e-04,  3.1093e-02, -8.5825e-03, -6.7821e-03, -6.2076e-03,\n",
            "         -2.6801e-02, -3.0392e-02,  2.9904e-02,  2.8116e-02,  2.5966e-03,\n",
            "          1.6915e-02, -1.7882e-02, -3.3365e-02, -2.1377e-02,  2.8204e-02,\n",
            "          3.2897e-03, -1.9319e-02,  2.8828e-02,  3.3428e-02, -1.1757e-02,\n",
            "         -8.0061e-03,  1.2045e-02,  1.2673e-02, -1.3303e-02, -2.0588e-02,\n",
            "          2.0840e-02, -1.1042e-02,  2.0711e-02, -1.4103e-02,  2.5336e-02,\n",
            "         -7.2874e-03,  1.5452e-02, -2.2497e-02, -2.6592e-02, -2.7941e-02,\n",
            "          1.0657e-02,  1.2597e-02, -2.5568e-03, -2.0606e-02, -3.3538e-02,\n",
            "         -1.3588e-02,  4.2812e-03, -2.8131e-02,  2.0174e-02, -3.2362e-03,\n",
            "          2.1887e-03,  2.4541e-02,  1.3148e-02,  3.7155e-04,  1.9550e-02,\n",
            "         -1.8231e-02,  3.5153e-02, -1.5068e-03,  4.2096e-04, -1.1116e-02,\n",
            "         -3.7243e-03, -5.8299e-03, -2.8998e-03, -7.1177e-03, -1.3591e-02,\n",
            "          1.2243e-02,  1.7359e-02, -6.1467e-03,  6.6404e-03, -4.3850e-03,\n",
            "          3.2048e-02, -5.2915e-03,  3.2268e-03, -7.1461e-03, -1.1749e-03,\n",
            "          3.4864e-02, -3.5171e-02,  2.3117e-03, -1.6548e-02, -3.4476e-02,\n",
            "          2.0590e-03,  4.4418e-03, -5.9835e-03, -1.5984e-02, -1.5314e-02,\n",
            "          1.7047e-02,  7.5611e-03,  1.8133e-02, -2.2310e-02,  9.1006e-03,\n",
            "          3.1900e-02,  2.1514e-02, -6.0915e-03,  1.3218e-02, -1.7700e-02,\n",
            "          1.1982e-02,  1.8919e-02,  4.7870e-03,  3.1366e-02,  2.3563e-02,\n",
            "         -2.8300e-02, -2.3867e-02, -2.2691e-02, -1.4140e-02,  8.7805e-03,\n",
            "         -1.8320e-02,  6.2487e-03,  7.6302e-03,  3.2550e-02,  1.2197e-02,\n",
            "          2.3324e-02,  6.6082e-03,  3.2956e-02,  1.2166e-02,  2.4883e-02,\n",
            "          1.5748e-02, -4.5017e-03, -1.6958e-02,  1.7900e-02,  5.2208e-03,\n",
            "          3.0774e-02, -3.1700e-02, -3.1143e-02,  2.3542e-02, -2.2726e-02,\n",
            "          1.0391e-02,  2.9634e-02, -3.1908e-02, -1.0886e-02,  6.1919e-03,\n",
            "          2.6601e-02, -3.1677e-02, -5.1881e-03,  5.0204e-03, -2.6339e-02,\n",
            "         -2.0960e-02, -3.7862e-03,  2.5473e-02, -2.5925e-02,  3.1190e-02,\n",
            "          3.2194e-02, -1.9768e-02, -3.4933e-02, -2.0795e-03, -2.2366e-02,\n",
            "          6.9244e-04, -2.2259e-02,  3.2589e-02,  1.8896e-02, -2.2460e-02,\n",
            "         -1.0063e-02, -7.9992e-03, -1.1248e-02, -2.2229e-02, -1.4258e-02,\n",
            "          1.3568e-02,  3.0772e-02,  1.6578e-02,  2.1373e-02, -9.9267e-03,\n",
            "          2.5433e-02, -8.7051e-03, -1.2635e-02, -1.7620e-03,  2.1093e-02,\n",
            "          2.5897e-03,  3.1841e-02, -1.5406e-02,  9.5978e-03,  2.5417e-02,\n",
            "          3.3580e-03, -3.0947e-02,  3.8044e-03, -5.1431e-03,  2.6826e-02,\n",
            "         -1.1127e-02, -5.3599e-03,  2.2205e-02, -3.4601e-03, -1.7767e-04,\n",
            "          2.3010e-02,  2.0004e-02,  3.3578e-02, -1.0815e-02,  3.3855e-02,\n",
            "         -1.9654e-02, -2.8383e-02, -3.6889e-03,  2.3035e-02, -4.3641e-03,\n",
            "          2.1595e-02, -7.8756e-03,  8.9381e-03, -3.3239e-02,  6.5828e-03,\n",
            "          1.2464e-02, -7.9202e-03,  2.7617e-02, -1.4101e-02,  3.3915e-02,\n",
            "          1.7169e-02,  3.2250e-02, -3.9388e-03,  5.4520e-03, -3.1398e-02,\n",
            "         -1.7391e-02, -3.2122e-02,  2.6565e-02, -4.6919e-03,  1.8782e-02,\n",
            "         -1.3002e-02, -3.8361e-03,  3.2906e-02, -1.4839e-03,  2.4186e-02,\n",
            "         -1.4136e-02,  2.4762e-02,  2.4588e-02, -2.3504e-02, -3.4059e-02,\n",
            "          8.4838e-03,  3.6483e-03, -1.5513e-02, -1.2479e-02, -3.4215e-02,\n",
            "         -8.4134e-03, -2.1809e-02, -7.1583e-03, -2.2037e-02,  1.6373e-02,\n",
            "          9.5477e-03, -5.3567e-03, -6.1721e-03, -9.5481e-03,  1.7721e-02,\n",
            "         -9.8184e-03,  1.2970e-02, -2.7704e-02, -3.2855e-02, -1.4830e-02,\n",
            "          2.7023e-03,  1.9474e-02,  3.3314e-02,  3.2388e-02,  1.6881e-02,\n",
            "          1.7697e-02,  2.9605e-02,  2.4431e-02,  2.1359e-02,  1.3539e-02,\n",
            "         -1.3197e-02,  1.1609e-02, -1.1565e-02, -1.6274e-02,  2.4615e-03,\n",
            "          4.5432e-03,  3.5454e-02,  1.1815e-02,  8.9377e-03, -9.3395e-03,\n",
            "         -3.2407e-02,  2.6842e-02,  1.0450e-02, -2.4977e-02,  3.2924e-02,\n",
            "          1.8696e-02,  2.6329e-02,  6.7343e-03, -7.0818e-03,  2.8374e-02,\n",
            "         -3.4406e-02, -2.7289e-02, -2.8879e-02,  2.3867e-02,  1.4478e-02,\n",
            "         -2.9628e-02, -1.0212e-02, -1.6999e-02, -1.6103e-02, -4.4805e-03,\n",
            "          1.7022e-02, -1.9353e-02,  2.6797e-02,  6.0631e-03,  1.0424e-02,\n",
            "          9.5768e-03, -1.9682e-02,  3.1649e-02, -4.4923e-03, -1.7289e-02,\n",
            "          2.0904e-02, -5.9056e-03,  2.0318e-02,  1.2060e-02,  1.2559e-02,\n",
            "         -3.1185e-02,  5.8371e-03,  2.5983e-03,  8.8925e-03, -2.3364e-02,\n",
            "          2.0487e-02,  4.4996e-03,  1.7777e-02,  3.2942e-02,  4.6440e-03,\n",
            "          1.8919e-02, -8.8116e-03,  1.7875e-02, -3.0846e-02,  3.3294e-02,\n",
            "         -3.2899e-02,  1.7919e-02,  1.2268e-03, -6.9637e-03, -2.8953e-02,\n",
            "         -2.0675e-02, -4.8507e-03,  1.2041e-02, -2.1573e-03, -1.8356e-02,\n",
            "         -4.1721e-04,  2.3681e-02,  2.9457e-02, -8.1418e-03, -2.0654e-04,\n",
            "          3.3906e-02, -3.5397e-02,  1.7948e-02,  3.1440e-02, -5.3066e-03,\n",
            "          1.6395e-02,  9.8829e-03,  3.9660e-03, -1.5523e-02, -1.6793e-03,\n",
            "         -2.4728e-02,  1.5840e-03, -3.3057e-02,  2.9827e-02, -2.8982e-02,\n",
            "         -1.4386e-02, -3.5678e-02, -3.4271e-02,  2.5829e-03,  3.3612e-02,\n",
            "         -8.0011e-03, -7.9727e-03,  2.4255e-02,  1.1790e-02,  1.9481e-02,\n",
            "         -4.5029e-03, -2.9942e-03, -3.0812e-02,  5.9388e-03, -2.5078e-02,\n",
            "          1.0613e-02,  2.7885e-02, -1.8568e-02,  7.2784e-03, -2.0623e-02,\n",
            "         -2.7941e-02,  1.0442e-02,  3.4562e-02, -1.8371e-02, -3.8273e-03,\n",
            "         -2.3897e-02,  2.0226e-02,  3.1096e-02, -2.9994e-02, -3.1055e-02,\n",
            "          3.0958e-02,  2.2742e-02, -3.1438e-02, -3.1335e-02,  2.8645e-02,\n",
            "          1.1818e-02,  3.1814e-02,  1.9075e-02, -3.5409e-02,  7.5877e-03,\n",
            "         -3.1346e-03, -1.5685e-02,  5.9307e-03, -4.5676e-03,  1.5824e-02,\n",
            "         -2.3722e-02,  6.2724e-03, -2.8993e-02,  2.6356e-03,  1.3405e-02,\n",
            "         -9.7734e-03,  2.0300e-02, -1.7328e-02, -3.2088e-02, -7.9371e-03,\n",
            "          4.9015e-03, -3.2684e-02,  2.3494e-02, -2.9010e-02, -7.1832e-03,\n",
            "          2.4829e-02, -1.3617e-02, -2.3250e-02,  1.3494e-02,  1.1062e-02,\n",
            "         -2.6473e-02, -1.4540e-02, -2.5260e-02,  4.5039e-03, -3.7648e-03,\n",
            "         -2.9711e-02,  1.1633e-02,  1.7147e-02, -2.2752e-03, -6.5031e-03,\n",
            "          1.4330e-02, -5.7503e-03,  5.0281e-03, -9.7423e-04,  8.8606e-03,\n",
            "         -2.4027e-02,  1.4848e-02, -2.0688e-02, -1.3339e-02, -3.4214e-03,\n",
            "         -3.4276e-02,  1.1887e-02,  1.7687e-02,  1.0714e-02, -1.4217e-02,\n",
            "         -8.0099e-03, -1.2088e-03,  2.7744e-02,  2.4194e-02, -2.9281e-02,\n",
            "         -2.1714e-02,  2.5181e-02, -1.4824e-02,  1.8577e-02,  2.9781e-02,\n",
            "         -1.6963e-02, -2.3156e-02, -2.6564e-03, -2.3638e-03,  3.5107e-02,\n",
            "         -6.0047e-03,  6.4086e-03,  9.4064e-03,  2.6723e-03, -3.2566e-02,\n",
            "         -6.3699e-04,  2.7557e-02,  6.1681e-03,  2.1773e-02,  7.8831e-04,\n",
            "          3.2552e-02,  3.5110e-02, -1.5292e-02, -4.8465e-03,  5.3202e-03,\n",
            "          1.1895e-02,  7.8146e-03, -1.4023e-02,  3.1968e-02, -3.4415e-02,\n",
            "          7.1841e-04,  3.4510e-02, -5.6981e-03, -3.9953e-03, -1.4279e-03,\n",
            "          1.6971e-02,  6.0047e-03,  3.0983e-03, -1.9730e-02, -2.8109e-02,\n",
            "         -5.3788e-03,  7.2792e-03, -2.1950e-02,  1.0302e-02,  8.9828e-03,\n",
            "          2.2257e-02, -2.8338e-02, -9.6901e-03,  9.7666e-04, -3.0989e-02,\n",
            "          2.1231e-03, -3.5018e-03, -3.4947e-02,  3.7470e-04,  5.3352e-03,\n",
            "         -2.5229e-02, -3.4394e-02,  2.9222e-02,  2.6964e-02,  9.5888e-03,\n",
            "         -3.0198e-02, -3.3152e-02, -3.3115e-02,  2.9797e-02,  2.4990e-02,\n",
            "          3.6423e-05, -8.0918e-03,  2.7692e-02, -3.2299e-02, -1.6446e-02,\n",
            "          8.6453e-03, -3.3108e-02,  3.2089e-02,  3.1809e-02, -2.8919e-02,\n",
            "          5.7874e-03,  1.2829e-02, -1.0217e-02,  5.8710e-03,  3.5253e-02,\n",
            "          2.1898e-02,  1.2984e-02, -1.2069e-02, -3.5186e-02,  2.1498e-02,\n",
            "         -2.3971e-02,  9.9302e-03,  1.2472e-02,  1.2392e-02, -1.3490e-02,\n",
            "         -3.5399e-02,  2.5864e-02,  2.1053e-02,  8.2098e-03,  2.2825e-02,\n",
            "          2.1067e-02,  4.9327e-03,  3.3200e-02,  1.4398e-02,  1.6370e-02,\n",
            "          2.0023e-02, -9.2272e-04, -1.8979e-02,  1.0839e-02, -4.9227e-03,\n",
            "          7.7163e-03, -3.5891e-04, -3.2110e-02, -2.1139e-02, -2.2933e-02,\n",
            "          3.4711e-02, -2.3146e-02, -1.2237e-02, -2.6599e-02,  3.3067e-02,\n",
            "         -3.5129e-02, -1.3147e-02,  7.3572e-03, -2.4598e-02,  5.8793e-03,\n",
            "         -3.2623e-02,  2.0275e-02, -2.5157e-02,  2.1104e-04, -4.8177e-03,\n",
            "          1.6916e-03, -2.7332e-03,  1.6785e-02, -1.6230e-02, -8.2276e-03,\n",
            "         -2.3008e-02,  2.3801e-02,  8.5086e-03, -3.2215e-02, -1.9604e-02,\n",
            "         -4.2064e-03,  1.3445e-02, -7.7010e-03, -3.1433e-02,  1.0766e-02,\n",
            "         -8.0762e-04, -2.8405e-02, -2.9124e-02,  2.8616e-02, -2.8635e-02,\n",
            "         -4.0563e-03, -4.3298e-03, -2.7691e-02, -1.3229e-02,  1.3544e-02,\n",
            "         -1.0443e-02,  1.3009e-02,  7.4418e-03, -2.6690e-02,  3.4679e-02,\n",
            "          2.6562e-02,  3.7827e-03, -3.3664e-02, -3.5480e-02,  4.2079e-03,\n",
            "          1.4207e-02, -8.4835e-03,  3.4676e-02, -7.6055e-03, -1.4145e-02,\n",
            "         -4.9001e-04, -7.7419e-03, -1.6031e-02,  1.5000e-02]],\n",
            "       requires_grad=True)\n",
            "Parameter containing:\n",
            "tensor([0.0149], requires_grad=True)\n"
          ]
        }
      ]
    },
    {
      "cell_type": "code",
      "source": [
        "\n",
        "#set up the loss - binary cross entropy is already implemented by Pytorch\n",
        "Loss = torch.nn.BCELoss()\n",
        "#using SGD - we have to tell it what we're going to be optimizing \n",
        "optimizer = torch.optim.SGD(binaryMNIST.parameters(), lr=lr_rate)\n",
        "\n",
        "arr = np.arange(Xtrain.shape[0])\n",
        "for epoch in range(int(epochs)):\n",
        "  np.random.shuffle(arr)\n",
        "  print(epoch)\n",
        "  for i in arr:\n",
        "    Xtrain_i = Xtrain[i]\n",
        "    output_i = binaryMNIST(Xtrain_i)\n",
        "    loss_i  = Loss(torch.squeeze(output_i), Ytr[0].to(torch.float32))\n",
        "    optimizer.zero_grad() #make sure to zero gradients out  \n",
        "    loss_i.backward()\n",
        "    optimizer.step()\n",
        "\n"
      ],
      "metadata": {
        "colab": {
          "base_uri": "https://localhost:8080/"
        },
        "id": "LsBKIB3G7jNB",
        "outputId": "a12429a0-ed6f-41db-cb67-6ed0877cfdcd"
      },
      "execution_count": 6,
      "outputs": [
        {
          "output_type": "stream",
          "name": "stdout",
          "text": [
            "0\n",
            "1\n",
            "2\n",
            "3\n",
            "4\n",
            "5\n",
            "6\n",
            "7\n",
            "8\n",
            "9\n"
          ]
        }
      ]
    },
    {
      "cell_type": "code",
      "source": [
        "correct = 0\n",
        "for i in range(Xtest.shape[0]):\n",
        "  Xtest_i = Xtest[i]\n",
        "  outputs = binaryMNIST(Xtest_i)\n",
        "  correct += np.sum(torch.squeeze(outputs).round().detach().numpy() == Yte[i].detach().numpy())\n",
        "\n",
        "accuracy = 100 * correct/Xtest.shape[0]\n",
        "print(\"Epoch: {}. Train Loss: {}. Validation Accuracy: {}.\".format(epoch, loss_i.item(), accuracy))"
      ],
      "metadata": {
        "colab": {
          "base_uri": "https://localhost:8080/"
        },
        "id": "aywtWBADD66V",
        "outputId": "b716643e-b8f6-4ba0-e277-33a2e1c9b68c"
      },
      "execution_count": 7,
      "outputs": [
        {
          "output_type": "stream",
          "name": "stdout",
          "text": [
            "Epoch: 9. Train Loss: 0.0016785635380074382. Validation Accuracy: 90.6.\n"
          ]
        }
      ]
    },
    {
      "cell_type": "code",
      "source": [
        "#A second common way to setup models in PyTorch is with a model class \n",
        "\n",
        "class MNISTLogisticRegression(torch.nn.Module):\n",
        "\n",
        "    def __init__(self, output_dim = 2):\n",
        "      #input dim is 784 because that is the size of a flattened MNIST image\n",
        "        super(MNISTLogisticRegression, self).__init__()\n",
        "        #w and b will initialized with gradient tracking turned on by nn.Module \n",
        "        self.linear1 = torch.nn.Linear(784, output_dim)\n",
        "\n",
        "    def forward(self, x):\n",
        "        return self.linear1(x)"
      ],
      "metadata": {
        "id": "7wDZp2v6Iazt"
      },
      "execution_count": 8,
      "outputs": []
    },
    {
      "cell_type": "markdown",
      "source": [
        "# MULTICLASS LOGISTIC REGRESSION\n",
        "TBD in HW"
      ],
      "metadata": {
        "id": "dnhbgCO8HOPp"
      }
    },
    {
      "cell_type": "markdown",
      "source": [
        "# Neural Networks"
      ],
      "metadata": {
        "id": "WkTYbNMJMc8c"
      }
    },
    {
      "cell_type": "code",
      "source": [
        "import torch.optim as optim\n",
        "import torchvision.datasets as datasets\n",
        "from torchvision import transforms\n",
        "import torchvision.utils\n",
        "from tqdm import tqdm"
      ],
      "metadata": {
        "id": "ROWBLcjiLzSJ"
      },
      "execution_count": 9,
      "outputs": []
    },
    {
      "cell_type": "code",
      "source": [
        "mnist = datasets.MNIST(root=\"./data\", train=True, download=True, transform=transforms.ToTensor())\n"
      ],
      "metadata": {
        "colab": {
          "base_uri": "https://localhost:8080/",
          "height": 431,
          "referenced_widgets": [
            "2a6607f6c1f040758d8189a84cf3e49c",
            "e2e47a15687b4adda43595f55eda80f2",
            "926ee1cce4184438be04d0fbe7f26596",
            "a98ddb1d7f774c878d23b6285b0e5873",
            "70954010db3343699f419b87d8263773",
            "a6382abd6e1b4917bba918fc05c55643",
            "96c5dd2f6bcb4c14826a664436fdf0a5",
            "baccf791b1d24e4d85c2964a7e3114a6",
            "951f3b639eea4f959d33c641797585a7",
            "30f90b5dab154bd69e36a9576af14b47",
            "075d8a21888c41359467ef481b8b40dd",
            "1a38dea99a3a4e4c809652a03b31c1d7",
            "c9d5fe7e7de8495d9960c1361fdf9922",
            "f388508ab2844fb582feaf6de43169d5",
            "b4c892ec73cc4ef292d6ff60d56291ab",
            "89969bf86503430e943873c98f3e3735",
            "dd7880c4adc6463ca3e9e14f8ff379ca",
            "fd749eb482ac4f8ca6e8ddb66cb18cd7",
            "63a1231c04714898a51dc8830b3ab9c3",
            "2792090bd1584b849ac2e6dec1c1d3e6",
            "1227e6695627452488864596e828ff69",
            "0991603cd93b4ef7bc5728e27021835a",
            "53aea331dab6401196c2d10cdf2e8efc",
            "1152936461ec4a978e473efaef509331",
            "b79d1041b6be43a9b745aa620a5a9c49",
            "36468ea503024194807cff4038f8fa9f",
            "385fabfbc4a04f96a473657cd2bafd75",
            "e363d7891a224405986d02d9565b7eee",
            "a6f0da0cba244c96a44d543d6646d2cb",
            "c18a8b42922e465f8b5cceba3d87392c",
            "7b68bbaf6f8d4ad7845c159e0e2af0fa",
            "47738d6fec9f492a943ae554e95e74d2",
            "b517e0974b434a77aef7ba8497dfd869",
            "25c56d14fbab4cc7a51997eb5262a98d",
            "324f11f75f014383b31e5b3dbe2ed1d3",
            "dd3dfaf3ce4442eda0b3775a659abf76",
            "8aa97b6eebdc49968b34f313d3b3e685",
            "84597d662ce2474cb464fd7595496b7d",
            "0947d9dd082e42098ddb3586fd145dd2",
            "9a490444368246d79271fec5d2324e55",
            "000213eed899469a81cfd6c4b98ac393",
            "bb8fa305929e47c694a9fa39868deb40",
            "781d1076ced74863a5e3d8765a15f5d5",
            "4bb77313e3a947a689c30097d559a38b"
          ]
        },
        "id": "ij2SCgI8L3F-",
        "outputId": "272a9b0d-851a-455b-ab02-36a4e9d483a2"
      },
      "execution_count": 10,
      "outputs": [
        {
          "output_type": "stream",
          "name": "stdout",
          "text": [
            "Downloading http://yann.lecun.com/exdb/mnist/train-images-idx3-ubyte.gz\n",
            "Downloading http://yann.lecun.com/exdb/mnist/train-images-idx3-ubyte.gz to ./data/MNIST/raw/train-images-idx3-ubyte.gz\n"
          ]
        },
        {
          "output_type": "display_data",
          "data": {
            "text/plain": [
              "  0%|          | 0/9912422 [00:00<?, ?it/s]"
            ],
            "application/vnd.jupyter.widget-view+json": {
              "version_major": 2,
              "version_minor": 0,
              "model_id": "2a6607f6c1f040758d8189a84cf3e49c"
            }
          },
          "metadata": {}
        },
        {
          "output_type": "stream",
          "name": "stdout",
          "text": [
            "Extracting ./data/MNIST/raw/train-images-idx3-ubyte.gz to ./data/MNIST/raw\n",
            "\n",
            "Downloading http://yann.lecun.com/exdb/mnist/train-labels-idx1-ubyte.gz\n",
            "Downloading http://yann.lecun.com/exdb/mnist/train-labels-idx1-ubyte.gz to ./data/MNIST/raw/train-labels-idx1-ubyte.gz\n"
          ]
        },
        {
          "output_type": "display_data",
          "data": {
            "text/plain": [
              "  0%|          | 0/28881 [00:00<?, ?it/s]"
            ],
            "application/vnd.jupyter.widget-view+json": {
              "version_major": 2,
              "version_minor": 0,
              "model_id": "1a38dea99a3a4e4c809652a03b31c1d7"
            }
          },
          "metadata": {}
        },
        {
          "output_type": "stream",
          "name": "stdout",
          "text": [
            "Extracting ./data/MNIST/raw/train-labels-idx1-ubyte.gz to ./data/MNIST/raw\n",
            "\n",
            "Downloading http://yann.lecun.com/exdb/mnist/t10k-images-idx3-ubyte.gz\n",
            "Downloading http://yann.lecun.com/exdb/mnist/t10k-images-idx3-ubyte.gz to ./data/MNIST/raw/t10k-images-idx3-ubyte.gz\n"
          ]
        },
        {
          "output_type": "display_data",
          "data": {
            "text/plain": [
              "  0%|          | 0/1648877 [00:00<?, ?it/s]"
            ],
            "application/vnd.jupyter.widget-view+json": {
              "version_major": 2,
              "version_minor": 0,
              "model_id": "53aea331dab6401196c2d10cdf2e8efc"
            }
          },
          "metadata": {}
        },
        {
          "output_type": "stream",
          "name": "stdout",
          "text": [
            "Extracting ./data/MNIST/raw/t10k-images-idx3-ubyte.gz to ./data/MNIST/raw\n",
            "\n",
            "Downloading http://yann.lecun.com/exdb/mnist/t10k-labels-idx1-ubyte.gz\n",
            "Downloading http://yann.lecun.com/exdb/mnist/t10k-labels-idx1-ubyte.gz to ./data/MNIST/raw/t10k-labels-idx1-ubyte.gz\n"
          ]
        },
        {
          "output_type": "display_data",
          "data": {
            "text/plain": [
              "  0%|          | 0/4542 [00:00<?, ?it/s]"
            ],
            "application/vnd.jupyter.widget-view+json": {
              "version_major": 2,
              "version_minor": 0,
              "model_id": "25c56d14fbab4cc7a51997eb5262a98d"
            }
          },
          "metadata": {}
        },
        {
          "output_type": "stream",
          "name": "stdout",
          "text": [
            "Extracting ./data/MNIST/raw/t10k-labels-idx1-ubyte.gz to ./data/MNIST/raw\n",
            "\n"
          ]
        }
      ]
    },
    {
      "cell_type": "code",
      "source": [
        "mnist"
      ],
      "metadata": {
        "colab": {
          "base_uri": "https://localhost:8080/"
        },
        "id": "sJ3tx2ncL4Sm",
        "outputId": "73d1f060-1d5a-4c8d-8661-20404e10243f"
      },
      "execution_count": 11,
      "outputs": [
        {
          "output_type": "execute_result",
          "data": {
            "text/plain": [
              "Dataset MNIST\n",
              "    Number of datapoints: 60000\n",
              "    Root location: ./data\n",
              "    Split: Train\n",
              "    StandardTransform\n",
              "Transform: ToTensor()"
            ]
          },
          "metadata": {},
          "execution_count": 11
        }
      ]
    },
    {
      "cell_type": "markdown",
      "source": [
        "## Constructing the DataLoader\n",
        "The PyTorch DataLoader class is an efficient implementation of an iterator that can perform useful preprocessing and returns batches of elements. Here, we use its ability to batch and shuffle data, but DataLoaders are capable of much more.\n",
        "\n",
        "Note that each time we iterate over a DataLoader, it starts again from the beginning.\n",
        "\n",
        "Below we use `torchvision.utils.make_grid()` to show a sample batch of inputs."
      ],
      "metadata": {
        "id": "A378cUBHK2Dw"
      }
    },
    {
      "cell_type": "code",
      "source": [
        "data_loader = torch.utils.data.DataLoader(mnist, batch_size=64, shuffle=True)\n",
        "\n",
        "# Show one batch of images. Each batch of images has shape [batch_size, 1, 28, 28],\n",
        "# where 1 is the \"channels\" dimension of the image.\n",
        "for images,labels in data_loader:\n",
        "    grid_img = torchvision.utils.make_grid(images)\n",
        "    plt.imshow(grid_img.permute(1, 2, 0))\n",
        "    plt.title(\"A single batch of images\")\n",
        "    break"
      ],
      "metadata": {
        "colab": {
          "base_uri": "https://localhost:8080/",
          "height": 281
        },
        "id": "f0YPRj4VM5MH",
        "outputId": "778e5342-df2f-437b-87db-a03cb4569cba"
      },
      "execution_count": 12,
      "outputs": [
        {
          "output_type": "display_data",
          "data": {
            "text/plain": [
              "<Figure size 432x288 with 1 Axes>"
            ],
            "image/png": "[encoded data removed]"
          },
          "metadata": {
            "needs_background": "light"
          }
        }
      ]
    },
    {
      "cell_type": "markdown",
      "source": [
        "## Define the network \n",
        "Here we define a simple 1-hidden-layer neural network for classification on MNIST. It takes a parameter that determines the hidden size of the hidden layer.\n",
        "\n"
      ],
      "metadata": {
        "id": "npqU2ew1NGh9"
      }
    },
    {
      "cell_type": "code",
      "source": [
        "class MNISTNetwork(nn.Module):\n",
        "    def __init__(self, hidden_size):\n",
        "        super().__init__()\n",
        "        self.linear_0 = nn.Linear(784, hidden_size)\n",
        "        self.linear_1 = nn.Linear(hidden_size, 10)\n",
        "        \n",
        "    def forward(self, inputs):\n",
        "        x = self.linear_0(inputs)\n",
        "        x = torch.sigmoid(x)\n",
        "        return self.linear_1(x)"
      ],
      "metadata": {
        "id": "P1lG3dNcNOXc"
      },
      "execution_count": 13,
      "outputs": []
    },
    {
      "cell_type": "markdown",
      "source": [
        "### Instantiating the Networks\n",
        "We will consider three networks.\n",
        "- One that only has a single hidden unit and all of its weights are initialized to exactly 0.\n",
        "- One that has 64 hidden units and all of its weights are initialized to exactly 0.\n",
        "- One that has 64 hidden units and the weights are initialized using Torch's default, Kaiming Uniform initialization.\n",
        "\n",
        "A bit review here\n",
        "\n",
        "In the code below, we utilize some important PyTorch methods which you'll want to be familiar with. This includes:\n",
        "\n",
        "- `torch.nn.Module.parameters()`: Returns an iterator over module parameters (i.e. for passing to an optimizer that will update those parameters).\n",
        "\n",
        "- `torch.Tensor.view()`: Returns a view into the original Tensor. The result of this method shares the same underlying data as the input Tensor. This avoids copying the data, which means it can be mnore efficient, but it also means that when the original Tensor is modified, so is the view!\n",
        "\n",
        "- `torch.Tensor.item()`: Returns the value of a single-element Tensor as a standard Python number. This only works for tensors with one element. For other cases, see `torch.Tensor.tolist()`.\n",
        "\n",
        "- `torch.Tensor.backward()`: Computes the gradients of current tensor wrt the graph leaves (note that this is only called if `Tensor.requires_grad` is True, which is the case by default). After calling this, a Tensor's `.grad` attribute is updated with the current gradients. These are used, for example, when calling `.step()` method of an optimizer.\n",
        "\n",
        "- `torch.optim.Optimizer.zero_grad()`: Sets the gradients of all variables to zero. This should be conducted before each step of an optimization procedure (i.e., for each batch of training a DNN). If `.zero_grad()` is not called, gradients accumulate (add) over iterations."
      ],
      "metadata": {
        "id": "CVB_4Wn0NX-T"
      }
    },
    {
      "cell_type": "code",
      "source": [
        "small_net = MNISTNetwork(1)\n",
        "large_net = MNISTNetwork(64)\n",
        "large_net_rand = MNISTNetwork(64)\n",
        "\n",
        "# initialize the first two parameters as zeros. \n",
        "for p in zip(small_net.parameters(), large_net.parameters()):\n",
        "    p1, p2 = p\n",
        "    p1.data = torch.zeros_like(p1.data)\n",
        "    p2.data = torch.zeros_like(p2.data)"
      ],
      "metadata": {
        "id": "B9LfBo-POvaN"
      },
      "execution_count": 14,
      "outputs": []
    },
    {
      "cell_type": "markdown",
      "source": [
        "### Training\n",
        "We will train all three networks simulateneously using the same learning rate. After each epoch, we print the current loss of each network.\n",
        "\n"
      ],
      "metadata": {
        "id": "8cgA6rZmpeNJ"
      }
    },
    {
      "cell_type": "code",
      "source": [
        "epochs = 32\n",
        "\n",
        "optimizer_small = optim.Adam(small_net.parameters(), lr=5e-3)\n",
        "optimizer_large = optim.Adam(large_net.parameters(), lr=5e-3)\n",
        "optimizer_large_rand = optim.Adam(large_net_rand.parameters(), lr=5e-3)\n",
        "\n",
        "for i in range(epochs):\n",
        "    loss_small_epoch = 0.\n",
        "    loss_large_epoch = 0.\n",
        "    loss_large_rand_epoch = 0.\n",
        "    \n",
        "    for batch in tqdm(data_loader):\n",
        "        images, labels = batch\n",
        "        images, labels = images, labels\n",
        "        \n",
        "        images = images.view(-1, 784)\n",
        "        \n",
        "        optimizer_small.zero_grad()\n",
        "        optimizer_large.zero_grad()\n",
        "        optimizer_large_rand.zero_grad()\n",
        "        \n",
        "        y_small = small_net(images)\n",
        "        y_large = large_net(images)\n",
        "        y_large_rand = large_net_rand(images)\n",
        "        \n",
        "        loss_small = F.cross_entropy(y_small, labels)\n",
        "        loss_large = F.cross_entropy(y_large, labels)\n",
        "        loss_large_rand = F.cross_entropy(y_large_rand, labels)\n",
        "        \n",
        "        loss_small_epoch += loss_small.item()\n",
        "        loss_large_epoch += loss_large.item()\n",
        "        loss_large_rand_epoch += loss_large_rand.item()\n",
        "        \n",
        "        loss_small.backward()\n",
        "        loss_large.backward()\n",
        "        loss_large_rand.backward()\n",
        "        \n",
        "        optimizer_small.step()\n",
        "        optimizer_large.step()\n",
        "        optimizer_large_rand.step()\n",
        "        \n",
        "    print(\"Small Loss:\", loss_small_epoch / len(data_loader))\n",
        "    print(\"Large Loss:\", loss_large_epoch / len(data_loader))\n",
        "    print(\"Large rand Loss:\", loss_large_rand_epoch / len(data_loader))"
      ],
      "metadata": {
        "colab": {
          "base_uri": "https://localhost:8080/"
        },
        "id": "RlVWBW0xrfsX",
        "outputId": "21af643b-4576-4773-c3c8-c4af4fcfb67d"
      },
      "execution_count": 16,
      "outputs": [
        {
          "output_type": "stream",
          "name": "stderr",
          "text": [
            "100%|██████████| 938/938 [00:08<00:00, 109.48it/s]\n"
          ]
        },
        {
          "output_type": "stream",
          "name": "stdout",
          "text": [
            "Small Loss: 1.941645417259192\n",
            "Large Loss: 1.7927322509700556\n",
            "Large rand Loss: 0.3251739103815703\n"
          ]
        },
        {
          "output_type": "stream",
          "name": "stderr",
          "text": [
            "100%|██████████| 938/938 [00:09<00:00, 98.11it/s] \n"
          ]
        },
        {
          "output_type": "stream",
          "name": "stdout",
          "text": [
            "Small Loss: 1.7697478836533358\n",
            "Large Loss: 1.6247666930593152\n",
            "Large rand Loss: 0.14446913373908762\n"
          ]
        },
        {
          "output_type": "stream",
          "name": "stderr",
          "text": [
            "100%|██████████| 938/938 [00:08<00:00, 109.77it/s]\n"
          ]
        },
        {
          "output_type": "stream",
          "name": "stdout",
          "text": [
            "Small Loss: 1.7448063354248178\n",
            "Large Loss: 1.5627654704457916\n",
            "Large rand Loss: 0.10611277820715216\n"
          ]
        },
        {
          "output_type": "stream",
          "name": "stderr",
          "text": [
            "100%|██████████| 938/938 [00:08<00:00, 113.09it/s]\n"
          ]
        },
        {
          "output_type": "stream",
          "name": "stdout",
          "text": [
            "Small Loss: 1.7317689912659782\n",
            "Large Loss: 1.5348670523303913\n",
            "Large rand Loss: 0.08401530221311142\n"
          ]
        },
        {
          "output_type": "stream",
          "name": "stderr",
          "text": [
            "100%|██████████| 938/938 [00:08<00:00, 112.17it/s]\n"
          ]
        },
        {
          "output_type": "stream",
          "name": "stdout",
          "text": [
            "Small Loss: 1.7118762335035085\n",
            "Large Loss: 1.5209577177633355\n",
            "Large rand Loss: 0.07047121067405311\n"
          ]
        },
        {
          "output_type": "stream",
          "name": "stderr",
          "text": [
            "100%|██████████| 938/938 [00:08<00:00, 111.67it/s]\n"
          ]
        },
        {
          "output_type": "stream",
          "name": "stdout",
          "text": [
            "Small Loss: 1.6799983164903198\n",
            "Large Loss: 1.5139142246897033\n",
            "Large rand Loss: 0.05801754009260583\n"
          ]
        },
        {
          "output_type": "stream",
          "name": "stderr",
          "text": [
            "100%|██████████| 938/938 [00:08<00:00, 109.11it/s]\n"
          ]
        },
        {
          "output_type": "stream",
          "name": "stdout",
          "text": [
            "Small Loss: 1.6440086155049582\n",
            "Large Loss: 1.5155868985251324\n",
            "Large rand Loss: 0.050158843986376295\n"
          ]
        },
        {
          "output_type": "stream",
          "name": "stderr",
          "text": [
            "100%|██████████| 938/938 [00:08<00:00, 111.33it/s]\n"
          ]
        },
        {
          "output_type": "stream",
          "name": "stdout",
          "text": [
            "Small Loss: 1.6119321611390185\n",
            "Large Loss: 1.5116903849247931\n",
            "Large rand Loss: 0.04338907138821778\n"
          ]
        },
        {
          "output_type": "stream",
          "name": "stderr",
          "text": [
            "100%|██████████| 938/938 [00:08<00:00, 113.32it/s]\n"
          ]
        },
        {
          "output_type": "stream",
          "name": "stdout",
          "text": [
            "Small Loss: 1.5865041637725668\n",
            "Large Loss: 1.5068084535314077\n",
            "Large rand Loss: 0.03544882006324165\n"
          ]
        },
        {
          "output_type": "stream",
          "name": "stderr",
          "text": [
            "100%|██████████| 938/938 [00:08<00:00, 113.05it/s]\n"
          ]
        },
        {
          "output_type": "stream",
          "name": "stdout",
          "text": [
            "Small Loss: 1.5702022588583453\n",
            "Large Loss: 1.50481392427294\n",
            "Large rand Loss: 0.03360624802972762\n"
          ]
        },
        {
          "output_type": "stream",
          "name": "stderr",
          "text": [
            "100%|██████████| 938/938 [00:08<00:00, 111.89it/s]\n"
          ]
        },
        {
          "output_type": "stream",
          "name": "stdout",
          "text": [
            "Small Loss: 1.5599518663593446\n",
            "Large Loss: 1.5018442326517247\n",
            "Large rand Loss: 0.028560741095002423\n"
          ]
        },
        {
          "output_type": "stream",
          "name": "stderr",
          "text": [
            "100%|██████████| 938/938 [00:08<00:00, 113.08it/s]\n"
          ]
        },
        {
          "output_type": "stream",
          "name": "stdout",
          "text": [
            "Small Loss: 1.5530002766580724\n",
            "Large Loss: 1.5070315271552437\n",
            "Large rand Loss: 0.02456954246084553\n"
          ]
        },
        {
          "output_type": "stream",
          "name": "stderr",
          "text": [
            "100%|██████████| 938/938 [00:09<00:00, 99.65it/s] \n"
          ]
        },
        {
          "output_type": "stream",
          "name": "stdout",
          "text": [
            "Small Loss: 1.5438304953991986\n",
            "Large Loss: 1.5025534571360932\n",
            "Large rand Loss: 0.021507171907962096\n"
          ]
        },
        {
          "output_type": "stream",
          "name": "stderr",
          "text": [
            "100%|██████████| 938/938 [00:08<00:00, 110.70it/s]\n"
          ]
        },
        {
          "output_type": "stream",
          "name": "stdout",
          "text": [
            "Small Loss: 1.538390941711377\n",
            "Large Loss: 1.5045873823958928\n",
            "Large rand Loss: 0.02111594665971553\n"
          ]
        },
        {
          "output_type": "stream",
          "name": "stderr",
          "text": [
            "100%|██████████| 938/938 [00:08<00:00, 105.07it/s]\n"
          ]
        },
        {
          "output_type": "stream",
          "name": "stdout",
          "text": [
            "Small Loss: 1.5342786507820017\n",
            "Large Loss: 1.50175894590329\n",
            "Large rand Loss: 0.018344540899157272\n"
          ]
        },
        {
          "output_type": "stream",
          "name": "stderr",
          "text": [
            "100%|██████████| 938/938 [00:08<00:00, 110.99it/s]\n"
          ]
        },
        {
          "output_type": "stream",
          "name": "stdout",
          "text": [
            "Small Loss: 1.52977105612948\n",
            "Large Loss: 1.501987522090676\n",
            "Large rand Loss: 0.016136399924605915\n"
          ]
        },
        {
          "output_type": "stream",
          "name": "stderr",
          "text": [
            "100%|██████████| 938/938 [00:08<00:00, 111.35it/s]\n"
          ]
        },
        {
          "output_type": "stream",
          "name": "stdout",
          "text": [
            "Small Loss: 1.526109496794784\n",
            "Large Loss: 1.503455764703405\n",
            "Large rand Loss: 0.016457508261252723\n"
          ]
        },
        {
          "output_type": "stream",
          "name": "stderr",
          "text": [
            "100%|██████████| 938/938 [00:08<00:00, 112.92it/s]\n"
          ]
        },
        {
          "output_type": "stream",
          "name": "stdout",
          "text": [
            "Small Loss: 1.5216341294459443\n",
            "Large Loss: 1.502090196111309\n",
            "Large rand Loss: 0.015443416761460532\n"
          ]
        },
        {
          "output_type": "stream",
          "name": "stderr",
          "text": [
            "100%|██████████| 938/938 [00:08<00:00, 112.04it/s]\n"
          ]
        },
        {
          "output_type": "stream",
          "name": "stdout",
          "text": [
            "Small Loss: 1.5193161256531917\n",
            "Large Loss: 1.5024933999281194\n",
            "Large rand Loss: 0.011864078197188476\n"
          ]
        },
        {
          "output_type": "stream",
          "name": "stderr",
          "text": [
            "100%|██████████| 938/938 [00:08<00:00, 111.82it/s]\n"
          ]
        },
        {
          "output_type": "stream",
          "name": "stdout",
          "text": [
            "Small Loss: 1.5173364270216367\n",
            "Large Loss: 1.5015169778612376\n",
            "Large rand Loss: 0.010741357042551983\n"
          ]
        },
        {
          "output_type": "stream",
          "name": "stderr",
          "text": [
            "100%|██████████| 938/938 [00:08<00:00, 112.30it/s]\n"
          ]
        },
        {
          "output_type": "stream",
          "name": "stdout",
          "text": [
            "Small Loss: 1.5134732457620503\n",
            "Large Loss: 1.498717439708425\n",
            "Large rand Loss: 0.010315483939565365\n"
          ]
        },
        {
          "output_type": "stream",
          "name": "stderr",
          "text": [
            "100%|██████████| 938/938 [00:08<00:00, 108.16it/s]\n"
          ]
        },
        {
          "output_type": "stream",
          "name": "stdout",
          "text": [
            "Small Loss: 1.5122699449057264\n",
            "Large Loss: 1.5021047090162347\n",
            "Large rand Loss: 0.015890112402076315\n"
          ]
        },
        {
          "output_type": "stream",
          "name": "stderr",
          "text": [
            "100%|██████████| 938/938 [00:08<00:00, 112.92it/s]\n"
          ]
        },
        {
          "output_type": "stream",
          "name": "stdout",
          "text": [
            "Small Loss: 1.5085166531330996\n",
            "Large Loss: 1.5007452691541805\n",
            "Large rand Loss: 0.009468418729149391\n"
          ]
        },
        {
          "output_type": "stream",
          "name": "stderr",
          "text": [
            "100%|██████████| 938/938 [00:09<00:00, 102.74it/s]\n"
          ]
        },
        {
          "output_type": "stream",
          "name": "stdout",
          "text": [
            "Small Loss: 1.5090595992135087\n",
            "Large Loss: 1.5038123447249439\n",
            "Large rand Loss: 0.006630383717675091\n"
          ]
        },
        {
          "output_type": "stream",
          "name": "stderr",
          "text": [
            "100%|██████████| 938/938 [00:08<00:00, 113.08it/s]\n"
          ]
        },
        {
          "output_type": "stream",
          "name": "stdout",
          "text": [
            "Small Loss: 1.5105666265304662\n",
            "Large Loss: 1.5054048625136744\n",
            "Large rand Loss: 0.01347566428270519\n"
          ]
        },
        {
          "output_type": "stream",
          "name": "stderr",
          "text": [
            "100%|██████████| 938/938 [00:08<00:00, 108.41it/s]\n"
          ]
        },
        {
          "output_type": "stream",
          "name": "stdout",
          "text": [
            "Small Loss: 1.5074662226857916\n",
            "Large Loss: 1.5002093717995992\n",
            "Large rand Loss: 0.008654938476755402\n"
          ]
        },
        {
          "output_type": "stream",
          "name": "stderr",
          "text": [
            "100%|██████████| 938/938 [00:08<00:00, 110.46it/s]\n"
          ]
        },
        {
          "output_type": "stream",
          "name": "stdout",
          "text": [
            "Small Loss: 1.5062937400996812\n",
            "Large Loss: 1.5019375174792844\n",
            "Large rand Loss: 0.007005721067591235\n"
          ]
        },
        {
          "output_type": "stream",
          "name": "stderr",
          "text": [
            "100%|██████████| 938/938 [00:08<00:00, 109.32it/s]\n"
          ]
        },
        {
          "output_type": "stream",
          "name": "stdout",
          "text": [
            "Small Loss: 1.504217397048275\n",
            "Large Loss: 1.5024183799208863\n",
            "Large rand Loss: 0.01428751287953974\n"
          ]
        },
        {
          "output_type": "stream",
          "name": "stderr",
          "text": [
            "100%|██████████| 938/938 [00:08<00:00, 108.09it/s]\n"
          ]
        },
        {
          "output_type": "stream",
          "name": "stdout",
          "text": [
            "Small Loss: 1.502648291176062\n",
            "Large Loss: 1.4996217390113293\n",
            "Large rand Loss: 0.0059881025330806555\n"
          ]
        },
        {
          "output_type": "stream",
          "name": "stderr",
          "text": [
            "100%|██████████| 938/938 [00:08<00:00, 110.28it/s]\n"
          ]
        },
        {
          "output_type": "stream",
          "name": "stdout",
          "text": [
            "Small Loss: 1.5017117449978012\n",
            "Large Loss: 1.49940525443315\n",
            "Large rand Loss: 0.008466576564930633\n"
          ]
        },
        {
          "output_type": "stream",
          "name": "stderr",
          "text": [
            "100%|██████████| 938/938 [00:08<00:00, 113.15it/s]\n"
          ]
        },
        {
          "output_type": "stream",
          "name": "stdout",
          "text": [
            "Small Loss: 1.5021898718530944\n",
            "Large Loss: 1.5016760359694963\n",
            "Large rand Loss: 0.008152648799489924\n"
          ]
        },
        {
          "output_type": "stream",
          "name": "stderr",
          "text": [
            "100%|██████████| 938/938 [00:08<00:00, 107.08it/s]"
          ]
        },
        {
          "output_type": "stream",
          "name": "stdout",
          "text": [
            "Small Loss: 1.5037750409864414\n",
            "Large Loss: 1.5030982306262832\n",
            "Large rand Loss: 0.005500772107160898\n"
          ]
        },
        {
          "output_type": "stream",
          "name": "stderr",
          "text": [
            "\n"
          ]
        }
      ]
    },
    {
      "cell_type": "code",
      "source": [
        "W_0 = large_net.linear_0.weight\n",
        "b_0 = large_net.linear_0.bias\n",
        "\n",
        "W_1 = large_net.linear_1.weight\n",
        "b_1 = large_net.linear_1.bias"
      ],
      "metadata": {
        "id": "Geua4mZRsk7Q"
      },
      "execution_count": 17,
      "outputs": []
    },
    {
      "cell_type": "code",
      "source": [
        "print(\"W_0 => All weights equal for each hidden unit:\", (W_0[0, :].unsqueeze(0) == W_0).all().item())\n",
        "print(\"Example of weights:\")\n",
        "print(W_0[:, 256])"
      ],
      "metadata": {
        "colab": {
          "base_uri": "https://localhost:8080/"
        },
        "id": "1tAo4ONAssRD",
        "outputId": "86257bc5-4615-4b42-a8da-c57b5b1f4319"
      },
      "execution_count": 18,
      "outputs": [
        {
          "output_type": "stream",
          "name": "stdout",
          "text": [
            "W_0 => All weights equal for each hidden unit: True\n",
            "Example of weights:\n",
            "tensor([0.0145, 0.0145, 0.0145, 0.0145, 0.0145, 0.0145, 0.0145, 0.0145, 0.0145,\n",
            "        0.0145, 0.0145, 0.0145, 0.0145, 0.0145, 0.0145, 0.0145, 0.0145, 0.0145,\n",
            "        0.0145, 0.0145, 0.0145, 0.0145, 0.0145, 0.0145, 0.0145, 0.0145, 0.0145,\n",
            "        0.0145, 0.0145, 0.0145, 0.0145, 0.0145, 0.0145, 0.0145, 0.0145, 0.0145,\n",
            "        0.0145, 0.0145, 0.0145, 0.0145, 0.0145, 0.0145, 0.0145, 0.0145, 0.0145,\n",
            "        0.0145, 0.0145, 0.0145, 0.0145, 0.0145, 0.0145, 0.0145, 0.0145, 0.0145,\n",
            "        0.0145, 0.0145, 0.0145, 0.0145, 0.0145, 0.0145, 0.0145, 0.0145, 0.0145,\n",
            "        0.0145], grad_fn=<SelectBackward0>)\n"
          ]
        }
      ]
    },
    {
      "cell_type": "code",
      "source": [
        "print(\"W_1 => All weights equal for each hidden unit:\", (W_1[:, 0].unsqueeze(-1) == W_1).all().item())\n",
        "print(\"Weights:\")\n",
        "print(W_1[8])"
      ],
      "metadata": {
        "colab": {
          "base_uri": "https://localhost:8080/"
        },
        "id": "TBmUubD0sydJ",
        "outputId": "2f267aca-4f33-4c75-9b53-6326569305d3"
      },
      "execution_count": 19,
      "outputs": [
        {
          "output_type": "stream",
          "name": "stdout",
          "text": [
            "W_1 => All weights equal for each hidden unit: True\n",
            "Weights:\n",
            "tensor([-0.3257, -0.3257, -0.3257, -0.3257, -0.3257, -0.3257, -0.3257, -0.3257,\n",
            "        -0.3257, -0.3257, -0.3257, -0.3257, -0.3257, -0.3257, -0.3257, -0.3257,\n",
            "        -0.3257, -0.3257, -0.3257, -0.3257, -0.3257, -0.3257, -0.3257, -0.3257,\n",
            "        -0.3257, -0.3257, -0.3257, -0.3257, -0.3257, -0.3257, -0.3257, -0.3257,\n",
            "        -0.3257, -0.3257, -0.3257, -0.3257, -0.3257, -0.3257, -0.3257, -0.3257,\n",
            "        -0.3257, -0.3257, -0.3257, -0.3257, -0.3257, -0.3257, -0.3257, -0.3257,\n",
            "        -0.3257, -0.3257, -0.3257, -0.3257, -0.3257, -0.3257, -0.3257, -0.3257,\n",
            "        -0.3257, -0.3257, -0.3257, -0.3257, -0.3257, -0.3257, -0.3257, -0.3257],\n",
            "       grad_fn=<SelectBackward0>)\n"
          ]
        }
      ]
    },
    {
      "cell_type": "code",
      "source": [
        "print(\"b_0 => All biases equal for each hidden unit:\", (b_0[0] == b_0).all().item())\n",
        "print(\"Bias:\")\n",
        "print(b_0)"
      ],
      "metadata": {
        "colab": {
          "base_uri": "https://localhost:8080/"
        },
        "id": "LVfvhAQts1vQ",
        "outputId": "eb9063b1-16ea-470d-b328-5361b01dd2d9"
      },
      "execution_count": 20,
      "outputs": [
        {
          "output_type": "stream",
          "name": "stdout",
          "text": [
            "b_0 => All biases equal for each hidden unit: True\n",
            "Bias:\n",
            "Parameter containing:\n",
            "tensor([-1.5765, -1.5765, -1.5765, -1.5765, -1.5765, -1.5765, -1.5765, -1.5765,\n",
            "        -1.5765, -1.5765, -1.5765, -1.5765, -1.5765, -1.5765, -1.5765, -1.5765,\n",
            "        -1.5765, -1.5765, -1.5765, -1.5765, -1.5765, -1.5765, -1.5765, -1.5765,\n",
            "        -1.5765, -1.5765, -1.5765, -1.5765, -1.5765, -1.5765, -1.5765, -1.5765,\n",
            "        -1.5765, -1.5765, -1.5765, -1.5765, -1.5765, -1.5765, -1.5765, -1.5765,\n",
            "        -1.5765, -1.5765, -1.5765, -1.5765, -1.5765, -1.5765, -1.5765, -1.5765,\n",
            "        -1.5765, -1.5765, -1.5765, -1.5765, -1.5765, -1.5765, -1.5765, -1.5765,\n",
            "        -1.5765, -1.5765, -1.5765, -1.5765, -1.5765, -1.5765, -1.5765, -1.5765],\n",
            "       requires_grad=True)\n"
          ]
        }
      ]
    },
    {
      "cell_type": "code",
      "source": [
        "print(\"b_1 => All biases equal for each hidden unit:\", (b_1[0] == b_1).all().item())\n",
        "print(\"Bias:\")\n",
        "print(b_1)"
      ],
      "metadata": {
        "colab": {
          "base_uri": "https://localhost:8080/"
        },
        "id": "0C1rFDwls4GC",
        "outputId": "96d8761f-51e0-46a3-b121-b1d6b3a4acd0"
      },
      "execution_count": 21,
      "outputs": [
        {
          "output_type": "stream",
          "name": "stdout",
          "text": [
            "b_1 => All biases equal for each hidden unit: False\n",
            "Bias:\n",
            "Parameter containing:\n",
            "tensor([ 3.6995, -0.1075,  3.3954,  2.0007, -3.0125,  2.2500,  4.4907, -7.2679,\n",
            "         1.9604, -5.0010], requires_grad=True)\n"
          ]
        }
      ]
    },
    {
      "cell_type": "markdown",
      "source": [
        "### Tensor and Layer sizes\n",
        "Below is an implementation of the network from the section handout. We use `torchinfo-summary()` to view the size of the data as it flows through the network; additionally, we print and the size of the weights and biases of the layers during a forward pass. Note that this network is just for demonstration and may not work well in practice.\n",
        "\n"
      ],
      "metadata": {
        "id": "hHUtBLcRvKgi"
      }
    },
    {
      "cell_type": "code",
      "source": [
        "pip install torchinfo\n"
      ],
      "metadata": {
        "colab": {
          "base_uri": "https://localhost:8080/"
        },
        "id": "FPWDSMN8tPr7",
        "outputId": "f716b077-d415-443b-e257-c41db07c5623"
      },
      "execution_count": 23,
      "outputs": [
        {
          "output_type": "stream",
          "name": "stdout",
          "text": [
            "Looking in indexes: https://pypi.org/simple, https://us-python.pkg.dev/colab-wheels/public/simple/\n",
            "Collecting torchinfo\n",
            "  Downloading torchinfo-1.7.0-py3-none-any.whl (22 kB)\n",
            "Installing collected packages: torchinfo\n",
            "Successfully installed torchinfo-1.7.0\n"
          ]
        }
      ]
    },
    {
      "cell_type": "code",
      "source": [
        "from torchinfo import summary\n",
        "demo = MNISTNetwork(64)\n",
        "batch_size=data_loader.batch_size\n",
        "summary(demo)\n"
      ],
      "metadata": {
        "colab": {
          "base_uri": "https://localhost:8080/"
        },
        "id": "LLm4yd94tw6_",
        "outputId": "0200399b-cbd9-4806-d607-568804871a0f"
      },
      "execution_count": 28,
      "outputs": [
        {
          "output_type": "execute_result",
          "data": {
            "text/plain": [
              "=================================================================\n",
              "Layer (type:depth-idx)                   Param #\n",
              "=================================================================\n",
              "MNISTNetwork                             --\n",
              "├─Linear: 1-1                            50,240\n",
              "├─Linear: 1-2                            650\n",
              "=================================================================\n",
              "Total params: 50,890\n",
              "Trainable params: 50,890\n",
              "Non-trainable params: 0\n",
              "================================================================="
            ]
          },
          "metadata": {},
          "execution_count": 28
        }
      ]
    },
    {
      "cell_type": "code",
      "source": [
        "class DemoNetwork(nn.Module):\n",
        "    def __init__(self):\n",
        "        super().__init__()\n",
        "        \n",
        "        self.conv1 = nn.Conv2d(3, 16, 3, 1, 1)\n",
        "        self.max1 = nn.MaxPool2d(2, 2, 0)\n",
        "        self.conv2 = nn.Conv2d(16, 32, 3, 1, 0)\n",
        "        self.max2 = nn.MaxPool2d(2, 2, 1)\n",
        "        self.conv3 = nn.Conv2d(32, 8, 1, 1, 0)\n",
        "        self.conv4 = nn.Conv2d(8, 4, 5, 1, 0)\n",
        "        self.flatten = nn.Flatten()\n",
        "        self.linear1 = nn.Linear(576, 10)\n",
        "    \n",
        "    @property\n",
        "    def trainable_layers(self):\n",
        "        \"\"\"A utility property to easily access a list of all model layers.\"\"\"\n",
        "        return [self.conv1, self.conv2, self.conv3, self.conv4, self.linear1]\n",
        "        \n",
        "    def forward(self, inputs):\n",
        "        \"\"\"Implements the forward pass.\"\"\"\n",
        "        x = self.conv1(inputs)\n",
        "        x = self.max1(x)\n",
        "        x = self.conv2(x)\n",
        "        x = self.max2(x)\n",
        "        x = self.conv3(x)\n",
        "        x = self.conv4(x)\n",
        "        x = self.flatten(x)\n",
        "        x = self.linear1(x)\n",
        "        return x\n",
        "\n",
        "    def print_weight_shapes(self):\n",
        "        \"\"\"Utility function to print the shapes of weights in trainable layers.\"\"\"\n",
        "        for layer in self.trainable_layers:\n",
        "            print(f\"Weight shape: {layer.weight.shape}; Bias shape: {layer.bias.shape}\")\n",
        "\n",
        "demo = DemoNetwork()\n",
        "batch_size = 64\n",
        "summary(demo, input_size=(batch_size, 3, 64, 64))"
      ],
      "metadata": {
        "colab": {
          "base_uri": "https://localhost:8080/"
        },
        "id": "gcX8B85QvVjT",
        "outputId": "7810d44d-005d-407f-fcf7-bed26b8b886b"
      },
      "execution_count": 29,
      "outputs": [
        {
          "output_type": "execute_result",
          "data": {
            "text/plain": [
              "==========================================================================================\n",
              "Layer (type:depth-idx)                   Output Shape              Param #\n",
              "==========================================================================================\n",
              "DemoNetwork                              [64, 10]                  --\n",
              "├─Conv2d: 1-1                            [64, 16, 64, 64]          448\n",
              "├─MaxPool2d: 1-2                         [64, 16, 32, 32]          --\n",
              "├─Conv2d: 1-3                            [64, 32, 30, 30]          4,640\n",
              "├─MaxPool2d: 1-4                         [64, 32, 16, 16]          --\n",
              "├─Conv2d: 1-5                            [64, 8, 16, 16]           264\n",
              "├─Conv2d: 1-6                            [64, 4, 12, 12]           804\n",
              "├─Flatten: 1-7                           [64, 576]                 --\n",
              "├─Linear: 1-8                            [64, 10]                  5,770\n",
              "==========================================================================================\n",
              "Total params: 11,926\n",
              "Trainable params: 11,926\n",
              "Non-trainable params: 0\n",
              "Total mult-adds (M): 396.81\n",
              "==========================================================================================\n",
              "Input size (MB): 3.15\n",
              "Forward/backward pass size (MB): 49.65\n",
              "Params size (MB): 0.05\n",
              "Estimated Total Size (MB): 52.84\n",
              "=========================================================================================="
            ]
          },
          "metadata": {},
          "execution_count": 29
        }
      ]
    }
  ]
}