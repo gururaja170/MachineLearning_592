{
  "nbformat": 4,
  "nbformat_minor": 0,
  "metadata": {
    "colab": {
      "name": "PyTorch and MNIST.ipynb",
      "provenance": [],
      "collapsed_sections": [],
      "authorship_tag": "ABX9TyMZjlrP9BGRsVDgBfsFspwD",
      "include_colab_link": true
    },
    "kernelspec": {
      "name": "python3",
      "display_name": "Python 3"
    },
    "language_info": {
      "name": "python"
    }
  },
  "cells": [
    {
      "cell_type": "markdown",
      "metadata": {
        "id": "view-in-github",
        "colab_type": "text"
      },
      "source": [
        "<a href=\"https://colab.research.google.com/github/yexf308/MAT592/blob/main/Module3/PyTorch_and_MNIST.ipynb\" target=\"_parent\"><img src=\"https://colab.research.google.com/assets/colab-badge.svg\" alt=\"Open In Colab\"/></a>"
      ]
    },
    {
      "cell_type": "code",
      "execution_count": 2,
      "metadata": {
        "colab": {
          "base_uri": "https://localhost:8080/"
        },
        "id": "BIv2UY2F0kwe",
        "outputId": "97dc370b-1845-470d-b522-525ab692ca58"
      },
      "outputs": [
        {
          "output_type": "stream",
          "name": "stdout",
          "text": [
            "Populating the interactive namespace from numpy and matplotlib\n"
          ]
        }
      ],
      "source": [
        "%pylab inline \n",
        "import pandas as pd\n",
        "from scipy import linalg\n",
        "import scipy\n",
        "\n",
        "import torch\n",
        "import torch.nn as nn\n",
        "import torch.nn.functional as F"
      ]
    },
    {
      "cell_type": "markdown",
      "source": [
        "# Logistic regression in PyTorch\n"
      ],
      "metadata": {
        "id": "NeUVSsBf0um7"
      }
    },
    {
      "cell_type": "code",
      "source": [
        "from keras.datasets import mnist\n",
        "(train_X, train_y), (test_X, test_y) = mnist.load_data()"
      ],
      "metadata": {
        "colab": {
          "base_uri": "https://localhost:8080/"
        },
        "id": "BJ6YOH9m3YEf",
        "outputId": "dd852d27-8d08-48d3-c092-4d799b59c406"
      },
      "execution_count": 1,
      "outputs": [
        {
          "output_type": "stream",
          "name": "stdout",
          "text": [
            "Downloading data from https://storage.googleapis.com/tensorflow/tf-keras-datasets/mnist.npz\n",
            "11493376/11490434 [==============================] - 0s 0us/step\n",
            "11501568/11490434 [==============================] - 0s 0us/step\n"
          ]
        }
      ]
    },
    {
      "cell_type": "markdown",
      "source": [
        "### Binary Logistic Regression: 9 or not 9\n"
      ],
      "metadata": {
        "id": "k3vppzrT4yAw"
      }
    },
    {
      "cell_type": "code",
      "source": [
        "Xtr                   = train_X[0:6000, :]\n",
        "train_y_part          = train_y[0:6000]\n",
        "Ytr                   = zeros(train_y_part.size)\n",
        "Ytr[train_y_part==9]=1\n",
        "\n",
        "Xte                   = test_X[0:1000,:]\n",
        "test_y_part           = test_y[0:1000]\n",
        "Yte  = zeros(test_y_part.size)\n",
        "Yte[test_y_part==9]=1\n",
        "\n",
        "Xtr = torch.from_numpy(Xtr)\n",
        "Xte = torch.from_numpy(Xte)\n",
        "\n",
        "Xtrain = Xtr.view(-1, 28*28)/256\n",
        "Xtest  = Xte.view(-1, 28*28)/256\n",
        "\n",
        "Ytr = torch.from_numpy(Ytr)\n",
        "Yte = torch.from_numpy(Yte)"
      ],
      "metadata": {
        "id": "-yXfO6fb3rzh"
      },
      "execution_count": 18,
      "outputs": []
    },
    {
      "cell_type": "code",
      "source": [
        "#Feel free to play around with these :) \n",
        "\n",
        "batch_size = 100\n",
        "epochs = 10\n",
        "input_dim = 784\n",
        "output_dim = 1 #binary classification problem first \n",
        "lr_rate = 0.001\n",
        "\n",
        "#setting up our model - one way to set up models in PyTorch is with nn.Sequential \n",
        "\n",
        "binaryMNIST = nn.Sequential(\n",
        "    nn.Linear(784, 1), \n",
        "    nn.Sigmoid())\n"
      ],
      "metadata": {
        "id": "edKBXKV_5aoD"
      },
      "execution_count": 21,
      "outputs": []
    },
    {
      "cell_type": "code",
      "source": [
        "#We can look at the untrained weights in the model if we want:\n",
        "print('\\n\\nModel params:')\n",
        "for param in binaryMNIST.parameters():\n",
        "    print(param)"
      ],
      "metadata": {
        "id": "SxStiR8D7dUz"
      },
      "execution_count": null,
      "outputs": []
    },
    {
      "cell_type": "code",
      "source": [
        "\n",
        "#set up the loss - binary cross entropy is already implemented by Pytorch\n",
        "Loss = torch.nn.BCELoss()\n",
        "#using SGD - we have to tell it what we're going to be optimizing \n",
        "optimizer = torch.optim.SGD(binaryMNIST.parameters(), lr=lr_rate)\n",
        "\n",
        "arr = np.arange(Xtrain.shape[0])\n",
        "for epoch in range(int(epochs)):\n",
        "  np.random.shuffle(arr)\n",
        "  print(epoch)\n",
        "  for i in arr:\n",
        "    Xtrain_i = Xtrain[i]\n",
        "    output_i = binaryMNIST(Xtrain_i)\n",
        "    loss_i  = Loss(torch.squeeze(output_i), Ytr[0].to(torch.float32))\n",
        "    optimizer.zero_grad() #make sure to zero gradients out  \n",
        "    loss_i.backward()\n",
        "    optimizer.step()\n",
        "\n"
      ],
      "metadata": {
        "colab": {
          "base_uri": "https://localhost:8080/"
        },
        "id": "LsBKIB3G7jNB",
        "outputId": "d8ed329f-86d8-4c9f-8d9b-2ce756e5088d"
      },
      "execution_count": 54,
      "outputs": [
        {
          "output_type": "stream",
          "name": "stdout",
          "text": [
            "0\n",
            "1\n",
            "2\n",
            "3\n",
            "4\n",
            "5\n",
            "6\n",
            "7\n",
            "8\n",
            "9\n"
          ]
        }
      ]
    },
    {
      "cell_type": "code",
      "source": [
        "correct = 0\n",
        "for i in range(Xtest.shape[0]):\n",
        "  Xtest_i = Xtest[i]\n",
        "  outputs = binaryMNIST(Xtest_i)\n",
        "  correct += np.sum(torch.squeeze(outputs).round().detach().numpy() == Yte[i].detach().numpy())\n",
        "\n",
        "accuracy = 100 * correct/Xtest.shape[0]\n",
        "print(\"Epoch: {}. Train Loss: {}. Validation Accuracy: {}.\".format(epoch, loss_i.item(), accuracy))"
      ],
      "metadata": {
        "colab": {
          "base_uri": "https://localhost:8080/"
        },
        "id": "aywtWBADD66V",
        "outputId": "029a6d35-b1b1-40de-d7e4-fbab1236be8a"
      },
      "execution_count": 60,
      "outputs": [
        {
          "output_type": "stream",
          "name": "stdout",
          "text": [
            "Epoch: 9. Train Loss: 8.082716522039846e-05. Validation Accuracy: 90.6.\n"
          ]
        }
      ]
    },
    {
      "cell_type": "markdown",
      "source": [
        "# MULTICLASS LOGISTIC REGRESSION\n"
      ],
      "metadata": {
        "id": "dnhbgCO8HOPp"
      }
    }
  ]
}