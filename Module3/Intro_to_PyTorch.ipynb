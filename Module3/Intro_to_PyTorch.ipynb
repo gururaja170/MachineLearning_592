{
  "nbformat": 4,
  "nbformat_minor": 0,
  "metadata": {
    "colab": {
      "name": "Intro_to_PyTorch.ipynb",
      "provenance": [],
      "collapsed_sections": [],
      "authorship_tag": "ABX9TyN5jAHq5h273XOAlcRJl4Od",
      "include_colab_link": true
    },
    "kernelspec": {
      "name": "python3",
      "display_name": "Python 3"
    },
    "language_info": {
      "name": "python"
    }
  },
  "cells": [
    {
      "cell_type": "markdown",
      "metadata": {
        "id": "view-in-github",
        "colab_type": "text"
      },
      "source": [
        "<a href=\"https://colab.research.google.com/github/yexf308/MAT592/blob/main/Module3/Intro_to_PyTorch.ipynb\" target=\"_parent\"><img src=\"https://colab.research.google.com/assets/colab-badge.svg\" alt=\"Open In Colab\"/></a>"
      ]
    },
    {
      "cell_type": "code",
      "execution_count": 1,
      "metadata": {
        "colab": {
          "base_uri": "https://localhost:8080/"
        },
        "id": "FqikJhk83aW6",
        "outputId": "de263dec-347d-4b3b-915a-1958ee50851c"
      },
      "outputs": [
        {
          "output_type": "stream",
          "name": "stdout",
          "text": [
            "Populating the interactive namespace from numpy and matplotlib\n"
          ]
        }
      ],
      "source": [
        "%pylab inline \n",
        "import pandas as pd\n",
        "from scipy import linalg\n",
        "import scipy\n",
        "\n",
        "import torch\n",
        "import torch.nn as nn\n",
        "import torch.nn.functional as F"
      ]
    },
    {
      "cell_type": "code",
      "source": [
        "torch.manual_seed(123)\n",
        "np.random.seed(123)"
      ],
      "metadata": {
        "id": "d5I3ZLao3tkL"
      },
      "execution_count": 2,
      "outputs": []
    },
    {
      "cell_type": "markdown",
      "source": [
        "$\\def\\m#1{\\mathbf{#1}}$\n",
        "$\\def\\mm#1{\\boldsymbol{#1}}$\n",
        "$\\def\\mb#1{\\mathbb{#1}}$\n",
        "$\\def\\c#1{\\mathcal{#1}}$\n",
        "$\\def\\mr#1{\\mathrm{#1}}$\n",
        "$\\newenvironment{rmat}{\\left[\\begin{array}{rrrrrrrrrrrrr}}{\\end{array}\\right]}$\n",
        "$\\newcommand\\brm{\\begin{rmat}}$\n",
        "$\\newcommand\\erm{\\end{rmat}}$\n",
        "$\\newenvironment{cmat}{\\left[\\begin{array}{ccccccccc}}{\\end{array}\\right]}$\n",
        "$\\newcommand\\bcm{\\begin{cmat}}$\n",
        "$\\newcommand\\ecm{\\end{cmat}}$\n"
      ],
      "metadata": {
        "id": "sALgMI7TwYJp"
      }
    },
    {
      "cell_type": "markdown",
      "source": [
        "# Introduction to PyTorch\n",
        "We will be intoducing PyTorch, \"an open source deep learning platform that provides a seamless path from research prototyping to production deployment\".\n",
        "\n",
        "This notebook is by no means comprehensive. If you have any questions the documentation and Google are your friends.\n",
        "\n",
        "\n",
        "\n",
        "- Automatic differentiation is a powerful tool. \n",
        "- PyTorch implements common functions used in deep learning.\n",
        "\n",
        "## Introduction\n",
        "### 1. Tensors and relation to numpy\n",
        "By this point, we have worked with numpy quite a bit. PyTorch's basic building block, the `tensor` is similar to numpy's `ndarray`\n",
        "\n"
      ],
      "metadata": {
        "id": "rZiITD1g3xv5"
      }
    },
    {
      "cell_type": "code",
      "source": [
        "# we create tensors in a similar way to numpy nd arrays\n",
        "x_numpy = np.array([0.1, 0.2, 0.3])\n",
        "x_torch = torch.tensor([0.1, 0.2, 0.3])\n",
        "print('x_numpy, x_torch')\n",
        "print(f\"Numpy: {x_numpy}\")\n",
        "print(f\"Torch: {x_torch}\")\n",
        "print()\n",
        "\n",
        "# to and from numpy, pytorch\n",
        "print('to and from numpy and pytorch')\n",
        "print(f\"Numpy -> Torch: {torch.from_numpy(x_numpy)}\")\n",
        "print(f\"Torch -> Numpy: {x_torch.numpy()}\")\n",
        "print()\n",
        "\n",
        "# we can do basic operations like +-*/\n",
        "y_numpy = np.array([3,4,5.])\n",
        "y_torch = torch.tensor([3,4,5.])\n",
        "print(\"x+y\")\n",
        "print(f\"Numpy: {x_numpy + y_numpy}\")\n",
        "print(f\"Torch: {x_torch + y_torch}\")\n",
        "print()\n",
        "\n",
        "# many functions that are in numpy are also in pytorch\n",
        "print(\"norm\")\n",
        "print(f\"Numpy: {np.linalg.norm(x_numpy):.6g}\")\n",
        "print(f\"Torch: {torch.norm(x_torch):.6g}\")\n",
        "print()\n",
        "\n",
        "# to apply an operation along a dimension,\n",
        "# we use the dim keyword argument instead of axis\n",
        "x_numpy = np.array([[1,2],[3,4.]])\n",
        "x_torch = torch.tensor([[1,2],[3,4.]])\n",
        "print(\"mean along the 0th dimension\")\n",
        "print(f\"Numpy: {np.mean(x_numpy, axis=0)}\")\n",
        "print(f\"Torch: {torch.mean(x_torch, dim=0)}\")\n"
      ],
      "metadata": {
        "colab": {
          "base_uri": "https://localhost:8080/"
        },
        "id": "tx4uqqW28jvZ",
        "outputId": "9cb10e94-f98c-4510-af4d-fb5d1944112a"
      },
      "execution_count": 3,
      "outputs": [
        {
          "output_type": "stream",
          "name": "stdout",
          "text": [
            "x_numpy, x_torch\n",
            "Numpy: [0.1 0.2 0.3]\n",
            "Torch: tensor([0.1000, 0.2000, 0.3000])\n",
            "\n",
            "to and from numpy and pytorch\n",
            "Numpy -> Torch: tensor([0.1000, 0.2000, 0.3000], dtype=torch.float64)\n",
            "Torch -> Numpy: [0.1 0.2 0.3]\n",
            "\n",
            "x+y\n",
            "Numpy: [3.1 4.2 5.3]\n",
            "Torch: tensor([3.1000, 4.2000, 5.3000])\n",
            "\n",
            "norm\n",
            "Numpy: 0.374166\n",
            "Torch: 0.374166\n",
            "\n",
            "mean along the 0th dimension\n",
            "Numpy: [2. 3.]\n",
            "Torch: tensor([2., 3.])\n"
          ]
        }
      ]
    },
    {
      "cell_type": "markdown",
      "source": [
        "### 2. Reshape tensors\n",
        "We can use the `Tensor.view()` function to reshape tensors similarly to `numpy.reshape()`.\n",
        "\n",
        "**Change by reference**\n",
        "\n",
        "Note: A imporant difference between `view` and `reshape` is that `view` returns **reference** to the same tensor as the one passed in. This means that if we modify values in the output of view they will also change for its input. This can lead to some issues. \n",
        "\n",
        "Similarly to `reshape` it can also automatically calculate the correct dimension if a -1 is passed in. This is useful if we are working with batches, but the batch size is unknown.\n",
        "\n",
        "\n",
        "\n"
      ],
      "metadata": {
        "id": "-9EvJldCtHXk"
      }
    },
    {
      "cell_type": "code",
      "source": [
        "N, C, W, H = 10000, 3, 28, 28\n",
        "X = torch.randn((N, C, W, H))\n",
        "\n",
        "print(X.shape)\n",
        "print(X.view(N, C, 784).shape)\n",
        "print(X.view(-1, C, 784).shape) # automatically choose the 0th dimension\n",
        "\n",
        "# Alternatively you can use torch.reshape, though it's less commonly used\n",
        "print(torch.reshape(X, (-1, C, 784)).shape)"
      ],
      "metadata": {
        "colab": {
          "base_uri": "https://localhost:8080/"
        },
        "id": "7E1gL6w7t3BN",
        "outputId": "433d2e6a-0e29-4881-bf58-f3b3d85a8ec5"
      },
      "execution_count": 4,
      "outputs": [
        {
          "output_type": "stream",
          "name": "stdout",
          "text": [
            "torch.Size([10000, 3, 28, 28])\n",
            "torch.Size([10000, 3, 784])\n",
            "torch.Size([10000, 3, 784])\n",
            "torch.Size([10000, 3, 784])\n"
          ]
        }
      ]
    },
    {
      "cell_type": "code",
      "source": [
        "rand_tensor = torch.rand(4, 4)\n",
        "new_tensor = rand_tensor.view(1,16)\n",
        "\n",
        "print (rand_tensor)\n",
        "# Modifying view tensor changes base tensor as well.\n",
        "new_tensor[0][0] = -10\n",
        "print (rand_tensor)\n",
        "\n",
        "#Note they use the same data storage pointer \n",
        "print (rand_tensor.storage().data_ptr())\n",
        "print (new_tensor.storage().data_ptr())\n",
        "\n"
      ],
      "metadata": {
        "colab": {
          "base_uri": "https://localhost:8080/"
        },
        "id": "Z0YMjfp8D_51",
        "outputId": "5305fc64-9c69-4a2a-e2a0-91cc69871d92"
      },
      "execution_count": 33,
      "outputs": [
        {
          "output_type": "stream",
          "name": "stdout",
          "text": [
            "tensor([[0.1595, 0.0944, 0.6486, 0.6684],\n",
            "        [0.4630, 0.1783, 0.0708, 0.3777],\n",
            "        [0.0674, 0.1188, 0.3282, 0.8255],\n",
            "        [0.2444, 0.2128, 0.0044, 0.5862]])\n",
            "tensor([[-1.0000e+01,  9.4448e-02,  6.4863e-01,  6.6837e-01],\n",
            "        [ 4.6299e-01,  1.7829e-01,  7.0838e-02,  3.7770e-01],\n",
            "        [ 6.7388e-02,  1.1877e-01,  3.2817e-01,  8.2552e-01],\n",
            "        [ 2.4445e-01,  2.1284e-01,  4.4069e-03,  5.8620e-01]])\n",
            "121379712\n",
            "121379712\n"
          ]
        }
      ]
    },
    {
      "cell_type": "markdown",
      "source": [
        "### 3. PyTorch as an auto-grad framework\n",
        "Main benefit of PyTorch is that it keeps track of gradients for us, as we do the calculations. This is done through computation graphs. The example below shows how to use these gradients.\n",
        "\n",
        "Consider the function $f(x)=(x-2)^2$, we want to compute $f'(1)$. \n",
        "\n",
        "We make a `backward()` call on the leaf variable (`y`) in the computation, computing all the gradients of `y` at once.\n",
        "\n",
        "\n",
        "\n",
        "\n"
      ],
      "metadata": {
        "id": "NW_0j9p1uUea"
      }
    },
    {
      "cell_type": "code",
      "source": [
        "def f(x):\n",
        "    return (x-2)**2\n",
        "\n",
        "def fp(x):\n",
        "    return 2*(x-2)\n",
        "\n",
        "x = torch.tensor([1.0], requires_grad=True)\n",
        "\n",
        "y = f(x)\n",
        "y.backward()\n",
        "\n",
        "print('Analytical f\\'(x):', fp(x))\n",
        "print('Analytical f\\'(x):', fp(x).detach())\n",
        "print('PyTorch\\'s f\\'(x):', x.grad)"
      ],
      "metadata": {
        "colab": {
          "base_uri": "https://localhost:8080/"
        },
        "id": "kX2y92ezvN5N",
        "outputId": "d4946036-c9f3-4b37-b866-e1c6e81ca6f5"
      },
      "execution_count": 5,
      "outputs": [
        {
          "output_type": "stream",
          "name": "stdout",
          "text": [
            "Analytical f'(x): tensor([-2.], grad_fn=<MulBackward0>)\n",
            "Analytical f'(x): tensor([-2.])\n",
            "PyTorch's f'(x): tensor([-2.])\n"
          ]
        }
      ]
    },
    {
      "cell_type": "markdown",
      "source": [
        "It can also find gradients of functions.\n",
        "\n",
        "Let $\\m{w}=[w_1,w_2]$ and $g(\\m{w})= 2w_1w_2+w_2\\cos(w_1)$, \n",
        "compute $\\nabla_{\\m{w}}g([\\pi,1])$? "
      ],
      "metadata": {
        "id": "5W_rqc2pwTSc"
      }
    },
    {
      "cell_type": "code",
      "source": [
        "def g(w):\n",
        "    return 2*w[0]*w[1] + w[1]*torch.cos(w[0])\n",
        "\n",
        "def grad_g(w):\n",
        "    return torch.tensor([2*w[1] - w[1]*torch.sin(w[0]), 2*w[0] + torch.cos(w[0])])\n",
        "\n",
        "w = torch.tensor([np.pi, 1], requires_grad=True)\n",
        "\n",
        "z = g(w)\n",
        "z.backward()\n",
        "\n",
        "print('Analytical grad g(w)', grad_g(w))\n",
        "print('PyTorch\\'s grad g(w)', w.grad)"
      ],
      "metadata": {
        "colab": {
          "base_uri": "https://localhost:8080/"
        },
        "id": "ur00EHrkxOzo",
        "outputId": "b222868d-fc4c-43c7-9f6b-e76b81a44616"
      },
      "execution_count": 6,
      "outputs": [
        {
          "output_type": "stream",
          "name": "stdout",
          "text": [
            "Analytical grad g(w) tensor([2.0000, 5.2832])\n",
            "PyTorch's grad g(w) tensor([2.0000, 5.2832])\n"
          ]
        }
      ]
    },
    {
      "cell_type": "markdown",
      "source": [
        "## Example 1: Linear regression using gradient descent with PyTorch\n",
        "Now that we have gradients, we can use our favorite optimization algorithm: gradient descent!\n",
        "\n",
        "Note: This example is an illustration to connect ideas we have seen before to PyTorch's way of doing things. We will see how to do this in the \"PyTorch\" way in the next example.\n",
        "\n",
        "But first lets generate synthetic data to solve on our problem.\n"
      ],
      "metadata": {
        "id": "sJ868YqHxdSI"
      }
    },
    {
      "cell_type": "code",
      "source": [
        "# make a simple linear dataset with some noise\n",
        "d = 2\n",
        "n = 50\n",
        "\n",
        "X = torch.randn(n,d)\n",
        "true_w = torch.tensor([[-1.0], [2.0]])\n",
        "y = X @ true_w + torch.randn(n,1) * 0.1\n",
        "print('X shape', X.shape)\n",
        "print('y shape', y.shape)\n",
        "print('w shape', true_w.shape)"
      ],
      "metadata": {
        "colab": {
          "base_uri": "https://localhost:8080/"
        },
        "id": "Rbw3TCw5xr08",
        "outputId": "4838a364-5404-4005-bba9-f3f57cf17c88"
      },
      "execution_count": 28,
      "outputs": [
        {
          "output_type": "stream",
          "name": "stdout",
          "text": [
            "X shape torch.Size([50, 2])\n",
            "y shape torch.Size([50, 1])\n",
            "w shape torch.Size([2, 1])\n"
          ]
        }
      ]
    },
    {
      "cell_type": "markdown",
      "source": [
        "We will also define a helper function to visualize result's of what $\\hat{\\m{w}}$ we have learned."
      ],
      "metadata": {
        "id": "veB5C9MFyHrS"
      }
    },
    {
      "cell_type": "code",
      "source": [
        "def visualize_fun(w, title, num_pts=20):\n",
        "    \n",
        "    x1, x2 = np.meshgrid(np.linspace(-2,2, num_pts), np.linspace(-2,2, num_pts))\n",
        "    X_plane = torch.tensor(np.stack([np.reshape(x1, (num_pts**2)), np.reshape(x2, (num_pts**2))], axis=1)).float()\n",
        "    y_plane = np.reshape((X_plane @ w).detach().numpy(), (num_pts, num_pts))\n",
        "    \n",
        "    plt3d = plt.figure().gca(projection='3d')\n",
        "    plt3d.plot_surface(x1, x2, y_plane, alpha=0.2)\n",
        "\n",
        "    ax = plt.gca()\n",
        "    ax.scatter(X[:,0].numpy(), X[:,1].numpy(), y.numpy(), c='r', marker='o')\n",
        "\n",
        "    ax.set_xlabel('$X_1$')\n",
        "    ax.set_ylabel('$X_2$')\n",
        "    ax.set_zlabel('$Y$')\n",
        "    \n",
        "    plt.title(title)\n",
        "    plt.show()"
      ],
      "metadata": {
        "id": "FosY29W4ymFZ"
      },
      "execution_count": 8,
      "outputs": []
    },
    {
      "cell_type": "code",
      "source": [
        "visualize_fun(true_w, 'Dataset and true $w$')"
      ],
      "metadata": {
        "colab": {
          "base_uri": "https://localhost:8080/",
          "height": 248
        },
        "id": "rYg5ymK4y1AG",
        "outputId": "cb2096b2-dcda-4766-aa31-4f52ab3d997d"
      },
      "execution_count": 9,
      "outputs": [
        {
          "output_type": "display_data",
          "data": {
            "text/plain": [
              "<Figure size 432x288 with 1 Axes>"
            ],
            "image/png": "[encoded data removed]"
          },
          "metadata": {
            "needs_background": "light"
          }
        }
      ]
    },
    {
      "cell_type": "markdown",
      "source": [
        "### Algorithm for Linear regression using GD with automatically computed derivatives\n",
        "**Note:** This example is an illustration to connect ideas we have seen before to PyTorch's way of doing things. We will see how to do this in the \"PyTorch\" way in the next example.\n",
        "\n"
      ],
      "metadata": {
        "id": "dbUL8VsnzORS"
      }
    },
    {
      "cell_type": "code",
      "source": [
        "# define a linear model with no bias\n",
        "def model(X, w):\n",
        "    return X @ w\n",
        "\n",
        "# the residual sum of squares loss function\n",
        "def rss(y, y_hat):\n",
        "    return torch.norm(y - y_hat)**2 / n\n",
        "\n",
        "# Define hyperparameters\n",
        "step_size = 0.1\n",
        "\n",
        "# And starting w\n",
        "w = torch.tensor([[1.], [0]], requires_grad=True)\n",
        "\n",
        "zeroed_weights = []\n",
        "zeroed_loss = []\n",
        "\n",
        "print('iter,\\tloss,\\tw')\n",
        "for i in range(20):\n",
        "    y_hat = model(X, w)\n",
        "    loss = rss(y, y_hat)\n",
        "    \n",
        "    loss.backward() # compute the gradient of the loss\n",
        "    \n",
        "    w.data = w.data - step_size * w.grad # do a gradient descent step\n",
        "    \n",
        "    print('{},\\t{:.2f},\\t{}'.format(i, loss.item(), w.view(2).detach().numpy()))\n",
        "    \n",
        "    zeroed_loss.append(loss.item())\n",
        "    zeroed_weights.append(w.view(2).detach().numpy()) #track these for graphing \n",
        "    \n",
        "    # We need to zero the grad variable since the backward()\n",
        "    # call accumulates the gradients in .grad instead of overwriting.\n",
        "    # The detach_() is for efficiency. You do not need to worry too much about it.\n",
        "    w.grad.detach()\n",
        "    w.grad.zero_()\n",
        "\n",
        "print('\\ntrue w\\t\\t', true_w.view(2).numpy())\n",
        "print('estimated w\\t', w.view(2).detach().numpy())"
      ],
      "metadata": {
        "colab": {
          "base_uri": "https://localhost:8080/"
        },
        "id": "xuDPu31azcLo",
        "outputId": "468272a2-28e4-43f9-ad2a-29dcbd35436b"
      },
      "execution_count": 29,
      "outputs": [
        {
          "output_type": "stream",
          "name": "stdout",
          "text": [
            "iter,\tloss,\tw\n",
            "0,\t8.00,\t[0.54773855 0.34919545]\n",
            "1,\t5.08,\t[0.19440332 0.63384193]\n",
            "2,\t3.23,\t[-0.08130664  0.8663093 ]\n",
            "3,\t2.06,\t[-0.2961492  1.0565296]\n",
            "4,\t1.32,\t[-0.4633026  1.2124883]\n",
            "5,\t0.85,\t[-0.59312505  1.3406131 ]\n",
            "6,\t0.55,\t[-0.6937539  1.4460858]\n",
            "7,\t0.36,\t[-0.7715781  1.5330895]\n",
            "8,\t0.24,\t[-0.8316104  1.6050065]\n",
            "9,\t0.16,\t[-0.8777811  1.6645753]\n",
            "10,\t0.11,\t[-0.91316926  1.714018  ]\n",
            "11,\t0.07,\t[-0.94018483  1.7551396 ]\n",
            "12,\t0.05,\t[-0.96071225  1.7894095 ]\n",
            "13,\t0.04,\t[-0.97622335  1.8180262 ]\n",
            "14,\t0.03,\t[-0.9878662  1.8419688]\n",
            "15,\t0.02,\t[-0.9965352  1.8620387]\n",
            "16,\t0.02,\t[-1.0029259  1.8788937]\n",
            "17,\t0.01,\t[-1.0075781  1.8930742]\n",
            "18,\t0.01,\t[-1.0109103  1.905025 ]\n",
            "19,\t0.01,\t[-1.0132456  1.9151138]\n",
            "\n",
            "true w\t\t [-1.  2.]\n",
            "estimated w\t [-1.0132456  1.9151138]\n"
          ]
        }
      ]
    },
    {
      "cell_type": "markdown",
      "source": [
        "### Things to avoid when using pytorch\n",
        "**A tutorial that doesn't tell you how to do something wrong is no fun, so let's break pytorch**\n",
        "\n",
        "**Why zero the grad?  What happens if we don't?**\n",
        "\n",
        "We have to zero the gradient so it does not accumulate over time.  Below is an example of what happens to the weights in the linear regression with SGD example we saw previously if we don't zero them out. "
      ],
      "metadata": {
        "id": "aZFissS7DRAK"
      }
    },
    {
      "cell_type": "code",
      "source": [
        "w = torch.tensor([[1.], [0]], requires_grad=True)\n",
        "\n",
        "nonzeroed_weights = []\n",
        "nonzeroed_loss = []\n",
        "\n",
        "for i in range(20):\n",
        "    y_hat = model(X, w)\n",
        "    loss = rss(y, y_hat)\n",
        "    \n",
        "    loss.backward() # compute the gradient of the loss\n",
        "    \n",
        "    w.data = w.data - step_size * w.grad # do a gradient descent step\n",
        "    \n",
        "    nonzeroed_loss.append(loss.item())\n",
        "    nonzeroed_weights.append(w.view(2).detach().numpy()) #track these for graphing \n",
        "    \n",
        "    # We need to zero the grad variable since the backward()\n",
        "    # call accumulates the gradients in .grad instead of overwriting.\n",
        "    # The detach_() is for efficiency. You do not need to worry too much about it.\n",
        "    #w.grad.detach()\n",
        "    #w.grad.zero_()\n",
        "\n",
        "print('\\ntrue w\\t\\t', true_w.view(2).numpy())\n",
        "print('estimated w\\t', w.view(2).detach().numpy())"
      ],
      "metadata": {
        "colab": {
          "base_uri": "https://localhost:8080/"
        },
        "id": "ClgwzRv6DoHz",
        "outputId": "239638cd-ab39-4652-b3d5-06d6d4301fb9"
      },
      "execution_count": 31,
      "outputs": [
        {
          "output_type": "stream",
          "name": "stdout",
          "text": [
            "\n",
            "true w\t\t [-1.  2.]\n",
            "estimated w\t [-3.6005628  2.863611 ]\n"
          ]
        }
      ]
    },
    {
      "cell_type": "code",
      "source": [
        "#plot loss first \n",
        "\n",
        "plt.plot(np.arange(20), zeroed_loss, label = 'Loss with zeroing grad', color = 'purple')\n",
        "plt.plot(np.arange(20), nonzeroed_loss, label = 'Loss without zeroing grad', color = 'gold')\n",
        "plt.legend()\n",
        "plt.xlabel(\"Iter\")\n",
        "plt.ylabel(\"Loss\")\n",
        "plt.show()\n",
        "\n",
        "#what happens to the weights? \n",
        "#weight 0 \n",
        "plt.plot([0,20], [true_w.view(2).numpy()[0]]*2, linestyle = '--', color = 'red', label = 'True w_0')\n",
        "plt.plot(np.arange(20), np.vstack(zeroed_weights)[:,0], label = 'w_0 with zeroing grad', color = 'purple')\n",
        "plt.plot(np.arange(20), np.vstack(nonzeroed_weights)[:,0], label = 'w_0 without zeroing grad', color = 'gold')\n",
        "plt.legend()\n",
        "plt.show()\n",
        "\n",
        "#weight 1\n",
        "plt.plot([0,20], [true_w.view(2).numpy()[1]]*2, linestyle = '--', color = 'red', label = 'True w_1')\n",
        "plt.plot(np.arange(20), np.vstack(zeroed_weights)[:,1], label = 'w_1 with zeroing grad', color = 'purple')\n",
        "plt.plot(np.arange(20), np.vstack(nonzeroed_weights)[:,1], label = 'w_1 without zeroing grad', color = 'gold')\n",
        "plt.legend()\n",
        "plt.show()\n"
      ],
      "metadata": {
        "colab": {
          "base_uri": "https://localhost:8080/",
          "height": 777
        },
        "id": "7oRIAg7mDqiK",
        "outputId": "05a1f0a5-2858-447c-8062-6deedfdfd9df"
      },
      "execution_count": 32,
      "outputs": [
        {
          "output_type": "display_data",
          "data": {
            "text/plain": [
              "<Figure size 432x288 with 1 Axes>"
            ],
            "image/png": "[encoded data removed]"
          },
          "metadata": {
            "needs_background": "light"
          }
        },
        {
          "output_type": "display_data",
          "data": {
            "text/plain": [
              "<Figure size 432x288 with 1 Axes>"
            ],
            "image/png": "[encoded data removed]"
          },
          "metadata": {
            "needs_background": "light"
          }
        },
        {
          "output_type": "display_data",
          "data": {
            "text/plain": [
              "<Figure size 432x288 with 1 Axes>"
            ],
            "image/png": "[encoded data removed]"
          },
          "metadata": {
            "needs_background": "light"
          }
        }
      ]
    },
    {
      "cell_type": "markdown",
      "source": [
        "## torch.nn.Module\n",
        "\n",
        "`Module` is PyTorch's way of performing operations on tensors. Modules are implemented as subclasses of the `torch.nn.Module` class. All modules are callable and can be composed together to create complex functions.\n",
        "\n",
        "\n",
        "Note: most of the functionality implemented for modules can be accessed in a functional form via `torch.nn.functional`, but these require you to create and manage the weight tensors yourself. \n",
        "\n",
        "### Linear Module\n",
        "The bread and butter of modules is the Linear module which does a linear transformation with a bias. It takes the input and output dimensions as parameters, and creates the weights in the object. It is just a matrix multiplication and addition of bias:\n",
        "\\begin{align}\n",
        "f(\\m{X})=\\m{X}\\m{W}+\\m{b}\n",
        "\\end{align}\n",
        "where $\\m{X}\\in \\mb{R}^{N\\times d}$, $\\m{W}\\in \\mb{R}^{d\\times h}$ and $\\m{b}\\in \\mb{R}^h$.\n",
        "\n",
        "Unlike how we initialized our $\\m{w}$\n",
        " manually, the Linear module automatically initializes the weights randomly. For minimizing non convex loss functions (e.g. training neural networks), initialization is important and can affect results. If training isn't working as well as expected, one thing to try is manually initializing the weights to something different from the default. PyTorch implements some common initializations in `torch.nn.init`. \n",
        "\n",
        " \n",
        "\n",
        "\n",
        "\n"
      ],
      "metadata": {
        "id": "HtytAbkz0c_4"
      }
    },
    {
      "cell_type": "code",
      "source": [
        "d_in = 3\n",
        "d_out = 4\n",
        "linear_module = nn.Linear(d_in, d_out)\n",
        "\n",
        "example_tensor = torch.tensor([[1.,2,3], [4,5,6]])\n",
        "# applys a linear transformation to the data\n",
        "transformed = linear_module(example_tensor)\n",
        "print('example_tensor', example_tensor.shape)\n",
        "print('transformed', transformed.shape)\n",
        "print()\n",
        "print('We can see that the weights exist in the background\\n')\n",
        "print('W:', linear_module.weight.detach())\n",
        "print('b:', linear_module.bias.detach())"
      ],
      "metadata": {
        "colab": {
          "base_uri": "https://localhost:8080/"
        },
        "id": "kOp1gFsS3Wlg",
        "outputId": "40d32f57-2d45-4b11-e955-5a5ed7b59f76"
      },
      "execution_count": 11,
      "outputs": [
        {
          "output_type": "stream",
          "name": "stdout",
          "text": [
            "example_tensor torch.Size([2, 3])\n",
            "transformed torch.Size([2, 4])\n",
            "\n",
            "We can see that the weights exist in the background\n",
            "\n",
            "W: tensor([[ 0.3918,  0.2644,  0.1949],\n",
            "        [-0.3701,  0.2450, -0.2227],\n",
            "        [ 0.3639, -0.1341, -0.2067],\n",
            "        [-0.0110,  0.2018,  0.3380]])\n",
            "b: tensor([ 0.5676, -0.2454,  0.0708, -0.4980])\n"
          ]
        }
      ]
    },
    {
      "cell_type": "markdown",
      "source": [
        "### Activation functions\n",
        "PyTorch implements a number of activation functions including but not limited to `ReLU`, `Tanh`, and `Sigmoid`. Since they are modules, they need to be instantiated.\n",
        "\n",
        "\n"
      ],
      "metadata": {
        "id": "2Uy7hVpN3w90"
      }
    },
    {
      "cell_type": "code",
      "source": [
        "activation_fn = nn.ReLU() # we instantiate an instance of the ReLU module\n",
        "example_tensor = torch.tensor([-1.0, 1.0, 0.0])\n",
        "activated = activation_fn(example_tensor)\n",
        "print('example_tensor', example_tensor)\n",
        "print('activated', activated)\n"
      ],
      "metadata": {
        "colab": {
          "base_uri": "https://localhost:8080/"
        },
        "id": "cyEiVVVw4SIN",
        "outputId": "ae4d0097-ad27-4447-9c7e-cab7413fffe3"
      },
      "execution_count": 12,
      "outputs": [
        {
          "output_type": "stream",
          "name": "stdout",
          "text": [
            "example_tensor tensor([-1.,  1.,  0.])\n",
            "activated tensor([0., 1., 0.])\n"
          ]
        }
      ]
    },
    {
      "cell_type": "markdown",
      "source": [
        "### Sequential \n",
        "Many times, we want to compose Modules together. `torch.nn.Sequential` provides a good interface for composing simple modules.\n",
        "\n"
      ],
      "metadata": {
        "id": "F_gOir-A5UZI"
      }
    },
    {
      "cell_type": "code",
      "source": [
        "d_in = 3\n",
        "d_hidden = 4\n",
        "d_out = 1\n",
        "model = torch.nn.Sequential(\n",
        "    nn.Linear(d_in, d_hidden),\n",
        "    nn.Tanh(),\n",
        "    nn.Linear(d_hidden, d_out),\n",
        "    nn.Sigmoid()\n",
        ")\n",
        "\n",
        "example_tensor = torch.tensor([[1.,2,3],[4,5,6]])\n",
        "transformed = model(example_tensor)\n",
        "print('transformed', transformed.shape)"
      ],
      "metadata": {
        "colab": {
          "base_uri": "https://localhost:8080/"
        },
        "id": "2hmfFfSp5gSV",
        "outputId": "a89e98b2-1ada-45ef-996c-e65d5234379b"
      },
      "execution_count": 13,
      "outputs": [
        {
          "output_type": "stream",
          "name": "stdout",
          "text": [
            "transformed torch.Size([2, 1])\n"
          ]
        }
      ]
    },
    {
      "cell_type": "markdown",
      "source": [
        "Note: we can access all of the parameters (of any `nn.Module`) with the `parameters()` method.\n",
        "\n"
      ],
      "metadata": {
        "id": "laxoROiW5wc9"
      }
    },
    {
      "cell_type": "code",
      "source": [
        "params = model.parameters()\n",
        "\n",
        "for param in params:\n",
        "    print(param.detach())\n"
      ],
      "metadata": {
        "colab": {
          "base_uri": "https://localhost:8080/"
        },
        "id": "2AF7XgVq51zL",
        "outputId": "ae92a8ec-2ef9-4593-bcc6-87adfa1d7bfc"
      },
      "execution_count": 14,
      "outputs": [
        {
          "output_type": "stream",
          "name": "stdout",
          "text": [
            "tensor([[ 0.4467,  0.1278,  0.4927],\n",
            "        [-0.2266,  0.2621, -0.0352],\n",
            "        [ 0.2423, -0.4031,  0.4378],\n",
            "        [-0.2061,  0.5175, -0.3973]])\n",
            "tensor([-0.0227,  0.1744, -0.0513, -0.1545])\n",
            "tensor([[ 0.3247, -0.4757,  0.0047, -0.3389]])\n",
            "tensor([-0.2276])\n"
          ]
        }
      ]
    },
    {
      "cell_type": "markdown",
      "source": [
        "### Loss functions\n",
        "PyTorch implements many common loss functions including `MSELoss` and `CrossEntropyLoss`.\n",
        "\n",
        "PyTorch implements a version of the cross entropy loss in one module called `CrossEntropyLoss`. Its usage is slightly different than MSE, so we will break it down here.\n",
        "\n",
        "- input: The first parameter to CrossEntropyLoss is the output of our network. It expects a real valued tensor of dimensions $(N,C)$ where $N$ is the minibatch size and $C$ is the number of classes. In our case $N=3$ and $C=2$. The values along the second dimension correspond to raw unnormalized scores for each class. The CrossEntropyLoss module does the softmax calculation for us, so we do not need to apply our own softmax to the output of our neural network.\n",
        "\n",
        "- output: The second parameter to CrossEntropyLoss is the true label. It expects an integer valued tensor of dimension $(N)$. The integer at each element corresponds to the correct class. In our case, the \"correct\" class labels are class 0, class 1, and class 1.\n",
        "Try out the loss function on three toy predictions. The true class labels are $y=[1,1,0]$. The first two examples correspond to predictions that are \"correct\" in that they have higher raw scores for the correct class. The second exam\n",
        "\n",
        "\n"
      ],
      "metadata": {
        "id": "TOJzIZ1ePH3s"
      }
    },
    {
      "cell_type": "code",
      "source": [
        "mse_loss_fn = nn.MSELoss()\n",
        "CE_loss_fn  = nn.CrossEntropyLoss()\n",
        "input = torch.tensor([[0.8, 0.1, -0.4]])\n",
        "target = torch.tensor([[1., 0, -1]])\n",
        "\n",
        "mse_loss = mse_loss_fn(input, target)\n",
        "CE_loss  = CE_loss_fn(input,target)\n",
        "\n",
        "print(mse_loss)\n",
        "print(CE_loss)\n",
        "\n"
      ],
      "metadata": {
        "colab": {
          "base_uri": "https://localhost:8080/"
        },
        "id": "OMQ5GDjvPXFX",
        "outputId": "a8119bef-6601-4459-f430-36a60e40a472"
      },
      "execution_count": 15,
      "outputs": [
        {
          "output_type": "stream",
          "name": "stdout",
          "text": [
            "tensor(0.1367)\n",
            "tensor(-1.2000)\n"
          ]
        }
      ]
    },
    {
      "cell_type": "code",
      "source": [
        "#input = torch.tensor([[-1., 1],[-1, 1],[1, -1]]) # raw scores correspond to the correct class\n",
        "input = torch.tensor([[-3., 3],[-3, 3],[3, -3]]) # raw scores correspond to the correct class with higher confidence\n",
        "# input = torch.tensor([[1., -1],[1, -1],[-1, 1]]) # raw scores correspond to the incorrect class\n",
        "# input = torch.tensor([[3., -3],[3, -3],[-3, 3]]) # raw scores correspond to the incorrect class with incorrectly placed confidence\n",
        "\n",
        "target = torch.tensor([1, 1, 0])\n",
        "output = CE_loss_fn(input, target)\n",
        "print(output)"
      ],
      "metadata": {
        "colab": {
          "base_uri": "https://localhost:8080/"
        },
        "id": "n6Rd-N6RZhli",
        "outputId": "0e367bde-6891-4f8f-cd9a-9e51e997698b"
      },
      "execution_count": 16,
      "outputs": [
        {
          "output_type": "stream",
          "name": "stdout",
          "text": [
            "tensor(0.0025)\n"
          ]
        }
      ]
    },
    {
      "cell_type": "markdown",
      "source": [
        "## torch.optim\n",
        "PyTorch implements a number of gradient-based optimization methods in `torch.optim`, including Gradient Descent. At the minimum, it takes in the model parameters and a learning rate.\n",
        "\n",
        "Optimizers do not compute the gradients for you, so you must call `backward()` yourself. You also must call the `optim.zero_grad()` function before calling `backward()` since by default PyTorch does and inplace add to the `.grad` member variable rather than overwriting it.\n",
        "\n",
        "This does both the `detach_()` and `zero_()` calls on all tensor's grad variables."
      ],
      "metadata": {
        "id": "CILZ1NguQHmD"
      }
    },
    {
      "cell_type": "code",
      "source": [
        "# create a simple model\n",
        "model = nn.Linear(1, 1, bias=True)\n",
        "\n",
        "\n",
        "# create a simple dataset\n",
        "x = torch.randn([n,1])\n",
        "X = torch.cat((torch.ones([n,1]), x),1)\n",
        "true_w = torch.tensor([[-1.0], [2.0]])\n",
        "y = X @ true_w + torch.randn(n,1) * 0.1\n",
        "# create our optimizer\n",
        "optim = torch.optim.SGD(model.parameters(), lr=1e-2)\n",
        "mse_loss_fn = nn.MSELoss()\n",
        "\n",
        "y_hat = model(x)\n",
        "print('model params before:', model.weight.detach())\n",
        "print('bias params before:', model.bias.detach())\n",
        "loss = mse_loss_fn(y_hat, y)\n",
        "optim.zero_grad()\n",
        "loss.backward()\n",
        "optim.step()\n",
        "print('model params after:', model.weight.detach())\n",
        "print('bias params after:', model.bias.detach())\n"
      ],
      "metadata": {
        "colab": {
          "base_uri": "https://localhost:8080/"
        },
        "id": "odfn7_j1RGMR",
        "outputId": "7d336426-eca3-4623-bec4-bfa5392dd82f"
      },
      "execution_count": 26,
      "outputs": [
        {
          "output_type": "stream",
          "name": "stdout",
          "text": [
            "model params before: tensor([[0.2374]])\n",
            "bias params before: tensor([-0.5227])\n",
            "model params after: tensor([[0.2659]])\n",
            "bias params after: tensor([-0.5342])\n"
          ]
        }
      ]
    },
    {
      "cell_type": "markdown",
      "source": [
        "As we can see, the parameter was updated in the correct direction\n",
        "\n",
        "## Example 2: Linear regression using GD with torch.nn module\n",
        "Now let's combine what we've learned to solve linear regression in a \"PyTorch\" way.\n",
        "\n"
      ],
      "metadata": {
        "id": "Z_Prj_Mnp56a"
      }
    },
    {
      "cell_type": "code",
      "source": [
        "model = nn.Linear(1, 1, bias=True)\n",
        "mse_loss_fn = nn.MSELoss()\n",
        "optim = torch.optim.SGD(model.parameters(), lr=0.1)\n",
        "\n",
        "print('iter,\\tloss,\\tw,\\t\\tbias')\n",
        "\n",
        "zeroed_weights = []\n",
        "zeroed_bias = []\n",
        "zeroed_loss = []\n",
        "\n",
        "for i in range(25):\n",
        "    y_hat = model(x)\n",
        "    loss = mse_loss_fn(y_hat, y)\n",
        "\n",
        "    optim.zero_grad()\n",
        "    loss.backward()\n",
        "    optim.step()\n",
        "\n",
        "    zeroed_loss.append(loss.item())\n",
        "    zeroed_weights.append(model.weight.detach().numpy()) #track these for graphing \n",
        "    zeroed_bias.append(model.bias.detach().numpy())\n",
        "\n",
        "    print('{},\\t{:.2f},\\t{},\\t{}'.format(i, loss.item(), model.weight.detach().numpy(), model.bias.detach().numpy() ))\n",
        "\n",
        "\n",
        "print('\\ntrue bias and w \\t\\t', true_w.view(2).numpy())\n",
        "print('estimated weight and bias\\t', model.weight.detach().numpy(),  model.bias.detach().numpy())"
      ],
      "metadata": {
        "colab": {
          "base_uri": "https://localhost:8080/"
        },
        "id": "cbCL54Ivt3os",
        "outputId": "b99c78b9-6b5c-498f-9e20-af1e3705a4a1"
      },
      "execution_count": 27,
      "outputs": [
        {
          "output_type": "stream",
          "name": "stdout",
          "text": [
            "iter,\tloss,\tw,\t\tbias\n",
            "0,\t2.59,\t[[0.648092]],\t[-0.5147025]\n",
            "1,\t1.77,\t[[0.8679258]],\t[-0.6268537]\n",
            "2,\t1.21,\t[[1.0516515]],\t[-0.7139451]\n",
            "3,\t0.83,\t[[1.2052791]],\t[-0.7814206]\n",
            "4,\t0.58,\t[[1.3338033]],\t[-0.8335633]\n",
            "5,\t0.40,\t[[1.4413776]],\t[-0.8737402]\n",
            "6,\t0.28,\t[[1.5314584]],\t[-0.9045949]\n",
            "7,\t0.20,\t[[1.6069238]],\t[-0.92820114]\n",
            "8,\t0.14,\t[[1.670172]],\t[-0.94618344]\n",
            "9,\t0.10,\t[[1.7232023]],\t[-0.95981276]\n",
            "10,\t0.07,\t[[1.7676829]],\t[-0.97008187]\n",
            "11,\t0.05,\t[[1.805006]],\t[-0.97776514]\n",
            "12,\t0.04,\t[[1.8363345]],\t[-0.9834653]\n",
            "13,\t0.03,\t[[1.8626401]],\t[-0.9876507]\n",
            "14,\t0.03,\t[[1.8847356]],\t[-0.99068433]\n",
            "15,\t0.02,\t[[1.9033003]],\t[-0.99284697]\n",
            "16,\t0.02,\t[[1.9189031]],\t[-0.994355]\n",
            "17,\t0.02,\t[[1.9320203]],\t[-0.9953748]\n",
            "18,\t0.01,\t[[1.9430509]],\t[-0.9960337]\n",
            "19,\t0.01,\t[[1.952329]],\t[-0.9964289]\n",
            "20,\t0.01,\t[[1.9601351]],\t[-0.99663407]\n",
            "21,\t0.01,\t[[1.9667041]],\t[-0.9967049]\n",
            "22,\t0.01,\t[[1.9722334]],\t[-0.99668294]\n",
            "23,\t0.01,\t[[1.9768885]],\t[-0.99659926]\n",
            "24,\t0.01,\t[[1.9808085]],\t[-0.9964766]\n",
            "\n",
            "true bias and w \t\t [-1.  2.]\n",
            "estimated weight and bias\t [[1.9808085]] [-0.9964766]\n"
          ]
        }
      ]
    },
    {
      "cell_type": "code",
      "source": [
        ""
      ],
      "metadata": {
        "id": "QO0c6-NzCgZd"
      },
      "execution_count": null,
      "outputs": []
    },
    {
      "cell_type": "markdown",
      "source": [
        "## Example 3: Linear regression using SGD\n",
        "In the previous examples, we computed the average gradient over the entire dataset (Gradient Descent). We can implement Stochastic Gradient Descent with a simple modification.\n",
        "\n"
      ],
      "metadata": {
        "id": "Nw3M2FrPT3w9"
      }
    },
    {
      "cell_type": "code",
      "source": [
        "step_size = 0.01\n",
        "model = nn.Linear(1, 1, bias=True)\n",
        "mse_loss_fn = nn.MSELoss()\n",
        "\n",
        "optim = torch.optim.SGD(model.parameters(), lr=step_size)\n",
        "for i in range(200):\n",
        "    rand_idx = np.random.choice(n) # take a random point from the dataset\n",
        "    x_idx = x[rand_idx] \n",
        "    y_hat = model(x_idx)\n",
        "    loss = mse_loss_fn(y_hat, y[rand_idx]) # only compute the loss on the single point\n",
        "    optim.zero_grad()\n",
        "    loss.backward()\n",
        "    optim.step()\n",
        "    if i % 20 == 0:\n",
        "        print('{},\\t{:.2f},\\t{},\\t{}'.format(i, loss.item(), model.weight.detach().numpy(), model.bias.detach().numpy() ))\n",
        "\n",
        "print('\\ntrue bias and w \\t\\t', true_w.view(2).numpy())\n",
        "print('estimated weight and bias\\t', model.weight.detach().numpy(),  model.bias.detach().numpy())"
      ],
      "metadata": {
        "colab": {
          "base_uri": "https://localhost:8080/"
        },
        "id": "LQiKhD3XUHEY",
        "outputId": "11204ff8-d35e-4c4a-cbf7-e7c47ad76f8d"
      },
      "execution_count": 19,
      "outputs": [
        {
          "output_type": "stream",
          "name": "stdout",
          "text": [
            "0,\t1.57,\t[[0.31709412]],\t[0.7387173]\n",
            "20,\t1.35,\t[[1.3365093]],\t[0.15090148]\n",
            "40,\t0.53,\t[[1.8588203]],\t[-0.22880341]\n",
            "60,\t0.12,\t[[1.8819257]],\t[-0.48268867]\n",
            "80,\t0.27,\t[[1.9117095]],\t[-0.658806]\n",
            "100,\t0.08,\t[[1.8782121]],\t[-0.74685085]\n",
            "120,\t0.05,\t[[1.9593239]],\t[-0.84884906]\n",
            "140,\t0.01,\t[[1.982178]],\t[-0.91154444]\n",
            "160,\t0.00,\t[[1.9972583]],\t[-0.94314396]\n",
            "180,\t0.00,\t[[1.9968369]],\t[-0.9665506]\n",
            "\n",
            "true bias and w \t\t [-1.  2.]\n",
            "estimated weight and bias\t [[2.0065799]] [-0.9604592]\n"
          ]
        }
      ]
    },
    {
      "cell_type": "markdown",
      "source": [
        "## Neural Network Basics in PyTorch\n",
        "We will try and fit a simple neural network to the data.\n",
        "\n"
      ],
      "metadata": {
        "id": "Sl4eol6_WMyx"
      }
    },
    {
      "cell_type": "code",
      "source": [
        "d = 1\n",
        "n = 200\n",
        "X = torch.rand(n,d)\n",
        "y = 4 * torch.sin(np.pi * X) * torch.cos(6*np.pi*X**2)\n",
        "\n",
        "plt.scatter(X.numpy(), y.numpy())\n",
        "plt.title('plot of $f(x)$')\n",
        "plt.xlabel('$x$')\n",
        "plt.ylabel('$y$')\n",
        "\n",
        "plt.show()"
      ],
      "metadata": {
        "colab": {
          "base_uri": "https://localhost:8080/",
          "height": 297
        },
        "id": "jvxW5SQlWxs_",
        "outputId": "2ff1ceb4-6240-4233-baf1-00e3fde4d821"
      },
      "execution_count": 20,
      "outputs": [
        {
          "output_type": "display_data",
          "data": {
            "text/plain": [
              "<Figure size 432x288 with 1 Axes>"
            ],
            "image/png": "[encoded data removed]"
          },
          "metadata": {
            "needs_background": "light"
          }
        }
      ]
    },
    {
      "cell_type": "markdown",
      "source": [
        "Here we define a simple two hidden layer neural network with Tanh activations. There are a few hyper parameters to play with to get a feel for how they change the results.\n",
        "\n",
        "### Gradient descent\n",
        "Here we use the gradient descent. You can try to modify it for actual SGD. \n",
        "\n"
      ],
      "metadata": {
        "id": "_Zfz2l7EW3Fu"
      }
    },
    {
      "cell_type": "code",
      "source": [
        "# feel free to play with these parameters\n",
        "\n",
        "step_size = 0.05\n",
        "n_epochs = 6000\n",
        "n_hidden_1 = 32\n",
        "n_hidden_2 = 32\n",
        "d_out = 1\n",
        "\n",
        "neural_network = nn.Sequential(\n",
        "                            nn.Linear(d, n_hidden_1), \n",
        "                            nn.Tanh(),\n",
        "                            nn.Linear(n_hidden_1, n_hidden_2),\n",
        "                            nn.Tanh(),\n",
        "                            nn.Linear(n_hidden_2, d_out)\n",
        "                            )\n",
        "\n",
        "loss_func = nn.MSELoss()\n",
        "\n",
        "optim = torch.optim.SGD(neural_network.parameters(), lr=step_size)\n",
        "print('iter,\\tloss')\n",
        "for i in range(n_epochs):\n",
        "    y_hat = neural_network(X)\n",
        "    loss = loss_func(y_hat, y)\n",
        "    optim.zero_grad()\n",
        "    loss.backward()\n",
        "    optim.step()\n",
        "    \n",
        "    if i % (n_epochs // 10) == 0:\n",
        "        print('{},\\t{:.2f}'.format(i, loss.item()))"
      ],
      "metadata": {
        "colab": {
          "base_uri": "https://localhost:8080/"
        },
        "id": "Vq1MfzZgW_My",
        "outputId": "b18f1f54-095b-4def-c2eb-8827893ae485"
      },
      "execution_count": 21,
      "outputs": [
        {
          "output_type": "stream",
          "name": "stdout",
          "text": [
            "iter,\tloss\n",
            "0,\t3.59\n",
            "600,\t3.43\n",
            "1200,\t2.96\n",
            "1800,\t1.97\n",
            "2400,\t1.07\n",
            "3000,\t0.98\n",
            "3600,\t0.63\n",
            "4200,\t0.42\n",
            "4800,\t0.30\n",
            "5400,\t0.23\n"
          ]
        }
      ]
    },
    {
      "cell_type": "code",
      "source": [
        "X_grid = torch.from_numpy(np.linspace(0,1,50)).float().view(-1, d)\n",
        "y_hat = neural_network(X_grid)\n",
        "plt.scatter(X.numpy(), y.numpy())\n",
        "plt.plot(X_grid.detach().numpy(), y_hat.detach().numpy(), 'r')\n",
        "plt.title('plot of $f(x)$ and $\\hat{f}(x)$')\n",
        "plt.xlabel('$x$')\n",
        "plt.ylabel('$y$')\n",
        "plt.show()"
      ],
      "metadata": {
        "colab": {
          "base_uri": "https://localhost:8080/",
          "height": 302
        },
        "id": "CpGJHv21XTP7",
        "outputId": "ddcf3c99-6342-4bb2-8dc4-b033b9d84e77"
      },
      "execution_count": 22,
      "outputs": [
        {
          "output_type": "display_data",
          "data": {
            "text/plain": [
              "<Figure size 432x288 with 1 Axes>"
            ],
            "image/png": "[encoded data removed]"
          },
          "metadata": {
            "needs_background": "light"
          }
        }
      ]
    },
    {
      "cell_type": "markdown",
      "source": [
        "### Momentum\n",
        "There are other optimization algorithms besides stochastic gradient descent. One is a modification of GD called momentum. \n",
        "\n",
        "We only change the step size and add the momentum keyword argument to the optimizer. Notice how it reduces the training loss in fewer iterations.\n",
        "\n"
      ],
      "metadata": {
        "id": "at07OOiSYSSU"
      }
    },
    {
      "cell_type": "code",
      "source": [
        "# feel free to play with these parameters\n",
        "\n",
        "step_size = 0.05\n",
        "momentum = 0.9\n",
        "n_epochs = 1500\n",
        "d = X.shape[1]\n",
        "n_hidden_1 = 32\n",
        "n_hidden_2 = 32\n",
        "d_out = 1\n",
        "\n",
        "neural_network = nn.Sequential(\n",
        "    nn.Linear(d, n_hidden_1), \n",
        "    nn.Tanh(),\n",
        "    nn.Linear(n_hidden_1, n_hidden_2),\n",
        "    nn.Tanh(),\n",
        "    nn.Linear(n_hidden_2, d_out)\n",
        ")\n",
        "\n",
        "loss_func = nn.MSELoss()\n",
        "\n",
        "optim = torch.optim.SGD(neural_network.parameters(), lr=step_size, momentum=momentum)\n",
        "print('iter,\\tloss')\n",
        "for i in range(n_epochs):\n",
        "    y_hat = neural_network(X)\n",
        "    loss = loss_func(y_hat, y)\n",
        "    optim.zero_grad()\n",
        "    loss.backward()\n",
        "    optim.step()\n",
        "    \n",
        "    if i % (n_epochs // 10) == 0:\n",
        "        print('{},\\t{:.2f}'.format(i, loss.item()))"
      ],
      "metadata": {
        "colab": {
          "base_uri": "https://localhost:8080/"
        },
        "id": "2tI23iq8Ymh1",
        "outputId": "8bcf1312-4753-4919-d4d2-f0a5977a0b28"
      },
      "execution_count": 23,
      "outputs": [
        {
          "output_type": "stream",
          "name": "stdout",
          "text": [
            "iter,\tloss\n",
            "0,\t3.59\n",
            "150,\t3.24\n",
            "300,\t1.17\n",
            "450,\t0.25\n",
            "600,\t0.18\n",
            "750,\t0.07\n",
            "900,\t0.04\n",
            "1050,\t0.03\n",
            "1200,\t0.01\n",
            "1350,\t0.03\n"
          ]
        }
      ]
    },
    {
      "cell_type": "code",
      "source": [
        "X_grid = torch.from_numpy(np.linspace(0,1,50)).float().view(-1, d)\n",
        "y_hat = neural_network(X_grid)\n",
        "plt.scatter(X.numpy(), y.numpy())\n",
        "plt.plot(X_grid.detach().numpy(), y_hat.detach().numpy(), 'r')\n",
        "plt.title('plot of $f(x)$ and $\\hat{f}(x)$')\n",
        "plt.xlabel('$x$')\n",
        "plt.ylabel('$y$')\n",
        "plt.show()"
      ],
      "metadata": {
        "colab": {
          "base_uri": "https://localhost:8080/",
          "height": 302
        },
        "id": "mXr8VeZ5Ytgc",
        "outputId": "fd48067c-f53b-4ee4-e77d-c29fa2e70954"
      },
      "execution_count": 24,
      "outputs": [
        {
          "output_type": "display_data",
          "data": {
            "text/plain": [
              "<Figure size 432x288 with 1 Axes>"
            ],
            "image/png": "[encoded data removed]"
          },
          "metadata": {
            "needs_background": "light"
          }
        }
      ]
    },
    {
      "cell_type": "markdown",
      "source": [
        "Learning rate schedulers\n",
        "Often we do not want to use a fixed learning rate throughout all training. PyTorch offers learning rate schedulers to change the learning rate over time. Common strategies include multiplying the lr by a constant every epoch (e.g. 0.9) and halving the learning rate when the training loss flattens out.\n",
        "\n",
        "See the [learning rate scheduler docs](https://pytorch.org/docs/stable/optim.html#how-to-adjust-learning-rate) for usage and examples"
      ],
      "metadata": {
        "id": "Q5H2_dOXaPzd"
      }
    }
  ]
}