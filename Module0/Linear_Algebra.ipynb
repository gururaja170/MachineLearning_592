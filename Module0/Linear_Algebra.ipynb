{
 "cells": [
  {
   "cell_type": "markdown",
   "metadata": {
    "colab_type": "text",
    "id": "view-in-github"
   },
   "source": [
    "<a href=\"https://colab.research.google.com/github/yexf308/MAT592/blob/main/1_Linear_Algebra.ipynb\" target=\"_parent\"><img src=\"https://colab.research.google.com/assets/colab-badge.svg\" alt=\"Open In Colab\"/></a>"
   ]
  },
  {
   "cell_type": "markdown",
   "metadata": {
    "id": "jGKRgKvscoDe"
   },
   "source": [
    "This notebook is partially from the textbook \"Hands-on Machine Learning with Scikit-Learn, Keras and TensorFlow\"."
   ]
  },
  {
   "cell_type": "markdown",
   "metadata": {
    "id": "siGWrZTQVbeF"
   },
   "source": [
    "## Math - Linear Algebra\n",
    "\n",
    "*Machine Learning relies heavily on Linear Algebra, so it is essential to understand what vectors and matrices are, what operations you can perform with them, and how they can be useful.*"
   ]
  },
  {
   "cell_type": "markdown",
   "metadata": {
    "id": "djEr-2yzVzme"
   },
   "source": [
    "## Vectors in python\n",
    "\n",
    "Since we plan to do quite a lot of scientific calculations, it is much better to use NumPy's `ndarray`, which provides a lot of convenient and optimized implementations of essential mathematical operations on vectors (for more details about NumPy, check out the [NumPy tutorial](tools_numpy.ipynb)). For example:\n"
   ]
  },
  {
   "cell_type": "code",
   "execution_count": null,
   "metadata": {
    "colab": {
     "base_uri": "https://localhost:8080/"
    },
    "id": "MRZolPjjVaWh",
    "outputId": "ec57edd4-f367-429d-b3ed-b50c543a131f"
   },
   "outputs": [
    {
     "data": {
      "text/plain": [
       "array([10.5 ,  5.2 ,  3.25,  7.  ])"
      ]
     },
     "execution_count": 1,
     "metadata": {},
     "output_type": "execute_result"
    }
   ],
   "source": [
    "import numpy as np\n",
    "v = np.array([10.5, 5.2, 3.25, 7.0])\n",
    "v"
   ]
  },
  {
   "cell_type": "markdown",
   "metadata": {
    "id": "Hp33CXVXWvHM"
   },
   "source": [
    "The size of a vector can be obtained using the `size` attribute. \n",
    "\n",
    "The $i^{th}$ element (also called *entry* or *item*) of a vector $\\textbf{v}$ is noted $\\textbf{v}_i$.\n",
    "\n",
    "Note that indices in mathematics generally start at 1, but in programming they usually start at 0. So to access $\\textbf{video}_3$ programmatically, we would write:"
   ]
  },
  {
   "cell_type": "code",
   "execution_count": null,
   "metadata": {
    "colab": {
     "base_uri": "https://localhost:8080/"
    },
    "id": "TUTPuw7AWwkT",
    "outputId": "52c3598a-a57c-44aa-9dfc-2b1e6715b18b"
   },
   "outputs": [
    {
     "name": "stdout",
     "output_type": "stream",
     "text": [
      "4\n",
      "3.25\n"
     ]
    }
   ],
   "source": [
    "print(v.size)\n",
    "print(v[2])\n"
   ]
  },
  {
   "cell_type": "markdown",
   "metadata": {
    "id": "6AAGMxRgXig7"
   },
   "source": [
    "## Plotting vectors\n",
    "To plot vectors we will use matplotlib, so let's start by importing it (for details about matplotlib, check the [matplotlib tutorial](tools_matplotlib.ipynb)):"
   ]
  },
  {
   "cell_type": "code",
   "execution_count": null,
   "metadata": {
    "id": "BXYmRsTMXmdd"
   },
   "outputs": [],
   "source": [
    "%matplotlib inline\n",
    "import matplotlib.pyplot as plt"
   ]
  },
  {
   "cell_type": "markdown",
   "metadata": {
    "id": "iJK0OD1mYjcy"
   },
   "source": [
    "### 2D vectors \n",
    "Let's create a couple very simple 2D vectors to plot:"
   ]
  },
  {
   "cell_type": "code",
   "execution_count": null,
   "metadata": {
    "colab": {
     "base_uri": "https://localhost:8080/"
    },
    "id": "Mufg2nC3YogN",
    "outputId": "ba0ca3b2-0e0d-4fb2-aa11-1bb8e6bd54d2"
   },
   "outputs": [
    {
     "name": "stdout",
     "output_type": "stream",
     "text": [
      "[2 5]\n",
      "[3 1]\n"
     ]
    }
   ],
   "source": [
    "u = np.array([2, 5])\n",
    "v = np.array([3, 1])\n",
    "print(u)\n",
    "print(v)"
   ]
  },
  {
   "cell_type": "markdown",
   "metadata": {
    "id": "aj-oa6JdZOEu"
   },
   "source": [
    "These vectors each have 2 elements, so they can easily be represented \n",
    "graphically on a 2D graph, for example as points:"
   ]
  },
  {
   "cell_type": "code",
   "execution_count": null,
   "metadata": {
    "colab": {
     "base_uri": "https://localhost:8080/",
     "height": 303
    },
    "id": "JcRoFY4mZVA1",
    "outputId": "4e8648f4-69bd-439b-a910-e672dcaf9530"
   },
   "outputs": [
    {
     "name": "stdout",
     "output_type": "stream",
     "text": [
      "(2, 3)\n",
      "(5, 1)\n"
     ]
    },
    {
     "data": {
      "image/png": "[encoded data removed]",
      "text/plain": [
       "<Figure size 432x288 with 1 Axes>"
      ]
     },
     "metadata": {
      "needs_background": "light",
      "tags": []
     },
     "output_type": "display_data"
    }
   ],
   "source": [
    "x_coords, y_coords = zip(u, v)\n",
    "print(x_coords)\n",
    "print(y_coords)\n",
    "plt.scatter(x_coords, y_coords, color=[\"r\",\"b\"])\n",
    "plt.axis([0, 9, 0, 6])\n",
    "plt.grid()\n",
    "plt.show()"
   ]
  },
  {
   "cell_type": "markdown",
   "metadata": {
    "id": "sZdxhZYtaBbF"
   },
   "source": [
    "Vectors can also be represented as arrows. Let's create a small convenience \n",
    "function to draw nice arrows:"
   ]
  },
  {
   "cell_type": "code",
   "execution_count": null,
   "metadata": {
    "colab": {
     "base_uri": "https://localhost:8080/",
     "height": 269
    },
    "id": "lUqM2zICaF4l",
    "outputId": "4f847c98-3422-4f89-ff8d-6eb0e550e947"
   },
   "outputs": [
    {
     "data": {
      "image/png": "[encoded data removed]",
      "text/plain": [
       "<Figure size 432x288 with 1 Axes>"
      ]
     },
     "metadata": {
      "needs_background": "light",
      "tags": []
     },
     "output_type": "display_data"
    }
   ],
   "source": [
    "def plot_vector2d(vector2d, origin=[0, 0], **options):\n",
    "    return plt.arrow(origin[0], origin[1], vector2d[0], vector2d[1],\n",
    "              head_width=0.2, head_length=0.3, length_includes_head=True,\n",
    "              **options)\n",
    "    \n",
    "plot_vector2d(u, color=\"r\")\n",
    "plot_vector2d(v, color=\"b\")\n",
    "plt.axis([0, 9, 0, 6])\n",
    "plt.grid()\n",
    "plt.show()"
   ]
  },
  {
   "cell_type": "markdown",
   "metadata": {
    "id": "pOAKYojsaZp5"
   },
   "source": [
    "## Norm\n",
    "The norm of a vector $\\textbf{u}$, noted $\\left \\Vert \\textbf{u} \\right \\|$, is a measure of the length (a.k.a. the magnitude) of $\\textbf{u}$. \n",
    "A norm is a function  $\\|\\cdot\\|:  \\mathbb{R}^{n} \\to [0,\\infty)$ satisfying, for any $x, y\\in \\mathbb{R}^n$ and $\\alpha\\in \\mathbb{R}$, that\n",
    "\n",
    "\n",
    "- $\\|x\\| \\ge  0 $ and $\\|x\\|=0$  $\\Longleftrightarrow$  $x =0$\n",
    "\n",
    "- $\\|x + y\\|\\le \\|x\\| + \\|y\\|  $\n",
    "\n",
    "-  $\\|\\alpha x\\| = |\\alpha| \\|x\\|$\n",
    "\n",
    "There are multiple possible norms, but the most common one (and the only one we will discuss here) is the Euclidian norm, which is defined as:\n",
    "\n",
    "$\\left \\Vert \\textbf{u} \\right \\| = \\sqrt{\\sum_{i}{\\textbf{u}_i}^2}$\n",
    "\n",
    "Some other examples, \n",
    "$p$-norm,   $\\|x\\|_p =  (\\sum_{i=1}^n |x_i|^p)^{1/p}$ for $1\\le p\\le \\infty$ and $\\|x\\|_\\infty = \\max_{1\\leq i\\leq n} |x_i|$"
   ]
  },
  {
   "cell_type": "code",
   "execution_count": null,
   "metadata": {
    "colab": {
     "base_uri": "https://localhost:8080/"
    },
    "id": "zDp9xjvtae69",
    "outputId": "a161d1d3-ed8c-45d4-dfe5-e2c053a43024"
   },
   "outputs": [
    {
     "name": "stdout",
     "output_type": "stream",
     "text": [
      "|| [2 5] || =\n"
     ]
    },
    {
     "data": {
      "text/plain": [
       "5.385164807134504"
      ]
     },
     "execution_count": 5,
     "metadata": {
      "tags": []
     },
     "output_type": "execute_result"
    }
   ],
   "source": [
    "def vector_norm(vector):\n",
    "    squares = [element**2 for element in vector]\n",
    "    return sum(squares)**0.5\n",
    "\n",
    "print(\"||\", u, \"|| =\")\n",
    "vector_norm(u)"
   ]
  },
  {
   "cell_type": "markdown",
   "metadata": {
    "id": "vne1Sa-Mavau"
   },
   "source": [
    "However, it is much more efficient to use NumPy's `norm` function, available \n",
    "in the `linalg` (**Lin**ear **Alg**ebra) module:"
   ]
  },
  {
   "cell_type": "code",
   "execution_count": null,
   "metadata": {
    "colab": {
     "base_uri": "https://localhost:8080/"
    },
    "id": "HyjyXHniayi3",
    "outputId": "7bc64e7f-fe75-47e9-b447-7fcffb2110dc"
   },
   "outputs": [
    {
     "name": "stdout",
     "output_type": "stream",
     "text": [
      "[2 5]\n",
      "5.385164807134504\n",
      "7.0\n",
      "5.0\n"
     ]
    }
   ],
   "source": [
    "import numpy.linalg as LA\n",
    "print(u)\n",
    "\n",
    "print(LA.norm(u))\n",
    "print(LA.norm(u,1))\n",
    "print(LA.norm(u,np.inf))"
   ]
  },
  {
   "cell_type": "markdown",
   "metadata": {
    "id": "h4RfnKIJbIEX"
   },
   "source": [
    "## Dot product\n",
    "### Definition\n",
    "- The dot product (also called *scalar product* or *inner product* in the context of the Euclidian space) of two vectors $\\textbf{u}$ and $\\textbf{v}$ is a useful operation that comes up fairly often in linear algebra. It is noted $\\textbf{u} \\cdot \\textbf{v}$, or sometimes $⟨\\textbf{u}|\\textbf{v}⟩$ or $(\\textbf{u}|\\textbf{v})$, and it is defined as:\n",
    "$\\textbf{u} \\cdot \\textbf{v} = \\left \\Vert \\textbf{u} \\right \\| \\times \\left \\Vert \\textbf{v} \\right \\| \\times cos(\\theta)$, \n",
    "where $\\theta$ is the angle between $\\textbf{u}$ and $\\textbf{v}$. \n",
    "\n",
    "- we say vectors $u$ and $v$ are orthogonal if $u^\\top v =0$, i.e., $\\angle(u,v) = \\pi/2$.\n",
    "\n",
    "- The set of $S = \\{u_1, \\ldots,u_k\\}\\subset\\mathbb{R}^n$ ($k\\leq n$) is called orthogonal if its elements are pairwise orthogonal, i.e., $u_i^\\top u_j = 0$ for $i\\neq j$; if,  furthermore, $\\|u_i\\|=1$ for any $i=1,2,\\ldots, k$ then $S$ is called orthonormal\n",
    "\n",
    "\n",
    "### In python\n",
    "The dot product is pretty simple to implement:"
   ]
  },
  {
   "cell_type": "code",
   "execution_count": null,
   "metadata": {
    "id": "CbSj8HshbPDy"
   },
   "outputs": [],
   "source": [
    "def dot_product(v1, v2):\n",
    "    return sum(v1i * v2i for v1i, v2i in zip(v1, v2))\n",
    "\n",
    "dot_product(u, v)"
   ]
  },
  {
   "cell_type": "markdown",
   "metadata": {
    "id": "YD9CWjbpbUTp"
   },
   "source": [
    "*But* a *much* more efficient implementation is provided by NumPy with the `dot` function.\n",
    "Equivalently, you can use the `dot` method of `ndarray`s."
   ]
  },
  {
   "cell_type": "code",
   "execution_count": null,
   "metadata": {
    "colab": {
     "base_uri": "https://localhost:8080/"
    },
    "id": "LB_wNeGfbeIL",
    "outputId": "02218e20-5ca9-4724-f5f9-0cd34a372895"
   },
   "outputs": [
    {
     "name": "stdout",
     "output_type": "stream",
     "text": [
      "11\n",
      "11\n"
     ]
    }
   ],
   "source": [
    "print(np.dot(u,v))\n",
    "print(u.dot(v))\n"
   ]
  },
  {
   "cell_type": "markdown",
   "metadata": {
    "id": "EO7PCs7rbu7g"
   },
   "source": [
    "**Caution**: the `*` operator will perform an *elementwise* multiplication, *NOT* a dot product:"
   ]
  },
  {
   "cell_type": "code",
   "execution_count": null,
   "metadata": {
    "colab": {
     "base_uri": "https://localhost:8080/"
    },
    "id": "Fi1nxsk_b1G6",
    "outputId": "16714767-fedb-4e1f-ebfd-ae48ec4787d9"
   },
   "outputs": [
    {
     "data": {
      "text/plain": [
       "array([6, 5])"
      ]
     },
     "execution_count": 16,
     "metadata": {
      "tags": []
     },
     "output_type": "execute_result"
    }
   ],
   "source": [
    "u * v"
   ]
  },
  {
   "cell_type": "markdown",
   "metadata": {
    "id": "xmqO4N_kcmhK"
   },
   "source": [
    "### Projecting a point onto an axis\n",
    "The dot product is also very useful to project points onto an axis. The projection of vector $\\textbf{v}$ onto $\\textbf{u}$'s axis is given by this formula:\n",
    "\n",
    "$\\textbf{proj}_{\\textbf{u}}{\\textbf{v}} = \\dfrac{\\textbf{u} \\cdot \\textbf{v}}{\\left \\Vert \\textbf{u} \\right \\| ^2} \\times \\textbf{u}$\n",
    "\n",
    "Which is equivalent to:\n",
    "\n",
    "$\\textbf{proj}_{\\textbf{u}}{\\textbf{v}} = (\\textbf{v} \\cdot \\hat{\\textbf{u}}) \\times \\hat{\\textbf{u}}$"
   ]
  },
  {
   "cell_type": "code",
   "execution_count": null,
   "metadata": {
    "colab": {
     "base_uri": "https://localhost:8080/",
     "height": 265
    },
    "id": "_0r5OcnrcpfU",
    "outputId": "1070cc96-d301-4c03-f1a6-d684b7c338f7"
   },
   "outputs": [
    {
     "data": {
      "image/png": "[encoded data removed]",
      "text/plain": [
       "<Figure size 432x288 with 1 Axes>"
      ]
     },
     "metadata": {
      "needs_background": "light",
      "tags": []
     },
     "output_type": "display_data"
    }
   ],
   "source": [
    "u_normalized = u / LA.norm(u)\n",
    "proj = v.dot(u_normalized) * u_normalized\n",
    "\n",
    "plot_vector2d(u, color=\"r\")\n",
    "plot_vector2d(v, color=\"b\")\n",
    "\n",
    "plot_vector2d(proj, color=\"k\", linestyle=\":\")\n",
    "plt.plot(proj[0], proj[1], \"ko\")\n",
    "\n",
    "plt.plot([proj[0], v[0]], [proj[1], v[1]], \"b:\")\n",
    "\n",
    "plt.text(1, 2, \"$proj_u v$\", color=\"k\", fontsize=18)\n",
    "plt.text(1.8, 0.2, \"$v$\", color=\"b\", fontsize=18)\n",
    "plt.text(0.8, 3, \"$u$\", color=\"r\", fontsize=18)\n",
    "\n",
    "plt.axis([0, 8, 0, 5.5])\n",
    "plt.grid()\n",
    "plt.show()"
   ]
  },
  {
   "cell_type": "markdown",
   "metadata": {
    "id": "EIDF07M_dNlF"
   },
   "source": [
    "# Matrices\n",
    "A matrix is a rectangular array of scalars (ie. any number: integer, real or complex) arranged in rows and columns, for example:\n",
    "\n",
    "\\begin{bmatrix} 10 & 20 & 30 \\\\ 40 & 50 & 60 \\end{bmatrix}\n",
    "\n",
    "You can also think of a matrix as a list of vectors: the previous matrix contains either 2 horizontal 3D vectors or 3 vertical 2D vectors.\n",
    "\n",
    "Matrices are convenient and very efficient to run operations on many vectors at a time. We will also see that they are great at representing and performing linear transformations such rotations, translations and scaling."
   ]
  },
  {
   "cell_type": "code",
   "execution_count": null,
   "metadata": {
    "colab": {
     "base_uri": "https://localhost:8080/"
    },
    "id": "g920sVK-dTuT",
    "outputId": "dbe5a631-628f-417e-e26e-56c5fbcb0722"
   },
   "outputs": [
    {
     "data": {
      "text/plain": [
       "matrix([[10, 20, 30],\n",
       "        [40, 50, 60]])"
      ]
     },
     "execution_count": 2,
     "metadata": {},
     "output_type": "execute_result"
    }
   ],
   "source": [
    "A = np.matrix([\n",
    "    [10,20,30],\n",
    "    [40,50,60]\n",
    "])\n",
    "A\n"
   ]
  },
  {
   "cell_type": "markdown",
   "metadata": {
    "id": "V2PIV0lydjIS"
   },
   "source": [
    "## Size\n",
    "The size of a matrix is defined by its number of rows and number of columns. It is noted $rows \\times columns$. For example, the matrix $A$ above is an example of a $2 \\times 3$ matrix: 2 rows, 3 columns. Caution: a $3 \\times 2$ matrix would have 3 rows and 2 columns.\n",
    "\n",
    "To get a matrix's size in NumPy:\n",
    "\n",
    "Caution**: the `size` attribute represents the number of elements in the `ndarray`, not the matrix's size:"
   ]
  },
  {
   "cell_type": "code",
   "execution_count": null,
   "metadata": {
    "colab": {
     "base_uri": "https://localhost:8080/"
    },
    "id": "TsHhuGhwds4Y",
    "outputId": "53bf580e-c3d8-4e43-a4aa-592ccd89e485"
   },
   "outputs": [
    {
     "name": "stdout",
     "output_type": "stream",
     "text": [
      "(2, 3)\n",
      "6\n"
     ]
    }
   ],
   "source": [
    "print(A.shape)\n",
    "print(A.size)"
   ]
  },
  {
   "cell_type": "markdown",
   "metadata": {
    "id": "G-XybJeUeBkW"
   },
   "source": [
    "## Element indexing\n",
    "The number located in the $i^{th}$ row, and $j^{th}$ column of a matrix $X$ is sometimes noted $X_{i,j}$ or $X_{ij}$, but there is no standard notation, so people often prefer to explicitely name the elements, like this: \"*let $X = (x_{i,j})_{1 ≤ i ≤ m, 1 ≤ j ≤ n}$*\". This means that $X$ is equal to:\n",
    "\n",
    "$X = \\begin{bmatrix}\n",
    "  x_{1,1} & x_{1,2} & x_{1,3} & \\cdots & x_{1,n}\\\\\n",
    "  x_{2,1} & x_{2,2} & x_{2,3} & \\cdots & x_{2,n}\\\\\n",
    "  x_{3,1} & x_{3,2} & x_{3,3} & \\cdots & x_{3,n}\\\\\n",
    "  \\vdots & \\vdots & \\vdots & \\ddots & \\vdots \\\\\n",
    "  x_{m,1} & x_{m,2} & x_{m,3} & \\cdots & x_{m,n}\\\\\n",
    "\\end{bmatrix}$\n",
    "\n",
    "However in this notebook we will use the $X_{i,j}$ notation, as it matches fairly well NumPy's notation. Note that in math indices generally start at 1, but in programming they usually start at 0. "
   ]
  },
  {
   "cell_type": "code",
   "execution_count": null,
   "metadata": {
    "colab": {
     "base_uri": "https://localhost:8080/"
    },
    "id": "1mRg2JtveEnf",
    "outputId": "3067ab4d-5b53-4a89-9dd7-7770281f99d9"
   },
   "outputs": [
    {
     "name": "stdout",
     "output_type": "stream",
     "text": [
      "A is\n",
      " [[10 20 30]\n",
      " [40 50 60]]\n",
      "--------------------\n",
      "2nd row, 3rd column is 60\n",
      "2nd row vector is [[40 50 60]]\n",
      "3rd column vector is [[30]\n",
      " [60]]\n",
      "rows 2 to 3 (excluded) is [[40 50 60]]\n",
      "columns 3 to 4 (excluded) is\n",
      " [[30]\n",
      " [60]]\n"
     ]
    }
   ],
   "source": [
    "print('A is\\n', A)\n",
    "print(\"-\"*20)\n",
    "print('2nd row, 3rd column is', A[1,2])  # 2nd row, 3rd column\n",
    "print('2nd row vector is', A[1, :])  # 2nd row vector (as a 1D array)\n",
    "print('3rd column vector is', A[:, 2])  # 3rd column vector (as a 1D array)\n",
    "print('rows 2 to 3 (excluded) is', A[1:2, :])  # rows 2 to 3 (excluded): this returns row 2 as a one-row matrix\n",
    "print('columns 3 to 4 (excluded) is\\n',  A[:, 2:3])   # columns 3 to 4 (excluded): this returns column 3 as a one-column matrix"
   ]
  },
  {
   "cell_type": "markdown",
   "metadata": {
    "id": "-PfGOuwD_N34"
   },
   "source": [
    "## Matrix multiplication\n",
    "A matrix $Q$ of size $m \\times n$ can be multiplied by a matrix $R$ of size $n \\times q$. It is noted simply $QR$ without multiplication sign or dot. The result $P$ is an $m \\times q$ matrix where each element is computed as a sum of products:\n",
    "\n",
    "$P_{i,j} = \\sum_{k=1}^n{Q_{i,k} \\times R_{k,j}}$\n",
    "\n",
    "The element at position $i,j$ in the resulting matrix is the sum of the products of elements in row $i$ of matrix $Q$ by the elements in column $j$ of matrix $R$."
   ]
  },
  {
   "cell_type": "code",
   "execution_count": null,
   "metadata": {
    "colab": {
     "base_uri": "https://localhost:8080/"
    },
    "id": "K0mG7e9__Y4Q",
    "outputId": "61073406-a684-46d0-9aa3-d3cf92a53056"
   },
   "outputs": [
    {
     "name": "stdout",
     "output_type": "stream",
     "text": [
      "[[400 130]\n",
      " [940 310]]\n",
      "[[130 200 270]\n",
      " [ 80 130 180]\n",
      " [210 330 450]]\n",
      "[[400 130]\n",
      " [940 310]]\n"
     ]
    }
   ],
   "source": [
    "F = np.matrix([\n",
    "        [5,2],\n",
    "        [4,1],\n",
    "        [9,3]\n",
    "    ])\n",
    "print(A.dot(F))\n",
    "print(F.dot(A))\n",
    "print(A*F)"
   ]
  },
  {
   "cell_type": "markdown",
   "metadata": {
    "id": "3YzQ_fhV_z1S"
   },
   "source": [
    "**Caution**: NumPy's `*` operator performs elementwise multiplication, *NOT* a matrix multiplication:"
   ]
  },
  {
   "cell_type": "code",
   "execution_count": null,
   "metadata": {
    "colab": {
     "base_uri": "https://localhost:8080/"
    },
    "id": "xlat-O94_05i",
    "outputId": "71ae614f-fb83-4c90-9ee0-76c728e4139e"
   },
   "outputs": [
    {
     "data": {
      "text/plain": [
       "array([[ 10,  40,  90],\n",
       "       [160, 250, 360]])"
      ]
     },
     "execution_count": 8,
     "metadata": {},
     "output_type": "execute_result"
    }
   ],
   "source": [
    "A = np.array([\n",
    "    [10,20,30],\n",
    "    [40,50,60]\n",
    "])\n",
    "B = np.array([[1,2,3], [4, 5, 6]])\n",
    "A * B   # NOT a matrix multiplication"
   ]
  },
  {
   "cell_type": "markdown",
   "metadata": {
    "id": "LaB-hsPXApEz"
   },
   "source": [
    "## Converting 1D arrays to 2D arrays in NumPy\n",
    "As we mentionned earlier, in NumPy (as opposed to Matlab, for example), 1D really means 1D: there is no such thing as a vertical 1D-array or a horizontal 1D-array. So you should not be surprised to see that transposing a 1D array does not do anything:"
   ]
  },
  {
   "cell_type": "code",
   "execution_count": null,
   "metadata": {
    "colab": {
     "base_uri": "https://localhost:8080/"
    },
    "id": "C0QDSW_wAqRb",
    "outputId": "3c0ce292-89a0-4a75-d53c-022f0e9b8a99"
   },
   "outputs": [
    {
     "name": "stdout",
     "output_type": "stream",
     "text": [
      "[2 5]\n",
      "[2 5]\n"
     ]
    }
   ],
   "source": [
    "print(u)\n",
    "print(u.T)"
   ]
  },
  {
   "cell_type": "code",
   "execution_count": null,
   "metadata": {
    "colab": {
     "base_uri": "https://localhost:8080/"
    },
    "id": "rR4qd7dHA-p4",
    "outputId": "ec47272b-1f2f-4fde-b0d8-972fbf9cf301"
   },
   "outputs": [
    {
     "name": "stdout",
     "output_type": "stream",
     "text": [
      "[[2 5]]\n",
      "[[2]\n",
      " [5]]\n"
     ]
    }
   ],
   "source": [
    "u_row = np.array([u])\n",
    "print(u_row)\n",
    "print(u_row.T)"
   ]
  },
  {
   "cell_type": "markdown",
   "metadata": {
    "id": "PuVdQ0oA38DA"
   },
   "source": [
    "## Matrix rank\n",
    "\n",
    "Given a matrix  $A\\in \\mathbb{R}^{m\\times n}$:\n",
    "\n",
    "- all its column vectors form a linear space and the dimension of this space is called column rank of $A$. \n",
    "\n",
    "- all its row vectors form a linear space and the dimension of this space is called row rank  of $A$.\n",
    "\n",
    "- column rank of of $A$ equals  its row rank. thus we simply refer to this number as the rank of $A$.\n",
    "\n",
    "- rank of $A\\in \\mathbb{R}^{m\\times n}$  is at most $\\min(m,n)$.\n",
    "\n",
    "- nonzero column vector $a \\in \\mathbb{R}^{n}$ (also is matrix $a\\in \\mathbb{R}^{n\\times 1}$ ) has rank 1. $ab^T \\in\\mathbb{R}^{n\\times n}$ is also of rank-1. "
   ]
  },
  {
   "cell_type": "code",
   "execution_count": null,
   "metadata": {
    "colab": {
     "base_uri": "https://localhost:8080/"
    },
    "id": "FevEUW-D5xFS",
    "outputId": "6b3037ad-217e-4907-f37c-da8241f85f25"
   },
   "outputs": [
    {
     "name": "stdout",
     "output_type": "stream",
     "text": [
      "2\n",
      "1\n"
     ]
    }
   ],
   "source": [
    "print(LA.matrix_rank(A))\n",
    "u = np.matrix([[2], \n",
    "               [5]])\n",
    "v = np.matrix([[3, 1]])\n",
    "print(LA.matrix_rank(u*v))"
   ]
  },
  {
   "cell_type": "markdown",
   "metadata": {
    "id": "beOhrmF9CJ3l"
   },
   "source": [
    "## Singular Value Decomposition\n",
    "SVD is a matrix factorization which is a key step in many algorithms. Machine learning and statistical methods are based on SVD: least squares regression, principal component analysis for dimension reduction and spectral clustering. SVD is essential for understanding and implementing ML/statistical methods.\n",
    "\n",
    "It turns out that any $m \\times n$ matrix $M$ can be decomposed into the dot product of three simple matrices:\n",
    "* a rotation matrix $U$ (an $m \\times m$ orthogonal matrix)\n",
    "* a scaling & projecting matrix $\\Sigma$ (an $m \\times n$ diagonal matrix)\n",
    "* and another rotation matrix $V^T$ (an $n \\times n$ orthogonal matrix)\n",
    "\n",
    "$M = U \\cdot \\Sigma \\cdot V^{T}$\n",
    "\n",
    "Also use the convention that the diagonal entries of $\\Sigma$ are non-negative and non-increasing:\n",
    "$$ \\sigma_1\\ge \\sigma_2 \\ge \\ldots \\ge \\sigma_p\\ge 0, ~~ p= \\min(n,m)$$\n"
   ]
  },
  {
   "cell_type": "code",
   "execution_count": null,
   "metadata": {
    "colab": {
     "base_uri": "https://localhost:8080/"
    },
    "id": "PLOryJWgCG8a",
    "outputId": "07ce1c31-ccc6-4c94-c92c-9264481d45e0"
   },
   "outputs": [
    {
     "name": "stdout",
     "output_type": "stream",
     "text": [
      "U is \n",
      " [[ 0.89442719 -0.4472136 ]\n",
      " [ 0.4472136   0.89442719]]\n",
      "S_diag is \n",
      " [2.  0.5]\n",
      "V_T is \n",
      " [[ 0.4472136   0.89442719]\n",
      " [-0.89442719  0.4472136 ]]\n",
      "[[ 1.00000000e+00  1.50000000e+00]\n",
      " [-1.25949234e-17  1.00000000e+00]]\n"
     ]
    }
   ],
   "source": [
    "F = np.matrix([\n",
    "        [1, 1.5],\n",
    "        [0, 1]\n",
    "    ])\n",
    "\n",
    "U, S_diag, V_T = LA.svd(F) # note: in python 3 you can rename S_diag to Σ_diag\n",
    "print('U is \\n',U)\n",
    "print('S_diag is \\n', S_diag)\n",
    "print('V_T is \\n', V_T)\n",
    "\n",
    "\n",
    "print(U.dot(np.diag(S_diag)).dot(V_T))\n",
    "\n"
   ]
  },
  {
   "cell_type": "markdown",
   "metadata": {
    "id": "zKqK2J7NBXMF"
   },
   "source": [
    "## Property of SVD\n",
    "- SVD always exists\n",
    "\n",
    "- the number of nonzero singular values equals the rank of $A$\n",
    "\n",
    "- $A = \\sum_{i=1}^{p} \\sigma_i u_i v_i^\\top$, where $p = \\min(m,n)$.\n",
    "\n",
    "- $u_i$ is a  left singular vector and $v_i$ is a right singular vector satisfying\n",
    "$$ Av_i =  \\sigma_i u_i, ~~~ Au_i = \\sigma_i v_i $$\n",
    "\n",
    "- The columns of $U$ are the eigenvectors of $ AA^\\top$; columns of $V$ are eigenvectors of $A^\\top A$;\n",
    "\n",
    "- The singular values of $A$ are the square roots of those of $A^\\top A$  (equivalently, $AA^\\top$)\n",
    "\n",
    "\n",
    "### Low-rank matrix approximation\n",
    "Another way of explaining SVD is to regard  $A$ as a sum of $r$ rank-one matrices with $r = \\mbox{rank}(A)$:\n",
    "$$  A =  \\sum_{j=1}^r \\sigma_j u_jv_j^\\top$$\n",
    "\n",
    "Let $k\\leq r$.  The $k$-partial sum $A_k = \\sum_{j=1}^k  \\sigma_j u_j v_j^\\top $ captures much of the \"energy\" of $A$ as possible. $A_k$ minimizes $\\|A- X\\|_F$ over $\\{X\\in \\mathbb{R}^{m\\times n}:  \\mbox{rank}(X)\\le k\\}$,  namely,\n",
    "$$\n",
    "A_k = \\arg\\min_{X\\in\\mathbb{R}^{m\\times n}}\\; \\|X - A\\|_F \\quad  \\mbox{subject to} \\quad \\mbox{rank}(X)\\leq k. \n",
    "$$\n",
    "\n",
    "\n"
   ]
  },
  {
   "cell_type": "markdown",
   "metadata": {
    "id": "fklPdiPsUBVM"
   },
   "source": [
    "# Eigenvectors and eigenvalues\n",
    "- An **eigenvector** of a square matrix $M$ (also called a **characteristic vector**) is a non-zero vector that remains on the same line after transformation by the linear transformation associated with $M$. A more formal definition is any vector $v$ such that:\n",
    "$$M \\cdot v = \\lambda \\times v$$\n",
    "Where $\\lambda$ is a scalar value called the **eigenvalue** associated to the vector $v$. Then the eigen-decomposition is \n",
    "$$ M = U\\Lambda U^{-1} $$\n",
    "\n",
    "- $\\sum_{i=1}^n \\lambda_i = \\mbox{Tr}(\\Lambda) = \\mbox{Tr}(A)$.\n",
    "\n",
    "- Given any symmetric matrix $A\\in \\mathbb{R}^{n\\times n}$, its eigen-decomposition is\n",
    "$$A = U\\Lambda U^\\top $$\n",
    "where $U\\in \\mathbb{R}^{n\\times n}$ is orthonormal  and $\\Lambda$ is diagonal. if all eigenvalues are nonnegative, then $A$ is positive semidefinite (PSD); if all  $\\lambda_i>0$, then $A$ is PD. "
   ]
  },
  {
   "cell_type": "code",
   "execution_count": null,
   "metadata": {
    "colab": {
     "base_uri": "https://localhost:8080/"
    },
    "id": "i-A_-YheUQBm",
    "outputId": "46691462-1eab-4ec1-89ee-30fa80ee9a03"
   },
   "outputs": [
    {
     "name": "stdout",
     "output_type": "stream",
     "text": [
      "[1. 1.]\n",
      "[[ 1.00000000e+00 -1.00000000e+00]\n",
      " [ 0.00000000e+00  1.48029737e-16]]\n"
     ]
    }
   ],
   "source": [
    "eigenvalues, eigenvectors = LA.eig(F)\n",
    "print(eigenvalues)\n",
    "print(eigenvectors) # [v0, v1, …]"
   ]
  },
  {
   "cell_type": "code",
   "execution_count": null,
   "metadata": {
    "colab": {
     "base_uri": "https://localhost:8080/"
    },
    "id": "IJEmFtExVOUe",
    "outputId": "ac4f9323-071f-4d3e-8572-ee66ab5bebb7"
   },
   "outputs": [
    {
     "name": "stdout",
     "output_type": "stream",
     "text": [
      "[1.4        0.71428571]\n",
      "[[1. 0.]\n",
      " [0. 1.]]\n"
     ]
    }
   ],
   "source": [
    "G = np.matrix([\n",
    "        [1.4, 0],\n",
    "        [0, 1/1.4]\n",
    "    ])    # G is PD.\n",
    "eigenvalues, eigenvectors = LA.eig(G)\n",
    "print(eigenvalues)\n",
    "print(eigenvectors) # [v0, v1, …]"
   ]
  }
 ],
 "metadata": {
  "colab": {
   "authorship_tag": "ABX9TyO1mwdlxl0h+3ewtR7Z7Ts3",
   "collapsed_sections": [],
   "include_colab_link": true,
   "name": "1. Linear_Algebra.ipynb",
   "provenance": []
  },
  "kernelspec": {
   "display_name": "Python 3",
   "language": "python",
   "name": "python3"
  },
  "language_info": {
   "codemirror_mode": {
    "name": "ipython",
    "version": 3
   },
   "file_extension": ".py",
   "mimetype": "text/x-python",
   "name": "python",
   "nbconvert_exporter": "python",
   "pygments_lexer": "ipython3",
   "version": "3.8.8"
  }
 },
 "nbformat": 4,
 "nbformat_minor": 1
}
