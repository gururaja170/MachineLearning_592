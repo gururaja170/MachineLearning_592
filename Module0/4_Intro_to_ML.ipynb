{
  "nbformat": 4,
  "nbformat_minor": 0,
  "metadata": {
    "colab": {
      "name": "4.Intro_to_ML.ipynb",
      "provenance": [],
      "collapsed_sections": [],
      "authorship_tag": "ABX9TyMEAPRUltJWS5aqP1JwA02O",
      "include_colab_link": true
    },
    "kernelspec": {
      "name": "python3",
      "display_name": "Python 3"
    },
    "language_info": {
      "name": "python"
    }
  },
  "cells": [
    {
      "cell_type": "markdown",
      "metadata": {
        "id": "view-in-github",
        "colab_type": "text"
      },
      "source": [
        "<a href=\"https://colab.research.google.com/github/yexf308/MAT592/blob/main/4_Intro_to_ML.ipynb\" target=\"_parent\"><img src=\"https://colab.research.google.com/assets/colab-badge.svg\" alt=\"Open In Colab\"/></a>"
      ]
    },
    {
      "cell_type": "markdown",
      "metadata": {
        "id": "GMly5GMx1qMd"
      },
      "source": [
        "# Introduction to Machine learning\n",
        "\n",
        "## What is machine learning \n",
        "\n",
        "A popular defintion of **machine learning** or **ML**, due to Tom Mitchell:\n",
        "\n",
        "\"A computer program is said to learn from experience $E$ with respect to some class of tasks $T$, and performance measure $P$, if its performance at tasks in $T$, as measured by $P$, improves with experience $E$.\"\n",
        "\n",
        "\n",
        "---\n",
        "\n",
        "\n",
        "\n",
        "One of my friends says: \n",
        "\n",
        "\"Machine learning is driving by looking at the rearview mirror.\"\n",
        "\n",
        "\n",
        "---\n",
        "\n"
      ]
    },
    {
      "cell_type": "code",
      "metadata": {
        "colab": {
          "base_uri": "https://localhost:8080/",
          "height": 600
        },
        "id": "o7JRvD4vVgvg",
        "outputId": "58732b8d-6ee5-460c-b590-fafb8289c148"
      },
      "source": [
        "%pylab inline \n",
        "from IPython.display import Image\n",
        "Image(url='https://github.com/yexf308/MAT592/blob/main/image/ml_map.png?raw=true', width=900)"
      ],
      "execution_count": 1,
      "outputs": [
        {
          "output_type": "stream",
          "name": "stdout",
          "text": [
            "Populating the interactive namespace from numpy and matplotlib\n"
          ]
        },
        {
          "output_type": "execute_result",
          "data": {
            "text/html": [
              "<img src=\"https://github.com/yexf308/MAT592/blob/main/image/ml_map.png?raw=true\" width=\"900\"/>"
            ],
            "text/plain": [
              "<IPython.core.display.Image object>"
            ]
          },
          "metadata": {},
          "execution_count": 1
        }
      ]
    },
    {
      "cell_type": "markdown",
      "metadata": {
        "id": "BYoFc8os8_MM"
      },
      "source": [
        "## Main topics\n",
        "\n",
        "There are three basic machine learning paradigms: \n",
        "\n",
        "- supervised learning \n",
        "\n",
        "> Labeled data, direct feedback, predict future/outcome.\n",
        "\n",
        "- unsupervised learning\n",
        "\n",
        "\n",
        "> No labels, no feedback, find hidden struture in data.\n",
        "\n",
        "\n",
        "\n",
        "- reinforcement learning (not covered this course)\n",
        "\n",
        "> Decision process, reward system.\n",
        "\n",
        "\n",
        "\n",
        "---\n",
        "\n"
      ]
    },
    {
      "cell_type": "markdown",
      "metadata": {
        "id": "sO8oICbc-Ng8"
      },
      "source": [
        "Here are several examples of topics: \n",
        "\n",
        "1. Discrete supervised learning:     **classification**\n",
        "\n",
        "2. Continuous supervised learning:   **regression**\n",
        "\n",
        "3. Discrete unsupervised learning: **clusting** \n",
        "\n",
        "4. Continuous unsupervised learning: **dimensionality reduction**"
      ]
    },
    {
      "cell_type": "markdown",
      "metadata": {
        "id": "QaJtJhS-Dr_4"
      },
      "source": [
        "\n",
        "\n",
        "# Supervised learning "
      ]
    },
    {
      "cell_type": "code",
      "metadata": {
        "colab": {
          "base_uri": "https://localhost:8080/",
          "height": 367
        },
        "id": "56aECER8htNo",
        "outputId": "803d1b07-93eb-43e6-efe0-bde91b13732a"
      },
      "source": [
        "\n",
        "Image(url='https://github.com/yexf308/MAT592/blob/main/image/01_02.png?raw=true', width=600)"
      ],
      "execution_count": null,
      "outputs": [
        {
          "output_type": "execute_result",
          "data": {
            "text/html": [
              "<img src=\"https://github.com/yexf308/MAT592/blob/main/image/01_02.png?raw=true\" width=\"600\"/>"
            ],
            "text/plain": [
              "<IPython.core.display.Image object>"
            ]
          },
          "metadata": {},
          "execution_count": 1
        }
      ]
    },
    {
      "cell_type": "markdown",
      "metadata": {
        "id": "RGP2M1zONbKV"
      },
      "source": [
        "## Setup of supervised learning\n",
        "Learn a function $F$, that maps an input to an output based on example input-output pairs \n",
        "\n",
        "$$\\{(x^{(i)}, y^{(i)}): i = 1, \\dots, n\\} $$\n",
        "\n",
        "with input $x^{(i)}$ and label $y^{(i)}$ such that \n",
        "\n",
        "$$ y^{(i)}=F(x^{(i)})+\\epsilon_i,  $$\n",
        "\n",
        "So for new input data $x$, we can make a prediction $y=F(x)$.\n",
        "\n",
        "\n",
        "## Parametric function approximation\n",
        "\n",
        "Parameterize the (abstract) mapping $F$  as a (concrete) function $F(x; \\theta):x \\mapsto y$  with  $y = F(x; \\theta)$\n",
        "\n",
        "-  $\\theta\\in\\mathbb{R}^d$: model parameters that determines the expression of $F$, and thus the performance of learning.\n",
        "\n",
        "-   **training**:  find the optimal $\\theta^\\ast$ using certain algorithms, such that on the training data $\\{(x^{(i)}, y^{(i)})\\}_{i=1}^n$ ,\n",
        "     $$F(x^{(i)}; \\theta^*)\\approx y^{(i)},  \\forall i \\quad \\mbox{in some sense} $$\n",
        "\n",
        "- **prediction**:  for new data $x$, predict\n",
        "     $$y = F(x;\\theta^\\ast)$$\n",
        "\n",
        "\n",
        "## Training\n",
        "\n",
        "Fit the model $F(x;\\theta)$ on training data $\\mathcal{D} = \\{(x^{(i)}, y^{(i)})\\}_{i=1}^n$ \n",
        "\n",
        "- performance of rule $F(x;\\theta)$ on data sample $(x^{(i)},y^{(i)})$ is measured by a loss function $\\ell(F(x^{(i)}; \\theta),y^{(i)})$ with the property \n",
        "  $$\\ell(F, y) \\downarrow 0,  \\quad \\mbox{if } F \\to y\n",
        "  $$\n",
        "One possible lost function is $\\ell(F(x; \\theta), y) = (F(x; \\theta) - y)^2$\n",
        "\n",
        "\n",
        "- minimize the averaged loss function over $\\mathcal{D}$ w.r.t. $\\theta$:\n",
        " $$\n",
        " \\theta^* = \\arg\\min_{\\theta} \\; \\frac{1}{n} \\sum_{i=1}^n \\ell(F(x^{(i)}; \\theta),y^{(i)})\n",
        " $$\n",
        "\n",
        "- objective value = 0 means correct output for every training data. \n"
      ]
    },
    {
      "cell_type": "markdown",
      "metadata": {
        "id": "w9ydDMBIS5Bx"
      },
      "source": [
        "### Regression\n",
        " $y^{(i)}$ is a continuous variable."
      ]
    },
    {
      "cell_type": "code",
      "metadata": {
        "colab": {
          "base_uri": "https://localhost:8080/",
          "height": 489
        },
        "id": "_yAxPEIfie6L",
        "outputId": "5f3270f1-63dc-4ebf-b430-60b08970c418"
      },
      "source": [
        "Image(url='https://github.com/yexf308/MAT592/blob/main/image/regression1.png?raw=true', width=500)\n"
      ],
      "execution_count": null,
      "outputs": [
        {
          "output_type": "execute_result",
          "data": {
            "text/html": [
              "<img src=\"https://github.com/yexf308/MAT592/blob/main/image/regression1.png?raw=true\" width=\"500\"/>"
            ],
            "text/plain": [
              "<IPython.core.display.Image object>"
            ]
          },
          "metadata": {},
          "execution_count": 17
        }
      ]
    },
    {
      "cell_type": "code",
      "metadata": {
        "colab": {
          "base_uri": "https://localhost:8080/",
          "height": 489
        },
        "id": "SlW9rCNLi2fv",
        "outputId": "39403127-876d-4355-e73e-b8959760bfb0"
      },
      "source": [
        "Image(url='https://github.com/yexf308/MAT592/blob/main/image/regression2.png?raw=true', width=500)"
      ],
      "execution_count": null,
      "outputs": [
        {
          "output_type": "execute_result",
          "data": {
            "text/html": [
              "<img src=\"https://github.com/yexf308/MAT592/blob/main/image/regression2.png?raw=true\" width=\"500\"/>"
            ],
            "text/plain": [
              "<IPython.core.display.Image object>"
            ]
          },
          "metadata": {},
          "execution_count": 16
        }
      ]
    },
    {
      "cell_type": "markdown",
      "metadata": {
        "id": "f4RbE9E3RsV-"
      },
      "source": [
        "## Classification\n",
        "\n",
        "$y^{i}$ is a discrete variable, for example, +- or integers. "
      ]
    },
    {
      "cell_type": "code",
      "metadata": {
        "colab": {
          "base_uri": "https://localhost:8080/",
          "height": 492
        },
        "id": "cv8IW8GpjNOD",
        "outputId": "ff193478-8b3a-475d-8ab8-7b6ef065e8b9"
      },
      "source": [
        "Image(url='https://github.com/yexf308/MAT592/blob/main/image/01_03.png?raw=true',width=500)"
      ],
      "execution_count": null,
      "outputs": [
        {
          "output_type": "execute_result",
          "data": {
            "text/html": [
              "<img src=\"https://github.com/yexf308/MAT592/blob/main/image/01_03.png?raw=true\" width=\"500\"/>"
            ],
            "text/plain": [
              "<IPython.core.display.Image object>"
            ]
          },
          "metadata": {},
          "execution_count": 18
        }
      ]
    },
    {
      "cell_type": "code",
      "metadata": {
        "colab": {
          "base_uri": "https://localhost:8080/",
          "height": 323
        },
        "id": "ySHBz-yqUYGL",
        "outputId": "ba7f4fe2-0d0e-47cb-f7e9-6d12b3c22211"
      },
      "source": [
        "Image(url='https://github.com/yexf308/MAT592/blob/main/image/digits.png?raw=true',width=500)"
      ],
      "execution_count": null,
      "outputs": [
        {
          "output_type": "execute_result",
          "data": {
            "text/html": [
              "<img src=\"https://github.com/yexf308/MAT592/blob/main/image/digits.png?raw=true\" width=\"500\"/>"
            ],
            "text/plain": [
              "<IPython.core.display.Image object>"
            ]
          },
          "metadata": {},
          "execution_count": 19
        }
      ]
    },
    {
      "cell_type": "markdown",
      "metadata": {
        "id": "rJ8tWUZwU_XP"
      },
      "source": [
        "## Testing and generalization\n",
        "\n",
        "**Testing/Validation**: examine the performance of $F(x;\\theta^*)$ on a new set of labeled data.\n",
        "\n",
        "- generalizability: the ability of trained model $F(x;\\theta^*)$ to react to new data.\n",
        " - divide the available data into two sets: training set and validation/testing set. \n",
        " - train on the training set and evaluate test error on validation set\n",
        " - adjust number of model parameters for best generalization on validation set\n",
        "\n",
        "- overfitting: trained too well but generalize poorly; usually caused by more parameters than can be justified by the data.\n",
        "\n",
        "- underfitting: bad fit on training & test sets\n"
      ]
    },
    {
      "cell_type": "code",
      "metadata": {
        "colab": {
          "base_uri": "https://localhost:8080/",
          "height": 325
        },
        "id": "8WqqMTk7Wll4",
        "outputId": "c8f4bad4-2a00-4e1c-8ef0-cb580bd8b700"
      },
      "source": [
        "Image(url='https://github.com/yexf308/MAT592/blob/main/image/overfitting.png?raw=true',width=600)"
      ],
      "execution_count": null,
      "outputs": [
        {
          "output_type": "execute_result",
          "data": {
            "text/html": [
              "<img src=\"https://github.com/yexf308/MAT592/blob/main/image/overfitting.png?raw=true\" width=\"600\"/>"
            ],
            "text/plain": [
              "<IPython.core.display.Image object>"
            ]
          },
          "metadata": {},
          "execution_count": 20
        }
      ]
    },
    {
      "cell_type": "code",
      "metadata": {
        "colab": {
          "base_uri": "https://localhost:8080/",
          "height": 449
        },
        "id": "EdpAoLK4XSDv",
        "outputId": "59dae03a-bb34-47ec-830a-b40bcd694673"
      },
      "source": [
        "Image(url='https://github.com/yexf308/MAT592/blob/main/image/generalise.png?raw=true',width=500)"
      ],
      "execution_count": null,
      "outputs": [
        {
          "output_type": "execute_result",
          "data": {
            "text/html": [
              "<img src=\"https://github.com/yexf308/MAT592/blob/main/image/generalise.png?raw=true\" width=\"500\"/>"
            ],
            "text/plain": [
              "<IPython.core.display.Image object>"
            ]
          },
          "metadata": {},
          "execution_count": 21
        }
      ]
    },
    {
      "cell_type": "markdown",
      "metadata": {
        "id": "PrKTMY744Ui6"
      },
      "source": [
        "## More on supervised learning: non-paramatric learning\n",
        "\n",
        "- $k$-nearest neighbour\n",
        "\n",
        "- deep learning ..."
      ]
    },
    {
      "cell_type": "markdown",
      "metadata": {
        "id": "xX1fAAP66zlJ"
      },
      "source": [
        "## No free lunch theorem\n",
        "Unfortunately, there is no single best model that works optimally for all kinds of problems\n",
        "\n",
        "The best way is to pick a suitable model is based on domain knowledge, and/or trial and error \n"
      ]
    },
    {
      "cell_type": "markdown",
      "metadata": {
        "id": "4UAizQ3Q5A-r"
      },
      "source": [
        "# Unsupervised learning\n",
        "\n",
        "Find  previously unknown patterns in data set  without pre-existing labels.\n",
        "\n"
      ]
    },
    {
      "cell_type": "markdown",
      "metadata": {
        "id": "dOCccZSN6ONJ"
      },
      "source": [
        "## Clustering\n",
        "Group data in a way that data in the same group (i.e., cluster) are more similar (in some sense) to each other than to those in other clusters."
      ]
    },
    {
      "cell_type": "code",
      "metadata": {
        "colab": {
          "base_uri": "https://localhost:8080/",
          "height": 494
        },
        "id": "kRHMC5DVA0EN",
        "outputId": "2a19c772-bed6-43a3-f58a-f273256f71b1"
      },
      "source": [
        "Image(url='https://github.com/yexf308/MAT592/blob/main/image/01_06.png?raw=true',width=500)"
      ],
      "execution_count": null,
      "outputs": [
        {
          "output_type": "execute_result",
          "data": {
            "text/html": [
              "<img src=\"https://github.com/yexf308/MAT592/blob/main/image/01_06.png?raw=true\" width=\"500\"/>"
            ],
            "text/plain": [
              "<IPython.core.display.Image object>"
            ]
          },
          "metadata": {},
          "execution_count": 22
        }
      ]
    },
    {
      "cell_type": "markdown",
      "metadata": {
        "id": "urrIL2OPBPW2"
      },
      "source": [
        "## Principal Component Analysis\n",
        "\n",
        "Dimensionality reduction technique that emphasizes variation in a dataset. Here in the example, Direction of largest\n",
        "variation is relevant. The rest is “noise”. "
      ]
    },
    {
      "cell_type": "code",
      "metadata": {
        "id": "5lSSAFD5BhbY",
        "colab": {
          "base_uri": "https://localhost:8080/",
          "height": 411
        },
        "outputId": "508fa4a3-bc1d-4e0e-fc8d-065a2d4f7e13"
      },
      "source": [
        "Image(url='https://github.com/yexf308/MAT592/blob/main/image/pca_demo.png?raw=true',width=500)"
      ],
      "execution_count": null,
      "outputs": [
        {
          "output_type": "execute_result",
          "data": {
            "text/html": [
              "<img src=\"https://github.com/yexf308/MAT592/blob/main/image/pca_demo.png?raw=true\" width=\"500\"/>"
            ],
            "text/plain": [
              "<IPython.core.display.Image object>"
            ]
          },
          "metadata": {},
          "execution_count": 23
        }
      ]
    },
    {
      "cell_type": "markdown",
      "metadata": {
        "id": "r3TAnSnfOCRl"
      },
      "source": [
        "## Dimension reduction for data compression\n",
        "\n",
        "Manifold learning"
      ]
    },
    {
      "cell_type": "code",
      "metadata": {
        "colab": {
          "base_uri": "https://localhost:8080/",
          "height": 255
        },
        "id": "eMCQXoMgPFJM",
        "outputId": "3136f502-0bf0-4cf8-e377-936b374249b5"
      },
      "source": [
        "Image(url='https://github.com/yexf308/MAT592/blob/main/image/01_07.png?raw=true',width=600)"
      ],
      "execution_count": null,
      "outputs": [
        {
          "output_type": "execute_result",
          "data": {
            "text/html": [
              "<img src=\"https://github.com/yexf308/MAT592/blob/main/image/01_07.png?raw=true\" width=\"600\"/>"
            ],
            "text/plain": [
              "<IPython.core.display.Image object>"
            ]
          },
          "metadata": {},
          "execution_count": 2
        }
      ]
    }
  ]
}