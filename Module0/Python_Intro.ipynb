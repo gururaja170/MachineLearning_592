{
  "cells": [
    {
      "cell_type": "markdown",
      "metadata": {
        "id": "view-in-github",
        "colab_type": "text"
      },
      "source": [
        "<a href=\"https://colab.research.google.com/github/yexf308/MAT592/blob/main/Module0/Python_Intro.ipynb\" target=\"_parent\"><img src=\"https://colab.research.google.com/assets/colab-badge.svg\" alt=\"Open In Colab\"/></a>"
      ]
    },
    {
      "cell_type": "markdown",
      "metadata": {
        "id": "vBNdUXOwdWXq"
      },
      "source": [
        "# Python Introduction"
      ]
    },
    {
      "cell_type": "markdown",
      "metadata": {
        "id": "Vj-aigVPdWXw"
      },
      "source": [
        "### Variables\n",
        "In Python, types of variables are automatically inferred by the interpreter"
      ]
    },
    {
      "cell_type": "code",
      "execution_count": 1,
      "metadata": {
        "colab": {
          "base_uri": "https://localhost:8080/"
        },
        "id": "YQ86ZYNedWXy",
        "outputId": "31ef31cd-64c4-4fa9-cdbf-42be3bf04371"
      },
      "outputs": [
        {
          "output_type": "stream",
          "name": "stdout",
          "text": [
            "department: UAlbany\n",
            "number: 592\n",
            "pi: 3.141\n",
            "<class 'str'> <class 'int'> <class 'float'>\n"
          ]
        }
      ],
      "source": [
        "school = \"UAlbany\" # creates a variable of type str\n",
        "number = 592       # int\n",
        "pi = 3.141         # float\n",
        "\n",
        "print(\"department:\", school)\n",
        "print(\"number:\", number)\n",
        "print(\"pi:\", pi)\n",
        "\n",
        "print(type(school), type(number), type(pi))"
      ]
    },
    {
      "cell_type": "markdown",
      "metadata": {
        "id": "vfLdVwdRdWX2"
      },
      "source": [
        "### Math operations"
      ]
    },
    {
      "cell_type": "code",
      "execution_count": null,
      "metadata": {
        "id": "rFBVYSCjdWX5",
        "outputId": "d4f34bda-fd82-4218-d434-ea83ab067dfe"
      },
      "outputs": [
        {
          "name": "stdout",
          "output_type": "stream",
          "text": [
            "17\n",
            "3.25\n",
            "3\n",
            "16\n"
          ]
        }
      ],
      "source": [
        "a = 13\n",
        "b = 4\n",
        "\n",
        "print(a + b)\n",
        "print(a / b) # floating point division\n",
        "print(a // b) # integer division\n",
        "print(b**2) # powers are built-in"
      ]
    },
    {
      "cell_type": "markdown",
      "metadata": {
        "id": "0fr6AtN1dWX8"
      },
      "source": [
        "### Conditionals\n",
        "Python cares about whitespace! There are no brackets or end statements\n",
        "\n",
        "Instead of &&, ||, !, we use 'and', 'or', and 'not'.\n",
        "\n",
        "Boolean values are written as 'True' and 'False'"
      ]
    },
    {
      "cell_type": "code",
      "execution_count": null,
      "metadata": {
        "id": "wlZIJZTedWX-",
        "outputId": "b26a5415-b9d5-494f-86e5-8e9b7625a5aa"
      },
      "outputs": [
        {
          "name": "stdout",
          "output_type": "stream",
          "text": [
            "hello there!\n",
            "this always prints\n"
          ]
        }
      ],
      "source": [
        "a = 9.1\n",
        "b = 7\n",
        "\n",
        "# basic if else syntax\n",
        "if a < 10:\n",
        "    print('hello there!')\n",
        "else:\n",
        "    print('general kenobi')\n",
        "\n",
        "print('this always prints')"
      ]
    },
    {
      "cell_type": "code",
      "execution_count": null,
      "metadata": {
        "id": "eiqojhyXdWYD",
        "outputId": "5832bf98-47ed-4180-8b8c-050d9843dea0"
      },
      "outputs": [
        {
          "name": "stdout",
          "output_type": "stream",
          "text": [
            "and\n",
            "or\n"
          ]
        }
      ],
      "source": [
        "# and syntax\n",
        "if a < 10 and b > 5:\n",
        "    print('and')\n",
        "\n",
        "# or syntax\n",
        "if a > 10 or b > 5:\n",
        "    print('or')"
      ]
    },
    {
      "cell_type": "code",
      "execution_count": null,
      "metadata": {
        "id": "Rz-dQtGgdWYJ",
        "outputId": "f7e9a003-51ad-436e-c351-4dbd35b4505f"
      },
      "outputs": [
        {
          "name": "stdout",
          "output_type": "stream",
          "text": [
            "a != b\n"
          ]
        }
      ],
      "source": [
        "# else, else if syntax\n",
        "if False:\n",
        "    print('this never prints')\n",
        "elif a != b:\n",
        "    print('a != b')\n",
        "else:\n",
        "    print('else!')"
      ]
    },
    {
      "cell_type": "markdown",
      "metadata": {
        "id": "xMLaf-4DdWYQ"
      },
      "source": [
        "### Data Structures"
      ]
    },
    {
      "cell_type": "code",
      "execution_count": null,
      "metadata": {
        "scrolled": true,
        "id": "QaRvcARKdWYV",
        "outputId": "37a5756f-84b7-482e-d988-5572dd59f764"
      },
      "outputs": [
        {
          "name": "stdout",
          "output_type": "stream",
          "text": [
            "['apple', 'pear', 'tomato', 'avocado']\n",
            "apple\n",
            "tomato\n",
            "['pear', 'tomato']\n",
            "['apple', 'pear', 'tomato', 'salmon']\n"
          ]
        }
      ],
      "source": [
        "# Lists\n",
        "fruit = ['apple', 'pear', 'tomato', 'avocado']\n",
        "print(fruit)\n",
        "print(fruit[0])\n",
        "print(fruit[-2]) # can use reverse indexing\n",
        "print(fruit[1:3]) # can index multiple items [inclusive, exclusive)\n",
        "fruit[3] = 'salmon' # can assign items in list\n",
        "\n",
        "print(fruit)"
      ]
    },
    {
      "cell_type": "code",
      "execution_count": null,
      "metadata": {
        "id": "6wZBX95ldWYX",
        "outputId": "701936a9-4fe9-45d9-af35-b5034a2ed815"
      },
      "outputs": [
        {
          "name": "stdout",
          "output_type": "stream",
          "text": [
            "4\n",
            "True\n"
          ]
        }
      ],
      "source": [
        "print(len(fruit))\n",
        "print('pear' in fruit) # can check for existence in a list (\"contains()\")"
      ]
    },
    {
      "cell_type": "code",
      "execution_count": null,
      "metadata": {
        "id": "K1dLtfZUdWYY",
        "outputId": "86e2af10-3147-4a03-bc62-ed959d98f60b"
      },
      "outputs": [
        {
          "name": "stdout",
          "output_type": "stream",
          "text": [
            "['apple', 'pear', 'tomato', 'salmon', 'trout']\n",
            "5\n"
          ]
        }
      ],
      "source": [
        "fruit.append('trout') # lists are mutable\n",
        "\n",
        "print(fruit)\n",
        "print(len(fruit))"
      ]
    },
    {
      "cell_type": "code",
      "execution_count": null,
      "metadata": {
        "id": "DoIQHgqldWYZ",
        "outputId": "9af9bb0f-1426-4823-f65b-d4a8d8df37c3"
      },
      "outputs": [
        {
          "name": "stdout",
          "output_type": "stream",
          "text": [
            "(1, 2, 3)\n",
            "2\n",
            "3\n",
            "2\n"
          ]
        }
      ],
      "source": [
        "# tuples\n",
        "tupperware = (1,2,3)\n",
        "print(tupperware)\n",
        "print(tupperware[1])\n",
        "a, b, c = tupperware # can unpack tuples\n",
        "_, d, _ = tupperware # ignore the elements you don't care about\n",
        "print(c)\n",
        "print(d)"
      ]
    },
    {
      "cell_type": "code",
      "execution_count": null,
      "metadata": {
        "id": "YR94vd5fdWYc",
        "outputId": "226755d1-c467-426b-d5fc-a11fabfb1a5e"
      },
      "outputs": [
        {
          "name": "stdout",
          "output_type": "stream",
          "text": [
            "'tuple' object does not support item assignment\n"
          ]
        }
      ],
      "source": [
        "try:\n",
        "    tupperware[1] = 4 # cannot modify tuples\n",
        "except Exception as e:\n",
        "    print(e)"
      ]
    },
    {
      "cell_type": "code",
      "execution_count": null,
      "metadata": {
        "id": "cNT2VRJqdWYe",
        "outputId": "9d956be2-abe6-4c8c-b816-f51c486a58c7"
      },
      "outputs": [
        {
          "name": "stdout",
          "output_type": "stream",
          "text": [
            "{'Ben': 21, 'Newton': 84}\n",
            "21\n",
            "{'Ben': 21, 'Newton': 84, 'Einstein': 76, 5: 'hi'}\n"
          ]
        }
      ],
      "source": [
        "# dicts (maps)\n",
        "ages = {'Ben': 21, 'Newton': 84}\n",
        "print(ages)\n",
        "print(ages['Ben'])\n",
        "ages['Einstein'] = 76\n",
        "ages[5] = 'hi'\n",
        "print(ages)\n"
      ]
    },
    {
      "cell_type": "markdown",
      "metadata": {
        "id": "XfUIn-i8dWYh"
      },
      "source": [
        "### Loops"
      ]
    },
    {
      "cell_type": "code",
      "execution_count": null,
      "metadata": {
        "id": "WCqnocDhdWYi",
        "outputId": "88e538e8-beb6-4198-fef8-ed131eda1cf7"
      },
      "outputs": [
        {
          "name": "stdout",
          "output_type": "stream",
          "text": [
            "0\n",
            "1\n",
            "2\n",
            "3\n",
            "4\n",
            "\n",
            "apple\n",
            "pear\n",
            "tomato\n",
            "salmon\n",
            "trout\n"
          ]
        }
      ],
      "source": [
        "# basic for loops\n",
        "for i in range(5):\n",
        "    print(i)\n",
        "    \n",
        "print()\n",
        "\n",
        "# can loop over any iterable\n",
        "for f in fruit:\n",
        "    print(f)"
      ]
    },
    {
      "cell_type": "code",
      "execution_count": null,
      "metadata": {
        "id": "nBJzcITRdWYj",
        "outputId": "c4d1091f-a230-49af-8aea-9a3f6eb10bfe"
      },
      "outputs": [
        {
          "name": "stdout",
          "output_type": "stream",
          "text": [
            "0 apple\n",
            "1 pear\n",
            "2 tomato\n",
            "3 salmon\n",
            "4 trout\n",
            "\n",
            "apple 3 2\n",
            "pear 1 7\n",
            "tomato 4 1\n",
            "salmon 1 8\n",
            "trout 5 2\n"
          ]
        }
      ],
      "source": [
        "# advanced for loops\n",
        "for idx, item in enumerate(fruit):\n",
        "    print(idx, item)\n",
        "    \n",
        "print()\n",
        "\n",
        "a = [3, 1, 4, 1, 5]\n",
        "b = [2, 7, 1, 8, 2]\n",
        "\n",
        "for f, pi, e in zip(fruit, a, b):\n",
        "    print(f, pi, e)"
      ]
    },
    {
      "cell_type": "code",
      "execution_count": null,
      "metadata": {
        "id": "riewBkwFdWYl",
        "outputId": "2625b236-ce87-442f-cfc8-26443abb9d89"
      },
      "outputs": [
        {
          "name": "stdout",
          "output_type": "stream",
          "text": [
            "Ben 10 10 10\n"
          ]
        }
      ],
      "source": [
        "# while loops\n",
        "my_str = \"Ben\"\n",
        "\n",
        "while len(my_str) < 10:\n",
        "    my_str += ' 10'\n",
        "\n",
        "print(my_str)"
      ]
    },
    {
      "cell_type": "markdown",
      "metadata": {
        "id": "qKcktpqEdWYp"
      },
      "source": [
        "## Functions + Classes"
      ]
    },
    {
      "cell_type": "code",
      "execution_count": null,
      "metadata": {
        "id": "28SZPrHTdWYs",
        "outputId": "8ee9074f-91aa-40d9-9bc7-7199125b2caf"
      },
      "outputs": [
        {
          "name": "stdout",
          "output_type": "stream",
          "text": [
            "16\n"
          ]
        }
      ],
      "source": [
        "# this is a function\n",
        "def square_this(x):\n",
        "    return x * x\n",
        "\n",
        "print(square_this(4))\n"
      ]
    },
    {
      "cell_type": "code",
      "execution_count": null,
      "metadata": {
        "id": "gyxjAl4EdWYv",
        "outputId": "4e30ae40-8d9e-4c3f-8b89-eebe3b980e64"
      },
      "outputs": [
        {
          "name": "stdout",
          "output_type": "stream",
          "text": [
            "method: 9\n",
            "static method: 125\n",
            "a: 3\n",
            "b: 4\n"
          ]
        }
      ],
      "source": [
        "class Squaring:\n",
        "    \n",
        "    # this is the constructor\n",
        "    def __init__(self, a, b=4):\n",
        "        self._a = a\n",
        "        self._b = b\n",
        "    \n",
        "    # this is a method\n",
        "    def square(self, x):\n",
        "        return x * x\n",
        "    \n",
        "    # this is a static method\n",
        "    @staticmethod\n",
        "    def mymethod(x):\n",
        "        return x**3\n",
        "\n",
        "sq = Squaring(3)\n",
        "print('method:', sq.square(3))\n",
        "print('static method:', Squaring.mymethod(5))\n",
        "print('a:', sq._a)\n",
        "print('b:', sq._b)"
      ]
    },
    {
      "cell_type": "markdown",
      "metadata": {
        "id": "4iCS6G7MdWYz"
      },
      "source": [
        "# Numpy\n",
        "Numpy is a powerful scientific computing library for Python. It uses C/C++ in the background to speed up computation"
      ]
    },
    {
      "cell_type": "code",
      "execution_count": null,
      "metadata": {
        "id": "zPKNoJdYdWY1",
        "outputId": "16f1ea4e-93f3-47ee-b2a0-0f040b308137"
      },
      "outputs": [
        {
          "name": "stdout",
          "output_type": "stream",
          "text": [
            "[6 6 6 6 6]\n",
            "[5 8 9 8 5]\n",
            "[4 5]\n",
            "<class 'numpy.ndarray'>\n"
          ]
        }
      ],
      "source": [
        "import numpy as np\n",
        "\n",
        "a = np.array([1,2,3,4,5])\n",
        "b = np.array([5,4,3,2,1])\n",
        "c = a + b # can do elementwise operations\n",
        "print(c)\n",
        "print(a*b)\n",
        "print(a[3:5]) # can use same indexing as lists\n",
        "print(type(a))"
      ]
    },
    {
      "cell_type": "code",
      "execution_count": null,
      "metadata": {
        "id": "3UONFsgzdWY2",
        "outputId": "f941d0c2-e13d-4282-b0cd-e1e63766b85f"
      },
      "outputs": [
        {
          "name": "stdout",
          "output_type": "stream",
          "text": [
            "[[1 2]\n",
            " [3 4]]\n",
            "[1 2]\n",
            "[2 4]\n",
            "4 4\n",
            "[2 4]\n",
            "(2,)\n"
          ]
        }
      ],
      "source": [
        "A = np.array([[1,2], [3,4]]) # can create multidimensional arrays\n",
        "print(A)\n",
        "print(A[0]) # indexing into rows\n",
        "print(A[:,1]) # indexing into columns\n",
        "print(A[1,1], A[1][1]) # indexing into rows and columns\n",
        "print(A[:,1].T) \n",
        "print(np.shape(A[:,1]))\n"
      ]
    },
    {
      "cell_type": "code",
      "execution_count": null,
      "metadata": {
        "id": "lYfUDJbldWY2",
        "outputId": "da09ae89-38fc-4498-f28a-66e2318b539d"
      },
      "outputs": [
        {
          "name": "stdout",
          "output_type": "stream",
          "text": [
            "[[0. 0. 0. 0.]\n",
            " [0. 0. 0. 0.]\n",
            " [0. 0. 0. 0.]\n",
            " [0. 0. 0. 0.]]\n",
            "[1. 1. 1.]\n",
            "[0.83552593 0.57607911 0.06048051 0.43451815 0.85622641]\n"
          ]
        }
      ],
      "source": [
        "# can create special types of arrays\n",
        "a = np.zeros((4,4))\n",
        "b = np.ones(3)\n",
        "c = np.random.random(5)\n",
        "print(a)\n",
        "print(b)\n",
        "print(c)"
      ]
    },
    {
      "cell_type": "code",
      "execution_count": null,
      "metadata": {
        "id": "YYbxv1ACdWY2",
        "outputId": "63161173-e570-42a8-b613-eb0986a8e459"
      },
      "outputs": [
        {
          "name": "stdout",
          "output_type": "stream",
          "text": [
            "[[2 2]\n",
            " [3 5]]\n",
            "\n",
            "[[1 2]\n",
            " [3 4]]\n",
            "[[1 0]\n",
            " [0 4]]\n"
          ]
        }
      ],
      "source": [
        "# matrices\n",
        "A = np.array([[1,2],[3,4]])\n",
        "B = np.array([[1, 0],[0, 1]]) # identity matrix (same as np.eye(2))\n",
        "\n",
        "print(A + B)\n",
        "print()\n",
        "print(A @ B)#@ is matrix multiplication \n",
        "print(A * B)#* is elementwise multiplication. You probably don't mean this"
      ]
    },
    {
      "cell_type": "code",
      "execution_count": null,
      "metadata": {
        "id": "-7sXBC8ydWY6",
        "outputId": "aadef07c-c02d-4e2d-c0aa-d021df8881cb"
      },
      "outputs": [
        {
          "name": "stdout",
          "output_type": "stream",
          "text": [
            "[[1 1]\n",
            " [2 2]\n",
            " [3 3]]\n",
            "12\n",
            "[6 6]\n",
            "[2 4 6]\n"
          ]
        }
      ],
      "source": [
        "# numpy functions (see documentation for more)\n",
        "A = np.array([[1,1],[2,2],[3,3]])\n",
        "print(A)\n",
        "print(np.sum(A)) # can sum all elements\n",
        "print(np.sum(A, axis=0)) # can also sum along a dimension (0)\n",
        "print(np.sum(A, axis=1)) # can also sum along a dimension (1)\n"
      ]
    },
    {
      "cell_type": "code",
      "execution_count": null,
      "metadata": {
        "id": "zEmZ6IR7dWY7",
        "outputId": "8ed9f499-c2eb-46c6-f129-8b4b44276773"
      },
      "outputs": [
        {
          "name": "stdout",
          "output_type": "stream",
          "text": [
            "time: 0.0007281303405761719\n",
            "time: 0.051100969314575195\n",
            "speedup x: 70.18107400130975\n"
          ]
        }
      ],
      "source": [
        "# use numpy to speedup computation\n",
        "# as a rule, use numpy operations to calculate things, not for loops.\n",
        "# e.g. call np.dot don't sum over a for loop of the elements.\n",
        "import time\n",
        "n = 100000\n",
        "a = np.ones(n)\n",
        "b = np.ones(n)\n",
        "start = time.time()\n",
        "\n",
        "res = a + b\n",
        "\n",
        "numpy_time = time.time() - start\n",
        "print(\"time:\", numpy_time)\n",
        "\n",
        "res = []\n",
        "start = time.time()\n",
        "\n",
        "for i in range(n):\n",
        "    res.append(a[i] + b[i])\n",
        "    \n",
        "loop_time = time.time() - start\n",
        "print(\"time:\", loop_time)\n",
        "\n",
        "print(\"speedup x:\", loop_time / numpy_time)\n"
      ]
    },
    {
      "cell_type": "markdown",
      "metadata": {
        "id": "Ct54AF-TdWY7"
      },
      "source": [
        "# Matplotlib\n",
        "Matplotlib is a library used to visualize data. A useful technique when generating matplotlib plots in a notebook is that we can use the \"magic\" command `%matplotlib inline` to have the generated plots automatically shown in a cell; this saves some additional Python code which would be required to show the plots (e.g. `plt.show()`)."
      ]
    },
    {
      "cell_type": "code",
      "execution_count": null,
      "metadata": {
        "id": "mdFE_4irdWY7"
      },
      "outputs": [],
      "source": [
        "import matplotlib.pyplot as plt"
      ]
    },
    {
      "cell_type": "code",
      "execution_count": null,
      "metadata": {
        "id": "H_txpI68dWY7",
        "outputId": "b44c24ee-f203-4364-ec34-e373e0849c14"
      },
      "outputs": [
        {
          "data": {
            "text/plain": [
              "Text(0, 0.5, '$x^2$')"
            ]
          },
          "execution_count": 36,
          "metadata": {},
          "output_type": "execute_result"
        },
        {
          "data": {
            "image/png": "[encoded data removed]",
            "text/plain": [
              "<Figure size 432x288 with 1 Axes>"
            ]
          },
          "metadata": {
            "needs_background": "light"
          },
          "output_type": "display_data"
        }
      ],
      "source": [
        "%matplotlib inline\n",
        "# basic plotting (show scatter and plot)\n",
        "xs = np.arange(10)\n",
        "ys = xs ** 2\n",
        "plt.scatter(xs, ys)\n",
        "plt.plot(xs, ys)\n",
        "\n",
        "# ALWAYS label your plots!\n",
        "plt.title('plot of $x^2$ vs $x$')\n",
        "plt.xlabel('$x$')\n",
        "plt.ylabel('$x^2$')"
      ]
    },
    {
      "cell_type": "markdown",
      "metadata": {
        "id": "zigFBJ2sdWY8"
      },
      "source": [
        "# Shell commands in IPython notebooks"
      ]
    },
    {
      "cell_type": "markdown",
      "metadata": {
        "id": "p-RrhumDdWY8"
      },
      "source": [
        "IPython notebooks support the use of shell commands directly in a notebook; simply prepend the command with `!` and the IPython kernel will execute the code from the shell, not the Python interpreter."
      ]
    },
    {
      "cell_type": "code",
      "execution_count": null,
      "metadata": {
        "id": "D7o1DiULdWY_",
        "outputId": "e245d855-21f9-46ee-b455-2cb398475220"
      },
      "outputs": [
        {
          "name": "stdout",
          "output_type": "stream",
          "text": [
            "       2\r\n"
          ]
        }
      ],
      "source": [
        "!find . -name \"*.ipynb\" | wc -l"
      ]
    }
  ],
  "metadata": {
    "kernelspec": {
      "display_name": "Python 3",
      "language": "python",
      "name": "python3"
    },
    "language_info": {
      "codemirror_mode": {
        "name": "ipython",
        "version": 3
      },
      "file_extension": ".py",
      "mimetype": "text/x-python",
      "name": "python",
      "nbconvert_exporter": "python",
      "pygments_lexer": "ipython3",
      "version": "3.6.7"
    },
    "colab": {
      "name": "Python_Intro.ipynb",
      "provenance": [],
      "include_colab_link": true
    }
  },
  "nbformat": 4,
  "nbformat_minor": 0
}