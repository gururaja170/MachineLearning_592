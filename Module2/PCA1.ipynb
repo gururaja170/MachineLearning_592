{
  "nbformat": 4,
  "nbformat_minor": 0,
  "metadata": {
    "colab": {
      "name": "20.PCA1.ipynb",
      "provenance": [],
      "collapsed_sections": [],
      "authorship_tag": "ABX9TyPvaQ6SaGETNwM0qbRtYdQ6",
      "include_colab_link": true
    },
    "kernelspec": {
      "name": "python3",
      "display_name": "Python 3"
    },
    "language_info": {
      "name": "python"
    }
  },
  "cells": [
    {
      "cell_type": "markdown",
      "metadata": {
        "id": "view-in-github",
        "colab_type": "text"
      },
      "source": [
        "<a href=\"https://colab.research.google.com/github/yexf308/MAT592/blob/main/Module2/20_PCA1.ipynb\" target=\"_parent\"><img src=\"https://colab.research.google.com/assets/colab-badge.svg\" alt=\"Open In Colab\"/></a>"
      ]
    },
    {
      "cell_type": "code",
      "metadata": {
        "colab": {
          "base_uri": "https://localhost:8080/"
        },
        "id": "qAvl1PTIQ9bg",
        "outputId": "3846bf49-1ec1-481b-e65e-fabebb14e443"
      },
      "source": [
        "%pylab inline \n",
        "from IPython.display import Image\n",
        "import numpy.linalg as LA"
      ],
      "execution_count": 1,
      "outputs": [
        {
          "output_type": "stream",
          "name": "stdout",
          "text": [
            "Populating the interactive namespace from numpy and matplotlib\n"
          ]
        }
      ]
    },
    {
      "cell_type": "markdown",
      "metadata": {
        "id": "WEquF27NRdKX"
      },
      "source": [
        "# Dimensionality Reduction\n",
        "### High dimensional data\n",
        "\n",
        "- High-dimensional dataset examples include image/video data,\n",
        "documentation data, biological data, etc. High-dimensional means lots of features. Eg. each MNIST image has 784 dimensions. Think about image you take in your Phone could have millions pixels. \n",
        "\n",
        "- Processing big high-dimensional data is often computationally expensive because of the curse of the dimensionality. Many clustering, classification algorithms suffers from it. It is important to reduce the dimension of the data first. \n",
        "\n",
        "- Many high-dimensional data like images/videos have hidden\n",
        "low-dimensional structure. i.e., the data points roughly lie in a subspace of much lower dimension.\n",
        "\n",
        "- It is useful to learn low-dimensional representations for:\n",
        " - data visualization\n",
        "\n",
        " - more efficient use of resources, e.g., memory storage, time\n",
        "\n",
        " - noise removal to improve data quality\n",
        "\n",
        " - faster processing by machine learning algorithms\n",
        "\n",
        "Goal: to **learning a mapping** from the high dimensional visible space $\\mathbf{x}\\in \\mathbb{R}^D$, to a low-dimensional latent space $\\mathbf{z}\\in \\mathbb{R}^d$"
      ]
    },
    {
      "cell_type": "markdown",
      "metadata": {
        "id": "WJsuqy8XWA6q"
      },
      "source": [
        "# Principal Component Analysis (PCA)\n",
        "\n",
        "- It is a powerful **unsupervised learning**\n",
        "technique for learning low-dimensional representations of data. The idea is to extract **few but very informative** combinations of features in the original data as the new data features.\n",
        "\n",
        "- Assume the data is centered with zero mean; if not, subtract the mean of\n",
        "data from each sample. \n",
        "\n",
        "**Given:** the data $\\{\\mathbf{x}^{(i)}\\}_{i=1}^N\\subset \\mathbb{R}^D$, the number of dimensions $d\\ll D$.\n",
        "\n",
        "**Goal:** learn $d$-dimensional representation that preserves most information\n",
        "contained in the data. i.e.,\n",
        "  -  find a proper projection onto $d$ dimension subspace $\\mathcal{V}\\subset \\mathbb{R}^D$ with orthonormal basis $\\{\\mathbf{w}_1,\\dots, \\mathbf{w}_d\\}$, i.e., $\\|\\mathbf{w}_j\\|=1$ and $\\mathbf{w}_i^\\top\\mathbf{w}_j=0$ for $i\\ne j$.  \n",
        "\n"
      ]
    },
    {
      "cell_type": "code",
      "metadata": {
        "colab": {
          "base_uri": "https://localhost:8080/",
          "height": 314
        },
        "id": "-uo_v4QFnf8b",
        "outputId": "bb179b30-9733-4946-d223-cbf09d5b209f"
      },
      "source": [
        "display(Image(url='https://github.com/yexf308/MAT592/blob/main/image/PCA.png?raw=true', width=500))"
      ],
      "execution_count": null,
      "outputs": [
        {
          "output_type": "display_data",
          "data": {
            "text/html": [
              "<img src=\"https://github.com/yexf308/MAT592/blob/main/image/PCA.png?raw=true\" width=\"500\"/>"
            ],
            "text/plain": [
              "<IPython.core.display.Image object>"
            ]
          },
          "metadata": {}
        }
      ]
    },
    {
      "cell_type": "markdown",
      "metadata": {
        "id": "tXqEgz1EoP9S"
      },
      "source": [
        "## Theory\n",
        "Suppose $\\mathcal{V}=\\text{span}\\{\\mathbf{w}_1, \\dots,\\mathbf{w}_d\\}\\subset\\mathbb{R}^D$ is given \n",
        "\n",
        "- Consider the following projection problem onto $\\mathcal{V}$:\n",
        "$$\\min_{\\alpha_1,\\dots,\\alpha_k\\in \\mathbb{R}}\\|\\mathbf{x}-\\sum_{j=1}^d\\alpha_j \\mathbf{w}_j\\|^2 $$\n",
        "  Note $\\sum_{j=1}^d\\alpha_j \\mathbf{w}_j\\in \\mathcal{V}$.\n",
        "\n",
        "  - Solve the quadratic optimization. The solution is $\\alpha_j^* = \\langle \\mathbf{x, \\mathbf{w}_j}\\rangle$.\n",
        "  - $\\sum_{j=1}^d\\alpha_j^* \\mathbf{w}_j$ is the projection of $\\mathbf{x}$ onto $\\mathcal{V}$, i.e., the nearest point to $\\mathbf{x}$ in $\\mathcal{V}$. \n",
        "\n",
        "- **Projection/Approximation:** project each $\\mathbf{x}^{(i)}$ onto low-dimensional plane $\\mathcal{V}$:\n",
        "$$ \\mathbf{x}^{(i)}\\rightarrow \\mathbf{\\tilde x}^{(i)}=\\sum_{j=1}^d\\langle \\mathbf{x}^{(i)}, \\mathbf{w}_j\\rangle\\mathbf{w}_j$$\n",
        "  - lose some information, but not much if all $\\mathbf{x}^{(i)}$ are near $\\mathcal{V}$. \n",
        "\n",
        "  - still need $d$ coordinates for data representation of $\\mathbf{\\tilde x}^{(i)}$.\n",
        "\n",
        "- **Rotation**: transform the coordinates to get $d$-dimension data representation by a mapping from $\\mathcal{V}$ to $\\mathbb{R}^d$ \n",
        "$$\\mathbf{\\tilde x}^{(i)}=\\sum_{j=1}^d\\langle \\mathbf{x}^{(i)}, \\mathbf{w}_j\\rangle\\mathbf{w}_j\\rightarrow \\mathbf{z}^{(i)}=(\\langle \\mathbf{x}^{(i)}, \\mathbf{w}_1\\rangle, \\dots, \\langle \\mathbf{x}^{(i)}, \\mathbf{w}_d\\rangle)^\\top $$\n",
        "which corresponds to a rotation of coordinate system so that $\\mathbf{w}_j$ coincide with the axes. \n",
        "\n",
        "- each of the $d$ new feature $\\langle \\mathbf{x}^{(i)}, \\mathbf{w}_j\\rangle$ in $\\mathbf{y}^{(i)}$ is a mixture of the original\n",
        "features in $\\mathbf{x}^{(i)}$ with the weights $\\mathbf{w}_j$. \n",
        "\n",
        "- **Learning:** carried out for the $d$-dimension data $\\{\\mathbf{z}^{(i)}\\}_{i=1}^N$ instead of $\\{\\mathbf{x}^{(i)}\\}_{i=1}^N$ or $\\{\\mathbf{\\tilde x}^{(i)}\\}_{i=1}^N$.\n"
      ]
    },
    {
      "cell_type": "code",
      "metadata": {
        "colab": {
          "base_uri": "https://localhost:8080/",
          "height": 169
        },
        "id": "pmdx65Ls9Z2F",
        "outputId": "96b41877-5445-4247-9469-51864adbee92"
      },
      "source": [
        "display(Image(url='https://github.com/yexf308/MAT592/blob/main/image/PCA_rotation.png?raw=true', width=600))"
      ],
      "execution_count": null,
      "outputs": [
        {
          "output_type": "display_data",
          "data": {
            "text/html": [
              "<img src=\"https://github.com/yexf308/MAT592/blob/main/image/PCA_rotation.png?raw=true\" width=\"600\"/>"
            ],
            "text/plain": [
              "<IPython.core.display.Image object>"
            ]
          },
          "metadata": {}
        }
      ]
    },
    {
      "cell_type": "markdown",
      "metadata": {
        "id": "E89ItJgnaKxP"
      },
      "source": [
        "### How to detect the low-dimensional structure? \n",
        "\n",
        "- We want to find $\\mathcal{V} = \\text{span}(\\mathbf{w}_1,\\dots, \\mathbf{w}_d)$. So that the approximation error over whole dataset is minimized:\n",
        "$$ \\sum_{i}^N\\|\\mathbf{x}^{(i)}-\\mathbf{\\tilde x}^{(i)}\\|$$\n",
        "  which is just sum of squared distance from data to $\\mathcal{V}$.\n",
        "\n",
        "- We simplify it by Pythagorean Thm\n",
        "\\begin{align}\n",
        "\\sum_{i=1}^N\\|\\mathbf{x}^{(i)}-\\mathbf{\\tilde x}^{(i)}\\|^2 &= \\sum_{i=1}^N\\|\\mathbf{x}^{(i)}\\|^2-\\sum_{i=1}^N\\|\\mathbf{ \\tilde x}^{(i)}\\|^2 \\\\\n",
        "&= \\sum_{i=1}^N\\|\\mathbf{x}^{(i)}\\|^2- \\sum_{i=1}^N \\sum_{j=1}^d \\langle \\mathbf{x}^{(i)}, \\mathbf{w}_j\\rangle^2\n",
        "\\end{align}\n",
        "where $\\{\\mathbf{w}_j\\}_{j=1}^d$ is orthonormal.\n",
        "\n",
        "- Since $\\sum_{i=1}^N\\|\\mathbf{x}^{(i)}\\|^2$ is a constant, so it's equivalent to **maximizing the variance of projection** (note that they have zero mean): \n",
        "\n",
        "  $$\\sum_{i=1}^N \\sum_{j=1}^d \\langle \\mathbf{x}^{(i)}, \\mathbf{w}_j\\rangle^2 =\\sum_{j=1}^d\\mathbf{w}_j^\\top \\mathbf{X}^\\top \\mathbf{X}\\mathbf{w}_j  $$\n",
        "\n",
        "   where  $\\mathbf{X}=[(\\mathbf{x}^{(1)})^\\top, \\dots, \\mathbf{x}^{(N)})^\\top]^\\top \\in \\mathbb{R}^{N\\times D}$ is the data matrix with each row containing a sample. \n",
        "\n",
        "- $\\mathbf{X}^\\top \\mathbf{X}=\\sum_{i=1}^N \\mathbf{x}^{(i)}(\\mathbf{x}^{(i)})^\\top \\in \\mathbb{R}^{D\\times D}$ is the covariance matrix of data (with zero mean).     \n",
        "\n",
        "- Each contributing term $\\mathbf{w}_j^\\top \\mathbf{X}^\\top \\mathbf{X}\\mathbf{w}_j=\\sum_{i=1}^N \\langle \\mathbf{x}^{(i)}, \\mathbf{w}_j\\rangle^2 $ is the variance of data along direction $\\mathbf{w}_j$. \n",
        "\n"
      ]
    },
    {
      "cell_type": "markdown",
      "metadata": {
        "id": "E-EyI8s50kTJ"
      },
      "source": [
        "### PCA by maximum variance\n",
        "Mathematically, we want to find orthonormal basis of $\\mathcal{V}$ by solving the maximum variance problem: \n",
        "\n",
        "$$\\max_{\\mathbf{w}_1,\\dots, \\mathbf{w}_d\\in\\mathbf{R}^D} \\sum_{j=1}^d\\mathbf{w}_j^\\top \\mathbf{X}^\\top \\mathbf{X}\\mathbf{w}_j  $$\n",
        "subject to \n",
        "$$\\mathbf{w}_i^\\top\\mathbf{w}_j=\\begin{cases}0 & \\text{if } i\\ne j \\\\ 1 & \\text{Otherwise}\\end{cases} $$\n",
        "The optimal solutions are called principal components (PCs).\n",
        "\n",
        "This looks like a very difficult problem: \n",
        "quadratic objective function with orthogonality (non-convex) constraints$\\rightarrow$ non-convex optimization.\n"
      ]
    },
    {
      "cell_type": "markdown",
      "metadata": {
        "id": "GejWslDB9APc"
      },
      "source": [
        "### Start from $d=1$\n",
        "To find the first principal component\n",
        "$$ \\mathbf{w}_1^*=\\arg\\max_{ \\|\\mathbf{w}_1\\|=1}\\mathbf{w}_1^\\top \\mathbf{X}^\\top \\mathbf{X}\\mathbf{w}_1 $$\n",
        "\n",
        "\n",
        "- the solution $\\mathbf{w}_1^*=\\pm\\mathbf{v}_1$ is the leading eigenvector of covariance matrix $\\mathbf{X}^\\top\\mathbf{X}$, which satisfies \n",
        "$$\\mathbf{X}^\\top\\mathbf{X} \\mathbf{v}_1 = \\lambda_1 \\mathbf{v}_1 $$\n",
        "\n",
        "  It is called **Rayleigh's inequality**.\n",
        "- **Proof**: Note $\\mathbf{X}^\\top\\mathbf{X}$ is PSD, so it has the eigenvalue decomposition as $\\mathbf{X}^\\top\\mathbf{X}=\\mathbf{Q}\\mathbf{\\Lambda}\\mathbf{Q}^\\top$, where $\\mathbf{Q}$ is the orthogonal matrix and $\\mathbf{\\Lambda}$ is the diagonal matrix. \n",
        "\n",
        " Then for any unit vector $\\mathbf{w}_1$,\n",
        " $$\\mathbf{w}_1^\\top \\mathbf{X}^\\top \\mathbf{X}\\mathbf{w}_1  = \\left(\\mathbf{w}_1^\\top\\mathbf{Q}\\right)\\mathbf{\\Lambda} \\left(\\mathbf{Q}^\\top \\mathbf{w}_1\\right) =\\mathbf{y}^\\top \\mathbf{\\Lambda}\\mathbf{y} $$\n",
        "  \n",
        "   where $\\mathbf{y}= \\mathbf{Q}^\\top \\mathbf{w}_1$ is also a unit vector (why?). Then the original optimization problem becomes the following one:\n",
        "   $$\\arg\\max_{ \\|\\mathbf{y}\\|=1}\\mathbf{y}^\\top \\mathbf{\\Lambda}\\mathbf{y}$$\n",
        "\n",
        "   To solve  this new problem, write $\\mathbf{y}=[y_1, \\dots, y_D]$.  It follows that\n",
        "   $$\\mathbf{y}^\\top \\mathbf{\\Lambda}\\mathbf{y} =\\sum_{i=1}^D\\lambda_i y_i^2 $$\n",
        "   subject to $\\sum_{i=1}^D y_i^2 =1$. So when $y_1^2=1$ and $y_i=0$ for $i>1$, the objective function attains its maximum value $\\lambda_1$ and the maximizer $\\mathbf{w}_1$ is $\\mathbf{w}_1=\\pm \\mathbf{v_1}$.\n",
        "\n"
      ]
    },
    {
      "cell_type": "markdown",
      "metadata": {
        "id": "CcLodbhDGwEd"
      },
      "source": [
        "### Singular Value Decomposition\n",
        "\n",
        "Sometimes $\\mathbf{X}\\in \\mathbb{R}^{N\\times D}$ may have large number of features, i.e., $D\\gg N$, then $\\mathbf{X}^\\top \\mathbf{X}$ is way too large to compute. Then the first principal component can be alternatively computed via SVD of data matrix $\\mathbf{X}$, $\\mathbf{X}=\\mathbf{U}\\mathbf{\\Sigma}\\mathbf{V}^\\top$, where $\\mathbf{U}\\in\\mathbb{R}^{N\\times r}, \\mathbf{V}\\in\\mathbb{R}^{D\\times r}$ are orthonormal matrices, $\\Sigma\\in\\mathbb{R}^{r\\times r}$ is diagonal matrix\n",
        "with diagonal elements arranged in decreasing order,\n",
        "$$ \\sigma_1\\ge \\dots \\sigma_r>0, r=\\text{rank}(\\mathbf{X})$$\n",
        "\n",
        "- $\\sigma_1^2=\\lambda_1$ will be leading eigenvalue of $\\mathbf{X}^\\top \\mathbf{X}$\n",
        "\n",
        "- $\\mathbf{v}_1$ is simply the first column of $\\mathbf{V}$, satisfying\n",
        "$$\\mathbf{X}^\\top \\mathbf{X}\\mathbf{v}_1=\\sigma_1^2\\mathbf{v}_1 $$\n",
        "\n",
        "- data projected onto $\\mathcal{V}$:  $\\mathbf{\\tilde x}^{(i)} = (\\mathbf{v}_1^\\top \\mathbf{x}^{(i)})\\mathbf{v}_1 \\in \\mathbb{R}^D$. \n",
        "\n",
        "- low-dimensional data representation: $\\mathbf{z}^{(i)}=\\mathbf{v}_1^\\top \\mathbf{x}^{(i)} \\in \\mathbb{R} $. \n",
        "\n",
        "\n"
      ]
    },
    {
      "cell_type": "markdown",
      "metadata": {
        "id": "2UEdsePLiens"
      },
      "source": [
        "### General case for maximum variance\n",
        "\n",
        "\n",
        "$$(\\mathbf{w}_1^*, \\dots,\\mathbf{w}_d^* )=\\text{argmax}_{\\mathbf{w}_1,\\dots, \\mathbf{w}_d\\in\\mathbf{R}^D} \\sum_{j=1}^d\\mathbf{w}_j^\\top \\mathbf{X}^\\top \\mathbf{X}\\mathbf{w}_j  $$\n",
        "subject to \n",
        "$$\\mathbf{w}_i^\\top\\mathbf{w}_j=\\begin{cases}0 & \\text{if } i\\ne j \\\\ 1 & \\text{Otherwise}\\end{cases} $$\n",
        "\n",
        "- Suppose SVD of data matrix is $\\mathbf{X}=\\mathbf{U}\\mathbf{\\Sigma}\\mathbf{V}^\\top$ with singular values arranged in decreasing order. \n",
        "\n",
        "- PCs $\\{\\mathbf{w}_j^*=\\mathbf{v}_j: j =1,\\dots, d\\}$ are the first $d$ columns of $\\mathbf{V}$. Denote the concatenation by $\\mathbf{V}_d\\in \\mathbb{R}^{D\\times d}$\n",
        "\n",
        "- the data projected onto $\\mathcal{V}$: $\\mathbf{\\tilde x}^{(i)} = \\sum_{j=1}^d(\\mathbf{v}_j^\\top \\mathbf{x}^{(i)})\\mathbf{v}_j = \\mathbf{V}_d\\mathbf{V}_d^\\top\\mathbf{x}^{(i)} \\in \\mathbb{R}^D$\n",
        "\n",
        "- low-dimensional data representation: \n",
        "$$ \\mathbf{z}^{(i)}=[\\mathbf{v}_1^\\top \\mathbf{x}^{(i)}, \\dots, \\mathbf{v}_d^\\top \\mathbf{x}^{(i)}]^\\top=\\mathbf{V}_d^\\top\\mathbf{x}^{(i)} \\in \\mathbb{R}^d$$\n",
        " "
      ]
    },
    {
      "cell_type": "markdown",
      "metadata": {
        "id": "jsrInJvLmcyH"
      },
      "source": [
        "### Approximation error\n",
        "\n",
        "The SVD of data matrix $\\mathbf{X}=\\mathbf{U}\\mathbf{\\Sigma}\\mathbf{V}^\\top=\\sum_{j=1}^r \\sigma_j \\mathbf{u}_j \\mathbf{v}_j^\\top$, with $\\sigma_1\\ge \\dots \\ge \\sigma_r>0$. \n",
        "\n",
        "- the projected data matrix:\n",
        "$$\\mathbf{X} \\mathbf{V}_d\\mathbf{V}_d^\\top=\\mathbf{U}\\mathbf{\\Sigma}\\mathbf{V}^\\top \\mathbf{V}_d\\mathbf{V}_d^\\top = \\mathbf{U}_d\\text{diag}(\\sigma_1,\\dots, \\sigma_d)\\mathbf{V}_d^\\top =\\sum_{i=1}^d \\sigma_i\\mathbf{u}_i\\mathbf{v}_i^\\top$$\n",
        "  it is the same to extract the $d$ most significant components of $\\mathbf{X}$ and discard the rest. It is the best rank-$d$ matrix approximation to $\\mathbf{X}$. \n",
        "\n",
        "- If $\\{\\mathbf{x}^{(i)}\\}_{i=1}^N$ are approximately $d$-dimensional data, which can tell from singular value plot, then $\\mathbf{X}$ is close to a\n",
        "rank-$d$ matrix, i.e., $\\sigma_j\\approx 0$ for $k+1\\le j\\le r$. \n",
        "\n",
        "- the amount of information we lose in the sense of Frobenius norm:\n",
        " $$ \\|\\mathbf{X} - \\mathbf{X} \\mathbf{V}_d\\mathbf{V}_d^\\top\\|_F = \\|\\sum_{j=k+1}^r \\sigma_j \\mathbf{u}_j\\mathbf{v}_j^\\top \\|_F = \\sqrt{\\sum_{j=k+1}^r \\sigma_j^2} \\approx 0.$$\n",
        "\n"
      ]
    },
    {
      "cell_type": "markdown",
      "metadata": {
        "id": "D_Mx4aeGtBGS"
      },
      "source": [
        "## Example: speed up machine learning\n",
        "MNIST database\n"
      ]
    },
    {
      "cell_type": "code",
      "metadata": {
        "id": "vr_OXyy9tfqe",
        "colab": {
          "base_uri": "https://localhost:8080/"
        },
        "outputId": "f696dd2e-c1ab-4eac-ffe3-b4260ba9a6a0"
      },
      "source": [
        "from keras.datasets import mnist\n",
        "(train_X, train_y), (test_X, test_y) = mnist.load_data()\n",
        "Xtr                   = train_X\n",
        "X                     = reshape(Xtr, [60000, 784])\n",
        "\n",
        "#subtract mean\n",
        "X_mean              = np.mean(X, axis=0)\n",
        "X = X - X_mean\n"
      ],
      "execution_count": 2,
      "outputs": [
        {
          "output_type": "stream",
          "name": "stdout",
          "text": [
            "Downloading data from https://storage.googleapis.com/tensorflow/tf-keras-datasets/mnist.npz\n",
            "11493376/11490434 [==============================] - 0s 0us/step\n",
            "11501568/11490434 [==============================] - 0s 0us/step\n"
          ]
        }
      ]
    },
    {
      "cell_type": "code",
      "metadata": {
        "colab": {
          "base_uri": "https://localhost:8080/",
          "height": 282
        },
        "id": "ODRypUJmyjxc",
        "outputId": "f39137fa-2c93-439a-8ef5-f6d3981d9857"
      },
      "source": [
        "\n",
        "# first method use eigen-decomposition of cov matrix \n",
        "\n",
        "X_cov = cov(X.T)\n",
        "eigenvalues, eigenvectors = eig(X_cov) # eigenvalues are not necessarily in decreasing order\n",
        "V     = real(eigenvectors.T) # eigenvectors should be all real, but it has numerical error \n",
        "idxs = argsort(eigenvalues)[::-1]\n",
        "eigenvalues = eigenvalues[idxs]\n",
        "V = V[idxs]\n",
        "scatter(arange(784), eigenvalues) #it shows X is approximately low rank "
      ],
      "execution_count": 3,
      "outputs": [
        {
          "output_type": "execute_result",
          "data": {
            "text/plain": [
              "<matplotlib.collections.PathCollection at 0x7f896d9a6850>"
            ]
          },
          "metadata": {},
          "execution_count": 3
        },
        {
          "output_type": "display_data",
          "data": {
            "image/png": "[encoded data removed]",
            "text/plain": [
              "<Figure size 432x288 with 1 Axes>"
            ]
          },
          "metadata": {
            "needs_background": "light"
          }
        }
      ]
    },
    {
      "cell_type": "code",
      "metadata": {
        "colab": {
          "base_uri": "https://localhost:8080/",
          "height": 593
        },
        "id": "-W26Rxm1ysuX",
        "outputId": "7faf99cf-4bc9-49f9-bc2a-bb4faeb411bb"
      },
      "source": [
        "components = V.T[:, 0 : 200] # choose top 200 PCs\n",
        "projected_X = X.dot(components).dot(components.T) + X_mean # you need to add the mean back to recover the image\n",
        "projected_Xtr=reshape(projected_X , [60000, 28,28])\n",
        "fig, axs = plt.subplots(4, 2,figsize=(10,10))\n",
        "axs = axs.ravel()\n",
        "for i in range(4):\n",
        "  axs[2*i].imshow(Xtr[i], cmap=pyplot.get_cmap('gray')) #left one is the original picture\n",
        "  axs[2*i+1].imshow(projected_Xtr[i], cmap=pyplot.get_cmap('gray')) # right one is the approximated one with top 200 PC. \n",
        "\n"
      ],
      "execution_count": 4,
      "outputs": [
        {
          "output_type": "display_data",
          "data": {
            "image/png": "[encoded data removed]",
            "text/plain": [
              "<Figure size 720x720 with 8 Axes>"
            ]
          },
          "metadata": {
            "needs_background": "light"
          }
        }
      ]
    },
    {
      "cell_type": "code",
      "metadata": {
        "id": "PfTlpbVqJAn4"
      },
      "source": [
        "# second method use SVD\n",
        "u, s, vh =svd(X, full_matrices=False) #make sure full_matrices is false, you don't want to output 60000 by 60000 matrices."
      ],
      "execution_count": 5,
      "outputs": []
    },
    {
      "cell_type": "code",
      "metadata": {
        "colab": {
          "base_uri": "https://localhost:8080/",
          "height": 282
        },
        "id": "o2oxTxEwPq0U",
        "outputId": "f00331ea-9667-4fd2-c1a1-469963bd1f8e"
      },
      "source": [
        "scatter(arange(784), eigenvalues) #it shows X is approximately low rank "
      ],
      "execution_count": 6,
      "outputs": [
        {
          "output_type": "execute_result",
          "data": {
            "text/plain": [
              "<matplotlib.collections.PathCollection at 0x7f896d1d1b90>"
            ]
          },
          "metadata": {},
          "execution_count": 6
        },
        {
          "output_type": "display_data",
          "data": {
            "image/png": "[encoded data removed]",
            "text/plain": [
              "<Figure size 432x288 with 1 Axes>"
            ]
          },
          "metadata": {
            "needs_background": "light"
          }
        }
      ]
    },
    {
      "cell_type": "code",
      "metadata": {
        "colab": {
          "base_uri": "https://localhost:8080/",
          "height": 593
        },
        "id": "u8gJXQ3MMPmC",
        "outputId": "7a40f82d-f1a1-4d24-b762-80004d64ab0a"
      },
      "source": [
        "projected_X = dot(u[:,:200]*s[:200],vh[:200,:])+X_mean  # you need to add the mean back to recover the image\n",
        "projected_Xtr=reshape(projected_X , [60000, 28,28])\n",
        "fig, axs = plt.subplots(4, 2,figsize=(10,10))\n",
        "axs = axs.ravel()\n",
        "for i in range(4):\n",
        "  axs[2*i].imshow(Xtr[i], cmap=pyplot.get_cmap('gray')) #left one is the original picture\n",
        "  axs[2*i+1].imshow(projected_Xtr[i], cmap=pyplot.get_cmap('gray')) # right one is the approximated one with top 200 PC. \n"
      ],
      "execution_count": 7,
      "outputs": [
        {
          "output_type": "display_data",
          "data": {
            "image/png": "[encoded data removed]",
            "text/plain": [
              "<Figure size 720x720 with 8 Axes>"
            ]
          },
          "metadata": {
            "needs_background": "light"
          }
        }
      ]
    },
    {
      "cell_type": "code",
      "metadata": {
        "colab": {
          "base_uri": "https://localhost:8080/",
          "height": 593
        },
        "id": "IUDYBGLmUdBe",
        "outputId": "ccde86dd-b4c8-45df-f0d2-87302ab382de"
      },
      "source": [
        "PC = vh[:9,:] # top 9 PCs\n",
        "PC_image = reshape(PC, [9, 28, 28]) # lets look at top 9 PC look like\n",
        "fig, axs = plt.subplots(3, 3,figsize=(10,10))\n",
        "axs = axs.ravel()\n",
        "for i in range(9):\n",
        "  axs[i].imshow(PC_image[i], cmap=pyplot.get_cmap('gray'))\n"
      ],
      "execution_count": 8,
      "outputs": [
        {
          "output_type": "display_data",
          "data": {
            "image/png": "[encoded data removed]",
            "text/plain": [
              "<Figure size 720x720 with 9 Axes>"
            ]
          },
          "metadata": {
            "needs_background": "light"
          }
        }
      ]
    },
    {
      "cell_type": "markdown",
      "metadata": {
        "id": "2aWmdQFmUTc5"
      },
      "source": [
        "Now each MNIST image is 200 dimensional instead of 784 dimensional, without losing lots of information. You can apply all sorts of ML algorithm (classification and clustering) on this 200 dimensional array. This will significantly speed up your learning. This is extremely important when $D$ is very large. "
      ]
    },
    {
      "cell_type": "markdown",
      "metadata": {
        "id": "7E17CUMDP6No"
      },
      "source": [
        "- mathematically there is no difference whether you calculate PCA on the data matrix directly or on its covariance matrix\n",
        "- the difference is purely due to numerical precision and complexity. Applying SVD directly to the data matrix is numerically more stable than to the covariance matrix"
      ]
    },
    {
      "cell_type": "code",
      "metadata": {
        "id": "B87tG6-NbXO8"
      },
      "source": [
        "# Let's try SVM Hinge Loss\n",
        "Xtr                   = train_X[0:60000, :]\n",
        "train_y_part          = train_y[0:60000]\n",
        "Ytr                   = zeros(train_y_part.size)\n",
        "Ytr[train_y_part==9]=1\n",
        "\n",
        "Xte                   = test_X[0:10000,:]\n",
        "test_y_part           = test_y[0:10000]\n",
        "Yte  = zeros(test_y_part.size)\n",
        "Yte[test_y_part==9]=1\n",
        "\n",
        "Xtrain  = reshape(Xtr, [60000, 784])\n",
        "X       = Xtrain\n",
        "y       = Ytr\n",
        "y[Ytr==0]=-1\n",
        "\n",
        "Xtest  = reshape(Xte, [10000, 784])\n",
        "ytest  = Yte\n",
        "ytest[Yte==0]=-1\n",
        "\n",
        "def predict(x, w, w0):\n",
        "\tactivation = x.dot(w)+w0\n",
        "\treturn activation\n",
        "\n",
        "\n",
        "def train_weights_hinge(X, y, learning_rate_span,lambda_param, n_iter=1000):\n",
        "  N,d = X.shape\n",
        "  w   = np.random.random_sample(d)\n",
        "  w0  = np.random.random_sample(1)\n",
        "\n",
        "  for iter in range(n_iter):\n",
        "    learning_rate = learning_rate_span[iter]\n",
        "    arr = np.arange(N)\n",
        "    random.shuffle(arr)\n",
        "    for i in arr:\n",
        "          condition = y[i] * (w.dot(X[i,:])+w0) >= 1\n",
        "          if condition:\n",
        "            w = w - learning_rate *  w\n",
        "\n",
        "          else:\n",
        "            w  = w - learning_rate * (w - lambda_param *y[i] * X[i,:] )\n",
        "            w0 = w0 - learning_rate * ( -lambda_param * y[i] ) \n",
        "\n",
        "  return w, w0          \n",
        "\n",
        "L=[10**-3, 10**-2]\n",
        "errors = []\n",
        "n_iter = 30\n",
        "n_span = arange(n_iter)\n",
        "learning_rate_span = 1/((1+ 2*n_span)**2)\n"
      ],
      "execution_count": 23,
      "outputs": []
    },
    {
      "cell_type": "code",
      "metadata": {
        "colab": {
          "base_uri": "https://localhost:8080/"
        },
        "id": "8oXtzOd6cBvd",
        "outputId": "a4b94213-628b-41b7-94d8-d339eea286e5"
      },
      "source": [
        "# Hinge loss with dim=784\n",
        "\n",
        "import time\n",
        "start_time = time.time()\n",
        "\n",
        "for l in L:\n",
        "  w,w0 = train_weights_hinge(X, y, learning_rate_span, l, n_iter)\n",
        "  ypred = predict(Xtest, w, w0)\n",
        "  ypred[ypred>=0]=1\n",
        "  ypred[ypred<=0]=-1\n",
        "  test_error = norm(ypred-ytest,0)/10000\n",
        "  errors.append(test_error)\n",
        "  print('For lambda =',l, 'test error is', test_error)\n",
        "\n",
        "\n",
        "print(\"--- %s seconds ---\" % (time.time() - start_time))"
      ],
      "execution_count": 24,
      "outputs": [
        {
          "output_type": "stream",
          "name": "stdout",
          "text": [
            "For lambda = 0.001 test error is 0.053\n",
            "For lambda = 0.01 test error is 0.0496\n",
            "--- 47.50197768211365 seconds ---\n"
          ]
        }
      ]
    },
    {
      "cell_type": "code",
      "metadata": {
        "colab": {
          "base_uri": "https://localhost:8080/"
        },
        "id": "mof_gfFtc_QK",
        "outputId": "85ed1c40-e355-415e-def4-1947056a3c18"
      },
      "source": [
        "# perform PCA to reduce dim\n",
        "X_mean              = np.mean(X, axis=0)\n",
        "X = X - X_mean\n",
        "u, s, vh =svd(X, full_matrices=False)\n",
        "V = vh.T\n",
        "Z = dot(X, V[:,:200] )\n",
        "\n",
        "Xtest_mean              = np.mean(Xtest, axis=0)\n",
        "Xtest = Xtest -Xtest_mean\n",
        "Ztest = dot(Xtest, V[:,:200])\n",
        "\n",
        "#Now Z, Ztest both only have 200 features. \n",
        "\n",
        "# Hinge loss with dim=200\n",
        "start_time = time.time()\n",
        "\n",
        "for l in L:\n",
        "  w,w0 = train_weights_hinge(Z, y, learning_rate_span, l, n_iter)\n",
        "  ypred = predict(Ztest, w, w0)\n",
        "  ypred[ypred>=0]=1\n",
        "  ypred[ypred<=0]=-1\n",
        "  test_error = norm(ypred-ytest,0)/10000\n",
        "  errors.append(test_error)\n",
        "  print('For lambda =',l, 'test error is', test_error)\n",
        "\n",
        "\n",
        "print(\"--- %s seconds ---\" % (time.time() - start_time))\n",
        "\n"
      ],
      "execution_count": 25,
      "outputs": [
        {
          "output_type": "stream",
          "name": "stdout",
          "text": [
            "For lambda = 0.001 test error is 0.0428\n",
            "For lambda = 0.01 test error is 0.0576\n",
            "--- 38.47349405288696 seconds ---\n"
          ]
        }
      ]
    }
  ]
}