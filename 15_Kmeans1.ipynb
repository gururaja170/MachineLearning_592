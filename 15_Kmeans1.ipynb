{
  "nbformat": 4,
  "nbformat_minor": 0,
  "metadata": {
    "colab": {
      "name": "15.Kmeans1.ipynb",
      "provenance": [],
      "collapsed_sections": [],
      "authorship_tag": "ABX9TyPTuhSvS+z/Y2B/qcQu+ii1",
      "include_colab_link": true
    },
    "kernelspec": {
      "name": "python3",
      "display_name": "Python 3"
    },
    "language_info": {
      "name": "python"
    }
  },
  "cells": [
    {
      "cell_type": "markdown",
      "metadata": {
        "id": "view-in-github",
        "colab_type": "text"
      },
      "source": [
        "<a href=\"https://colab.research.google.com/github/yexf308/MAT592/blob/main/15_Kmeans1.ipynb\" target=\"_parent\"><img src=\"https://colab.research.google.com/assets/colab-badge.svg\" alt=\"Open In Colab\"/></a>"
      ]
    },
    {
      "cell_type": "code",
      "metadata": {
        "colab": {
          "base_uri": "https://localhost:8080/"
        },
        "id": "ZD8GAAby0A5p",
        "outputId": "55cfe833-3f26-4f46-e32c-ef0184f4a63f"
      },
      "source": [
        "%pylab inline \n",
        "from IPython.display import Image\n",
        "import numpy.linalg as LA"
      ],
      "execution_count": 1,
      "outputs": [
        {
          "output_type": "stream",
          "name": "stdout",
          "text": [
            "Populating the interactive namespace from numpy and matplotlib\n"
          ]
        }
      ]
    },
    {
      "cell_type": "markdown",
      "metadata": {
        "id": "IEBYiPlFweTh"
      },
      "source": [
        "# Unsupervised Learning and Clustering\n",
        "**Unsupervised learning** is a type of machine learning in which the algorithm is not provided with any pre-assigned labels or scores for the training data $\\{\\mathbf{x}^{(i)}\\}_{i=1}^N$. \n",
        "\n",
        "As a result, unsupervised learning algorithms must first self-discover any naturally occurring patterns in that training data set. \n",
        "\n",
        " **Clustering**\n",
        " - Given: unlabeled data samples $\\{\\mathbf{x}^{(i)}\\}_{i=1}^N$; specify number of clusters/partitions $K$\n",
        "\n",
        " - Goal: group the samples into $k$ clusters, $A(\\mathbf{x}^{(i)})\\in \\{1, \\dots, K\\}$.\n",
        "\n",
        " - The only information to use is the similarity between data samples; cluster\n",
        "samples based on their mutual similarities. \n",
        "\n",
        "- Good clustering should have \n",
        " - high within-cluster similarity\n",
        "\n",
        " - small inter-cluster similarity\n"
      ]
    },
    {
      "cell_type": "markdown",
      "metadata": {
        "id": "cl0A6tYRQCrx"
      },
      "source": [
        "### Similarity \n",
        "Similarity is inversely related to distance. \n",
        "\n",
        "- Euclidean distance: $d(\\mathbf{x},\\mathbf{z})=\\|\\mathbf{x}-\\mathbf{z}\\|_2$.\n",
        "\n",
        "- kernelized distance: $d(\\mathbf{x},\\mathbf{z})= \\|\\phi(\\mathbf{x}) - \\phi(\\mathbf{z})\\|_2$ for some nonlinear mapping $\\phi$. \n",
        "\n",
        "Different choices of distances lead to different clustering. "
      ]
    },
    {
      "cell_type": "code",
      "metadata": {
        "colab": {
          "base_uri": "https://localhost:8080/",
          "height": 375
        },
        "id": "Mzjp-MoZ0Dh9",
        "outputId": "be00f8c9-11f8-435c-e20b-5c4fc992bec3"
      },
      "source": [
        "Image(url='https://github.com/yexf308/MAT592/blob/main/image/clustering.png?raw=true', width=900)"
      ],
      "execution_count": 2,
      "outputs": [
        {
          "output_type": "execute_result",
          "data": {
            "text/html": [
              "<img src=\"https://github.com/yexf308/MAT592/blob/main/image/clustering.png?raw=true\" width=\"900\"/>"
            ],
            "text/plain": [
              "<IPython.core.display.Image object>"
            ]
          },
          "metadata": {},
          "execution_count": 2
        }
      ]
    },
    {
      "cell_type": "code",
      "metadata": {
        "colab": {
          "base_uri": "https://localhost:8080/",
          "height": 489
        },
        "id": "d2tCR48eT-47",
        "outputId": "242aa6bf-ff1c-4d5a-e3a7-003d4308b2d7"
      },
      "source": [
        "Image(url='https://github.com/yexf308/MAT592/blob/main/image/clustering_multiple.png?raw=true', width=900)"
      ],
      "execution_count": 3,
      "outputs": [
        {
          "output_type": "execute_result",
          "data": {
            "text/html": [
              "<img src=\"https://github.com/yexf308/MAT592/blob/main/image/clustering_multiple.png?raw=true\" width=\"900\"/>"
            ],
            "text/plain": [
              "<IPython.core.display.Image object>"
            ]
          },
          "metadata": {},
          "execution_count": 3
        }
      ]
    },
    {
      "cell_type": "markdown",
      "metadata": {
        "id": "Orxa0Qk1UIhB"
      },
      "source": [
        "### Clustering is subjective\n",
        "- Non-trivial to say one partition is always better than others. \n",
        "\n",
        "- Each algorithm has two parts:\n",
        " - Define the **objective function** and its **distance function**. \n",
        "\n",
        " - Design an algorithm to minimize this **objective function**.\n"
      ]
    },
    {
      "cell_type": "markdown",
      "metadata": {
        "id": "YbMdwU08VMbh"
      },
      "source": [
        "# K-means clustering\n",
        "Which is the following is better? "
      ]
    },
    {
      "cell_type": "code",
      "metadata": {
        "colab": {
          "base_uri": "https://localhost:8080/",
          "height": 319
        },
        "id": "wRlOVrauV6Og",
        "outputId": "5277d3e2-bf64-4d84-d240-280dae24f1b5"
      },
      "source": [
        "Image(url='https://github.com/yexf308/MAT592/blob/main/image/clustering1.png?raw=true', width=400)"
      ],
      "execution_count": 4,
      "outputs": [
        {
          "output_type": "execute_result",
          "data": {
            "text/html": [
              "<img src=\"https://github.com/yexf308/MAT592/blob/main/image/clustering1.png?raw=true\" width=\"400\"/>"
            ],
            "text/plain": [
              "<IPython.core.display.Image object>"
            ]
          },
          "metadata": {},
          "execution_count": 4
        }
      ]
    },
    {
      "cell_type": "code",
      "metadata": {
        "colab": {
          "base_uri": "https://localhost:8080/",
          "height": 321
        },
        "id": "G9BZiCqtWIBm",
        "outputId": "315f70e7-79b8-47b6-bc99-c887ec2e95a9"
      },
      "source": [
        "Image(url='https://github.com/yexf308/MAT592/blob/main/image/clustering2.png?raw=true', width=400)"
      ],
      "execution_count": 5,
      "outputs": [
        {
          "output_type": "execute_result",
          "data": {
            "text/html": [
              "<img src=\"https://github.com/yexf308/MAT592/blob/main/image/clustering2.png?raw=true\" width=\"400\"/>"
            ],
            "text/plain": [
              "<IPython.core.display.Image object>"
            ]
          },
          "metadata": {},
          "execution_count": 5
        }
      ]
    },
    {
      "cell_type": "markdown",
      "metadata": {
        "id": "lflZnBZyXGVy"
      },
      "source": [
        "We want the blue points $\\mathcal{C}_{blue}$ looks much more clustered. So?\n",
        "\n",
        " Mathematically, we want they have the smaller within-cluster variance. \n",
        "$$\\sum_{\\mathbf{x}^{(i)}\\in \\mathcal{C}_{blue}} \\|\\mathbf{x}^{(i)}-\\mu_{blue}\\|_2^2 = |\\mathcal{C}_{blue}|\\cdot \\text{Var}(\\mathcal{C}_{blue})$$\n",
        "with $\\mu_{blue} = \\frac{1}{|\\mathcal{C}_{blue}|}\\sum_{\\mathbf{x}^{(i)}\\in \\mathcal{C}_{blue}} \\mathbf{x}^{(i)}$. "
      ]
    },
    {
      "cell_type": "markdown",
      "metadata": {
        "id": "A0tb_Rc8W-am"
      },
      "source": [
        "### K-means algorithm\n",
        "Given dataset $\\{\\mathbf{x}^{(1)}, \\dots,\\mathbf{x}^{(N)} \\}\\subset \\mathbb{R}^d$ and the number of clusters $K$\n",
        "\n",
        "- use Euclidean distance as similarity criteria\n",
        "\n",
        "- given a cluster of points $\\mathcal{C}$, the mean $\\mu$ of data points is defined as the centroid of the cluster $\\mathcal{C}$.\n",
        "\n",
        "- **Goal**: find the $k$ clusters $\\mathcal{C}_1, \\dots, K$ and their centroids $\\mu= \\{\\mu_1, \\dots, \\mu_K\\}$ that minimize the total within cluster variance, i.e., the objective function is \n",
        " $$ \\min_{\\mu\\in\\mathbb{R}^{d\\times K}}\\sum_{j=1}^K \\sum_{\\mathbf{x}^{(i)}\\in \\mathcal{C}_j}\\|\\mathbf{x}^{(i)}-\\mu_j\\|^2$$\n",
        "\n",
        " The cost function also known as **distortion**, can be rewritten as \n",
        " $$ J(\\mathbf{M}, \\mathbf{Z})=\\|\\mathbf{X}-\\mathbf{Z}\\mathbf{M}^\\top\\|_F^2$$\n",
        "where $\\mathbf{X}\\in \\mathbb{R}^{N\\times D}, \\mathbf{Z}\\in [0,1]^{N\\times K}$ and $\\mathbf{M}^{D\\times K}$ containing the centroids $\\mu_j$ in its columns. \n",
        "\n",
        "-  Assign $\\mathbf{x}^{(i)}$ to the cluster with the closest centroid, i.e., the cluster membership of $\\mathbf{x}^{(i)}$ is \n",
        "$$ \\text{arg}\\min_{1\\le c\\le K}\\|\\mathbf{x}^{(i)} -\\mu_c \\|_2^2\n",
        "$$\n",
        "\n",
        "Difficulty: very hard to find the derivative for this objective function. "
      ]
    },
    {
      "cell_type": "markdown",
      "metadata": {
        "id": "P1QmfeyrvalX"
      },
      "source": [
        "### Rewrite objective function\n",
        "The distortion value is \n",
        "$$J = \\sum_{i=1}^N\\sum_{j=1}^K r_{ij}\\|\\mathbf{x}^{(i)}-\\mu_j\\|_2^2$$\n",
        "where $r_{ij}\\in \\{0,1\\}$ is an indicator variable \n",
        "$$r_{ij}=1 \\text{ if and only if } \\mathbf{x}^{(i)}\\in \\mathcal{C}_{j}$$\n",
        "\n",
        "### Lloyd's algorithm (1957)\n",
        "Main idea: **alternative optimization** between $\\{r_{ij}\\}$ and $\\{\\mu_j\\}$\n",
        "\n",
        "\n",
        "---\n",
        "\n",
        "\n",
        "- **Step 0**: Initialize $\\{\\mu_j\\}$ to some values\n",
        "\n",
        "- **Step 1**: Fix $\\{\\mu_j\\}$ and minimize over $\\{r_{ij}\\}$: \n",
        "   \n",
        "   Solve the inner minimization by finding the\n",
        "nearest centroid (i.e., cluster membership) for each $\\mathbf{x}^{(i)}$, \n",
        "$r_{ij} = \\begin{cases} 1 & \\text{if } j= \\text{arg}\\min_k \\|\\mathbf{x}^{(i)}-\\mu_k\\|_2^2 \\\\ 0 & \\text{Otherwise}\\end{cases}$.\n",
        "\n",
        "    Equivalently,\n",
        "    - Assign each $\\mathbf{x}^{(i)}$ to the nearest center: $A(\\mathbf{x}^{(i)})= \\text{arg}\\min_j ||\\mathbf{x}^{(i)}-\\mu_j||_2^2$. \n",
        "\n",
        "  - Update the clusters $\\mathcal{C}_j=\\{\\mathbf{x}^{(i)}: A(\\mathbf{x}^{(i)})=j\\}$ for $j=1,\\dots, K  $.\n",
        "\n",
        "\n",
        "- **Step 2**:  Fix $\\{r_{ij}\\}$ and minimize over $\\{\\mu_j\\}$: \n",
        "\n",
        "   Solve the outer minimization w.r.t $\\mu$ to update the centroids\n",
        "   $\\mu_j=\\frac{\\sum_i r_{ij}\\mathbf{x}^{(i)}}{\\sum_i r_{ij}}$. \n",
        "     \n",
        "     Equivalently, \n",
        "     - Calculate the mean of each cluster $\\mathcal{C_j}$: \n",
        "     $\\mu_j=\\frac{1}{|\\mathcal{C_j}|}\\sum_{\\mathbf{x}^{(i)}\\in \\mathcal{C}_j}\\mathbf{x}^{(i)}$.\n",
        "\n",
        "- **Step 3**: Return to step 1 unless stopping criterion is met.      \n",
        "\n",
        "\n",
        "---\n",
        "\n",
        "\n",
        "\n",
        "Note: \n",
        "- Lloyd's algorithm is descent method, i.e., the distortion value $J$ is monotonically decreasing during iterations.\n",
        "\n",
        "- you may find your result very sensitive to initial values. So it is important to run your algorithm many times to get the distortion value. In practice, one uses 10 random restarts. \n",
        "   "
      ]
    },
    {
      "cell_type": "code",
      "metadata": {
        "colab": {
          "base_uri": "https://localhost:8080/",
          "height": 745
        },
        "id": "LUUZpuzs4wQF",
        "outputId": "51cc5ed8-b3df-4925-87e0-e18080e8ac92"
      },
      "source": [
        "Image(url='https://github.com/yexf308/MAT592/blob/main/image/Kmeans.png?raw=true', width=800)"
      ],
      "execution_count": 6,
      "outputs": [
        {
          "output_type": "execute_result",
          "data": {
            "text/html": [
              "<img src=\"https://github.com/yexf308/MAT592/blob/main/image/Kmeans.png?raw=true\" width=\"800\"/>"
            ],
            "text/plain": [
              "<IPython.core.display.Image object>"
            ]
          },
          "metadata": {},
          "execution_count": 6
        }
      ]
    },
    {
      "cell_type": "code",
      "metadata": {
        "id": "I4BFLzggT9SU",
        "colab": {
          "base_uri": "https://localhost:8080/",
          "height": 284
        },
        "outputId": "1efbdc2e-0d07-4c0a-a8f8-f559711caf73"
      },
      "source": [
        "from sklearn.datasets import make_blobs\n",
        "\n",
        "def plot_clusters(X, y=None):\n",
        "    plt.scatter(X[:, 0], X[:, 1], c=y, s=1)\n",
        "    plt.xlabel(\"$x_1$\", fontsize=14)\n",
        "    plt.ylabel(\"$x_2$\", fontsize=14, rotation=0)\n",
        "\n",
        "if 0:\n",
        "    blob_centers = np.array(\n",
        "        [[ 0.2,  2.3],\n",
        "         [-1.5 ,  2.3],\n",
        "         [-2.8,  1.8],\n",
        "         [-2.8,  2.8],\n",
        "         [-2.8,  1.3]])\n",
        "    blob_std = np.array([0.4, 0.3, 0.1, 0.1, 0.1])\n",
        "    X, y = make_blobs(n_samples=2000, centers=blob_centers,\n",
        "                      cluster_std=blob_std, random_state=7)\n",
        "\n",
        "if 1:\n",
        "    # two off-diagonal blobs\n",
        "    X1, _ = make_blobs(n_samples=1000, centers=((4, -4), (0, 0)), random_state=42)\n",
        "    X1 = X1.dot(np.array([[0.374, 0.95], [0.732, 0.598]]))\n",
        "    # three spherical blobs\n",
        "    blob_centers = np.array(\n",
        "        [[ -4,  1],\n",
        "         [-4 ,  3],\n",
        "         [-4,  -2]])\n",
        "    s = 0.5\n",
        "    blob_std = np.array([s, s, s])\n",
        "    X2, _ = make_blobs(n_samples=1000, centers=blob_centers,\n",
        "                      cluster_std=blob_std, random_state=7)\n",
        "    \n",
        "    X = np.r_[X1, X2]\n",
        "    K = 5\n",
        "    \n",
        "figure()\n",
        "plot_clusters(X)"
      ],
      "execution_count": 7,
      "outputs": [
        {
          "output_type": "display_data",
          "data": {
            "image/png": "[encoded data removed]",
            "text/plain": [
              "<Figure size 432x288 with 1 Axes>"
            ]
          },
          "metadata": {
            "needs_background": "light"
          }
        }
      ]
    },
    {
      "cell_type": "code",
      "metadata": {
        "id": "8RSbqT1g7c7C"
      },
      "source": [
        "def euclidean_distance(x1, x2):\n",
        "    return sqrt(sum((x1 - x2) ** 2))\n",
        "\n",
        "def plot_kmeans(X,clusters, centroids):\n",
        "    fig, ax = plt.subplots(figsize=(12, 8))\n",
        "\n",
        "    for i, index in enumerate(clusters):\n",
        "       point = X[index].T\n",
        "       ax.scatter(*point)\n",
        "\n",
        "    for point in centroids:\n",
        "      ax.scatter(*point, marker=\"x\", color=\"black\", linewidth=2)\n",
        "\n",
        "    plt.show()\n",
        "\n",
        "\n",
        "def mykmeans(X, K, max_iter=100, plot_steps=False):\n",
        "  n_samples, n_features = X.shape\n",
        "  # Step 0: initialize\n",
        "  random_sample_idxs = random.choice(n_samples, K, replace=False)\n",
        "  centroids = [X[idx] for idx in random_sample_idxs]\n",
        "\n",
        "  # Optimize clusters\n",
        "  distortion_list = []\n",
        "  for j in range(max_iter):\n",
        "\n",
        "    # Step 1: Assign samples to closest centroids (create clusters)\n",
        "    clusters = [[] for _ in range(K)]\n",
        "    distortion_curr = 0;\n",
        "    for idx, sample in enumerate(X):\n",
        "       distances     = [euclidean_distance(sample, point) for point in centroids]\n",
        "       closest_index = argmin(distances)\n",
        "       clusters[closest_index].append(idx)\n",
        "       distortion_curr = distortion_curr + min(distances)\n",
        "\n",
        "    distortion_list.append(distortion_curr)   \n",
        "\n",
        "    if plot_steps:\n",
        "      plot_kmeans(X,clusters, centroids)\n",
        "       \n",
        "\n",
        "    # Step 2: Calculate new centroids from the clusters   \n",
        "    centroids_old = centroids\n",
        "    centroids     = zeros((K, n_features))\n",
        "    for cluster_idx, cluster in enumerate(clusters):\n",
        "      cluster_mean = mean(X[cluster], axis=0)\n",
        "      centroids[cluster_idx] = cluster_mean\n",
        "\n",
        "    if plot_steps:\n",
        "      plot_kmeans(X,clusters, centroids)\n",
        "\n",
        "    # Step 3: check if clusters have changed  \n",
        "      # distances between each old and new centroids, for all centroids\n",
        "    distances = [euclidean_distance(centroids_old[i], centroids[i]) for i in range(K)] \n",
        "    if sum(distances) == 0:\n",
        "      print('Number of iteration is ', j+1)\n",
        "      break\n",
        "\n",
        "  # Classify samples as the index of their clusters\n",
        "  labels = empty(n_samples)\n",
        "  for cluster_idx, cluster in enumerate(clusters):\n",
        "     for sample_index in cluster:\n",
        "        labels[sample_index] = cluster_idx\n",
        "  \n",
        "  \n",
        "  return labels, clusters, centroids, distortion_list\n",
        "\n"
      ],
      "execution_count": 8,
      "outputs": []
    },
    {
      "cell_type": "code",
      "metadata": {
        "colab": {
          "base_uri": "https://localhost:8080/"
        },
        "id": "Sikb3M_ZG_T8",
        "outputId": "32314a7b-7b72-4265-d63f-e229f59b503c"
      },
      "source": [
        "labels, clusters, centroids, distortion_list = mykmeans(X,5,  max_iter=200, plot_steps=False)"
      ],
      "execution_count": 9,
      "outputs": [
        {
          "output_type": "stream",
          "name": "stdout",
          "text": [
            "Number of iteration is  24\n"
          ]
        }
      ]
    },
    {
      "cell_type": "code",
      "metadata": {
        "colab": {
          "base_uri": "https://localhost:8080/",
          "height": 282
        },
        "id": "1KBgq6dfd6gC",
        "outputId": "0c2c590d-3ac6-43af-bd39-c7fcff56f251"
      },
      "source": [
        "scatter(arange(len(distortion_list)),distortion_list)"
      ],
      "execution_count": 10,
      "outputs": [
        {
          "output_type": "execute_result",
          "data": {
            "text/plain": [
              "<matplotlib.collections.PathCollection at 0x7fe163712a90>"
            ]
          },
          "metadata": {},
          "execution_count": 10
        },
        {
          "output_type": "display_data",
          "data": {
            "image/png": "[encoded data removed]",
            "text/plain": [
              "<Figure size 432x288 with 1 Axes>"
            ]
          },
          "metadata": {
            "needs_background": "light"
          }
        }
      ]
    },
    {
      "cell_type": "code",
      "metadata": {
        "colab": {
          "base_uri": "https://localhost:8080/"
        },
        "id": "RFmKfD3MH8de",
        "outputId": "00910fb5-0f6a-489f-ef5a-a284603f33da"
      },
      "source": [
        "print(centroids)"
      ],
      "execution_count": 11,
      "outputs": [
        {
          "output_type": "stream",
          "name": "stdout",
          "text": [
            "[[-3.97157853  2.9374411 ]\n",
            " [-3.55104622  0.77637503]\n",
            " [-3.95013387 -2.0160101 ]\n",
            " [-0.28183157 -0.25322565]\n",
            " [-0.48505929  1.83799099]]\n"
          ]
        }
      ]
    },
    {
      "cell_type": "code",
      "metadata": {
        "colab": {
          "base_uri": "https://localhost:8080/",
          "height": 301
        },
        "id": "f8XvnSkSIeTZ",
        "outputId": "d0b5886b-f44a-46e2-e15c-0d6364970bfc"
      },
      "source": [
        "figure()\n",
        "plot_clusters(X)\n",
        "scatter(centroids[:,0],centroids[:,1],marker=\"x\", color=\"black\", linewidth=2)"
      ],
      "execution_count": 12,
      "outputs": [
        {
          "output_type": "execute_result",
          "data": {
            "text/plain": [
              "<matplotlib.collections.PathCollection at 0x7fe163bad8d0>"
            ]
          },
          "metadata": {},
          "execution_count": 12
        },
        {
          "output_type": "display_data",
          "data": {
            "image/png": "[encoded data removed]",
            "text/plain": [
              "<Figure size 432x288 with 1 Axes>"
            ]
          },
          "metadata": {
            "needs_background": "light"
          }
        }
      ]
    },
    {
      "cell_type": "code",
      "metadata": {
        "id": "9b-86jfGSiAe"
      },
      "source": [
        "# for test data, this assign to its neatest centroid. \n",
        "def mykmeans_predict(X_test, centroids):\n",
        "  n_samples, n_features = X_test.shape\n",
        "  labels = empty(n_samples)\n",
        "  for idx, sample in enumerate(X_test):\n",
        "    distances     = [euclidean_distance(sample, point) for point in centroids]\n",
        "    closest_index = argmin(distances)\n",
        "    labels[idx]   = closest_index\n",
        "\n",
        "  return labels\n",
        "\n",
        "# illustration of K-means clustering applied to some points in the 2d plane. We see\n",
        "# that the method induces a Voronoi tessellation of the points.\n",
        "def plot_decision_boundaries(centroids, X, distortion, resolution=1000):\n",
        "    mins = X.min(axis=0) - 0.1\n",
        "    maxs = X.max(axis=0) + 0.1\n",
        "    xx, yy = np.meshgrid(np.linspace(mins[0], maxs[0], resolution),\n",
        "                         np.linspace(mins[1], maxs[1], resolution))\n",
        "    Z = mykmeans_predict(np.c_[xx.ravel(), yy.ravel()],centroids )\n",
        "    Z = Z.reshape(xx.shape)\n",
        "\n",
        "    figure()\n",
        "    plt.contourf(Z, extent=(mins[0], maxs[0], mins[1], maxs[1]),\n",
        "                cmap=\"Pastel2\")\n",
        "    plt.contour(Z, extent=(mins[0], maxs[0], mins[1], maxs[1]),\n",
        "                linewidths=1, colors='k')\n",
        "    plt. title('distortion = {:0.2f}'.format(distortion, fontsize=14))\n",
        "    plot_clusters(X)\n",
        "    scatter(centroids[:,0],centroids[:,1],marker=\"x\", color=\"black\", linewidth=2)"
      ],
      "execution_count": 13,
      "outputs": []
    },
    {
      "cell_type": "code",
      "metadata": {
        "colab": {
          "base_uri": "https://localhost:8080/",
          "height": 300
        },
        "id": "wELV7nEKXQhZ",
        "outputId": "90cf0513-595f-4195-9a72-8bf1d2e9f23c"
      },
      "source": [
        "plot_decision_boundaries(centroids, X, distortion_list[-1], resolution=200)"
      ],
      "execution_count": 14,
      "outputs": [
        {
          "output_type": "display_data",
          "data": {
            "image/png": "[encoded data removed]",
            "text/plain": [
              "<Figure size 432x288 with 1 Axes>"
            ]
          },
          "metadata": {
            "needs_background": "light"
          }
        }
      ]
    }
  ]
}