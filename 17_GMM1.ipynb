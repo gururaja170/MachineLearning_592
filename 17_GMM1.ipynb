{
  "nbformat": 4,
  "nbformat_minor": 0,
  "metadata": {
    "colab": {
      "name": "17.GMM1.ipynb",
      "provenance": [],
      "collapsed_sections": [],
      "authorship_tag": "ABX9TyPcdpoW80iDtHp9Hwq4Qpf/",
      "include_colab_link": true
    },
    "kernelspec": {
      "name": "python3",
      "display_name": "Python 3"
    },
    "language_info": {
      "name": "python"
    }
  },
  "cells": [
    {
      "cell_type": "markdown",
      "metadata": {
        "id": "view-in-github",
        "colab_type": "text"
      },
      "source": [
        "<a href=\"https://colab.research.google.com/github/yexf308/MAT592/blob/main/17_GMM1.ipynb\" target=\"_parent\"><img src=\"https://colab.research.google.com/assets/colab-badge.svg\" alt=\"Open In Colab\"/></a>"
      ]
    },
    {
      "cell_type": "code",
      "metadata": {
        "colab": {
          "base_uri": "https://localhost:8080/"
        },
        "id": "00O1h08CVp2m",
        "outputId": "3d4d5c5d-f1bb-482b-f9d3-b429e5af4d46"
      },
      "source": [
        "%pylab inline \n",
        "from IPython.display import Image\n",
        "import numpy.linalg as LA"
      ],
      "execution_count": 1,
      "outputs": [
        {
          "output_type": "stream",
          "name": "stdout",
          "text": [
            "Populating the interactive namespace from numpy and matplotlib\n"
          ]
        }
      ]
    },
    {
      "cell_type": "markdown",
      "metadata": {
        "id": "1GrKIrmFAZ1z"
      },
      "source": [
        "# Gaussian Mixture Models\n",
        "More on clustering"
      ]
    },
    {
      "cell_type": "markdown",
      "metadata": {
        "id": "ViWlx1LzrEdX"
      },
      "source": [
        "## Gaussian distribution revisited\n",
        "### Geometry\n",
        "Probability density function for $\\mathcal{N}(\\mu, \\Sigma)$ with the mean $\\mu\\in\\mathbb{R}^d$ and covariance $\\Sigma\\in \\mathbb{R}^{d\\times d}$ where is PD matrix.\n",
        "$$ p(\\mathbf{x}|\\mu, \\Sigma) = \\frac{1}{\\sqrt{(2\\pi)^d}|\\Sigma|}\\exp\\left(-\\frac{1}{2}(\\mathbf{x}-\\mu)^\\top\\Sigma^{-1}(\\mathbf{x}-\\mu)\\right)$$\n",
        "\n",
        "If $\\Sigma = \\sigma \\mathbb{I}_d $ where $\\mathbb{I}_d$ is identity matrix, and $d=2$. \n",
        "\n",
        "- Each circle is a contour of PDF $p(\\mathbf{x}|\\mu, \\Sigma)$ which is constant value, on which we have euqal probability to generate a point. \n",
        "\n",
        "- The generated cluster is round shaped. \n"
      ]
    },
    {
      "cell_type": "code",
      "metadata": {
        "colab": {
          "base_uri": "https://localhost:8080/",
          "height": 478
        },
        "id": "vZSX8YXwW72d",
        "outputId": "48945173-4ea3-4699-d0d4-6986ed87aa81"
      },
      "source": [
        "\n",
        "display(Image(url='https://github.com/yexf308/MAT592/blob/main/image/Gaussian1.png?raw=true', width=300))\n",
        "display(Image(url='https://github.com/yexf308/MAT592/blob/main/image/Gaussian2.png?raw=true', width=300))\n"
      ],
      "execution_count": 23,
      "outputs": [
        {
          "output_type": "display_data",
          "data": {
            "text/html": [
              "<img src=\"https://github.com/yexf308/MAT592/blob/main/image/Gaussian1.png?raw=true\" width=\"300\"/>"
            ],
            "text/plain": [
              "<IPython.core.display.Image object>"
            ]
          },
          "metadata": {}
        },
        {
          "output_type": "display_data",
          "data": {
            "text/html": [
              "<img src=\"https://github.com/yexf308/MAT592/blob/main/image/Gaussian2.png?raw=true\" width=\"300\"/>"
            ],
            "text/plain": [
              "<IPython.core.display.Image object>"
            ]
          },
          "metadata": {}
        }
      ]
    },
    {
      "cell_type": "markdown",
      "metadata": {
        "id": "QV3XengRXUcb"
      },
      "source": [
        "For the general $\\Sigma$, the interpretation of the contours is?"
      ]
    },
    {
      "cell_type": "code",
      "metadata": {
        "colab": {
          "base_uri": "https://localhost:8080/",
          "height": 480
        },
        "id": "xNnZ_SOSZjPS",
        "outputId": "ebdf00e7-c4af-4fa7-a74d-5c24ed32e522"
      },
      "source": [
        "display(Image(url='https://github.com/yexf308/MAT592/blob/main/image/Gaussian3.png?raw=true', width=300))\n",
        "display(Image(url='https://github.com/yexf308/MAT592/blob/main/image/Gaussian4.png?raw=true', width=300))"
      ],
      "execution_count": 15,
      "outputs": [
        {
          "output_type": "display_data",
          "data": {
            "text/html": [
              "<img src=\"https://github.com/yexf308/MAT592/blob/main/image/Gaussian3.png?raw=true\" width=\"300\"/>"
            ],
            "text/plain": [
              "<IPython.core.display.Image object>"
            ]
          },
          "metadata": {}
        },
        {
          "output_type": "display_data",
          "data": {
            "text/html": [
              "<img src=\"https://github.com/yexf308/MAT592/blob/main/image/Gaussian4.png?raw=true\" width=\"300\"/>"
            ],
            "text/plain": [
              "<IPython.core.display.Image object>"
            ]
          },
          "metadata": {}
        }
      ]
    },
    {
      "cell_type": "markdown",
      "metadata": {
        "id": "EI8ddqcbbJlf"
      },
      "source": [
        "For general $\\Sigma$, \n",
        "\n",
        "- Eigenvalues $\\lambda_1$ and $\\lambda_2$ of covariance $\\Sigma$ specify the axis ratio. \n",
        "\n",
        "- Eigenvectors $u_1, u_2$ specify the rotation of axes.\n",
        "\n",
        "- The closer $\\mathbf{x}$ is to $\\mu$, the higher chance/likelihood to generate $\\mathbf{x}$.\n",
        "\n",
        "- the generated cluster is ellipse-like. "
      ]
    },
    {
      "cell_type": "markdown",
      "metadata": {
        "id": "HXlpZjillwRc"
      },
      "source": [
        "### Learning Gaussian distribution\n",
        "\n",
        "Given samples $\\{\\mathbf{x}^{(i)}\\}_{i=1}^N\\subset \\mathbb{R}^d$ indepndently drawn from **unknown** Gaussian $\\mathcal{N}(\\mu, \\Sigma)$, how to approximate $\\mu$ and $\\Sigma$? Maximum likelihood estimation (MLE)!\n",
        "\n",
        "- The likelihood for generating $\\mathbf{x}^{(i)}$: \n",
        "$$ \\ell(\\mu, \\Sigma; \\mathbf{x}^{(i)}):=p(\\mathbf{x}^{(i)}|\\mu, \\Sigma) = \\frac{1}{\\sqrt{(2\\pi)^d}|\\Sigma|}\\exp\\left(-\\frac{1}{2}(\\mathbf{x}^{(i)}-\\mu)^\\top\\Sigma^{-1}(\\mathbf{x}^{(i)}-\\mu)\\right)$$\n",
        "\n",
        "- Define likelihood for the whole sample dataset: \n",
        "$$\\ell(\\mu, \\Sigma)=\\Pi_{i=1}^N p(\\mathbf{x}^{(i)}|\\mu, \\Sigma) $$\n",
        "  $\\ell(\\mu, \\Sigma)$ measures how likely the sample dataset is generated from $\\mathcal{N}(\\mu, \\Sigma)$. \n",
        "\n",
        "- Find the optimal $\\mu$ and $\\Sigma$ that make the negative log-likelihood minimized $\\min_{\\mu,\\Sigma}-\\log\\ell(\\mu, \\Sigma)$:\n",
        "\\begin{align}\n",
        "\\text{NLL}(\\mu,\\Sigma)=-\\log\\ell(\\mu, \\Sigma) &= -\\sum_{i=1}^N \\log(p(\\mathbf{x}^{(i)}|\\mu, \\Sigma)) \n",
        "=\\frac{Nd}{2}\\log(2\\pi)-\\frac{N}{2}\\log(|\\Sigma^{-1}|)+\\frac{1}{2}\\sum_{i=1}^N \\textrm{tr}\\left((\\mathbf{x}^{(i)}-\\mu)(\\mathbf{x}^{(i)}-\\mu)^\\top\\Sigma^{-1}\\right)\n",
        "\\end{align}\n",
        "\n",
        "- Analytically solve it by setting \n",
        "$$\\frac{\\partial \\text{NLL}(\\mu,\\Sigma)}{\\partial \\mu} =0,\\qquad \\frac{\\partial \\text{NLL}(\\mu, \\Sigma)}{\\partial \\Sigma^{-1}}=0 $$"
      ]
    },
    {
      "cell_type": "markdown",
      "metadata": {
        "id": "j-0w6z325qZp"
      },
      "source": [
        "Using the fact that \n",
        "$ \\frac{\\partial w^\\top A w}{\\partial w}=2Aw$, \n",
        "\\begin{align}\n",
        "\\frac{\\partial \\text{NLL}(\\mu,\\Sigma)}{\\partial \\mu} =\\sum_{i=1}^N \\Sigma^{-1}(\\mathbf{x}^{(i)}-\\mu)=0\n",
        "\\end{align}\n",
        "Since $\\Sigma$ is PD,\n",
        "the MLE is $\\hat{\\mu}=\\frac{1}{N}\\sum_{i=1}^N \\mathbf{x}^{(i)}$ which is the sample mean. \n",
        "\n",
        "Using the fact that \n",
        "- The trace is invariant under cyclic permutations of matrix products:\n",
        "$$ \\textrm{tr}(ABC) =\\textrm{tr}(CAB) =\\textrm{tr}(BCA)  $$\n",
        "\n",
        "- Since $\\mathbf{x}^\\top A \\mathbf{x}$ is a scalar, we can take its trace and obtain the same value:\n",
        "$$\\mathbf{x}^\\top A \\mathbf{x} =\\textrm{tr}(\\mathbf{x}^\\top A \\mathbf{x})=\\textrm{tr}(\\mathbf{x}^\\top  \\mathbf{x}A) $$\n",
        "\n",
        "- $\\frac{\\partial}{\\partial A}\\textrm{tr}(AB)=B^\\top$\n",
        "\n",
        "- $\\frac{\\partial}{\\partial A}\\log|A| = A^{-\\top} $\n",
        "\n",
        "- The determinant of the inverse of an invertible matrix is the inverse of the determinant, $|A|=\\frac{1}{|A^{-1}|}$\n",
        "\n",
        "Since $\\Sigma^\\top =\\Sigma$, \n",
        "$$ \\frac{\\partial\\text{NLL}(\\mu,\\Sigma)}{\\partial \\Sigma^{-1}} = -\\frac{N}{2}\\Sigma +\\frac{1}{2}\\sum_{i=1}^N (\\mathbf{x}^{(i)}-\\mu) (\\mathbf{x}^{(i)}-\\mu)^\\top$$\n",
        "Then the MLE is \n",
        "$$ \\hat{\\Sigma}= \\frac{1}{N}\\sum_{i=1}^N (\\mathbf{x}^{(i)}-\\hat\\mu) (\\mathbf{x}^{(i)}-\\hat\\mu)^\\top$$\n",
        "\n",
        "Note MLE is slightly biased since the unbiased one uses $\\frac{1}{N-1}$. \n"
      ]
    },
    {
      "cell_type": "code",
      "metadata": {
        "colab": {
          "base_uri": "https://localhost:8080/"
        },
        "id": "XngMd_Z2C-xA",
        "outputId": "b66dca4a-268a-4d69-9211-9db214c80e83"
      },
      "source": [
        "# Sample from:\n",
        "d = 2 # Number of dimensions\n",
        "mean = np.matrix([[0.], [1.]])\n",
        "covariance = np.matrix([\n",
        "    [1, 0.8], \n",
        "    [0.8, 1]\n",
        "])\n",
        "\n",
        "# Create L\n",
        "L = np.linalg.cholesky(covariance)\n",
        "print(L)\n",
        "# Sample X from standard normal\n",
        "n = 500  # Samples to draw\n",
        "X = np.random.normal(size=(d, n))\n",
        "# Apply the transformation\n",
        "Y = L.dot(X) + mean"
      ],
      "execution_count": 25,
      "outputs": [
        {
          "output_type": "stream",
          "name": "stdout",
          "text": [
            "[[1.  0. ]\n",
            " [0.8 0.6]]\n"
          ]
        }
      ]
    },
    {
      "cell_type": "code",
      "metadata": {
        "id": "2vZh16cnDIde"
      },
      "source": [
        "def multivariate_normal(x, d, mean, covariance):\n",
        "    \"\"\"pdf of the multivariate normal distribution.\"\"\"\n",
        "    x_m = x - mean\n",
        "    return (1. / (np.sqrt((2 * np.pi)**d * np.linalg.det(covariance))) * \n",
        "            np.exp(-(np.linalg.solve(covariance, x_m).T.dot(x_m)) / 2))\n",
        "\n",
        "\n",
        "# Plot bivariate distribution\n",
        "def generate_surface(mean, covariance, d):\n",
        "    \"\"\"Helper function to generate density surface.\"\"\"\n",
        "    nb_of_x = 50 # grid size\n",
        "    x1s = np.linspace(-5, 5, num=nb_of_x)\n",
        "    x2s = np.linspace(-5, 5, num=nb_of_x)\n",
        "    x1, x2 = np.meshgrid(x1s, x2s) # Generate grid\n",
        "    pdf = np.zeros((nb_of_x, nb_of_x))\n",
        "    # Fill the cost matrix for each combination of weights\n",
        "    for i in range(nb_of_x):\n",
        "        for j in range(nb_of_x):\n",
        "            pdf[i,j] = multivariate_normal(\n",
        "                np.matrix([[x1[i,j]], [x2[i,j]]]), \n",
        "                d, mean, covariance)\n",
        "    return x1, x2, pdf  # x1, x2, pdf(x1,x2)"
      ],
      "execution_count": 28,
      "outputs": []
    },
    {
      "cell_type": "code",
      "metadata": {
        "colab": {
          "base_uri": "https://localhost:8080/",
          "height": 327
        },
        "id": "CFjHkN5HDJG1",
        "outputId": "ab10e46d-6fc0-4fc9-da01-c5fb3cc3f79d"
      },
      "source": [
        "# Plot the samples and the distribution\n",
        "fig, ax = plt.subplots(figsize=(6, 4.5))\n",
        "# Plot bivariate distribution\n",
        "x1, x2, p = generate_surface(mean, covariance, d)\n",
        "con = ax.contourf(x1, x2, p, 33, cmap=cm.YlGnBu)\n",
        "# Plot samples\n",
        "ax.plot(Y[0,:], Y[1,:], 'ro', alpha=.6,\n",
        "        markeredgecolor='k', markeredgewidth=0.5)\n",
        "ax.set_xlabel('$y_1$', fontsize=13)\n",
        "ax.set_ylabel('$y_2$', fontsize=13)\n",
        "ax.axis([-2.5, 2.5, -1.5, 3.5])\n",
        "ax.set_aspect('equal')\n",
        "ax.set_title('Samples from bivariate normal distribution')\n",
        "cbar = plt.colorbar(con)\n",
        "cbar.ax.set_ylabel('density: $p(y_1, y_2)$', fontsize=13)\n",
        "plt.show()"
      ],
      "execution_count": 29,
      "outputs": [
        {
          "output_type": "display_data",
          "data": {
            "image/png": "[encoded data removed]",
            "text/plain": [
              "<Figure size 432x324 with 2 Axes>"
            ]
          },
          "metadata": {
            "needs_background": "light"
          }
        }
      ]
    },
    {
      "cell_type": "code",
      "metadata": {
        "colab": {
          "base_uri": "https://localhost:8080/"
        },
        "id": "DKTvah-pDlAS",
        "outputId": "ef32ea51-c9ee-44b7-b44a-70229101b7e0"
      },
      "source": [
        "print('the sample mean vector is\\n', Y.mean(1))\n",
        "print('the sample cov is \\n', cov(Y))"
      ],
      "execution_count": 38,
      "outputs": [
        {
          "output_type": "stream",
          "name": "stdout",
          "text": [
            "the sample mean vector is\n",
            " [[0.06215127]\n",
            " [1.0263609 ]]\n",
            "the sample cov is \n",
            " [[0.99439744 0.81251697]\n",
            " [0.81251697 1.03817889]]\n"
          ]
        }
      ]
    },
    {
      "cell_type": "markdown",
      "metadata": {
        "id": "CWPDq6kSE0aj"
      },
      "source": [
        "## Gaussian mixture model for clustering\n",
        "Gaussian mixture model assumes that dataset $\\{\\mathbf{x}^{(i)}\\}_{i=1}^N\\subset \\mathbb{R}^d$ are independently sampled from $K$ clusters through a generative process:\n",
        "\n",
        "- for $i$-th data point, generate its cluster membership $z^{(i)}\\in \\{1, \\dots, K\\}$ from the multinomial distribution $\\pi =(\\pi_1, \\dots, \\pi_K)$ with \n",
        "$$p(z^{(i)}=c) =\\pi_c$$\n",
        "\n",
        "- Given the Cluster $z^{(i)}=c$, generate a point $\\mathbf{x}^{(i)}$ from the associated multivariate Gaussian distribution $\\mathcal{N}(\\mu_c, \\Sigma_c)$ with PDF:\n",
        "$$p(\\mathbf{x}|\\mu_c, \\Sigma_c)= \\frac{1}{\\sqrt{(2\\pi)^d}|\\Sigma_c|}\\exp\\left(-\\frac{1}{2}(\\mathbf{x}-\\mu_c)^\\top\\Sigma_c^{-1}(\\mathbf{x}-\\mu_c)\\right)$$\n",
        "\n",
        "- only the sample $\\mathbf{x}^{(i)}$ is observed. Cluster membership $z^{(i)}$ and model parameters $\\{\\pi_c, \\mu_c, \\Sigma_c\\}_{c=1}^K$ are unknown. \n",
        "\n",
        "- **Goal:** infer parameters $\\{\\pi_c, \\mu_c, \\Sigma_c\\}_{c=1}^K$ from the data $\\{\\mathbf{x}^{(i)}\\}_{i=1}^N$ and recover\n",
        "the clusters, i.e. $\\{z^{(i)}\\}_{i=1}^N$\n"
      ]
    },
    {
      "cell_type": "markdown",
      "metadata": {
        "id": "L-3i4AO7K9Bt"
      },
      "source": [
        "### Interpreting the assumptions\n",
        "\n",
        "- The ratio of number of points in the k clusters is\n",
        "$\\pi_1: \\pi_2 : \\dots:\\pi_K$. \n",
        "\n",
        "- Points from each cluster are distributed roughly over a ellipsoid centered\n",
        "at $\\mu_1, \\dots, \\mu_K$. whereas the density of points is determined by the corresponding covariance matrix. "
      ]
    },
    {
      "cell_type": "code",
      "metadata": {
        "colab": {
          "base_uri": "https://localhost:8080/",
          "height": 407
        },
        "id": "Gf3RgnvtOXgV",
        "outputId": "201e1eaf-bfa3-4816-be07-960d8de9feeb"
      },
      "source": [
        "display(Image(url='https://github.com/yexf308/MAT592/blob/main/image/GMM3.png?raw=true', width=500))"
      ],
      "execution_count": 3,
      "outputs": [
        {
          "output_type": "display_data",
          "data": {
            "text/html": [
              "<img src=\"https://github.com/yexf308/MAT592/blob/main/image/GMM3.png?raw=true\" width=\"500\"/>"
            ],
            "text/plain": [
              "<IPython.core.display.Image object>"
            ]
          },
          "metadata": {}
        }
      ]
    },
    {
      "cell_type": "markdown",
      "metadata": {
        "id": "t-NgwYItQNxV"
      },
      "source": [
        "### PDF for Gaussian mixture\n",
        "We derive the PDF for Gaussian mixture with parameters $\\{\\pi_c, \\mu_c, \\Sigma_c\\}_{c=1}^K$,\n",
        "\n",
        "\\begin{align}\n",
        "p(\\mathbf{x}|\\{\\pi_c, \\mu_c, \\Sigma_c\\}_{c=1}^K) &= \\sum_{c=1}^K p(\\mathbf{x}, z=c|\\{\\pi_c, \\mu_c, \\Sigma_c\\}_{c=1}^K) \\\\\n",
        "&=\\sum_{c=1}^K p(z=c|\\{\\pi_c\\}_{c=1}^K) p(\\mathbf{x}|z=c,\\{\\pi_c, \\mu_c, \\Sigma_c\\}_{c=1}^K) \\\\\n",
        "&=\\sum_{c=1}^K \\pi_c p(\\mathbf{x}|\\mu_c, \\Sigma_c)\n",
        "\\end{align}\n",
        "\n",
        "- $\\pi_c$ is the probability to choose the cluster $c$, and $\\sum_{c=1}^K \\pi_c=1$. \n",
        "\n",
        "- $p(\\mathbf{x}|\\mu_c, \\Sigma_c)$ is PDF of the $c$-th Gaussian model that generates the point $\\mathbf{x}$.\n"
      ]
    },
    {
      "cell_type": "code",
      "metadata": {
        "colab": {
          "base_uri": "https://localhost:8080/",
          "height": 302
        },
        "id": "bSSzxuBePeLJ",
        "outputId": "b07440fd-1740-403f-f5d3-3e6f7cb67d49"
      },
      "source": [
        "display(Image(url='https://github.com/yexf308/MAT592/blob/main/image/GMM.png?raw=true', width=800))"
      ],
      "execution_count": 3,
      "outputs": [
        {
          "output_type": "display_data",
          "data": {
            "text/html": [
              "<img src=\"https://github.com/yexf308/MAT592/blob/main/image/GMM.png?raw=true\" width=\"800\"/>"
            ],
            "text/plain": [
              "<IPython.core.display.Image object>"
            ]
          },
          "metadata": {}
        }
      ]
    },
    {
      "cell_type": "markdown",
      "metadata": {
        "id": "98tS19LkPl9g"
      },
      "source": [
        "\n",
        "- Contours of Gaussian PDF $p(\\mathbf{x}|\\mu_c,\\Sigma_c)$ for $c=1,2,3$. \n",
        "\n",
        "- Contour of Gaussian mixture PDF $p(\\mathbf{x}|\\{\\pi_c, \\mu_c, \\Sigma_c\\}_{c=1}^3)$ with $\\pi_1=0.5, \\pi_2=0.3, \\pi_3=0.2$.\n",
        "\n",
        "- Surface plot of $p(\\mathbf{x}|\\{\\pi_c, \\mu_c, \\Sigma_c\\}_{c=1}^3)$.\n",
        "\n"
      ]
    },
    {
      "cell_type": "markdown",
      "metadata": {
        "id": "LBrpKjGnvkm5"
      },
      "source": [
        "### Maximum likelihood estimation for Gaussian mixture\n",
        "\n",
        "For notational convenience, denote model parameters by $\\theta:= \\{\\pi_c, \\mu_c, \\Sigma_c\\}_{c=1}^K$.\n",
        "\n",
        "- likelihood for Gaussian mixture generating $\\mathbf{x}^{(i)}$ is its PDF $p(\\mathbf{x}^{(i)}|\\theta)$.\n",
        "\n",
        "- likelihood for generating data $\\{\\mathbf{x}^{(i)}\\}_{i=1}^N$ is $\\ell(\\theta) =\\Pi_{i=1}^N p(\\mathbf{x}^{(i)}|\\theta)$.\n",
        "\n",
        "- Similarly, minimize negative log-likelihood to  find the optimal $\\theta$,the model that has the\n",
        "best chance to generate observation data $\\{\\mathbf{x}^{(i)}\\}_{i=1}^N$, i.e, $\\min_{\\theta}-\\log\\ell(\\theta)$. \n",
        "\n",
        "- Unlike in Gaussian model, the MLE problem of Gaussian mixture has NO\n",
        "analytic solution. Also it is not easy to use gradient method because of $\\Sigma$. "
      ]
    }
  ]
}