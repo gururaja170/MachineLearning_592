{
  "nbformat": 4,
  "nbformat_minor": 0,
  "metadata": {
    "colab": {
      "name": "10.SVM2.ipynb",
      "provenance": [],
      "collapsed_sections": [],
      "authorship_tag": "ABX9TyOIATx3B0adMRBifJNjuqMQ",
      "include_colab_link": true
    },
    "kernelspec": {
      "name": "python3",
      "display_name": "Python 3"
    },
    "language_info": {
      "name": "python"
    }
  },
  "cells": [
    {
      "cell_type": "markdown",
      "metadata": {
        "id": "view-in-github",
        "colab_type": "text"
      },
      "source": [
        "<a href=\"https://colab.research.google.com/github/yexf308/MAT592/blob/main/10_SVM2.ipynb\" target=\"_parent\"><img src=\"https://colab.research.google.com/assets/colab-badge.svg\" alt=\"Open In Colab\"/></a>"
      ]
    },
    {
      "cell_type": "markdown",
      "metadata": {
        "id": "9CnNOPD-x_tQ"
      },
      "source": [
        "# Support Vector Machines\n",
        "## Soft-margin classification"
      ]
    },
    {
      "cell_type": "code",
      "metadata": {
        "colab": {
          "base_uri": "https://localhost:8080/"
        },
        "id": "D_SUFr3cyENU",
        "outputId": "406134ae-e06e-45fc-9fe5-6136fe8e65e3"
      },
      "source": [
        "%pylab inline \n",
        "from IPython.display import Image"
      ],
      "execution_count": 18,
      "outputs": [
        {
          "output_type": "stream",
          "name": "stdout",
          "text": [
            "Populating the interactive namespace from numpy and matplotlib\n"
          ]
        }
      ]
    },
    {
      "cell_type": "code",
      "metadata": {
        "colab": {
          "base_uri": "https://localhost:8080/",
          "height": 455
        },
        "id": "TGCuanmmyZW3",
        "outputId": "5e054cee-d609-46a4-f111-c7b30088e9e4"
      },
      "source": [
        "Image(url='https://github.com/yexf308/MAT592/blob/main/image/soft_margin.png?raw=true', width=800)"
      ],
      "execution_count": 19,
      "outputs": [
        {
          "output_type": "execute_result",
          "data": {
            "text/html": [
              "<img src=\"https://github.com/yexf308/MAT592/blob/main/image/soft_margin.png?raw=true\" width=\"800\"/>"
            ],
            "text/plain": [
              "<IPython.core.display.Image object>"
            ]
          },
          "metadata": {},
          "execution_count": 19
        }
      ]
    },
    {
      "cell_type": "markdown",
      "metadata": {
        "id": "7GSLVvyqGgm6"
      },
      "source": [
        "What if the training data is linearly non-separable?\n",
        "- Introduce slack variables $\\xi\\in \\mathbb{R}^N$ to allow misclassification for difficult examples or outliers. \n",
        "\n",
        "- relax constraints: $y^{(i)}(\\mathbf{w}^\\top \\mathbf{x}^{(i)}+w_0)\\ge 1-\\xi_i, \\xi_i\\ge 0$. (soft margin constraint)\n",
        "\n",
        "-  If $\\xi_i> 1$, $\\mathbf{x}^{(i)}$ is misclassified. If $0<\\xi_i< 1$, $\\mathbf{x}^{(i)}$ is inside the margin, but on the correct side of the decision boundary."
      ]
    },
    {
      "cell_type": "code",
      "metadata": {
        "colab": {
          "base_uri": "https://localhost:8080/",
          "height": 503
        },
        "id": "X_7W3I4XT2XX",
        "outputId": "6c6a7c2b-d750-4b3f-8b1a-831ae84305bc"
      },
      "source": [
        "Image(url='https://github.com/yexf308/MAT592/blob/main/image/soft_margin_xi.png?raw=true', width=300)"
      ],
      "execution_count": 20,
      "outputs": [
        {
          "output_type": "execute_result",
          "data": {
            "text/html": [
              "<img src=\"https://github.com/yexf308/MAT592/blob/main/image/soft_margin_xi.png?raw=true\" width=\"300\"/>"
            ],
            "text/plain": [
              "<IPython.core.display.Image object>"
            ]
          },
          "metadata": {},
          "execution_count": 20
        }
      ]
    },
    {
      "cell_type": "markdown",
      "metadata": {
        "id": "bRHla6BZUZj0"
      },
      "source": [
        "\n",
        "### Soft-margin classification\n",
        "The optimization problem becomes\n",
        "$$\\boxed{\\min_{\\mathbf{w}\\in\\mathbb{R}^d, w_0\\in \\mathbb{R},\\xi\\in \\mathbb{R}^N}\\frac{1}{2}\\|\\mathbf{w}\\|^2+ \\color{red}{\\lambda \\sum_{i=1}^N \\xi_i}} $$\n",
        "$$\\text{subject to } \\mathbf{y}^{(i)}(\\mathbf{w}^\\top \\mathbf{x}^{(i)}+w_0)\\ge 1 \\color{red}{-\\xi_i}, $$\n",
        "$$ \\color{red}{\\xi_i\\ge 0}, \\forall i=1, \\dots, N$$\n",
        "\n",
        "$\\lambda>0$ is pre-determined regularization parameter. \n",
        "$\\frac{\\xi_i}{\\|\\mathbf{\\mathbf{w}}\\|}$ is the distance $\\mathbf{x}^{(i)}$ goes across the corresponding margin boundary.  \n",
        "- small $\\lambda$ encourages large $\\xi_i$: allows misclassification with large margin. \n",
        "\n",
        "- large $\\lambda$ encourages small $\\xi_i$: discourages misclassification with narrow margin. \n",
        "\n",
        "- $\\lambda=\\infty$ enforces $\\xi_i=0$: hard margin allows no misclassification. \n",
        "\n",
        "\n",
        "### Dual for soft-margin case\n",
        "\n",
        "$$\\boxed{\\max_{\\alpha\\in \\mathbb{R}^N} \\sum_{i=1}^N \\alpha_i-\\frac{1}{2}\\sum_{i=1}^N \\sum_{j=1}^N y^{(i)}y^{(j)}\\alpha_i\\alpha_j (\\mathbf{x}^{(i)})^\\top\\mathbf{x}^{(j)}} $$\n",
        "$$\\text{subject to } \\sum_{i=1}^N \\alpha_i \\mathbf{y}^{(i)}=0, 0\\le \\alpha_i \\color{red}{\\le \\lambda}, \\forall i=1,\\dots, N $$\n",
        "Added upper bound of $\\lambda$ on $\\alpha_i$."
      ]
    },
    {
      "cell_type": "markdown",
      "metadata": {
        "id": "kK0aB-bVtnY5"
      },
      "source": [
        "Compare with primal vs dual problem. \n",
        "\n",
        "**Primal**:\n",
        "- $d+N+1$ unknowns.\n",
        "- $N$ linear inequality constraints, $N$ non-negativity constraints.\n",
        "- convex quadratic programming.\n",
        "\n",
        "**Dual**:\n",
        "- $N$ unknowns.\n",
        "- one linear equality constraint, $N$ box constraints.\n",
        "- The convex quadratic programming to minimize the objective function\n",
        "$\\frac{1}{2}\\alpha^\\top \\mathbf{G}\\alpha -\\mathbb{1}^\\top \\alpha$, where $\\mathbf{G}_{ij}=y^{(i)}y^{(j)} (\\mathbf{x}^{(i)})^\\top\\mathbf{x}^{(j)} $ and $\\mathbf{G}$ is called Gram matrix. \n",
        "$$ \\mathbf{v}=[y^{(1)}\\mathbf{x}^{(1)}, \\dots,y^{(N)}\\mathbf{x}^{(N)} ].$$\n",
        "$$ \\mathbf{G}=\\mathbf{v}^\\top \\mathbf{v}.$$\n"
      ]
    },
    {
      "cell_type": "code",
      "metadata": {
        "id": "6v9j8RYFv_O2"
      },
      "source": [
        "# go back lecture 9 and set C = 1 "
      ],
      "execution_count": 21,
      "outputs": []
    },
    {
      "cell_type": "markdown",
      "metadata": {
        "id": "XT_Fr90Ztp1l"
      },
      "source": [
        "## Revisit Perceptron problem\n",
        "\n",
        "Training perceptron on dataset $\\{\\mathbf{x}^{(i)}, y^{(i)}\\}_{i=1}^N\\subset \\mathbf{R}^d\\times \\{\\pm 1\\}$: \n",
        "$$\\boxed{\\min_{\\mathbf{w\\in \\mathbb{R}^d, w_0\\in \\mathbb{R}}}\\sum_{i=1}^n\\left(y^{(i)}-\\phi(\\mathbf{w}^\\top \\mathbf{x}^{(i)}+w_0)\\right)^2} $$\n",
        "where the activation function $\\phi(z)=1$ if $z>0$, $\\phi(z)=-1$, otherwise.\n",
        "\n",
        "In other words, we tried to find parameters such that the signs of the linear output $\\mathbf{w}^\\top\\mathbf{x}^{(i)}+w_0$ and $y^{(i)}$ agree. Equivalently,\n",
        " $$\\boxed{\\min_{\\mathbf{w\\in \\mathbb{R}^d, w_0\\in \\mathbb{R}}}\\sum_{i=1}^n \\mathbb{1}_{\\{y^{(i)}(\\mathbf{w}^\\top \\mathbf{x}^{(i)}+w_0)<0\\}} } $$\n",
        "where the indicator function \n",
        "$$ \\mathbb{1}_{\\{z<0\\}}\\begin{cases}1 & \\text{if } z<0 \\\\ 0 & \\text{Otherwise}\\end{cases}$$\n",
        "\n",
        "This is also called **0-1 loss**. \n",
        "\n",
        "This type of problem is intractable to minimize: discontinuous (discrete-valued), non-convex,\n",
        "non-uniqueness of global min."
      ]
    },
    {
      "cell_type": "markdown",
      "metadata": {
        "id": "Uo8X_Udc8FkR"
      },
      "source": [
        "\n",
        "## SVM with hinge loss \n",
        "\n",
        "\n",
        "\n",
        "Let's rephase this again\n",
        "\n",
        "$$\\boxed{\\min_{\\mathbf{w}\\in\\mathbb{R}^d, w_0\\in \\mathbb{R},\\xi\\in \\mathbb{R}^N}\\frac{1}{2}\\|\\mathbf{w}\\|^2+ \\lambda \\sum_{i=1}^N \\xi_i }$$\n",
        "$$\\text{subject to } \\xi_i\\ge \\max\\left\\{0, 1-\\mathbf{y}^{(i)}(\\mathbf{w}^\\top \\mathbf{x}^{(i)}+w_0)\\right\\}, \\forall i=1, \\dots, N$$\n",
        "\n",
        "- If $\\xi_i=0>1-\\mathbf{y}^{(i)}(\\mathbf{w}^\\top \\mathbf{x}^{(i)}+w_0)$, $\\mathbf{x}^{(i)}$ is **correct** side of margin\n",
        "boundary. \n",
        "\n",
        "- If $\\xi_i=1-\\mathbf{y}^{(i)}(\\mathbf{w}^\\top \\mathbf{x}^{(i)}+w_0)>0$, $\\mathbf{x}^{(i)}$ is **wrong** side of margin\n",
        "boundary. \n",
        "\n",
        "\n",
        "We can simply choose $\\xi_i= \\max\\left\\{0, 1-\\mathbf{y}^{(i)}(\\mathbf{w}^\\top \\mathbf{x}^{(i)}+w_0)\\right\\}$ for $\\forall i=1, \\dots, N$.\n",
        "\n"
      ]
    },
    {
      "cell_type": "markdown",
      "metadata": {
        "id": "TjEMqsaDqdn3"
      },
      "source": [
        "### Alternative formulation\n",
        "\n",
        "Drop the constraints and replace $\\xi_i= \\max\\left\\{0, 1-\\mathbf{y}^{(i)}(\\mathbf{w}^\\top \\mathbf{x}^{(i)}+w_0)\\right\\}$. \n",
        "\n",
        "$$ \\boxed{\\min_{\\mathbf{w}\\in \\mathbb{R}^d, w_0\\in \\mathbb{R}} \\underbrace{\\lambda\\sum_{i=1}^N \\max\\left\\{0, 1-\\mathbf{y}^{(i)}(\\mathbf{w}^\\top \\mathbf{x}^{(i)}+w_0)\\right\\} +\\frac{1}{2} \\|\\mathbf{w}\\|_2^2}_{=\\text{LOSS}(\\mathbf{w},w_0)}}$$\n",
        "\n",
        "- $\\ell(z)=\\max\\{1-z, 0\\}$ is called **hinge loss**. It is a convex relaxation to 0-1 loss. Hinge loss depends on how far the examples are from the decision boundary.\n",
        "\n",
        "- Hinge loss can be minimized via subgradient method\n",
        "\n",
        "- Soft-margin SVM minimize the hinge loss with Tikhonov regularization ($l_2$ regularization)."
      ]
    },
    {
      "cell_type": "code",
      "metadata": {
        "colab": {
          "base_uri": "https://localhost:8080/",
          "height": 357
        },
        "id": "RYVgc7BVqBi-",
        "outputId": "2d071622-3b0d-44c1-d690-696223e4ddf6"
      },
      "source": [
        "Image(url='https://github.com/yexf308/MAT592/blob/main/image/loss_comparison.png?raw=true', width=500)"
      ],
      "execution_count": 22,
      "outputs": [
        {
          "output_type": "execute_result",
          "data": {
            "text/html": [
              "<img src=\"https://github.com/yexf308/MAT592/blob/main/image/loss_comparison.png?raw=true\" width=\"500\"/>"
            ],
            "text/plain": [
              "<IPython.core.display.Image object>"
            ]
          },
          "metadata": {},
          "execution_count": 22
        }
      ]
    },
    {
      "cell_type": "markdown",
      "metadata": {
        "id": "l3kZCMrJ8UPT"
      },
      "source": [
        "The gradient of the loss function is \n",
        "$$\\nabla_{\\mathbf{w}} \\text{LOSS}(\\mathbf{w},w_0) =\\begin{cases} \\mathbf{w} & \\text{if } \\mathbf{y}^{(i)}(\\mathbf{w}^\\top \\mathbf{x}^{(i)}+w_0)>1\\\\ \\mathbf{w} -\\lambda y^{(i)} \\mathbf{x}^{(i)} & \\text{Otherwise}\n",
        "\\end{cases}  $$\n",
        "\n",
        "$$\\nabla_{w_0} \\text{LOSS}(\\mathbf{w},w_0) =\\begin{cases} 0 & \\text{if } \\mathbf{y}^{(i)}(\\mathbf{w}^\\top \\mathbf{x}^{(i)}+w_0)>1\\\\  -\\lambda y^{(i)}  & \\text{Otherwise}\n",
        "\\end{cases}  $$\n"
      ]
    },
    {
      "cell_type": "code",
      "metadata": {
        "colab": {
          "base_uri": "https://localhost:8080/",
          "height": 282
        },
        "id": "TBAWvoRRAcd-",
        "outputId": "d435ff81-ed7c-425f-d993-d9c490ae9955"
      },
      "source": [
        "from sklearn.datasets import make_blobs, make_circles, make_moons\n",
        "from sklearn.preprocessing import StandardScaler\n",
        "\n",
        "#some toy data generated by scikit-learn's\n",
        "X_train, y = make_blobs(n_samples=500, centers=2,\n",
        "                        n_features=2, random_state=1)\n",
        "# We'll also scale the data to be centered at the origin with a unit standard deviation\n",
        "scaler = StandardScaler()\n",
        "X_train_scaled = scaler.fit_transform(X_train, y)\n",
        "# we have to change the class labels to be +1 and -1 instead of 0 and 1.\n",
        "y=where(y<=0, -1,1)\n",
        "\n",
        "X_outlier = np.append(X_train_scaled, [0.1, 0.1])\n",
        "X_outlier = X_outlier.reshape(X_train.shape[0]+1, X_train.shape[1])\n",
        "y_outlier = np.append(y, 1)\n",
        "\n",
        "scatter(X_outlier[:,0],X_outlier[:,1],c=y_outlier)"
      ],
      "execution_count": 23,
      "outputs": [
        {
          "output_type": "execute_result",
          "data": {
            "text/plain": [
              "<matplotlib.collections.PathCollection at 0x7f8549ea2090>"
            ]
          },
          "metadata": {},
          "execution_count": 23
        },
        {
          "output_type": "display_data",
          "data": {
            "image/png": "[encoded data removed]",
            "text/plain": [
              "<Figure size 432x288 with 1 Axes>"
            ]
          },
          "metadata": {
            "needs_background": "light"
          }
        }
      ]
    },
    {
      "cell_type": "code",
      "metadata": {
        "id": "lwJzamT6BCn2"
      },
      "source": [
        "def predict(x, w, w0):\n",
        "\tactivation = w.dot(x)+w0\n",
        "\n",
        "\treturn 1 if activation >= 0.0 else -1"
      ],
      "execution_count": 24,
      "outputs": []
    },
    {
      "cell_type": "code",
      "metadata": {
        "id": "xnwDKbaLOXIE"
      },
      "source": [
        "def LOSS_f(X,y,w,w0,lambda_param):\n",
        "   N,d = X.shape\n",
        "   LOSS = 1/2 * lambda_param * norm(w)**2\n",
        "   for i in range(N):\n",
        "     condition = 1 - y[i] * (w.dot(X[i,:])+w0)\n",
        "     LOSS = LOSS + max(condition, 0)\n",
        "   return LOSS  \n"
      ],
      "execution_count": 25,
      "outputs": []
    },
    {
      "cell_type": "code",
      "metadata": {
        "id": "Bq4HNNQmDlhm"
      },
      "source": [
        "def train_weights(X, y, learning_rate_span,lambda_param, n_iter=1000):\n",
        "  N,d = X.shape\n",
        "  w   = ones(2)*(-1)\n",
        "  w[1] = 2\n",
        "  w0  = 2\n",
        "  for iter in range(n_iter):\n",
        "    learning_rate = learning_rate_span[iter]\n",
        "    arr = np.arange(N)\n",
        "    random.shuffle(arr)\n",
        "    for i in arr:\n",
        "          condition = y[i] * (w.dot(X[i,:])+w0) >= 1\n",
        "          if condition:\n",
        "            w = w - learning_rate *  w\n",
        "\n",
        "          else:\n",
        "            w  = w - learning_rate * (w - lambda_param *y[i] * X[i,:] )\n",
        "            w0 = w0 - learning_rate * ( -lambda_param * y[i] ) \n",
        "    #print(iter)\n",
        "  return w, w0          \n",
        "\n",
        "\n",
        "\n"
      ],
      "execution_count": 26,
      "outputs": []
    },
    {
      "cell_type": "code",
      "metadata": {
        "colab": {
          "base_uri": "https://localhost:8080/"
        },
        "id": "d2GXisNAJwIH",
        "outputId": "739b10c1-862c-4dec-aaad-2e37dc182fb0"
      },
      "source": [
        "n_iter = 500\n",
        "n_span = arange(n_iter)\n",
        "l_rate_span = 1/((1+ n_span)**2) \n",
        "w, w0 = train_weights(X_outlier, y_outlier, l_rate_span, lambda_param=100, n_iter=500) \n",
        "print(w)\n",
        "print(w0)"
      ],
      "execution_count": 33,
      "outputs": [
        {
          "output_type": "stream",
          "name": "stdout",
          "text": [
            "[-0.81780082 -0.77920741]\n",
            "-0.03603717330800706\n"
          ]
        }
      ]
    },
    {
      "cell_type": "code",
      "metadata": {
        "colab": {
          "base_uri": "https://localhost:8080/",
          "height": 283
        },
        "id": "eoj1dF7dLa3R",
        "outputId": "2b7f8946-812a-463a-91f3-98efd53e3955"
      },
      "source": [
        "x_span = linspace(-1.5,1.5,100)\n",
        "y_span = -(w0 + w[0] * x_span)/w[1]\n",
        "y_span1 =  -(w0 + 1 + w[0] * x_span)/w[1]\n",
        "y_span2 =  -(w0 - 1 + w[0] * x_span)/w[1]\n",
        "scatter(X_outlier[:,0],X_outlier[:,1],c=y_outlier)\n",
        "plot(x_span, y_span)\n",
        "plot(x_span, y_span1,'k--')\n",
        "plot(x_span, y_span2,'y--')"
      ],
      "execution_count": 34,
      "outputs": [
        {
          "output_type": "execute_result",
          "data": {
            "text/plain": [
              "[<matplotlib.lines.Line2D at 0x7f85499e6a50>]"
            ]
          },
          "metadata": {},
          "execution_count": 34
        },
        {
          "output_type": "display_data",
          "data": {
            "image/png": "[encoded data removed]",
            "text/plain": [
              "<Figure size 432x288 with 1 Axes>"
            ]
          },
          "metadata": {
            "needs_background": "light"
          }
        }
      ]
    }
  ]
}