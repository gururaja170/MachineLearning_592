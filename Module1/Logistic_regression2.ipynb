{
  "nbformat": 4,
  "nbformat_minor": 0,
  "metadata": {
    "colab": {
      "name": "8.Logistic_regression2.ipynb",
      "provenance": [],
      "collapsed_sections": [],
      "authorship_tag": "ABX9TyP9i4Hx4yPwf5uLDzkQnHsF",
      "include_colab_link": true
    },
    "kernelspec": {
      "name": "python3",
      "display_name": "Python 3"
    },
    "language_info": {
      "name": "python"
    }
  },
  "cells": [
    {
      "cell_type": "markdown",
      "metadata": {
        "id": "view-in-github",
        "colab_type": "text"
      },
      "source": [
        "<a href=\"https://colab.research.google.com/github/yexf308/MAT592/blob/main/8_Logistic_regression2.ipynb\" target=\"_parent\"><img src=\"https://colab.research.google.com/assets/colab-badge.svg\" alt=\"Open In Colab\"/></a>"
      ]
    },
    {
      "cell_type": "markdown",
      "metadata": {
        "id": "DPzrunRBMJOf"
      },
      "source": [
        "# Logistic regression"
      ]
    },
    {
      "cell_type": "markdown",
      "metadata": {
        "id": "YK2H6QfJ23At"
      },
      "source": [
        "Replace binary activation function in perceptron by the sigmoid activation\n",
        "function. \n",
        "\n",
        "$$ \\sigma(z)=\\frac{1}{1+\\exp(-z)}\\in(0,1)$$\n",
        "One important property is $\\sigma(-z) = 1- \\sigma(z)$.\n",
        "\n",
        "Given an input $\\mathbf{x}$, the logistic model outputs $\\sigma(\\mathbf{w}^\\top\\mathbf{x})$ can be interpreted as the probability that $\\mathbf{x}$ belongs to Class 1.\n",
        "\n",
        "\n",
        "$$ p(y=1| \\mathbf{x;w})=\\sigma(\\mathbf{w}^\\top \\mathbf{x}),\\ \\  p(y=0| \\mathbf{x;w}) = 1-\\sigma(\\mathbf{w}^\\top \\mathbf{x})$$\n",
        "\n",
        "Prediction: the probability $\\phi(\\mathbf{w}^\\top\\mathbf{x})$,\n",
        " \n",
        " \\begin{equation}\n",
        " \\mathbf{x} \\in \\begin{cases} \\text{ class 1} & \\text{if } \\sigma(\\mathbf{w}^\\top\\mathbf{x})>1/2 \\\\\n",
        " \\text{ class 0} & \\text{if }\\sigma(\\mathbf{w}^\\top\\mathbf{x})<1/2 \\end{cases}\n",
        " \\end{equation}"
      ]
    },
    {
      "cell_type": "code",
      "metadata": {
        "colab": {
          "base_uri": "https://localhost:8080/"
        },
        "id": "NbD1Muw929mN",
        "outputId": "15b81be8-2511-4c57-ed60-bbc65f46d42e"
      },
      "source": [
        "%pylab inline \n",
        "from IPython.display import Image"
      ],
      "execution_count": 1,
      "outputs": [
        {
          "output_type": "stream",
          "name": "stdout",
          "text": [
            "Populating the interactive namespace from numpy and matplotlib\n"
          ]
        }
      ]
    },
    {
      "cell_type": "code",
      "metadata": {
        "colab": {
          "base_uri": "https://localhost:8080/",
          "height": 265
        },
        "id": "IYLtXWso2-hp",
        "outputId": "38b25ed1-274e-4d28-9734-8142c9c7effb"
      },
      "source": [
        "z = linspace(-20,20, 200)\n",
        "sigma = 1/(1+exp(-z))\n",
        "h = heaviside(z,0.5)\n",
        "fig, ax = plt.subplots()\n",
        "ax.plot(z,sigma,label='sigmoid')\n",
        "ax.plot(z, h,label='heaviside')\n",
        "leg = ax.legend();"
      ],
      "execution_count": 2,
      "outputs": [
        {
          "output_type": "display_data",
          "data": {
            "image/png": "[encoded data removed]",
            "text/plain": [
              "<Figure size 432x288 with 1 Axes>"
            ]
          },
          "metadata": {
            "needs_background": "light"
          }
        }
      ]
    },
    {
      "cell_type": "markdown",
      "metadata": {
        "id": "EVln244eREuL"
      },
      "source": [
        "## Negative log likelihood \n",
        "The likelihood $L(\\mathbf{w})= P(\\{y^{(i)}\\}_{i=1}^N | \\{\\mathbf{x}^{(i)}\\}_{i=1}^N, \\mathbf{w})=\\Pi_{i=1}^N P(y^{(i)}|\\mathbf{x}^{(i)} ,\\mathbf{w} )$ because the dataset are sampled in i.i.d manner.\n",
        "\n",
        "\n",
        "We estimate the parameters of a logistic regression model using\n",
        "maximum likelihood estimation.So negative log likelihood  will be the loss function. For the training data $\\{\\mathbf{x}^{(i)},y^{(i)}\\}_{i=1,\\dots, N}$\n",
        "\\begin{align} \\text{NLL}(\\mathbf{w})&=- \\log\\Pi_{i=1}^N\\{[\\sigma(\\mathbf{w}^\\top \\mathbf{x}^{(i)})]^{y^{(i)}}[1-\\sigma(\\mathbf{w}^\\top \\mathbf{x}^{(i)})]^{1-y^{(i)}}\\}\\\\\n",
        "&=-\\sum_{i=1}^N[y^{(i)} \\log\\sigma(\\mathbf{w}^\\top \\mathbf{x}^{(i)}) + (1-y^{(i)})\\log(1-\\sigma(\\mathbf{w}^\\top \\mathbf{x}^{(i)}))]\n",
        "\\end{align} "
      ]
    },
    {
      "cell_type": "markdown",
      "metadata": {
        "id": "_AhbrVwFxNH6"
      },
      "source": [
        "### Cross entropy loss\n",
        "\n",
        "- For Bernoulli distributions $\\mathbf{p}=(p, 1-p)$ and $\\mathbf{q}=(q, 1-q)$, the cross entropy is\n",
        "$$H(\\mathbf{p},\\mathbf{q}) =-p_1\\log(q_1) - (1-p_1) \\log(1-q_1) $$\n",
        "\n",
        "- Cross entropy $H(\\mathbf{p}, \\mathbf{q})$ measures the dissimilarity between two probability\n",
        "distributions.\n",
        "\n",
        "- With fixed $\\mathbf{p}$, $H(\\mathbf{p}, \\mathbf{q})$ is minimized at $\\mathbf{q}=\\mathbf{p}$. \n",
        "\n",
        "\n",
        "> Proof: Set $\\frac{\\partial H}{\\partial q_1}=-\\frac{p_1}{q_1}+\\frac{1-p_1}{1-q_1}=0$, so $q_1=p_1$. Calculate $\\frac{\\partial^2 H}{\\partial q_1^2}>0$ to show this is minimum. \n",
        "\n"
      ]
    },
    {
      "cell_type": "markdown",
      "metadata": {
        "id": "7sUH3TsKD_aj"
      },
      "source": [
        "The gradient of the NLL is given by \n",
        "\\begin{align}\n",
        "\\nabla_{\\mathbf{w}}\\text{NLL}(\\mathbf{w})&=-\\sum_{i=1}^N\\Big(\\frac{y^{(i)}}{\\sigma(\\mathbf{w}^\\top \\mathbf{x}^{(i)})} (1-\\sigma(\\mathbf{w}^\\top \\mathbf{x}^{(i)}))\\sigma(\\mathbf{w}^\\top \\mathbf{x}^{(i)}) \\mathbf{x}^{(i)} \\\\\n",
        "&+ \\frac{1-y^{(i)}}{1-\\sigma(\\mathbf{w}^\\top \\mathbf{x}^{(i)})}(-1+\\sigma(\\mathbf{w}^\\top \\mathbf{x}^{(i)}))\\sigma(\\mathbf{w}^\\top \\mathbf{x}^{(i)}) \\mathbf{x}^{(i)} \\Big)\\\\\n",
        "&=-\\sum_{i=1}^N \\Big(y^{(i)}(1-\\sigma(\\mathbf{w}^\\top \\mathbf{x}^{(i)}))\\mathbf{x}^{(i)} - (1-y^{(i)})\\sigma(\\mathbf{w}^\\top \\mathbf{x}^{(i)})\\mathbf{x}^{(i)}\\Big) \\\\\n",
        "&= \\sum_{i=1}^N \\underbrace{\\left(\\sigma(\\mathbf{w}^\\top \\mathbf{x}^{(i)})- y^{(i)}\\right)\\mathbf{x}^{(i)}}_{=\\nabla L_i(\\mathbf{w})} = (\\mathbb{1}_N^\\top \\text{diag}(\\mathbf{\\sigma}- \\mathbf{y})\\mathbf{X})^\\top\n",
        "\\end{align}\n",
        "\n",
        "We can show the Hessian is positive definite, that implies the loss function is strongly convex. Intuitvely this means that the NLL has a bowl shape, with a unique lowest point. "
      ]
    },
    {
      "cell_type": "markdown",
      "metadata": {
        "id": "4vEhPjBJMEG1"
      },
      "source": [
        "## Stochastic Gradient descent\n",
        "Solve the following optimization problem. \n",
        "$$\\hat{\\mathbf{w}}=\\text{arg}\\min_{\\mathbf{w}}\\text{NLL}(\\mathbf{w})$$\n",
        "\n",
        "The simplest is to use stochastic gradient descent. If we use a minibatch of size 1, then we get the following simple update equation:\n",
        "\n",
        "$$ \\mathbf{w}_{t+1}=\\mathbf{w}_t-\\eta_t(\\sigma(\\mathbf{w}^\\top \\mathbf{x}^{(i)})- y^{(i)})\\mathbf{x}^{(i)}$$\n",
        "\n",
        "### Mini-batches\n",
        "In each iteration, randomly sample mini-batch $\\mathcal{B}_t\\subset \\{1,\\dots, N\\}$ of fixed size $|\\mathcal{B}_t|$.\n",
        "\n",
        "Evaluate and sum up and average gradient of sample loss functions: \n",
        "$$ \\mathbf{w}_{t+1}=\\mathbf{w}_t-\\frac{\\eta_t}{|\\mathcal{B}_t|} \\sum_{i\\in \\mathcal{B}_t}(\\sigma(\\mathbf{w}^\\top \\mathbf{x}^{(i)})- y^{(i)})\\mathbf{x}^{(i)}$$\n",
        "\n",
        "Validity of SGD: the expectation is the true gradient, \n",
        "$$ \\mathbb{E}\\left[\\frac{1}{|\\mathcal{B}_t|}\\sum_{i\\in \\mathcal{B}_t }\\nabla L_i(\\mathbf{w})  \\right]=\\frac{1}{n}\\sum_{i=1}^n\\nabla L_i(\\mathbf{w})$$"
      ]
    },
    {
      "cell_type": "code",
      "metadata": {
        "id": "2nR6-KvqBgCR"
      },
      "source": [
        "# Make a prediction with weights\n",
        "def predict(x, w):\n",
        "\tz = w.dot(x)\n",
        "\n",
        "\treturn 1.0 / (1.0 + exp(-z))\n"
      ],
      "execution_count": 3,
      "outputs": []
    },
    {
      "cell_type": "code",
      "metadata": {
        "colab": {
          "base_uri": "https://localhost:8080/",
          "height": 443
        },
        "id": "eHXw0saV4ECi",
        "outputId": "b53a9934-6d74-46f5-b721-993a2c0dad63"
      },
      "source": [
        "dataset = array([[2.7810836,2.550537003,0],\n",
        "\t[1.465489372,2.362125076,0],\n",
        "\t[3.396561688,4.400293529,0],\n",
        "\t[1.38807019,1.850220317,0],\n",
        "\t[3.06407232,3.005305973,0],\n",
        "\t[7.627531214,2.759262235,1],\n",
        "\t[5.332441248,2.088626775,1],\n",
        "\t[6.922596716,1.77106367,1],\n",
        "\t[8.675418651,-0.242068655,1],\n",
        "\t[7.673756466,3.508563011,1]])\n",
        "fig, ax = plt.subplots()\n",
        "ax.scatter(dataset[0:5,0],dataset[0:5,1],label='0')\n",
        "ax.scatter(dataset[5:10,0],dataset[5:10,1],label='1')\n",
        "leg = ax.legend();\n",
        "\n",
        "X = hstack([ones((dataset.shape[0],1)), dataset[:,0:2] ])\n",
        "y = dataset[:,2]\n",
        "print(X)\n"
      ],
      "execution_count": 4,
      "outputs": [
        {
          "output_type": "stream",
          "name": "stdout",
          "text": [
            "[[ 1.          2.7810836   2.550537  ]\n",
            " [ 1.          1.46548937  2.36212508]\n",
            " [ 1.          3.39656169  4.40029353]\n",
            " [ 1.          1.38807019  1.85022032]\n",
            " [ 1.          3.06407232  3.00530597]\n",
            " [ 1.          7.62753121  2.75926224]\n",
            " [ 1.          5.33244125  2.08862677]\n",
            " [ 1.          6.92259672  1.77106367]\n",
            " [ 1.          8.67541865 -0.24206865]\n",
            " [ 1.          7.67375647  3.50856301]]\n"
          ]
        },
        {
          "output_type": "display_data",
          "data": {
            "image/png": "[encoded data removed]",
            "text/plain": [
              "<Figure size 432x288 with 1 Axes>"
            ]
          },
          "metadata": {
            "needs_background": "light"
          }
        }
      ]
    },
    {
      "cell_type": "code",
      "metadata": {
        "id": "fZyrbMlZP-rw"
      },
      "source": [
        "# Estimate logistic regression coefficients using stochastic gradient descent\n",
        "\n",
        "def train_weights(X, y, l_epoch_span, n_epoch, threshold=0.002):\n",
        "  n, m    = X.shape\n",
        "  weights = zeros(m) # Initial condition is always 0 vector. it is a bad idea! \n",
        "  # you should modify this code to make IC as an input. Then you can call this call function put the last weight as the new initial condition.\n",
        "  for epoch in range(n_epoch):\n",
        "    l_rate   = l_epoch_span[epoch]\n",
        "    sum_error = 0;\n",
        "    arr = np.arange(n)\n",
        "    random.shuffle(arr)\n",
        "    for i in arr:\n",
        "      prediction = predict(X[i,:], weights)\n",
        "      error      = prediction - y[i]\n",
        "      sum_error  = error**2 + sum_error\n",
        "      weights    = weights - l_rate * error * X[i,:]\n",
        "    print('sum_error at ',epoch+1, 'epoch is ', sum_error)\n",
        "    if sum_error<threshold:\n",
        "      break\n",
        "\n",
        "\n",
        "  return weights"
      ],
      "execution_count": 7,
      "outputs": []
    },
    {
      "cell_type": "code",
      "metadata": {
        "colab": {
          "base_uri": "https://localhost:8080/"
        },
        "id": "NFpE8wIk8qPt",
        "outputId": "ea8afd1c-d499-46c7-f500-d260e3cc957a"
      },
      "source": [
        "\n",
        "n_epoch = 20\n",
        "n_span = arange(n_epoch)\n",
        "l_epoch_span = 1/((1+2 * n_span)**2) \n",
        "#print(l_rate_span)\n",
        "weights = train_weights(X, y, l_epoch_span, n_epoch) #you should restart with the new IC. \n",
        "print(weights)\n"
      ],
      "execution_count": 10,
      "outputs": [
        {
          "output_type": "stream",
          "name": "stdout",
          "text": [
            "sum_error at  1 epoch is  3.249996506957067\n",
            "sum_error at  2 epoch is  0.6048281197542147\n",
            "sum_error at  3 epoch is  0.003553941604389714\n",
            "sum_error at  4 epoch is  0.0028251034936972734\n",
            "sum_error at  5 epoch is  0.002566132262302985\n",
            "sum_error at  6 epoch is  0.0024224675257674346\n",
            "sum_error at  7 epoch is  0.0023325669996998293\n",
            "sum_error at  8 epoch is  0.002275576352254552\n",
            "sum_error at  9 epoch is  0.0022365438445528857\n",
            "sum_error at  10 epoch is  0.0022040384629051705\n",
            "sum_error at  11 epoch is  0.002179455051510942\n",
            "sum_error at  12 epoch is  0.0021603744187441423\n",
            "sum_error at  13 epoch is  0.0021428295755913742\n",
            "sum_error at  14 epoch is  0.0021291046536883653\n",
            "sum_error at  15 epoch is  0.0021176876775021282\n",
            "sum_error at  16 epoch is  0.002108565283311518\n",
            "sum_error at  17 epoch is  0.00209936727344452\n",
            "sum_error at  18 epoch is  0.0020919204329277095\n",
            "sum_error at  19 epoch is  0.0020850284288494924\n",
            "sum_error at  20 epoch is  0.0020798987547340757\n",
            "[-1.38991577  2.34268752 -3.70367403]\n"
          ]
        }
      ]
    },
    {
      "cell_type": "code",
      "metadata": {
        "colab": {
          "base_uri": "https://localhost:8080/",
          "height": 283
        },
        "id": "uQFzGycECc9k",
        "outputId": "8c499be6-2fe0-4e0e-bad5-d407642eb7de"
      },
      "source": [
        "\n",
        "x_span = linspace(2,7,100)\n",
        "y_span = -(weights[0] + weights[1] * x_span)/weights[2]\n",
        "fig, ax = plt.subplots()\n",
        "ax.scatter(dataset[0:5,0],dataset[0:5,1],label='0')\n",
        "ax.scatter(dataset[5:10,0],dataset[5:10,1],label='1')\n",
        "plot(x_span, y_span)"
      ],
      "execution_count": 11,
      "outputs": [
        {
          "output_type": "execute_result",
          "data": {
            "text/plain": [
              "[<matplotlib.lines.Line2D at 0x7f80110de6d0>]"
            ]
          },
          "metadata": {},
          "execution_count": 11
        },
        {
          "output_type": "display_data",
          "data": {
            "image/png": "[encoded data removed]",
            "text/plain": [
              "<Figure size 432x288 with 1 Axes>"
            ]
          },
          "metadata": {
            "needs_background": "light"
          }
        }
      ]
    },
    {
      "cell_type": "markdown",
      "metadata": {
        "id": "escaZ9zYNp2H"
      },
      "source": [
        "- Both perceptron and logistic model learn a linear decision boundary for\n",
        "binary classification.\n",
        "\n",
        "- Logistic model reflects the confidence levels of predictions, while\n",
        "perceptron does not.\n",
        "\n",
        "- Logistic regression permits smooth and convex minimization, which is\n",
        "much easier to solve by standard approach like stochastic gradient descent"
      ]
    },
    {
      "cell_type": "markdown",
      "metadata": {
        "id": "rYBN5TSbEfcK"
      },
      "source": [
        "## Multiclass classification\n",
        "Binary vs. Multiclass logistic regression\n",
        "- binary logistic regression has a single output that can predict two classes.\n",
        "\n",
        "- multiclass logistic regression has multiple outputs, each of which is used to predict a single class\n",
        "\n",
        "For example, Handwritten digits recognition\n",
        "- Input $\\mathbf{x}\\in \\mathbb{R}^{28\\times 28}$: gray intensity values of the pixels, from 0 (black) to 255(white).\n",
        "\n",
        "- Label $\\mathbf{y}\\in \\mathbb{R}^{10}$ one hot vector: true class of the digit. $y_j=1$ if $\\mathbf{x}\\in \\text{class } j$. Can be viewed as a multinoulli probability distribution.\n",
        "\n"
      ]
    },
    {
      "cell_type": "markdown",
      "metadata": {
        "id": "mBsBAs4BLRLb"
      },
      "source": [
        "### Softmax activation\n",
        "softmax activation function $\\sigma: \\mathbb{R}^K \\rightarrow \\mathbb{R}^K$ for $K-$class classification, defined as \n",
        "$$ \\vec\\sigma(\\mathbf{z})=\\left[\\frac{\\exp(z_1)}{\\sum_{j=1}^K \\exp(z_j)}, \\dots, \\frac{\\exp(z_K)}{\\sum_{j=1}^K \\exp(z_j)}\\right]^\\top$$\n",
        "\n",
        "- $\\sum_{i=1}^K{\\sigma_i}(\\mathbf{z})=1$, it is a multinoulli probability distribution.\n",
        "\n",
        "- if $z_j = \\max\\{z_1, \\dots, z_K\\}$, then $\\sigma_j(\\mathbf{z})=\\max\\{\\sigma_1(\\mathbf{z}), \\dots, \\sigma_K(\\mathbf{z})\\}$.\n",
        "\n",
        "For image data, stack the input matrix into a column vector $\\mathbf{x}$(add the intercept term). The model outputs the predicted probabilities for the $K$ classes:\n",
        "\n",
        "$$\\vec\\sigma(\\mathbf{W}\\mathbf{x}) = \\vec \\sigma\\left(\\begin{bmatrix}\\mathbf{w}_1 \\mathbf{x}\\\\ \\vdots  \\\\ \\mathbf{w}_K \\mathbf{x} \\end{bmatrix}\\right)=\\begin{bmatrix} \\frac{\\exp(\\mathbf{w}_1 \\mathbf{x})}{\\sum_{j=1}^K \\exp(\\mathbf{w}_j \\mathbf{x})} \\\\ \\vdots  \\\\ \\frac{\\exp(\\mathbf{w}_K\\mathbf{x})}{\\sum_{j=1}^K \\exp(\\mathbf{w}_j \\mathbf{x})} \\end{bmatrix}\\in(0,1)^K$$\n",
        "\n",
        "where weight matrix $\\mathbf{W}\\in \\mathbb{R}^{K\\times d}$ and $\\mathbf{w}_j$ is the $j$-th row of $\\mathbf{W}$. \n",
        "\n",
        "\n",
        "\n",
        "---\n",
        "\n",
        "Prediction: \ffind the index $j$ associated with the max component of\n",
        "$\\vec\\sigma(\\mathbf{W}\\mathbf{x})$ (highest predicted probability), i.e, \n",
        "$$j = \\text{arg}\\max_{1\\le c \\le K}\\sigma_j(\\mathbf{W}\\mathbf{x}) $$\n",
        "Then predict $\\mathbf{x}\\in \\text{Class } j$.\n",
        "\n"
      ]
    },
    {
      "cell_type": "code",
      "metadata": {
        "colab": {
          "base_uri": "https://localhost:8080/",
          "height": 520
        },
        "id": "NS_aCzdipIyf",
        "outputId": "2bb653f9-5ea1-42ef-c8e7-91e45c19e735"
      },
      "source": [
        "Image(url='https://github.com/yexf308/MAT592/blob/main/image/MNIST_LR.png?raw=true', width=1000)"
      ],
      "execution_count": null,
      "outputs": [
        {
          "output_type": "execute_result",
          "data": {
            "text/html": [
              "<img src=\"https://github.com/yexf308/MAT592/blob/main/image/MNIST_LR.png?raw=true\" width=\"1000\"/>"
            ],
            "text/plain": [
              "<IPython.core.display.Image object>"
            ]
          },
          "metadata": {},
          "execution_count": 20
        }
      ]
    },
    {
      "cell_type": "code",
      "metadata": {
        "colab": {
          "base_uri": "https://localhost:8080/",
          "height": 517
        },
        "id": "qVufH0S6eqo_",
        "outputId": "50c0378b-4bb4-40db-bba9-383852b11816"
      },
      "source": [
        "Image(url='https://github.com/yexf308/MAT592/blob/main/image/comparison_LR.png?raw=true', width=600)"
      ],
      "execution_count": null,
      "outputs": [
        {
          "output_type": "execute_result",
          "data": {
            "text/html": [
              "<img src=\"https://github.com/yexf308/MAT592/blob/main/image/comparison_LR.png?raw=true\" width=\"600\"/>"
            ],
            "text/plain": [
              "<IPython.core.display.Image object>"
            ]
          },
          "metadata": {},
          "execution_count": 11
        }
      ]
    },
    {
      "cell_type": "code",
      "metadata": {
        "id": "R3v8bSkkbsAr"
      },
      "source": [
        "from keras.datasets import mnist"
      ],
      "execution_count": null,
      "outputs": []
    },
    {
      "cell_type": "code",
      "metadata": {
        "colab": {
          "base_uri": "https://localhost:8080/"
        },
        "id": "WCYpXaLfbzv6",
        "outputId": "48927c9a-7e2e-47ac-a199-e3f40eca3a0c"
      },
      "source": [
        "(train_X, train_y), (test_X, test_y) = mnist.load_data()\n",
        "print('X_train: ' + str(train_X.shape))\n",
        "print('Y_train: ' + str(train_y.shape))\n",
        "print('X_test:  '  + str(test_X.shape))\n",
        "print('Y_test:  '  + str(test_y.shape))\n"
      ],
      "execution_count": null,
      "outputs": [
        {
          "output_type": "stream",
          "name": "stdout",
          "text": [
            "Downloading data from https://storage.googleapis.com/tensorflow/tf-keras-datasets/mnist.npz\n",
            "11493376/11490434 [==============================] - 0s 0us/step\n",
            "11501568/11490434 [==============================] - 0s 0us/step\n",
            "X_train: (60000, 28, 28)\n",
            "Y_train: (60000,)\n",
            "X_test:  (10000, 28, 28)\n",
            "Y_test:  (10000,)\n"
          ]
        }
      ]
    },
    {
      "cell_type": "code",
      "metadata": {
        "colab": {
          "base_uri": "https://localhost:8080/",
          "height": 285
        },
        "id": "iBvqNGLacJqe",
        "outputId": "5d26cd5c-a19c-467e-dee5-c56d204e3f1f"
      },
      "source": [
        "\n",
        "fig, axs = plt.subplots(3, 3)\n",
        "axs = axs.ravel()\n",
        "for i in range(9):\n",
        "    axs[i].imshow(train_X[i], cmap=pyplot.get_cmap('gray'))\n",
        "print(train_y[0:9])"
      ],
      "execution_count": null,
      "outputs": [
        {
          "output_type": "stream",
          "name": "stdout",
          "text": [
            "[5 0 4 1 9 2 1 3 1]\n"
          ]
        },
        {
          "output_type": "display_data",
          "data": {
            "image/png": "[encoded data removed]",
            "text/plain": [
              "<Figure size 432x288 with 9 Axes>"
            ]
          },
          "metadata": {
            "needs_background": "light"
          }
        }
      ]
    },
    {
      "cell_type": "markdown",
      "metadata": {
        "id": "-PLNrNJvyQLT"
      },
      "source": [
        "### Negative log likelihood \n",
        "In handwritten digits recognition, \n",
        "$K=10, d=28^2+1=785, N=6\\times 10^4$.\n",
        "\n",
        "Define the probability matrix is\n",
        "$$\\Sigma(\\mathbf{W}\\mathbf{X})=\\begin{bmatrix}\\vec\\sigma(\\mathbf{W}\\mathbf{x}^{(1)}) & \\dots & \\vec\\sigma(\\mathbf{W}\\mathbf{x}^{(N)}) \\end{bmatrix}\\in\\mathbb{R}^{K\\times N}$$ \n",
        "\n",
        "The true label matrix is \n",
        "$$ \\mathbf{Y} = \\begin{bmatrix} \\mathbf{y}^{(1)}& \\dots &\\mathbf{y}^{(N)}\\end{bmatrix}\\in \\mathbb{R}^{K\\times N} $$\n",
        "\n",
        "The negative log likelihood (NLL) is \n",
        "\\begin{align} \\text{NLL}(\\mathbf{W})&=-\\log \\Pi_{i=1}^N\\Pi_{j=1}^K\\Sigma(\\mathbf{W}\\mathbf{X})_{ji}^{\\mathbf{Y}_{ji}} \\\\\n",
        "&=-\\sum_{i=1}^N\\sum_{j=1}^K \\mathbf{Y}_{ji} \\log\\Sigma(\\mathbf{W}\\mathbf{X})_{ji}= \\sum_{i=1}^N H(\\mathbf{Y}_{:,i}, \\Sigma(\\mathbf{W}\\mathbf{X})_{:,i} )\n",
        "\\end{align}\n",
        "\n",
        "The gradient of NLL is \n",
        "\n",
        "\\begin{align}\n",
        "\\nabla_{\\mathbf{W}}\\text{NLL}(\\mathbf{W})= \\sum_{i=1}^N  \\left(\\Sigma(\\mathbf{W}\\mathbf{X})_{:,i} - \\mathbf{Y}_{:,i}\\right) \\mathbf{X}_{:,i}^\\top\n",
        "\\end{align}"
      ]
    }
  ]
}