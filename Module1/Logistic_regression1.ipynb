{
  "nbformat": 4,
  "nbformat_minor": 0,
  "metadata": {
    "colab": {
      "name": "Logistic_regression1.ipynb",
      "provenance": [],
      "collapsed_sections": [],
      "authorship_tag": "ABX9TyOh0KCSra7DGCftPcsCUP7X",
      "include_colab_link": true
    },
    "kernelspec": {
      "name": "python3",
      "display_name": "Python 3"
    },
    "language_info": {
      "name": "python"
    }
  },
  "cells": [
    {
      "cell_type": "markdown",
      "metadata": {
        "id": "view-in-github",
        "colab_type": "text"
      },
      "source": [
        "<a href=\"https://colab.research.google.com/github/yexf308/MAT592/blob/main/Module1/Logistic_regression1.ipynb\" target=\"_parent\"><img src=\"https://colab.research.google.com/assets/colab-badge.svg\" alt=\"Open In Colab\"/></a>"
      ]
    },
    {
      "cell_type": "code",
      "source": [
        "%pylab inline "
      ],
      "metadata": {
        "id": "TvZu-GxR451l",
        "colab": {
          "base_uri": "https://localhost:8080/"
        },
        "outputId": "545dbd6e-792c-4cc7-d2e8-da3d28269373"
      },
      "execution_count": null,
      "outputs": [
        {
          "output_type": "stream",
          "name": "stdout",
          "text": [
            "Populating the interactive namespace from numpy and matplotlib\n"
          ]
        }
      ]
    },
    {
      "cell_type": "markdown",
      "metadata": {
        "id": "VE5N7_YQRj1M"
      },
      "source": [
        "# Logistic regression: Perception\n",
        "\n",
        "Logistic regression is a widely used discriminative classification model $p(y|\\mathbf{x}; \\theta)$, where $\\mathbf{x}$ is a fixed-dimensional input vector, $y\\in\\{1,\\dots, C\\}$ in the **discrete** class label, and $\\theta$ are the parameters. If $C=2$, this is known as **binary logistic regression** (we will use $C\\in\\{0,1\\}$), and if $C>2$, it is known as multinomial\n",
        "logistic regression, or alternatively, multiclass logistic regression. "
      ]
    },
    {
      "cell_type": "markdown",
      "metadata": {
        "id": "--JtRj0ZS39h"
      },
      "source": [
        "## Perceptron for binary logistic regression\n",
        "\n",
        "Example: Input is the pixels of images, output is cat/dog.\n",
        "\n",
        "Given an feature input $[x_1,x_2,\\dots, x_d]\\in \\mathbb{R}^d$ (again we define $\\mathbf{x}=[1, x_1, x_2, \\dots, x_d ]$ and $w_0$ is the bias term), define the weight vector $\\mathbf{w}=[w_0, w_1, \\dots, w_d]^\\top \\in \\mathbb{R}^d$, \n",
        "then we can define **pre-activation** $z=\\mathbf{x}\\mathbf{w}\\in \\mathbb{R}$. \n",
        "\n",
        "perceptron is the composition of linear model and binary step function: \n",
        "\n",
        "$$\\phi(z)=\\begin{cases} 1 (\\text{class 1})& \\text{if }  z>0 \\\\   0(\\text{class 0}) & \\text{otherwise}\\end{cases} $$\n",
        "\n",
        "$\\phi$ is called activation function； weights $\\mathbf{w}\\in \\mathbb{R}^{d+1}$, are model parameters. \n",
        "\n",
        "It is a model of a single neuron that can be used for two-class classification problems and provides the foundation for later developing much larger networks.\n",
        "\n",
        "<img src=\"https://github.com/yexf308/MAT592/blob/main/image/perceptron.png?raw=true\" width=\"600\" />\n",
        "\n"
      ]
    },
    {
      "cell_type": "markdown",
      "metadata": {
        "id": "THVG-biCbFhQ"
      },
      "source": [
        "Given a set of training samples $\\{(\\mathbf{x}^{(i)}, y^{(i)})\\}_{i=1}^N$, \n",
        " \\begin{align}\n",
        " L_i(\\mathbf{w})&=(y^{(i)} - \\phi(\\mathbf{x}^{(i)}\\mathbf{w}) )^2 \\\\\n",
        "  \\text{arg}\\min_{\\mathbf{w}}\\text{RSS}(\\mathbf{w})&=  \\text{arg}\\min_{\\mathbf{w}}\\sum_{i=1}^N L_i(\\mathbf{w}) \\\\\n",
        " \\end{align}\n",
        "\n",
        "Perceptron can not be learned by (sub)gradient methods because $L_i(\\mathbf{w})$ is discontinuous and has zero gradient almost everywhere (piecewise constant). \n",
        "$$ \\nabla L_i(\\mathbf{w})=(\\phi(\\mathbf{x}^{(i)}\\mathbf{w})-y^{(i)})\\cdot \\color{red}{(\\phi'(\\mathbf{x}^{(i)}\\mathbf{w}))}\\cdot \\mathbf{x}^{(i)}$$ \n",
        "$\\phi'(z)=0$ when $z\\ne 0$ and doesn't exist at $z=0$. "
      ]
    },
    {
      "cell_type": "markdown",
      "metadata": {
        "id": "9NJH4jtwKoTU"
      },
      "source": [
        "### Gradient descent method\n",
        "Use the \"fake\" gradient, \n",
        "$$\\mathbf{w} \\leftarrow \\mathbf{w}-\\eta \\sum_{i=1}^N\\left( \\phi(\\mathbf{x}^{(i)}\\mathbf{w})- y^{(i)}\\right) \\mathbf{x}^{(i)} $$\n",
        "\n",
        "The intuitive interpretation: if the prediction is\n",
        "correct, no change is made, otherwise we move the weights in a direction so as to make the correct answer more likely. \n",
        "\n",
        "### Stochastic Gradient descent \n",
        "\n",
        "In machine learning, we can use a technique that evaluates and updates the weights every iteration called **stochastic gradient descent** to minimize the error of a model on our training data. The model makes a prediction for a training instance, the error is calculated and the model is updated in order to reduce the error for the next prediction.\n",
        "\n",
        "- Choose an initial vector of parameters $\\mathbf{w}$ and learning rate $\\mathbf{\\eta}_t$.\n",
        "\n",
        "- Repeat until an approximate minimum is obtained:\n",
        "\n",
        "\n",
        "\n",
        "1.   Randomly shuffle examples in the training set and update $\\eta_t$\n",
        "2.   For $i=1,2, \\dots, N$, do,  (this is one epoch and $\\eta_t$ is constant)\n",
        " $$ \\mathbf{w} \\leftarrow \\mathbf{w}-\\eta_t \\left( \\phi(\\mathbf{x}^{(i)}\\mathbf{w})- y^{(i)}\\right) \\mathbf{x}^{(i)} $$\n",
        "\n",
        "\n",
        "Although the theoretical rate of convergence of SGD is slower than batch GD (in particular, SGD has a sublinear convergence rate), in practice SGD is often faster, since the per-step time is much lower. To see why SGD can make faster progress than full batch GD, suppose we have a dataset consisting of a single example duplicated K times. Batch training will be (at least) K times slower than SGD, since it will waste time computing the gradient for the repeated examples. Even if there are no duplicates, batch training can be wasteful, since early on in training the parameters are not well estimated, so it is not worth carefully evaluating the gradient.\n",
        "\n",
        "A sufficient condition for SGD to achieve convergence is if the learning rate schedule satisfies the Robbins-Monro conditions:\n",
        "$$ \\eta_t\\rightarrow 0, \\frac{\\sum_{t=1}^\\infty \\eta_t^2}{\\sum_{t=1}^\\infty \\eta_t}\\rightarrow 0$$\n",
        "\n",
        "Some examples of learning rate schedules are listed below:\n",
        "\n",
        "- $\\eta_t = \\eta_i$ if $t_i\\le t \\le t_{i+1}$, piecewise constant\n",
        "\n",
        "- $\\eta_t= \\eta_0\\exp(-\\lambda t)$, exponential decay\n",
        "\n",
        "- $\\eta_t=\\eta_0(\\beta t +1)^{-\\alpha}$, polynomial decay\n",
        "\n",
        "\n",
        "\n",
        "<img src=\"https://github.com/yexf308/MAT592/blob/main/image/SGD.png?raw=true\" width=\"1000\" />\n",
        "\n",
        "\n",
        "<img src=\"https://github.com/yexf308/MAT592/blob/main/image/SGD_learning.png?raw=true\" width=\"1200\" />\n",
        "\n",
        "\n",
        "In practice, you can try constant learning rate first and tune the learning rate graduatly. \n"
      ]
    },
    {
      "cell_type": "code",
      "metadata": {
        "id": "7pX7efWIO84s"
      },
      "source": [
        "# Make a prediction with weights\n",
        "def predict(x, w):\n",
        "\tactivation = w.dot(x)\n",
        "\n",
        "\treturn 1.0 if activation >= 0.0 else 0.0\n"
      ],
      "execution_count": null,
      "outputs": []
    },
    {
      "cell_type": "code",
      "metadata": {
        "id": "V4P298i3np9c"
      },
      "source": [
        "# Estimate Perceptron weights using stochastic gradient descent, l_rate is a constant \n",
        "def train_weights(X, y, l_rate, n_epoch):\n",
        "  n, m    = X.shape\n",
        "  weights = zeros(m)\n",
        "  for epoch in range(n_epoch):\n",
        "    sum_error = 0;\n",
        "    arr = np.arange(n)\n",
        "    random.shuffle(arr)\n",
        "    # this is one epoch\n",
        "    for i in arr:\n",
        "      prediction = predict(X[i,:], weights)\n",
        "      error      = prediction - y[i]\n",
        "      sum_error  = error**2 + sum_error\n",
        "      if error !=0:\n",
        "        weights = weights - l_rate * error * X[i,:]\n",
        "\n",
        "    print('sum_error at ',epoch+1, 'epoch is ', sum_error)\n",
        "    if sum_error == 0:\n",
        "      break\n",
        "\n",
        "  return weights\n"
      ],
      "execution_count": null,
      "outputs": []
    },
    {
      "cell_type": "code",
      "metadata": {
        "colab": {
          "base_uri": "https://localhost:8080/",
          "height": 443
        },
        "id": "TeM_qX-ckZvO",
        "outputId": "04136510-32a3-4be9-d39a-7e8e7283ef6f"
      },
      "source": [
        "dataset = array([[2.7810836,2.550537003,0],\n",
        "\t[1.465489372,2.362125076,0],\n",
        "\t[3.396561688,4.400293529,0],\n",
        "\t[1.38807019,1.850220317,0],\n",
        "\t[3.06407232,3.005305973,0],\n",
        "\t[7.627531214,2.759262235,1],\n",
        "\t[5.332441248,2.088626775,1],\n",
        "\t[6.922596716,1.77106367,1],\n",
        "\t[8.675418651,-0.242068655,1],\n",
        "\t[7.673756466,3.508563011,1]])\n",
        "fig, ax = plt.subplots()\n",
        "ax.scatter(dataset[0:5,0],dataset[0:5,1],label='0')\n",
        "ax.scatter(dataset[5:10,0],dataset[5:10,1],label='1')\n",
        "leg = ax.legend();\n",
        "\n",
        "X = hstack([ones((dataset.shape[0],1)), dataset[:,0:2] ])\n",
        "y = dataset[:,2]\n",
        "print(X)\n",
        "\n"
      ],
      "execution_count": null,
      "outputs": [
        {
          "output_type": "stream",
          "name": "stdout",
          "text": [
            "[[ 1.          2.7810836   2.550537  ]\n",
            " [ 1.          1.46548937  2.36212508]\n",
            " [ 1.          3.39656169  4.40029353]\n",
            " [ 1.          1.38807019  1.85022032]\n",
            " [ 1.          3.06407232  3.00530597]\n",
            " [ 1.          7.62753121  2.75926224]\n",
            " [ 1.          5.33244125  2.08862677]\n",
            " [ 1.          6.92259672  1.77106367]\n",
            " [ 1.          8.67541865 -0.24206865]\n",
            " [ 1.          7.67375647  3.50856301]]\n"
          ]
        },
        {
          "output_type": "display_data",
          "data": {
            "text/plain": [
              "<Figure size 432x288 with 1 Axes>"
            ],
            "image/png": "[encoded data removed]"
          },
          "metadata": {
            "needs_background": "light"
          }
        }
      ]
    },
    {
      "cell_type": "code",
      "metadata": {
        "colab": {
          "base_uri": "https://localhost:8080/",
          "height": 336
        },
        "id": "xvuYRer3pNou",
        "outputId": "bdd374ea-34ae-48b9-d246-7a01bb8c7eec"
      },
      "source": [
        "l_rate = 0.1\n",
        "n_epoch = 5\n",
        "weights = train_weights(X, y, l_rate, n_epoch)\n",
        "print(weights)\n",
        "\n",
        "x_span = linspace(2,7,100)\n",
        "y_span = -(weights[0] + weights[1] * x_span)/weights[2]\n",
        "fig, ax = plt.subplots()\n",
        "ax.scatter(dataset[0:5,0],dataset[0:5,1],label='0')\n",
        "ax.scatter(dataset[5:10,0],dataset[5:10,1],label='1')\n",
        "plot(x_span, y_span)"
      ],
      "execution_count": null,
      "outputs": [
        {
          "output_type": "stream",
          "name": "stdout",
          "text": [
            "sum_error at  1 epoch is  3.0\n",
            "sum_error at  2 epoch is  0.0\n",
            "[-0.1         0.42232761 -0.50975949]\n"
          ]
        },
        {
          "output_type": "execute_result",
          "data": {
            "text/plain": [
              "[<matplotlib.lines.Line2D at 0x7f5dfbae5450>]"
            ]
          },
          "metadata": {},
          "execution_count": 5
        },
        {
          "output_type": "display_data",
          "data": {
            "text/plain": [
              "<Figure size 432x288 with 1 Axes>"
            ],
            "image/png": "[encoded data removed]"
          },
          "metadata": {
            "needs_background": "light"
          }
        }
      ]
    },
    {
      "cell_type": "markdown",
      "metadata": {
        "id": "zwmLRSvnzlSZ"
      },
      "source": [
        "- Unlike gradient descent, perceptron algorithm does NOT always converge\n",
        "since it uses fake `gradient'.\n",
        "\n",
        "- however, it converges to the global minimum 0 (perfect classication),\n",
        "when the training data is linearly separable. With the optimal $\\mathbf{w}^*$ defines a hyperplane (decision boundary) separating the two classes. \n",
        "\n",
        "- In the HW, you will encounter some data sets that are not linearly separable. \n",
        "\n",
        "- the more general multi-layer perceptron compositing several linear and\n",
        "non-linear functions, is the prototype of modern **deep neural networks**.\n"
      ]
    }
  ]
}