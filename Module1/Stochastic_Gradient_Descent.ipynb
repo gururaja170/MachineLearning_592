{
  "cells": [
    {
      "cell_type": "markdown",
      "metadata": {
        "id": "view-in-github",
        "colab_type": "text"
      },
      "source": [
        "<a href=\"https://colab.research.google.com/github/yexf308/MAT592/blob/main/Module1/Stochastic_Gradient_Descent.ipynb\" target=\"_parent\"><img src=\"https://colab.research.google.com/assets/colab-badge.svg\" alt=\"Open In Colab\"/></a>"
      ]
    },
    {
      "cell_type": "markdown",
      "metadata": {
        "id": "44SKgXHb1LDk"
      },
      "source": [
        "# Stochastic Gradient Descent"
      ]
    },
    {
      "cell_type": "markdown",
      "source": [
        "$\\def\\m#1{\\mathbf{#1}}$\n",
        "$\\def\\mm#1{\\boldsymbol{#1}}$\n",
        "$\\def\\mb#1{\\mathbb{#1}}$\n",
        "$\\def\\c#1{\\mathcal{#1}}$\n",
        "$\\def\\mr#1{\\mathrm{#1}}$\n",
        "$\\newenvironment{rmat}{\\left[\\begin{array}{rrrrrrrrrrrrr}}{\\end{array}\\right]}$\n",
        "$\\newcommand\\brm{\\begin{rmat}}$\n",
        "$\\newcommand\\erm{\\end{rmat}}$\n",
        "$\\newenvironment{cmat}{\\left[\\begin{array}{ccccccccc}}{\\end{array}\\right]}$\n",
        "$\\newcommand\\bcm{\\begin{cmat}}$\n",
        "$\\newcommand\\ecm{\\end{cmat}}$\n"
      ],
      "metadata": {
        "id": "5G0Fyd-T1qDd"
      }
    },
    {
      "cell_type": "markdown",
      "metadata": {
        "id": "_bkcngSh1LDr"
      },
      "source": [
        "<b>Stochastic Gradient Descent (SGD)</b>, a simple modification applied to the <b>gradient descent</b> algorithm. SGD also computes the gradient but updates the weight matrix $\\m{W}$ on small batches of training data, instead of the entire training set itself.\n",
        "\n",
        "While this leads to “noiser” weight updates, it also allows us to take more steps along the gradient (1 step for each batch vs. 1 step per epoch), ultimately leading to faster convergence and no negative affects to loss and classification accuracy."
      ]
    },
    {
      "cell_type": "markdown",
      "metadata": {
        "id": "jhgfWfZr1LDt"
      },
      "source": [
        "Here is a quick <u>comparison table</u> between Stochastic Gradient Descent and gradient descent:\n",
        "\n",
        "| Algorithm | Time per iter | Total time to convergence<br>for large data in theory | Total time to convergence<br>for large data in practice | Sensitivity to params |\n",
        "|------------------------|---------------------|-------------------------------------------------------|---------------------------------------------------------|-----------------------|\n",
        "| Gradient<br>Descent | Slow for large data | Slower | Usually slower | Moderate |\n",
        "| Stochastic<br>Gradient | Always fast | Faster | Usually faster | Very high |"
      ]
    },
    {
      "cell_type": "markdown",
      "metadata": {
        "id": "dKGwsBxB1LDw"
      },
      "source": [
        "Now, let's consider an example where we illustrate the use of stochastic gradient descent for linear regression. \n",
        "\n",
        "Our goal is to find the equation of the straight line $h_\\theta(x) = \\theta_0 + \\theta_1 x$ that best fits our data points. The function that we are trying to minimize in this case is:\n",
        "\n",
        "$J(\\theta_0,\\theta_1) = {1 \\over 2m} \\sum\\limits_{i=1}^m (h_\\theta(x^{(i)})-y^{(i)})^2$\n",
        "\n",
        "In this case, our gradient will be defined in two dimensions:\n",
        "\n",
        "$\\frac{\\partial}{\\partial \\theta_0} J(\\theta_0,\\theta_1) = \\frac{1}{m}  \\sum\\limits_{i=1}^m (h_\\theta(x^{(i)})-y^{(i)})$\n",
        "\n",
        "$\\frac{\\partial}{\\partial \\theta_1} J(\\theta_0,\\theta_1) = \\frac{1}{m}  \\sum\\limits_{i=1}^m ((h_\\theta(x^{(i)})-y^{(i)}) \\cdot x^{(i)})$\n",
        "\n",
        "\n",
        "Here is the stochastic gradient descent algorithm for simple linear regression, where $N$ is the size of the data set:\n",
        "\n",
        "&nbsp;&nbsp;&nbsp; 1: &nbsp; Randomly shuffle the data set <br>\n",
        "&nbsp;&nbsp;&nbsp;    2: &nbsp; <b>for</b> $k = 0, 1, 2, \\dots$ <b>do</b> <br>\n",
        "&nbsp;&nbsp;&nbsp;    3: &nbsp;&nbsp;&nbsp;&nbsp;&nbsp; <b>for</b> $i = 1$ to $N$ <b>do</b> <br>\n",
        "&nbsp;&nbsp;&nbsp;    4:   &nbsp;&nbsp;&nbsp;&nbsp;&nbsp;&nbsp;&nbsp;&nbsp;&nbsp;&nbsp; $\\begin{bmatrix}\n",
        " \\theta_0 \\\\ \n",
        " \\theta_1 \\\\ \n",
        " \\end{bmatrix}=\\begin{bmatrix}\n",
        " \\theta_0 \\\\ \n",
        " \\theta_1 \\\\ \n",
        " \\end{bmatrix}-\\alpha\\begin{bmatrix}\n",
        " 2(h_\\theta(x^{(i)})-y^{(i)}) \\\\ \n",
        " 2x^{(i)}(h_\\theta(x^{(i)})-y^{(i)}) \\\\ \n",
        " \\end{bmatrix}$ <br>\n",
        "&nbsp;&nbsp;&nbsp;    5: &nbsp;&nbsp;&nbsp;&nbsp;&nbsp; <b>end for</b> <br> \n",
        "&nbsp;&nbsp;&nbsp;    6: &nbsp;  <b>end for</b>\n",
        "\n",
        "Typically, with stochastic gradient descent, you will run through the entire data set 1 to 10 times (see value for $k$ in line 2 of the pseudocode above), depending on how fast the data is converging and how large the data set is.\n",
        "\n",
        "In the example below, we'll create a set of 50,000 points around the line $𝑦 = 7+ 3𝑥 + \\epsilon$ , for values of $x$ between 0 and 100:"
      ]
    },
    {
      "cell_type": "code",
      "execution_count": null,
      "metadata": {
        "id": "Iy-3RcsR1LDz"
      },
      "outputs": [],
      "source": [
        "%matplotlib inline\n",
        "import numpy as np\n",
        "import matplotlib.pyplot as plt"
      ]
    },
    {
      "cell_type": "code",
      "execution_count": null,
      "metadata": {
        "id": "JvXQ4PEb1LD4"
      },
      "outputs": [],
      "source": [
        "np.random.seed(42)\n",
        "\n",
        "f = lambda x: 7 + x * 3 + np.random.randn(len(x)) * 10\n",
        "x = np.random.random(50000) * 100\n",
        "y = f(x) \n",
        "m = len(y)\n",
        "batch = 100 # batch size"
      ]
    },
    {
      "cell_type": "markdown",
      "metadata": {
        "id": "lWYYFZ5D1LD8"
      },
      "source": [
        "First, let's randomly shuffle around our dataset. Note that in this example, this step isn't strictly necessary since the data is already in a random order. However, that obviously may not always be the case:"
      ]
    },
    {
      "cell_type": "markdown",
      "metadata": {
        "id": "eqnqzLY_1LEB"
      },
      "source": [
        "Now we'll setup our h function and our cost function, which we will use to check how the value is improving."
      ]
    },
    {
      "cell_type": "code",
      "execution_count": null,
      "metadata": {
        "id": "cNY7KnyI1LED"
      },
      "outputs": [],
      "source": [
        "h = lambda theta_0, theta_1, x: theta_0 + theta_1 * x\n",
        "cost = lambda theta_0, theta_1, x_i, y_i: 0.5 * (h(theta_0, theta_1, x_i) - y_i) ** 2"
      ]
    },
    {
      "cell_type": "markdown",
      "metadata": {
        "id": "Sfy47GyN1LEF"
      },
      "source": [
        "Now we'll run our stochastic gradient descent algorithm. To see it's progress, we'll take a cost measurement at every step. Every 10,000 steps, we'll get an average cost from the last 10,000 steps and then append that to our cost_list variable. We will run through the entire list 10 times here:"
      ]
    },
    {
      "cell_type": "code",
      "execution_count": null,
      "metadata": {
        "id": "WvhuEUUj1LEI",
        "outputId": "04064560-813f-45fa-fc53-683760eabe24"
      },
      "outputs": [
        {
          "name": "stdout",
          "output_type": "stream",
          "text": [
            "Local minimum occurs where:\n",
            "theta_0 = 7.07789735537464\n",
            "theta_1 = 3.0368460823859147\n"
          ]
        }
      ],
      "source": [
        "theta_old = np.array([0.,0.])\n",
        "theta_new = np.array([1.,1.]) # The algorithm starts at [1,1]\n",
        "lr = 0.00005 # learning rate\n",
        "batch = 1 # batch size\n",
        "\n",
        "iter_num = 0\n",
        "s_k = np.array([float(\"inf\"), float(\"inf\")])\n",
        "sum_cost = 0\n",
        "cost_list = []\n",
        "\n",
        "for i in range(m * 20):\n",
        "    iter_num += 1\n",
        "    # random choice of matching x and y\n",
        "    idx = np.random.randint(0, m, size=batch)\n",
        "    x_i = x[idx]  # random choice of x\n",
        "    y_i = y[idx]  # random choice of y\n",
        "    \n",
        "    theta_old = theta_new\n",
        "    pred_y = h(theta_old[0], theta_old[1], x_i)\n",
        "    s_k[0] = pred_y - y_i\n",
        "    s_k[1] = (pred_y - y_i) * x_i\n",
        "    s_k = (-1) * s_k\n",
        "    theta_new = theta_old + lr * s_k\n",
        "    \n",
        "    # saved for plot\n",
        "    sum_cost += cost(theta_old[0], theta_old[1], x_i, y_i)\n",
        "    if (i + 1) % 10000 == 0:\n",
        "        cost_list.append(sum_cost / 10000.0)\n",
        "        sum_cost = 0   \n",
        "            \n",
        "print(\"Local minimum occurs where:\")\n",
        "print(\"theta_0 =\", theta_new[0])\n",
        "print(\"theta_1 =\", theta_new[1])"
      ]
    },
    {
      "cell_type": "markdown",
      "metadata": {
        "id": "es0KbEZD1LEL"
      },
      "source": [
        "As you can see, our values for $\\theta_0$ and $\\theta_1$ are close to their true values of 7 and 3.\n",
        "\n",
        "Now, we plot our cost versus the number of iterations. As you can see, the cost goes down quickly at first, but starts to level off as we go through more iterations:"
      ]
    },
    {
      "cell_type": "code",
      "execution_count": null,
      "metadata": {
        "id": "WzOr0Jdv1LEO",
        "outputId": "dc9ebb3a-9d41-48e8-b40e-68e8b4d53299"
      },
      "outputs": [
        {
          "data": {
            "image/png": "[encoded data removed]",
            "text/plain": [
              "<Figure size 432x288 with 1 Axes>"
            ]
          },
          "metadata": {
            "needs_background": "light"
          },
          "output_type": "display_data"
        }
      ],
      "source": [
        "iterations = np.arange(len(cost_list)) * 10000\n",
        "plt.plot(iterations,cost_list)\n",
        "plt.xlabel(\"iterations\")\n",
        "plt.ylabel(\"avg cost\")\n",
        "plt.show()"
      ]
    },
    {
      "cell_type": "markdown",
      "metadata": {
        "id": "MEhW8fo-1LER"
      },
      "source": [
        "Well, that was kind of cool, but I wish that I didn't need to calculate the gradients myself before I can apply gradient descent or stochastic gradient descent. I wonder if there is some tool that can do that for whichever functions that I am interested in... <b>Pytorch</b> comes to help!\n"
      ]
    }
  ],
  "metadata": {
    "kernelspec": {
      "display_name": "Python 3",
      "language": "python",
      "name": "python3"
    },
    "language_info": {
      "codemirror_mode": {
        "name": "ipython",
        "version": 3
      },
      "file_extension": ".py",
      "mimetype": "text/x-python",
      "name": "python",
      "nbconvert_exporter": "python",
      "pygments_lexer": "ipython3",
      "version": "3.7.9"
    },
    "colab": {
      "name": "Stochastic Gradient Descent.ipynb",
      "provenance": [],
      "collapsed_sections": [],
      "include_colab_link": true
    }
  },
  "nbformat": 4,
  "nbformat_minor": 0
}