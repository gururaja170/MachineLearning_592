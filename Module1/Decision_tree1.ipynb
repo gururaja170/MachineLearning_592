{
  "nbformat": 4,
  "nbformat_minor": 0,
  "metadata": {
    "colab": {
      "name": "21_Decision_tree1.ipynb",
      "provenance": [],
      "collapsed_sections": [],
      "authorship_tag": "ABX9TyN+Kd5gWKot9vx8o8ewf2Db",
      "include_colab_link": true
    },
    "kernelspec": {
      "name": "python3",
      "display_name": "Python 3"
    },
    "language_info": {
      "name": "python"
    }
  },
  "cells": [
    {
      "cell_type": "markdown",
      "metadata": {
        "id": "view-in-github",
        "colab_type": "text"
      },
      "source": [
        "<a href=\"https://colab.research.google.com/github/yexf308/MAT592/blob/main/21_Decision_tree1.ipynb\" target=\"_parent\"><img src=\"https://colab.research.google.com/assets/colab-badge.svg\" alt=\"Open In Colab\"/></a>"
      ]
    },
    {
      "cell_type": "markdown",
      "metadata": {
        "id": "tKYzB1oAgMzI"
      },
      "source": [
        "Part of the notebook is based on Lope.ai. "
      ]
    },
    {
      "cell_type": "code",
      "metadata": {
        "colab": {
          "base_uri": "https://localhost:8080/"
        },
        "id": "_EROw6vJlpIc",
        "outputId": "4fb4b524-5cc6-4e61-cfdb-335ce15beebb"
      },
      "source": [
        "%pylab inline \n",
        "from IPython.display import Image\n",
        "import numpy.linalg as LA"
      ],
      "execution_count": null,
      "outputs": [
        {
          "output_type": "stream",
          "name": "stdout",
          "text": [
            "Populating the interactive namespace from numpy and matplotlib\n"
          ]
        }
      ]
    },
    {
      "cell_type": "markdown",
      "metadata": {
        "id": "A_Fz0HooBIC_"
      },
      "source": [
        "([Top ten algorithms in data mining](http://www.cs.umd.edu/~samir/498/10Algorithms-08.pdf)): C4.5, $k$-Means, SVM,\n",
        "Apriori, EM, PageRank, AdaBoost, $k$-NN, Naive Bayes, and CART"
      ]
    },
    {
      "cell_type": "markdown",
      "metadata": {
        "id": "KwjahkeVttfc"
      },
      "source": [
        "# Decision tree \n",
        "- Defined by a hierarchy of rules (in form of a tree)\n",
        "\n",
        "- Rules form the internal nodes. Each rule (internal node) tests the value of some property (feature) of the data.\n",
        "\n",
        "- **root**: topmost internal node\n",
        "\n",
        "- **leaf**: decision node at the ends\n",
        "\n",
        "- **decision tree learning:** training data is used to construct/fit the decision tree model. Then the trained decision tree is used to predict for new input.\n",
        "\n",
        "- **Advantage**: easy to interprete and quick prediction.\n",
        "\n"
      ]
    },
    {
      "cell_type": "code",
      "metadata": {
        "colab": {
          "base_uri": "https://localhost:8080/",
          "height": 434
        },
        "id": "HI3d2HOKt7gs",
        "outputId": "5cc61f28-f6ad-42e5-d493-1654c286670a"
      },
      "source": [
        "display(Image(url='https://github.com/yexf308/MAT592/blob/main/image/DT3.png?raw=true', width=700))"
      ],
      "execution_count": null,
      "outputs": [
        {
          "output_type": "display_data",
          "data": {
            "text/html": [
              "<img src=\"https://github.com/yexf308/MAT592/blob/main/image/DT3.png?raw=true\" width=\"700\"/>"
            ],
            "text/plain": [
              "<IPython.core.display.Image object>"
            ]
          },
          "metadata": {}
        }
      ]
    },
    {
      "cell_type": "markdown",
      "metadata": {
        "id": "cL8kqAeYvXNc"
      },
      "source": [
        "## Toy examples\n",
        "- **Right:** Classification: 2-D points in blue vs. green region with 2 features\n",
        "$(x_1, x_2)$.\n",
        "\n",
        "- **Left**: The following decision tree is used to predict the region (blue/green) of a\n",
        "new point in the order defined by the tree ( first $x_2$ and then $x_1$) This is also called **regression tree**.\n",
        "\n",
        "\n",
        "\n",
        "The first node asks if $x_1$ is greater than\n",
        "some threshold $t_1$. If yes, we then ask if $x_2$ is greater than some other threshold $t_2$. If yes, we enter the\n",
        "bottom left leaf node. This corresponds to the region of space defined by\n",
        "$R_1=\\{\\mathbf{x}: x_1\\ge t_1, x_2\\ge t_2\\}$. The overall result is that we partition the 2d input space into 4 regions. By using enough splits (i.e., deep enough trees), we can make a piecewise linear approximationt to decision boundaries with more complex shapes, but it may require a lot of data to fit such a model.\n",
        "\n",
        "The output for $R_1$ can be estimated using (if $y$ is continuous output as well) \n",
        "\\begin{align}\n",
        "w_1 = \\frac{\\sum_{i=1}^Ny^{(i)}\\mathbb{1}_{\\mathbf{x}^{(i)}\\in R_1} }{\\sum_{i=1}^N \\mathbb{1}_{\\mathbf{x}^{(i)}\\in R_1}}\n",
        "\\end{align}\n",
        "\n",
        "Formally, the regression tree is defined by\n",
        "\\begin{align}\n",
        "f(\\mathbf{x}; \\theta) = \\sum_{j=1}^Jw_j \\mathbb{1}_{\\mathbf{x}\\in R_j}\n",
        "\\end{align}\n",
        "where $R_j$ is the region specified by the $j$’th leaf node, $w_j$ is the predicted output for that node, $J$ is the number of nodes. So the parameter is $\\theta=\\{(R_j, w_j)\\}_{j=1}^J$. "
      ]
    },
    {
      "cell_type": "code",
      "metadata": {
        "colab": {
          "base_uri": "https://localhost:8080/",
          "height": 476
        },
        "id": "ogZ6fP4zwWpB",
        "outputId": "758a315d-ea07-4b64-ebad-1fead67a8661"
      },
      "source": [
        "display(Image(url='https://github.com/yexf308/MAT592/blob/main/image/DT1.png?raw=true', width=1300))"
      ],
      "execution_count": null,
      "outputs": [
        {
          "output_type": "display_data",
          "data": {
            "text/html": [
              "<img src=\"https://github.com/yexf308/MAT592/blob/main/image/DT1.png?raw=true\" width=\"1300\"/>"
            ],
            "text/plain": [
              "<IPython.core.display.Image object>"
            ]
          },
          "metadata": {}
        }
      ]
    },
    {
      "cell_type": "markdown",
      "metadata": {
        "id": "FIUnI4wkw0hv"
      },
      "source": [
        "- Decide whether to play or not to play Tennis based on 4 features:\n",
        "outlook, temperature, humidity, wind. \n",
        "\n",
        "  For categorical inputs, we can define the splits based\n",
        "on comparing feature to each of the possible values for that feature, like \"outlook\" having three possible value, 'sunny', 'overcase' and 'rain'.\n",
        "\n",
        "- **Question:** why does it make more sense to test the \"outlook\"\n",
        "feature  first? \"Temperature\" is completely ignored? \n",
        "   - Because \"outlook\" is the most informative of all the 4 features and \"temperature\" is not informative. \n",
        "   \n",
        "   - We need to quantify the informativeness. \n",
        "\n",
        "\n"
      ]
    },
    {
      "cell_type": "code",
      "metadata": {
        "colab": {
          "base_uri": "https://localhost:8080/",
          "height": 447
        },
        "id": "Fxsqpx0-w3Yt",
        "outputId": "57199e21-ee91-487e-eab0-a6655dec92f6"
      },
      "source": [
        "display(Image(url='https://github.com/yexf308/MAT592/blob/main/image/DT.png?raw=true', width=1200))"
      ],
      "execution_count": null,
      "outputs": [
        {
          "output_type": "display_data",
          "data": {
            "text/html": [
              "<img src=\"https://github.com/yexf308/MAT592/blob/main/image/DT.png?raw=true\" width=\"1200\"/>"
            ],
            "text/plain": [
              "<IPython.core.display.Image object>"
            ]
          },
          "metadata": {}
        }
      ]
    },
    {
      "cell_type": "markdown",
      "metadata": {
        "id": "7hiaQtV72V5q"
      },
      "source": [
        "## Decision tree construction\n",
        "\n",
        "- Data comes in records of the form $\\{\\mathbf{x}^{(i)}, y^{(i)}\\}_{i=1}^N$, the vector $\\mathbf{x}$ is composed of **the features variables**, $x_1, x_2, x_3$, can be continuous or discrete. The dependent variable $y$, is the **target variable** that we are trying to understand, classify or generalize. \n",
        "\n",
        "- We use training data $\\{\\mathbf{x}^{(i)}, y^{(i)}\\}_{i=1}^N$ to construct the decision tree. Each internal node corresponds to a rule to test some feature. \n",
        "\n",
        "\n",
        "- To fit the model, we have the loss function \n",
        "$$ \\mathcal{L}(\\theta)=\\sum_{i=1}^N\\ell(y^{(i)}, f(\\mathbf{x}^{(i)};\\theta)) =\\sum_{j=1}^J \\sum_{\\mathbf{x}^{(i)}\\in R_j}\\ell(y^{(i)},w_j)$$\n",
        " Unfortunately, this is not differentiable, because of the need to learn the discrete tree structure.\n",
        " \n",
        "- **Idea:** Use a greedy procedure, in which we iteratively grow the tree one node at a time.\n",
        "Highly informative features are placed higher up in the tree;\n",
        "will need a way to rank features according to their information\n",
        "content. \n",
        "\n",
        "We will introduce two decision tree algorithms: **Iterative Dichotomiser 3(ID3)** and **Classification and regression trees (CART)**."
      ]
    },
    {
      "cell_type": "markdown",
      "metadata": {
        "id": "jlOot8n0Ae44"
      },
      "source": [
        "# Iterative Dichotomiser 3\n",
        "In ID3, we will use **entropy** and **information gain** as the criteria/metric for ranking. All features are **categorical/discrete** features and the output are binary($+$ or $-$).  \n"
      ]
    },
    {
      "cell_type": "markdown",
      "metadata": {
        "id": "0BZfnnK-DxXN"
      },
      "source": [
        "## Entropy\n",
        "\n",
        "- Entropy (in information theory) measures the\n",
        "randomness/uncertainty in the data\n",
        "\n",
        "- Given a set of $\\mathcal{S}$ with $k$ classes, associated with a Multinomial probability distribution $\\mathbf{p}=(p_1, \\dots, p_k)$ with $\\sum_{i}p_i =1$.\n",
        "\n",
        "- Entropy is defined as follows \n",
        "  $$ H(\\mathcal{S}) = -\\sum_{i=1}^k p_i\\log_2 p_i$$\n",
        "  Note the logarithm is base 2 instead of base $e$.\n",
        "\n",
        "  Example: for $k=2$, $\\mathcal{S}_1$ with $\\mathbf{p}=(1/2, 1/2)$; $\\mathcal{S}_2$ with $\\mathbf{p}=(0.3, 0.7)$. Then $H(\\mathcal{S}_1)=1$ and $H(\\mathcal{S}_2)=-0.3\\log_2(0.3)-0.7\\log_2(0.7)\\approx 0.8816$.\n",
        "\n",
        "**Property:** \n",
        "\n",
        "- $0\\le H(\\mathcal{S})\\le \\log_2(k)$. The minimum is reached when $p_i=1$ for some class $i$ (no uncertainty, since all instances are from the same class). The maximum is reached when $p_i=\\frac{1}{k}$ for all classes\n",
        "(uniform distribution).\n",
        "\n",
        "- In general, \n",
        "\n",
        "  Dominant/skewed classes $\\rightarrow$ Low entropy/uncertainty.      \n",
        "  \n",
        "  Equi-probable classes $\\rightarrow$ High entropy/uncertainty.\n",
        "\n",
        "\n"
      ]
    },
    {
      "cell_type": "markdown",
      "metadata": {
        "id": "DZLQEsQtblIo"
      },
      "source": [
        "## Information gain\n",
        "\n",
        "- **Information gain (IG)** of set $\\mathcal{S}$ on some feature $F$ is\n",
        "$$ \\text{IG}(\\mathcal{S}; F)= H(\\mathcal{S})- H(\\mathcal{S}|F)$$\n",
        "  where $H(\\mathcal{S}|F)$ is conditional entropy of $\\mathcal{S}$ given the value of feature $F$. \n",
        "\n",
        "- $\\text{IG}(\\mathcal{S}; F)$ measures the decrease in uncertainty about $\\mathcal{S}$ once the value of feature $F$ is known.\n",
        "\n",
        "\n",
        "- Specifically, conditional entropy of $\\mathcal{S}$ on $F$ is computed by\n",
        "$$ H(\\mathcal{S}|F) = \\sum_{f\\in F} P(F=f)H(\\mathcal{S}_f)=\\sum_{f\\in F} \\frac{|\\mathcal{S}_f|}{|\\mathcal{S}|}H(\\mathcal{S}_f)$$\n",
        "  where $\\mathcal{S}_f$ is the subset of $\\mathcal{S}$ with feature $F$ having value $f$, $ |\\cdot|$ denotes the number of elem of a set.\n",
        "\n",
        "\n"
      ]
    },
    {
      "cell_type": "markdown",
      "metadata": {
        "id": "H-PSdjZvg-qO"
      },
      "source": [
        "### Computing information gain: Tennis example\n",
        "\n",
        "- $\\mathcal{S}=\\{1, \\dots, 14\\}$, with 9 \"play\" and 5 \"no-play\". Then \n",
        "   $$H(\\mathcal{S})= -(9/14)\\log_2(9/14)-(5/14)\\log_2(5/14)\\approx 0.94 $$\n",
        "\n",
        "- Consider the feature $F=$wind. Then $f\\in\\{\\text{strong}, \\text{weak}\\}$. \n",
        "$$\\mathcal{S}_{\\text{strong}} = \\{2,6,7,11,12,14\\}, \\ \\text{play}=\\{3+, 3-\\}, \\ H(\\mathcal{S}_{\\text{strong}})=1 $$\n",
        "\n",
        "$$\\mathcal{S}_{\\text{weak}} = \\{1,3,4,5,8,9,10,13\\}, \\ \\text{play}=\\{6+, 2-\\}, \\ H(\\mathcal{S}_{\\text{weak}})\\approx 0.811 $$\n",
        "\n",
        "- information gain on the feature \"wind\":\n",
        "\\begin{align}\n",
        " \\text{IG}(\\mathcal{S},\\text{wind})&= H(\\mathcal{S}) - H(\\mathcal{S}|\\text{wind}) \\\\\n",
        " &= H(\\mathcal{S}) -\\frac{|\\mathcal{S}_{\\text{weak}}|}{|\\mathcal{S}|}H(\\mathcal{S}_{\\text{weak}}) -\\frac{|\\mathcal{S}_{\\text{strong}}|}{|\\mathcal{S}|}H(\\mathcal{S}_{\\text{strong}}) \\\\\n",
        " & =0.94 -8/14\\cdot0.811 - 6/14 \\cdot 1=0.048\n",
        "\\end{align}\n",
        "\n",
        "\n",
        "- Similarly, \n",
        "\\begin{align}\n",
        "&\\text{IG}(\\mathcal{S},\\text{outlook}) = 0.246 \\\\ \n",
        "&\\text{IG}(\\mathcal{S},\\text{humidity}) = 0.151 \\\\ \n",
        "&\\text{IG}(\\mathcal{S},\\text{temperature)}) = 0.029\n",
        "\\end{align}\n",
        "\n",
        "- '\"outlook\" has most IG: chosen as the first feature to test\n",
        "(root node)"
      ]
    },
    {
      "cell_type": "code",
      "metadata": {
        "colab": {
          "base_uri": "https://localhost:8080/",
          "height": 572
        },
        "id": "2tll3JNns7nb",
        "outputId": "d0737c4e-0f93-4fce-8911-e10c38f6f94f"
      },
      "source": [
        "display(Image(url='https://github.com/yexf308/MAT592/blob/main/image/tennis.png?raw=true', width=400))\n",
        "display(Image(url='https://github.com/yexf308/MAT592/blob/main/image/tennis2.png?raw=true', width=400))"
      ],
      "execution_count": null,
      "outputs": [
        {
          "output_type": "display_data",
          "data": {
            "text/html": [
              "<img src=\"https://github.com/yexf308/MAT592/blob/main/image/tennis.png?raw=true\" width=\"400\"/>"
            ],
            "text/plain": [
              "<IPython.core.display.Image object>"
            ]
          },
          "metadata": {}
        },
        {
          "output_type": "display_data",
          "data": {
            "text/html": [
              "<img src=\"https://github.com/yexf308/MAT592/blob/main/image/tennis2.png?raw=true\" width=\"400\"/>"
            ],
            "text/plain": [
              "<IPython.core.display.Image object>"
            ]
          },
          "metadata": {}
        }
      ]
    },
    {
      "cell_type": "markdown",
      "metadata": {
        "id": "ydsC2nforqCH"
      },
      "source": [
        "### Grow the tree\n",
        "\n",
        "Iteratively select the feature with highest IG for each child node to\n",
        "grow the tree. \n",
        "\n",
        "For **left node:**\n",
        "-  $\\mathcal{S}=\\{1,2,8,9,11\\}$ with play=$\\{2+, 3-\\}$, \n",
        "$$H(\\mathcal{S}) = -(2/5)\\log_2(2/5)-(3/5)\\log_2(3/5)\\approx 0.97$$\n",
        "\n",
        "- for the feature \"temperature\":\n",
        "  - $\\mathcal{S}_{\\text{hot}} = \\{1,2\\}$ with play=$\\{0+, 2-\\}$, $H(\\mathcal{S}_{\\text{hot}})=0$.\n",
        "\n",
        "  - $\\mathcal{S}_{\\text{mild}} = \\{8,11\\}$ with play=$\\{1+, 1-\\}$, $H(\\mathcal{S}_{\\text{mild}})=1$.\n",
        "\n",
        "  - $\\mathcal{S}_{\\text{cool}} = \\{9\\}$ with play=$\\{1+, 0-\\}$, $H(\\mathcal{S}_{\\text{cool}})=0$.\n",
        "\n",
        "\n",
        "- information gain on the feature \"temperature\": \n",
        "\\begin{align} \n",
        "\\text{IG}(\\mathcal{S}, \\text{temp}) &= H(\\mathcal{S})-H(\\mathcal{S}|\\text{temp}) \\\\\n",
        "&=H(\\mathcal{S}) -\\frac{|\\mathcal{S}_{\\text{hot}}|}{|\\mathcal{S}|}H(\\mathcal{S}_{\\text{hot}}) -\\frac{|\\mathcal{S}_{\\text{mild}}|}{|\\mathcal{S}|}H(\\mathcal{S}_{\\text{mild}}) -\\frac{|\\mathcal{S}_{\\text{cool}}|}{|\\mathcal{S}|}H(\\mathcal{S}_{\\text{cool}}) \\\\ \n",
        "&=0.97-2/5\\cdot 0 - 2/5\\cdot 1 - 1/5\\cdot 0= 0.57\n",
        "\\end{align}\n",
        "\n",
        "- Similarly, \n",
        " $$ \\text{IG}(\\mathcal{S}, \\text{humidity})=0.97 $$\n",
        " $$  \\text{IG}(\\mathcal{S}, \\text{wind})=0.019$$\n",
        " Choose feature \"humidity\" for the left node.\n",
        "\n",
        "\n",
        "\n",
        "For **middle node:**\n",
        " - $\\mathcal{S}=\\{3,7,12,13\\}$ with play=\\{4+, 0-\\}: no\n",
        "need to grow due to identical labels ($H(\\mathcal{S})=0$) \n",
        " \n",
        "For **right node:**\n",
        " \n",
        " - Compute IG for each feature except for\n",
        "\"outlook\", choose \"wind\" since it has the highest IG.\n",
        "\n",
        "End up with a decision tree perfectly fitting the training data\n",
        "\n",
        "For **Stopping criteria**: stop expanding a node further when\n",
        "  - all training examples have the same label\n",
        "  - run out of features to test (leading to a training error)\n"
      ]
    },
    {
      "cell_type": "markdown",
      "metadata": {
        "id": "g6yfYpDvTboE"
      },
      "source": [
        "## ID3 algorithm\n",
        "**Iterative Dichotomiser 3(ID3)**: \n",
        "\n",
        "- Compute the entropy for dataset\n",
        "\n",
        "- For every feature:\n",
        "       1.calculate entropy for all categorical values\n",
        "       2.take average information entropy for the current feature\n",
        "       3.calculate gain for the current feature\n",
        "- Pick the highest gain feature.\n",
        "\n",
        "- Repeat until we get the tree we desired.\n"
      ]
    },
    {
      "cell_type": "markdown",
      "metadata": {
        "id": "nU7BvQLWggO1"
      },
      "source": [
        "# Let's code this up.\n",
        "For this portion, I will use some basic functions in pandas. It is possible that you can code this up without using it. "
      ]
    },
    {
      "cell_type": "code",
      "metadata": {
        "id": "c3oM7tcog9jm"
      },
      "source": [
        "import pandas as pd\n",
        "eps  = 10**-12"
      ],
      "execution_count": null,
      "outputs": []
    },
    {
      "cell_type": "code",
      "metadata": {
        "colab": {
          "base_uri": "https://localhost:8080/",
          "height": 483
        },
        "id": "ipmPz3U4hK2I",
        "outputId": "c41c7c1e-8d34-43fb-f03a-56bbacf53e49"
      },
      "source": [
        "outlook = 'sunny,sunny,overcast,rainy,rainy,rainy,overcast,sunny,sunny,rainy,sunny,overcast,overcast,rainy'.split(',')\n",
        "temp = 'hot,hot,hot,mild,cool,cool,cool,mild,cool,mild,mild,mild,hot,mild'.split(',')\n",
        "humidity = 'high,high,high,high,normal,normal,normal,high,normal,normal,normal,high,normal,high'.split(',')\n",
        "windy = 'weak,strong,weak,weak,weak,strong,strong,weak,weak,weak,strong,strong,weak,strong'.split(',')\n",
        "play = 'no,no,yes,yes,yes,no,yes,no,yes,yes,yes,yes,yes,no'.split(',')\n",
        "\n",
        "dataset ={'outlook':outlook,'temp':temp,'humidity':humidity,'windy':windy,'play':play}\n",
        "df = pd.DataFrame(dataset,columns=['outlook','temp','humidity','windy','play'])\n",
        "df\n"
      ],
      "execution_count": null,
      "outputs": [
        {
          "output_type": "execute_result",
          "data": {
            "text/html": [
              "<div>\n",
              "<style scoped>\n",
              "    .dataframe tbody tr th:only-of-type {\n",
              "        vertical-align: middle;\n",
              "    }\n",
              "\n",
              "    .dataframe tbody tr th {\n",
              "        vertical-align: top;\n",
              "    }\n",
              "\n",
              "    .dataframe thead th {\n",
              "        text-align: right;\n",
              "    }\n",
              "</style>\n",
              "<table border=\"1\" class=\"dataframe\">\n",
              "  <thead>\n",
              "    <tr style=\"text-align: right;\">\n",
              "      <th></th>\n",
              "      <th>outlook</th>\n",
              "      <th>temp</th>\n",
              "      <th>humidity</th>\n",
              "      <th>windy</th>\n",
              "      <th>play</th>\n",
              "    </tr>\n",
              "  </thead>\n",
              "  <tbody>\n",
              "    <tr>\n",
              "      <th>0</th>\n",
              "      <td>sunny</td>\n",
              "      <td>hot</td>\n",
              "      <td>high</td>\n",
              "      <td>weak</td>\n",
              "      <td>no</td>\n",
              "    </tr>\n",
              "    <tr>\n",
              "      <th>1</th>\n",
              "      <td>sunny</td>\n",
              "      <td>hot</td>\n",
              "      <td>high</td>\n",
              "      <td>strong</td>\n",
              "      <td>no</td>\n",
              "    </tr>\n",
              "    <tr>\n",
              "      <th>2</th>\n",
              "      <td>overcast</td>\n",
              "      <td>hot</td>\n",
              "      <td>high</td>\n",
              "      <td>weak</td>\n",
              "      <td>yes</td>\n",
              "    </tr>\n",
              "    <tr>\n",
              "      <th>3</th>\n",
              "      <td>rainy</td>\n",
              "      <td>mild</td>\n",
              "      <td>high</td>\n",
              "      <td>weak</td>\n",
              "      <td>yes</td>\n",
              "    </tr>\n",
              "    <tr>\n",
              "      <th>4</th>\n",
              "      <td>rainy</td>\n",
              "      <td>cool</td>\n",
              "      <td>normal</td>\n",
              "      <td>weak</td>\n",
              "      <td>yes</td>\n",
              "    </tr>\n",
              "    <tr>\n",
              "      <th>5</th>\n",
              "      <td>rainy</td>\n",
              "      <td>cool</td>\n",
              "      <td>normal</td>\n",
              "      <td>strong</td>\n",
              "      <td>no</td>\n",
              "    </tr>\n",
              "    <tr>\n",
              "      <th>6</th>\n",
              "      <td>overcast</td>\n",
              "      <td>cool</td>\n",
              "      <td>normal</td>\n",
              "      <td>strong</td>\n",
              "      <td>yes</td>\n",
              "    </tr>\n",
              "    <tr>\n",
              "      <th>7</th>\n",
              "      <td>sunny</td>\n",
              "      <td>mild</td>\n",
              "      <td>high</td>\n",
              "      <td>weak</td>\n",
              "      <td>no</td>\n",
              "    </tr>\n",
              "    <tr>\n",
              "      <th>8</th>\n",
              "      <td>sunny</td>\n",
              "      <td>cool</td>\n",
              "      <td>normal</td>\n",
              "      <td>weak</td>\n",
              "      <td>yes</td>\n",
              "    </tr>\n",
              "    <tr>\n",
              "      <th>9</th>\n",
              "      <td>rainy</td>\n",
              "      <td>mild</td>\n",
              "      <td>normal</td>\n",
              "      <td>weak</td>\n",
              "      <td>yes</td>\n",
              "    </tr>\n",
              "    <tr>\n",
              "      <th>10</th>\n",
              "      <td>sunny</td>\n",
              "      <td>mild</td>\n",
              "      <td>normal</td>\n",
              "      <td>strong</td>\n",
              "      <td>yes</td>\n",
              "    </tr>\n",
              "    <tr>\n",
              "      <th>11</th>\n",
              "      <td>overcast</td>\n",
              "      <td>mild</td>\n",
              "      <td>high</td>\n",
              "      <td>strong</td>\n",
              "      <td>yes</td>\n",
              "    </tr>\n",
              "    <tr>\n",
              "      <th>12</th>\n",
              "      <td>overcast</td>\n",
              "      <td>hot</td>\n",
              "      <td>normal</td>\n",
              "      <td>weak</td>\n",
              "      <td>yes</td>\n",
              "    </tr>\n",
              "    <tr>\n",
              "      <th>13</th>\n",
              "      <td>rainy</td>\n",
              "      <td>mild</td>\n",
              "      <td>high</td>\n",
              "      <td>strong</td>\n",
              "      <td>no</td>\n",
              "    </tr>\n",
              "  </tbody>\n",
              "</table>\n",
              "</div>"
            ],
            "text/plain": [
              "     outlook  temp humidity   windy play\n",
              "0      sunny   hot     high    weak   no\n",
              "1      sunny   hot     high  strong   no\n",
              "2   overcast   hot     high    weak  yes\n",
              "3      rainy  mild     high    weak  yes\n",
              "4      rainy  cool   normal    weak  yes\n",
              "5      rainy  cool   normal  strong   no\n",
              "6   overcast  cool   normal  strong  yes\n",
              "7      sunny  mild     high    weak   no\n",
              "8      sunny  cool   normal    weak  yes\n",
              "9      rainy  mild   normal    weak  yes\n",
              "10     sunny  mild   normal  strong  yes\n",
              "11  overcast  mild     high  strong  yes\n",
              "12  overcast   hot   normal    weak  yes\n",
              "13     rainy  mild     high  strong   no"
            ]
          },
          "metadata": {},
          "execution_count": 7
        }
      ]
    },
    {
      "cell_type": "code",
      "metadata": {
        "id": "9G03J1jG2hCa",
        "colab": {
          "base_uri": "https://localhost:8080/"
        },
        "outputId": "bb49699e-fd9f-4398-df42-dd43a770d0b7"
      },
      "source": [
        "df.loc[0]"
      ],
      "execution_count": null,
      "outputs": [
        {
          "output_type": "execute_result",
          "data": {
            "text/plain": [
              "outlook     sunny\n",
              "temp          hot\n",
              "humidity     high\n",
              "windy        weak\n",
              "play           no\n",
              "Name: 0, dtype: object"
            ]
          },
          "metadata": {},
          "execution_count": 8
        }
      ]
    },
    {
      "cell_type": "code",
      "metadata": {
        "colab": {
          "base_uri": "https://localhost:8080/",
          "height": 204
        },
        "id": "M7_VSuvEy3pO",
        "outputId": "da3ed5b6-3705-43d9-d55d-152edbb31b92"
      },
      "source": [
        "df[df['outlook']=='sunny'].reset_index(drop=True)"
      ],
      "execution_count": null,
      "outputs": [
        {
          "output_type": "execute_result",
          "data": {
            "text/html": [
              "<div>\n",
              "<style scoped>\n",
              "    .dataframe tbody tr th:only-of-type {\n",
              "        vertical-align: middle;\n",
              "    }\n",
              "\n",
              "    .dataframe tbody tr th {\n",
              "        vertical-align: top;\n",
              "    }\n",
              "\n",
              "    .dataframe thead th {\n",
              "        text-align: right;\n",
              "    }\n",
              "</style>\n",
              "<table border=\"1\" class=\"dataframe\">\n",
              "  <thead>\n",
              "    <tr style=\"text-align: right;\">\n",
              "      <th></th>\n",
              "      <th>outlook</th>\n",
              "      <th>temp</th>\n",
              "      <th>humidity</th>\n",
              "      <th>windy</th>\n",
              "      <th>play</th>\n",
              "    </tr>\n",
              "  </thead>\n",
              "  <tbody>\n",
              "    <tr>\n",
              "      <th>0</th>\n",
              "      <td>sunny</td>\n",
              "      <td>hot</td>\n",
              "      <td>high</td>\n",
              "      <td>weak</td>\n",
              "      <td>no</td>\n",
              "    </tr>\n",
              "    <tr>\n",
              "      <th>1</th>\n",
              "      <td>sunny</td>\n",
              "      <td>hot</td>\n",
              "      <td>high</td>\n",
              "      <td>strong</td>\n",
              "      <td>no</td>\n",
              "    </tr>\n",
              "    <tr>\n",
              "      <th>2</th>\n",
              "      <td>sunny</td>\n",
              "      <td>mild</td>\n",
              "      <td>high</td>\n",
              "      <td>weak</td>\n",
              "      <td>no</td>\n",
              "    </tr>\n",
              "    <tr>\n",
              "      <th>3</th>\n",
              "      <td>sunny</td>\n",
              "      <td>cool</td>\n",
              "      <td>normal</td>\n",
              "      <td>weak</td>\n",
              "      <td>yes</td>\n",
              "    </tr>\n",
              "    <tr>\n",
              "      <th>4</th>\n",
              "      <td>sunny</td>\n",
              "      <td>mild</td>\n",
              "      <td>normal</td>\n",
              "      <td>strong</td>\n",
              "      <td>yes</td>\n",
              "    </tr>\n",
              "  </tbody>\n",
              "</table>\n",
              "</div>"
            ],
            "text/plain": [
              "  outlook  temp humidity   windy play\n",
              "0   sunny   hot     high    weak   no\n",
              "1   sunny   hot     high  strong   no\n",
              "2   sunny  mild     high    weak   no\n",
              "3   sunny  cool   normal    weak  yes\n",
              "4   sunny  mild   normal  strong  yes"
            ]
          },
          "metadata": {},
          "execution_count": 19
        }
      ]
    },
    {
      "cell_type": "code",
      "metadata": {
        "colab": {
          "base_uri": "https://localhost:8080/"
        },
        "id": "n0EekVx6ljvp",
        "outputId": "d1c3bfde-e7b6-4a06-b29a-418e859ed673"
      },
      "source": [
        "#step 1: Compute the entropy for data-set\n",
        "\n",
        "def entropy(df): #H(S)\n",
        "    target = df.keys()[-1] \n",
        "    entropy_data = 0\n",
        "    target_values = df[target].unique() #yes or no\n",
        "    for target_value in target_values:\n",
        "        fraction = df[target].value_counts()[target_value]/len(df[target])\n",
        "        entropy_data += -fraction*np.log2(fraction)\n",
        "    return entropy_data\n",
        "\n",
        "print('entropy for the data set is',entropy(df) )   "
      ],
      "execution_count": null,
      "outputs": [
        {
          "output_type": "stream",
          "name": "stdout",
          "text": [
            "entropy for the data set is 0.9402859586706309\n"
          ]
        }
      ]
    },
    {
      "cell_type": "code",
      "metadata": {
        "id": "FM8ywRrVmOqx"
      },
      "source": [
        "# define a function ent to calculate conditional entropy of each feature\n",
        "def entropy_feature(df,feature): #H(S|F)\n",
        "    target = df.keys()[-1] \n",
        "    target_values = df[target].unique()  #This gives all 'Yes' and 'No'\n",
        "    variables = df[feature].unique()    #This gives different features (f values)\n",
        "\n",
        "    entropy = 0\n",
        "    for variable in variables:\n",
        "        entropy_each_feature = 0\n",
        "        for target_variable in target_values:\n",
        "            num = len(df[feature][df[feature]==variable][df.play ==target_variable]) #numerator\n",
        "            den = len(df[feature][df[feature]==variable])  #denominator\n",
        "            fraction = num/(den+eps)  #+eps can prevent runtime error of divide 0. \n",
        "            entropy_each_feature += -fraction*log2(fraction+eps) #This calculates entropy for one feature   H(S_f)\n",
        "        fraction2 = den/len(df) # P(F=f)\n",
        "        entropy += -fraction2*entropy_each_feature   #Sums up all the entropy, H(S|F)=\\sum P(F=f) H(S_f)\n",
        "\n",
        "    return(abs(entropy))\n"
      ],
      "execution_count": null,
      "outputs": []
    },
    {
      "cell_type": "code",
      "metadata": {
        "colab": {
          "base_uri": "https://localhost:8080/"
        },
        "id": "Ba7WFXONAy0b",
        "outputId": "3ab9d476-061d-4172-e8ce-b18d549f91f5"
      },
      "source": [
        "print('features are', df.keys()[:-1])\n",
        "entropy_feature_list = {k:entropy_feature(df,k) for k in df.keys()[:-1]}\n",
        "print('entropy of each feature is', entropy_feature_list)\n",
        "\n",
        "entropy_feature_list['temp']"
      ],
      "execution_count": null,
      "outputs": [
        {
          "output_type": "stream",
          "name": "stdout",
          "text": [
            "features are Index(['outlook', 'temp', 'humidity', 'windy'], dtype='object')\n",
            "entropy of each feature is {'outlook': 0.6935361388938892, 'temp': 0.9110633930089052, 'humidity': 0.7884504573054976, 'windy': 0.8921589282595528}\n"
          ]
        },
        {
          "output_type": "execute_result",
          "data": {
            "text/plain": [
              "0.9110633930089052"
            ]
          },
          "metadata": {},
          "execution_count": 12
        }
      ]
    },
    {
      "cell_type": "code",
      "metadata": {
        "colab": {
          "base_uri": "https://localhost:8080/"
        },
        "id": "46XxOaFrBXgo",
        "outputId": "1c1679c2-359e-4bd8-eee3-19779a3f9653"
      },
      "source": [
        "# calculate Info gain of each feature \n",
        "def ig(df):\n",
        "    IG = []\n",
        "    for feature in df.keys()[:-1]:\n",
        "      IG.append(entropy(df)-entropy_feature(df,feature))\n",
        "    return IG  \n",
        "\n",
        "\n",
        "print('IG of each feature is', ig(df))"
      ],
      "execution_count": null,
      "outputs": [
        {
          "output_type": "stream",
          "name": "stdout",
          "text": [
            "IG of each feature is [0.2467498197767417, 0.029222565661725763, 0.15183550136513335, 0.04812703041107813]\n"
          ]
        }
      ]
    },
    {
      "cell_type": "markdown",
      "metadata": {
        "id": "6b6ivHOHGRlK"
      },
      "source": [
        "# Let's build the decision tree"
      ]
    },
    {
      "cell_type": "code",
      "metadata": {
        "id": "-5ObssolJnHm"
      },
      "source": [
        "\n",
        "def get_subtable(df, node,variable):\n",
        "  return df[df[node] == variable].reset_index(drop=True)\n",
        "\n",
        "\n",
        "def buildTree(df,tree=None): \n",
        "    target = df.keys()[-1]   #To make the code generic, changing target variable class name\n",
        "    features = df.keys()[:-1]\n",
        "    #Here we build our decision tree\n",
        "\n",
        "    #Get feature with maximum information gain\n",
        "    IG = ig(df)\n",
        "    node = features[argmax(IG)]\n",
        "    \n",
        "    #Get distinct value of that feature\n",
        "    variables = df[node].unique()\n",
        "    \n",
        "    #Create an empty dictionary to create tree    \n",
        "    if tree is None:                    \n",
        "        tree={}\n",
        "        tree[node] = {}\n",
        "    \n",
        "   #We make loop to construct a tree by calling this function recursively. \n",
        "    #In this we check if the subset is pure and stops if it is pure. \n",
        "\n",
        "    for variable in variables:\n",
        "        \n",
        "        subtable = get_subtable(df,node,variable)\n",
        "        clValue,counts = unique(subtable[target],return_counts=True)                        \n",
        "        \n",
        "        if len(counts)==1:#Checking purity of subset\n",
        "            tree[node][variable] = clValue[0]                                                    \n",
        "        else:        \n",
        "            tree[node][variable] = buildTree(subtable) #Calling the function recursively \n",
        "                   \n",
        "    return tree\n",
        "  \n",
        "  \n"
      ],
      "execution_count": null,
      "outputs": []
    },
    {
      "cell_type": "code",
      "metadata": {
        "colab": {
          "base_uri": "https://localhost:8080/"
        },
        "id": "wmg_2ePgJrZl",
        "outputId": "dff63a13-49b1-4aa3-fe13-79e99310b03a"
      },
      "source": [
        "import pprint\n",
        "t=buildTree(df)\n",
        "pprint.pprint(t)"
      ],
      "execution_count": null,
      "outputs": [
        {
          "output_type": "stream",
          "name": "stdout",
          "text": [
            "{'outlook': {'overcast': 'yes',\n",
            "             'rainy': {'windy': {'strong': 'no', 'weak': 'yes'}},\n",
            "             'sunny': {'humidity': {'high': 'no', 'normal': 'yes'}}}}\n"
          ]
        }
      ]
    },
    {
      "cell_type": "code",
      "metadata": {
        "colab": {
          "base_uri": "https://localhost:8080/",
          "height": 514
        },
        "id": "d72leLdSaOeG",
        "outputId": "525aed6a-4b0d-4072-c283-bb5245951dab"
      },
      "source": [
        "df1=df.append(pd.DataFrame([['sunny','hot','normal','strong','no']], columns=['outlook','temp','humidity','windy','play']),ignore_index=True)\n",
        "df1"
      ],
      "execution_count": null,
      "outputs": [
        {
          "output_type": "execute_result",
          "data": {
            "text/html": [
              "<div>\n",
              "<style scoped>\n",
              "    .dataframe tbody tr th:only-of-type {\n",
              "        vertical-align: middle;\n",
              "    }\n",
              "\n",
              "    .dataframe tbody tr th {\n",
              "        vertical-align: top;\n",
              "    }\n",
              "\n",
              "    .dataframe thead th {\n",
              "        text-align: right;\n",
              "    }\n",
              "</style>\n",
              "<table border=\"1\" class=\"dataframe\">\n",
              "  <thead>\n",
              "    <tr style=\"text-align: right;\">\n",
              "      <th></th>\n",
              "      <th>outlook</th>\n",
              "      <th>temp</th>\n",
              "      <th>humidity</th>\n",
              "      <th>windy</th>\n",
              "      <th>play</th>\n",
              "    </tr>\n",
              "  </thead>\n",
              "  <tbody>\n",
              "    <tr>\n",
              "      <th>0</th>\n",
              "      <td>sunny</td>\n",
              "      <td>hot</td>\n",
              "      <td>high</td>\n",
              "      <td>weak</td>\n",
              "      <td>no</td>\n",
              "    </tr>\n",
              "    <tr>\n",
              "      <th>1</th>\n",
              "      <td>sunny</td>\n",
              "      <td>hot</td>\n",
              "      <td>high</td>\n",
              "      <td>strong</td>\n",
              "      <td>no</td>\n",
              "    </tr>\n",
              "    <tr>\n",
              "      <th>2</th>\n",
              "      <td>overcast</td>\n",
              "      <td>hot</td>\n",
              "      <td>high</td>\n",
              "      <td>weak</td>\n",
              "      <td>yes</td>\n",
              "    </tr>\n",
              "    <tr>\n",
              "      <th>3</th>\n",
              "      <td>rainy</td>\n",
              "      <td>mild</td>\n",
              "      <td>high</td>\n",
              "      <td>weak</td>\n",
              "      <td>yes</td>\n",
              "    </tr>\n",
              "    <tr>\n",
              "      <th>4</th>\n",
              "      <td>rainy</td>\n",
              "      <td>cool</td>\n",
              "      <td>normal</td>\n",
              "      <td>weak</td>\n",
              "      <td>yes</td>\n",
              "    </tr>\n",
              "    <tr>\n",
              "      <th>5</th>\n",
              "      <td>rainy</td>\n",
              "      <td>cool</td>\n",
              "      <td>normal</td>\n",
              "      <td>strong</td>\n",
              "      <td>no</td>\n",
              "    </tr>\n",
              "    <tr>\n",
              "      <th>6</th>\n",
              "      <td>overcast</td>\n",
              "      <td>cool</td>\n",
              "      <td>normal</td>\n",
              "      <td>strong</td>\n",
              "      <td>yes</td>\n",
              "    </tr>\n",
              "    <tr>\n",
              "      <th>7</th>\n",
              "      <td>sunny</td>\n",
              "      <td>mild</td>\n",
              "      <td>high</td>\n",
              "      <td>weak</td>\n",
              "      <td>no</td>\n",
              "    </tr>\n",
              "    <tr>\n",
              "      <th>8</th>\n",
              "      <td>sunny</td>\n",
              "      <td>cool</td>\n",
              "      <td>normal</td>\n",
              "      <td>weak</td>\n",
              "      <td>yes</td>\n",
              "    </tr>\n",
              "    <tr>\n",
              "      <th>9</th>\n",
              "      <td>rainy</td>\n",
              "      <td>mild</td>\n",
              "      <td>normal</td>\n",
              "      <td>weak</td>\n",
              "      <td>yes</td>\n",
              "    </tr>\n",
              "    <tr>\n",
              "      <th>10</th>\n",
              "      <td>sunny</td>\n",
              "      <td>mild</td>\n",
              "      <td>normal</td>\n",
              "      <td>strong</td>\n",
              "      <td>yes</td>\n",
              "    </tr>\n",
              "    <tr>\n",
              "      <th>11</th>\n",
              "      <td>overcast</td>\n",
              "      <td>mild</td>\n",
              "      <td>high</td>\n",
              "      <td>strong</td>\n",
              "      <td>yes</td>\n",
              "    </tr>\n",
              "    <tr>\n",
              "      <th>12</th>\n",
              "      <td>overcast</td>\n",
              "      <td>hot</td>\n",
              "      <td>normal</td>\n",
              "      <td>weak</td>\n",
              "      <td>yes</td>\n",
              "    </tr>\n",
              "    <tr>\n",
              "      <th>13</th>\n",
              "      <td>rainy</td>\n",
              "      <td>mild</td>\n",
              "      <td>high</td>\n",
              "      <td>strong</td>\n",
              "      <td>no</td>\n",
              "    </tr>\n",
              "    <tr>\n",
              "      <th>14</th>\n",
              "      <td>sunny</td>\n",
              "      <td>hot</td>\n",
              "      <td>normal</td>\n",
              "      <td>strong</td>\n",
              "      <td>no</td>\n",
              "    </tr>\n",
              "  </tbody>\n",
              "</table>\n",
              "</div>"
            ],
            "text/plain": [
              "     outlook  temp humidity   windy play\n",
              "0      sunny   hot     high    weak   no\n",
              "1      sunny   hot     high  strong   no\n",
              "2   overcast   hot     high    weak  yes\n",
              "3      rainy  mild     high    weak  yes\n",
              "4      rainy  cool   normal    weak  yes\n",
              "5      rainy  cool   normal  strong   no\n",
              "6   overcast  cool   normal  strong  yes\n",
              "7      sunny  mild     high    weak   no\n",
              "8      sunny  cool   normal    weak  yes\n",
              "9      rainy  mild   normal    weak  yes\n",
              "10     sunny  mild   normal  strong  yes\n",
              "11  overcast  mild     high  strong  yes\n",
              "12  overcast   hot   normal    weak  yes\n",
              "13     rainy  mild     high  strong   no\n",
              "14     sunny   hot   normal  strong   no"
            ]
          },
          "metadata": {},
          "execution_count": 16
        }
      ]
    },
    {
      "cell_type": "code",
      "metadata": {
        "colab": {
          "base_uri": "https://localhost:8080/"
        },
        "id": "lTs3i7eCfxjS",
        "outputId": "8c6471fe-a9d9-4d20-f0e6-6f52af9bb47b"
      },
      "source": [
        "\n",
        "t1=buildTree(df1)\n",
        "pprint.pprint(t1)"
      ],
      "execution_count": null,
      "outputs": [
        {
          "output_type": "stream",
          "name": "stdout",
          "text": [
            "{'outlook': {'overcast': 'yes',\n",
            "             'rainy': {'windy': {'strong': 'no', 'weak': 'yes'}},\n",
            "             'sunny': {'temp': {'cool': 'yes',\n",
            "                                'hot': 'no',\n",
            "                                'mild': {'humidity': {'high': 'no',\n",
            "                                                      'normal': 'yes'}}}}}}\n"
          ]
        }
      ]
    },
    {
      "cell_type": "markdown",
      "metadata": {
        "id": "YZp5s6z_o3pH"
      },
      "source": [
        "- This extra complexity may not be worth it; may lead to\n",
        "overfitting if the test data follows the same pattern as normal\n",
        "training data\n",
        "\n",
        "Solution:\n",
        "- Retain a validation set from the original training set.\n",
        "\n",
        "- Pruning to avoid overfitting: remove node from bottom to up\n",
        "(in a greedy manner) if the removal improves the validation\n",
        "accuracy, until it starts worsening."
      ]
    }
  ]
}