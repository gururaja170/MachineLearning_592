{
  "nbformat": 4,
  "nbformat_minor": 0,
  "metadata": {
    "colab": {
      "name": "18.GMM2.ipynb",
      "provenance": [],
      "collapsed_sections": [],
      "authorship_tag": "ABX9TyNW+JXL7xBYEpgrDSdso+v9",
      "include_colab_link": true
    },
    "kernelspec": {
      "name": "python3",
      "display_name": "Python 3"
    },
    "language_info": {
      "name": "python"
    }
  },
  "cells": [
    {
      "cell_type": "markdown",
      "metadata": {
        "id": "view-in-github",
        "colab_type": "text"
      },
      "source": [
        "<a href=\"https://colab.research.google.com/github/yexf308/MAT592/blob/main/18_GMM2.ipynb\" target=\"_parent\"><img src=\"https://colab.research.google.com/assets/colab-badge.svg\" alt=\"Open In Colab\"/></a>"
      ]
    },
    {
      "cell_type": "code",
      "metadata": {
        "id": "lpH6XB9x0UrL",
        "colab": {
          "base_uri": "https://localhost:8080/"
        },
        "outputId": "6e428e56-77ac-4168-bc33-2d44aa0a8db2"
      },
      "source": [
        "%pylab inline \n",
        "from IPython.display import Image\n",
        "import numpy.linalg as LA"
      ],
      "execution_count": 1,
      "outputs": [
        {
          "output_type": "stream",
          "name": "stdout",
          "text": [
            "Populating the interactive namespace from numpy and matplotlib\n"
          ]
        }
      ]
    },
    {
      "cell_type": "markdown",
      "metadata": {
        "id": "wBscDLgD0ZRc"
      },
      "source": [
        "#Gaussian Mixture Models: Implementation\n",
        "\n",
        "\n",
        "Rewrite log-likelihood for Gaussian mixture:\n",
        "\n",
        "\\begin{align}\n",
        "\\log \\ell(\\theta) = \\sum_{i=1}^N\\log p(\\mathbf{x}^{(i)}|\\theta)=\\sum_{i=1}^N\\log\\sum_{z^{(i)}=1}^K p(\\mathbf{x}^{(i)}, z^{(i)}|\\theta) \n",
        "\\end{align}\n",
        "\n",
        "where $\\mathbf{x}$ are observed dataset and $z$ are the cluster membership which are hidden variables. Unfortunately, it is very hard to optimize. \n",
        "\n",
        "## Expectation-Maximization(EM) algorithm\n",
        "\n",
        "### Background\n",
        "The basic idea behind EM algorithm is alternate between estimating the hidden variables during the **E step** (expectation step), and then using the fully observed data to compute the MLE during the **M step** (maximization step). Of course we need to iterate this process since the expected values depend on the parameters, but the parameters depend on the expected values. \n",
        "\n",
        "\n",
        "- Consider a set of arbitary distribution $q(z^{(i)})$ over each hidden variable $z^{(i)}$. The observed data log likelihood can written as follows: \n",
        "$$ \\log \\ell(\\theta)=\\sum_{i=1}^N\\log\\left(\\sum_{c=1}^K q(z^{(i)}=c) \\frac{p(\\mathbf{x}^{(i)}, z^{(i)}=c|\\theta)}{q(z^{(i)}=c)}\\right) $$\n",
        "\n",
        "- Using Jensen's inequality, $\\phi(\\sum_i a_ix_i)\\ge  \\sum_i a_i \\phi(x_i)$ for any concave function $\\phi$ and $\\sum_i a_i=1$.\n",
        "\\begin{align}\n",
        "\\log \\ell(\\theta)&\\ge \\sum_{i=1}^N \\sum_{c=1}^K q(z^{(i)}=c) \\log\\left( \\frac{p(\\mathbf{x}^{(i)}, z^{(i)}=c|\\theta)}{q(z^{(i)}=c)}\\right) \\\\\n",
        "&\\triangleq \\sum_{i=1}^N \\mathcal{E}[\\theta,z^{(i)}|\\mathbf{x}^{(i)}] = \\mathcal{E}[\\theta, \\{z^{(i)}\\}_{i=1}^N |\\{\\mathbf{x}^{(i)}\\}_{i=1}^N ] \n",
        "\\end{align}\n",
        " $\\mathcal{E}[\\theta, \\{z^{(i)}\\}_{i=1}^N |\\{\\mathbf{x}^{(i)}\\}_{i=1}^N ]$ is called the **evidence lower bound**, since it is a lower bound on the log marginal likelihood $\\log p(\\{\\mathbf{x}^{(i)}\\}_{i=1}^N|\\theta)$ \n"
      ]
    },
    {
      "cell_type": "markdown",
      "metadata": {
        "id": "N5TgIJ1om5ba"
      },
      "source": [
        "\n",
        "We see that the lower bound is a sum of $N$ terms, each of which has the following form\n",
        "\\begin{align}\n",
        "\\mathcal{E}[\\theta,z^{(i)}|\\mathbf{x}^{(i)}] &= \\sum_{c=1}^K q(z^{(i)}=c) \\log\\left( \\frac{p(\\mathbf{x}^{(i)}, z^{(i)}=c|\\theta)}{q(z^{(i)}=c)}\\right) \\\\\n",
        "&=\\sum_{c=1}^K q(z^{(i)}=c) \\log\\left( \\frac{p(z^{(i)}=c| \\mathbf{x}^{(i)},\\theta)p(\\mathbf{x}^{(i)}|\\theta)}{q(z^{(i)}=c)}\\right)\\\\\n",
        "&= \\sum_{c=1}^K q(z^{(i)}=c) \\log\\left( \\frac{p(z^{(i)}=c| \\mathbf{x}^{(i)},\\theta)}{q(z^{(i)}=c)}\\right) + \\sum_{c=1}^K q(z^{(i)}=c)  \\log p(\\mathbf{x}^{(i)}|\\theta) \\\\\n",
        "&=-\\text{KL}(q(z^{(i)})||p(z^{(i)}| \\mathbf{x}^{(i)},\\theta)) + \\log p(\\mathbf{x}^{(i)}|\\theta) \n",
        "\\end{align}\n",
        "where $\\text{KL}(q||p)=\\sum_z q(z)\\log(\\frac{q(z)}{p(z)})$ is the Kullback-Leibler divergence (or KL divergence for short)\n",
        "between probability distributions $q$ and $p$. \n",
        "\n",
        "- The key\n",
        "property we need here is that $\\text{KL}(q||p)\\ge 0 $ and $\\text{KL}(q||p)=0$ iff $q=p$. \n",
        "\n",
        "- we can maximize the\n",
        "lower bound $\\mathcal{E}[\\theta, \\{z^{(i)}\\}_{i=1}^N |\\{\\mathbf{x}^{(i)}\\}_{i=1}^N ]$ with respect to $\\{z^{(i)}\\}$ by setting each one to $q^*(z^{(i)})=p(z^{(i)}| \\mathbf{x}^{(i)},\\theta)$. \n",
        "\n",
        " This ensures the ELBO is a **tight lower bound**\n",
        "$$ \\mathcal{E}[\\theta, \\{z^{(i)}\\}_{i=1}^N |\\{\\mathbf{x}^{(i)}\\}_{i=1}^N ]=\\sum_{i=1}^N\\log p(\\mathbf{x}^{(i)}|\\theta)=\\log \\ell(\\theta)$$\n",
        "\n",
        "\n",
        "\n"
      ]
    },
    {
      "cell_type": "markdown",
      "metadata": {
        "id": "2TWFf94I6KzP"
      },
      "source": [
        "### Construct the EM algorithm\n",
        "At each the $t$-iteration with $\\theta^t$, EM algorithm constructs an **auxiliary function**,\n",
        "$$ q(\\color{blue}{\\theta}; \\color{red}{\\theta^t}) = \\sum_{i=1}^N \\sum_{c=1}^K \\underbrace{p(z^{(i)}=c|\\mathbf{x}^{(i)},\\color{red}{\\theta^t})}_{q(z^{(i)})}\\log \\frac{p(\\mathbf{x}^{(i)},z^{(i)}=c|\\color{blue}{\\theta})}{p(z^{(i)}=c|\\mathbf{x}^{(i)},\\color{red}{\\theta^t})}$$ \n",
        "which is a lower envelope of $\\log \\ell(\\theta)$, i.e, \n",
        "$$\\log \\ell(\\theta) \\ge q(\\color{blue}{\\theta}; \\color{red}{\\theta^t}), \\forall \\theta $$\n",
        "with the equality holds at $\\theta^t=\\theta$.\n",
        "\n",
        "- The EM algorithm iterates for $t=0,1,\\dots$ to update $\\theta$:\n",
        "$$\\color{red}{\\theta_{t+1}} = \\arg\\max_{\\theta}q(\\color{blue}{\\theta}; \\color{red}{\\theta^t}) $$\n",
        "\n",
        "- EM algorithm is ascent for maximization:\n",
        "$$ \\log \\ell(\\theta^{t+1})\\ge q(\\theta^{t+1}; \\theta^t)\\ge q(\\theta^{t};\\theta^t)=\\log \\ell(\\theta^t)$$\n",
        "\n",
        "- In general, global maximum is not guaranteed because the problem is\n",
        "non-convex\n"
      ]
    },
    {
      "cell_type": "code",
      "metadata": {
        "colab": {
          "base_uri": "https://localhost:8080/",
          "height": 461
        },
        "id": "yYxr9cd4Gk4S",
        "outputId": "b23f02b4-ff5b-4bbf-fff0-7001258ce109"
      },
      "source": [
        "display(Image(url='https://github.com/yexf308/MAT592/blob/main/image/EM.png?raw=true', width=600))"
      ],
      "execution_count": null,
      "outputs": [
        {
          "output_type": "display_data",
          "data": {
            "text/html": [
              "<img src=\"https://github.com/yexf308/MAT592/blob/main/image/EM.png?raw=true\" width=\"600\"/>"
            ],
            "text/plain": [
              "<IPython.core.display.Image object>"
            ]
          },
          "metadata": {}
        }
      ]
    },
    {
      "cell_type": "markdown",
      "metadata": {
        "id": "B46O_n5hxCao"
      },
      "source": [
        "## EM algorithm in GMM\n",
        "### E(xpecation) step\n",
        "Evaluate the probability $p(z^{(i)}| \\mathbf{x}^{(i)},\\theta^t)$ using the current parameters $\\theta^t =\\{\\pi_c^t, \\mu_c^t, \\Sigma_c^t\\}_{c=1}^K$:\n",
        "\n",
        " \\begin{align}\n",
        " \\phi_c^{(i), t}\\triangleq p(z^{(i)}=c| \\mathbf{x}^{(i)},\\color{red}{\\theta^t}) &= \\frac{p( \\mathbf{x}^{(i)}|z^{(i)}=c, \\theta^t)p(z^{(i)}=c| \\color{red}{\\theta^t})}{p(\\mathbf{x}^{(i)}|\\color{red}{\\theta^t})}  \\qquad \\text{By Bayes rule} \\\\\n",
        "&= \\frac{\\pi_c^t p(\\mathbf{x}^{(i)} | \\mu_c^t, \\Sigma_c^t)}{\\sum_{j=1}^K \\pi_j^t p(\\mathbf{x}^{(i)} | \\mu_j^t, \\Sigma_j^t) }, \\qquad \\forall 1\\le i\\le N, 1\\le c\\le K.\n",
        " \\end{align}\n",
        " Where \n",
        " $$ p(\\mathbf{x}^{(i)} | \\mu_c^t, \\Sigma_c^t) = \\frac{1}{\\sqrt{(2\\pi)^d|\\Sigma_c|}}\\exp\\left(-\\frac{1}{2}(\\mathbf{x}^{(i)}-\\mu_c)^\\top \\Sigma_c^{-1}(\\mathbf{x}^{(i)}-\\mu_c)\\right), \\qquad 1\\le c\\le K$$\n",
        " is the PDF for the $c$-th Gaussian distribution of the mixture. \n",
        "\n",
        " **E step gives the clustering:**\n",
        "\n",
        " - $\\phi_c^{(i)}= p(z^{(i)}=c| \\mathbf{x}^{(i)},\\theta)$ is the posterior probability: the probability that observation $\\mathbf{x}^{(i)}$ comes from the cluster $c$, given the model parameter $\\theta$. \n",
        "\n",
        " - $(\\phi_1^{(i)}, \\phi_2^{(i)}, \\dots, \\phi_K^{(i)})$ is the probability prediction for $\\mathbf{x}^{(i)}$ belonging to each cluster. \n",
        "\n",
        " - Having learned model parameters of Gaussian mixture, we cluster $\\mathbf{x}^{(i)}$ by checking the highest posterior probability \n",
        "$$ z^{(i)} = \\text{arg}\\max_{1\\le c\\le K} \\phi_c^{(i)}.$$\n",
        "This is similar to the prediction step of logistic regression."
      ]
    },
    {
      "cell_type": "markdown",
      "metadata": {
        "id": "GCyOJ4TovDBp"
      },
      "source": [
        "### M(aximization) step \n",
        "\n",
        "Update parameters by solving\n",
        "\n",
        "$$\\color{red}{\\theta^{t+1}}=\\arg\\max_{\\theta} q(\\color{blue}\\theta, \\color{red}{\\theta^{t}}) = \\arg\\max_{\\theta}\\sum_{i=1}^N \\sum_{c=1}^K \\phi_{c}^{(i),t} \\log \\frac{p(\\mathbf{x}^{(i)}, z^{(i)}=c|\\color{blue}{\\theta})}{\\phi_{c}^{(i),t} }$$\n",
        "\n",
        "using the computed posterior probabilities $\\phi_{c}^{(i),t}$ from E step. \n",
        "\n",
        "We can switch the order of sum and find out we only need to maximize for each individual $c$.\n",
        "\n",
        "Equvilently, \n",
        "\\begin{align}\n",
        "\\pi_c^{t+1}, \\mu_c^{t+1}, \\Sigma_c^{t+1} &= \\arg\\max_{\\pi_c, \\mu_c, \\Sigma_c}\\sum_{i=1}^N \\phi_{c}^{(i),t} \\log p(\\mathbf{x}^{(i)}, z^{(i)}=c|\\{\\pi_c, \\mu_c, \\Sigma_c\\})\\\\\n",
        "&= \\arg\\max_{\\pi_c, \\mu_c, \\Sigma_c} \\sum_{i=1}^N  \\phi_{c}^{(i),t} \\log\\left[ \\pi_c p(\\mathbf{x}^{(i)} |\\mu_c, \\Sigma_c)\\right] \\\\\n",
        "& = \\arg\\max_{ \\mu_c, \\Sigma_c} \\sum_{i=1}^N \\phi_{c}^{(i),t} \\log p(\\mathbf{x}^{(i)} |\\mu_c, \\Sigma_c) + \\arg\\max_{ \\pi_c} \\sum_{i=1}^N \\phi_{c}^{(i),t} \\log \\pi_c\n",
        "\\end{align}\n",
        "\n",
        "note that we have constraints $\\pi_c\\ge 0$ and $\\sum_{c=1}^K \\pi_c =1$.\n",
        "\n",
        "This optimization has analytical solution! Do it yourself.\n",
        "\n",
        "\\begin{align}\n",
        "& \\pi_c^{t+1}=\\frac{\\sum_{i=1}^N \\phi_{c}^{(i),t}}{\\sum_{c=1}^K\\sum_{i=1}^N \\phi_{c}^{(i),t}}=\\frac{1}{N}\\sum_{i=1}^N \\phi_{c}^{(i),t}, \\\\\n",
        "& \\mu_c^{t+1} = \\frac{\\sum_{i=1}^N \\phi_{c}^{(i),t}  \\mathbf{x}^{(i)}}{\\sum_{i=1}^N \\phi_{c}^{(i),t}} , \\\\\n",
        "& \\Sigma_c^{t+1} = \\frac{\\sum_{i=1}^N \\phi_{c}^{(i),t}  \\left[\\mathbf{x}^{(i)}-\\mu_c^{t+1}\\right]\\left[\\mathbf{x}^{(i)}-\\mu_c^{t+1}\\right]^T}{\\sum_{i=1}^N \\phi_{c}^{(i),t}}.\n",
        "\\end{align}\n",
        "\n",
        "\n"
      ]
    },
    {
      "cell_type": "markdown",
      "metadata": {
        "id": "4zQ9RklVj0bO"
      },
      "source": [
        "## K-means is a special case of EM\n",
        "\n",
        "K-means is essentially a special case of Gaussian mixture model, assuming the\n",
        "data is generated as follows:\n",
        "\n",
        "- We fix $\\Sigma_c= \\sigma\\mathbb{I}_d$ and $\\pi_c=1/K$ for all the clusters (so we just have to estimate the means $\\mu_c$). \n",
        "\n",
        "- We approximate the E step, by replacing the posterior probability with hard cluster assignments, i.e, $z^{(i)} = \\text{arg}\\max_{1\\le c\\le K} \\phi_c^{(i)}$ and set $\\phi_c^{(i)} =\\mathbb{1}_{z^{(i)} = c}$\n",
        "\n",
        "With this approximation, the analytical solution in M step reduces to K-means equation. Therefore, K-means favors rounded clusters of equal size."
      ]
    },
    {
      "cell_type": "markdown",
      "metadata": {
        "id": "cKBO9hvrn7pD"
      },
      "source": [
        "# Let's code this!"
      ]
    },
    {
      "cell_type": "code",
      "metadata": {
        "colab": {
          "base_uri": "https://localhost:8080/",
          "height": 284
        },
        "id": "mcQNuF2Inu3y",
        "outputId": "c482590e-2746-45dc-de38-f50ac3b6b84a"
      },
      "source": [
        "from sklearn.datasets import make_blobs\n",
        "\n",
        "def plot_clusters(X, y=None):\n",
        "    plt.scatter(X[:, 0], X[:, 1], c=y, s=1)\n",
        "    plt.xlabel(\"$x_1$\", fontsize=14)\n",
        "    plt.ylabel(\"$x_2$\", fontsize=14, rotation=0)\n",
        "\n",
        "if 0:\n",
        "    blob_centers = np.array(\n",
        "        [[ 0.2,  2.3],\n",
        "         [-1.5 ,  2.3],\n",
        "         [-2.8,  1.8],\n",
        "         [-2.8,  2.8],\n",
        "         [-2.8,  1.3]])\n",
        "    blob_std = np.array([0.4, 0.3, 0.1, 0.1, 0.1])\n",
        "    X, y = make_blobs(n_samples=2000, centers=blob_centers,\n",
        "                      cluster_std=blob_std, random_state=7)\n",
        "\n",
        "if 1:\n",
        "    # two off-diagonal blobs\n",
        "    X1, _ = make_blobs(n_samples=1000, centers=((4, -4), (0, 0)), random_state=42)\n",
        "    X1 = X1.dot(np.array([[0.374, 0.95], [0.732, 0.598]]))\n",
        "    # three spherical blobs\n",
        "    blob_centers = np.array(\n",
        "        [[ -4,  1],\n",
        "         [-4 ,  3],\n",
        "         [-4,  -2]])\n",
        "    s = 0.5\n",
        "    blob_std = np.array([s, s, s])\n",
        "    X2, _ = make_blobs(n_samples=1000, centers=blob_centers,\n",
        "                      cluster_std=blob_std, random_state=7)\n",
        "    \n",
        "    X = np.r_[X1, X2]\n",
        "    K = 5\n",
        "    \n",
        "figure()\n",
        "plot_clusters(X)"
      ],
      "execution_count": 2,
      "outputs": [
        {
          "output_type": "display_data",
          "data": {
            "image/png": "[encoded data removed]",
            "text/plain": [
              "<Figure size 432x288 with 1 Axes>"
            ]
          },
          "metadata": {
            "needs_background": "light"
          }
        }
      ]
    },
    {
      "cell_type": "code",
      "metadata": {
        "id": "NopLE3Naoi45"
      },
      "source": [
        "from scipy.stats import multivariate_normal \n",
        "\n",
        "def euclidean_distance(x1, x2):\n",
        "    return sqrt(sum((x1 - x2) ** 2))\n",
        "\n",
        "def initialize(X, K):\n",
        "    # N has the number of rows while d has the number of columns of dataset X \n",
        "    N, d = X.shape \n",
        "\n",
        "    # initial weights given to each cluster are stored in phi or P(Ci=j)\n",
        "    Pi = full(shape=K, fill_value=1/K) \n",
        "\n",
        "    # initial weights given to each data point wrt to each cluster or P(Xi|Zi=j)\n",
        "    weights = full(shape=(N,d), fill_value=1/K)\n",
        "        \n",
        "    # randomly sample K points \n",
        "    random_row = random.randint(low=0, high=N, size=K)\n",
        "\n",
        "    # initial value of mean of K Gaussians \n",
        "    Mu = [  X[row_index,:] for row_index in random_row ] \n",
        "\n",
        "    # initial value of covariance matrix of K Gaussians\n",
        "    Sigma = [ cov(X.T) for _ in range(K) ] \n",
        "    # theta =(Mu,Sigma,Pi)\n",
        "    return Pi, Mu, Sigma, weights\n",
        "\n",
        "# computer posterior probability of each data point wrt each cluster\n",
        "# parameters are Pi, Mu, Sigma\n",
        "def predict_posterior(X, K, Pi, Mu, Sigma):\n",
        "    N = X.shape[0]\n",
        "    # Creates a N*K matrix denoting probability of each point wrt each cluster \n",
        "    likelihood = zeros( (N, K) ) \n",
        "    for i in range(K):\n",
        "        distribution = multivariate_normal(mean=Mu[i],cov=Sigma[i])\n",
        "            # pdf : probability denisty function\n",
        "        likelihood[:,i] = distribution.pdf(X) \n",
        "\n",
        "    numerator = likelihood * Pi\n",
        "    denominator = numerator.sum(axis=1)[:, np.newaxis]\n",
        "    weights = numerator / denominator\n",
        "    return weights\n",
        "\n",
        "\n",
        "# E-Step: update weights holding Pi Mu Sigma constant\n",
        "def e_step(X, K, Pi, Mu, Sigma):\n",
        "    # updated weights(i,j)=P(Xi|Zi=j)\n",
        "    weights   = predict_posterior(X, K, Pi, Mu, Sigma)\n",
        "    return weights\n",
        "\n",
        "\n",
        "# M-Step: update Mu, Sigma, Pi, holding weights constant\n",
        "def m_step(X, K, weights):\n",
        "    # mean of sum of probability of all data points wrt to one cluster is new updated probability of cluster Pi_c\n",
        "    Pi_update = weights.mean(axis=0)  \n",
        "    Mu_update = [[] for _ in range(K)]\n",
        "    Sigma_update = [[] for _ in range(K)]\n",
        "    for i in range(K):\n",
        "        weight_i = weights[:, [i]]\n",
        "        total_weight = weight_i.sum()\n",
        "        Mu_update[i]    = (X * weight_i).sum(axis=0) / total_weight\n",
        "        Sigma_update[i] = cov(X.T, aweights=(weight_i/total_weight).flatten(), bias=True)  \n",
        "\n",
        "    return Pi_update, Mu_update, Sigma_update    \n",
        "    \n",
        "# predict function \n",
        "def predict(X, K, Pi, Mu, Sigma):\n",
        "   weights = predict_posterior(X, K, Pi, Mu, Sigma)\n",
        "   # datapoint belongs to cluster with maximum probability\n",
        "   # returns this value\n",
        "   return argmax(weights, axis=1)\n",
        "\n",
        "\n",
        "def plot_clusters(X, z=None):\n",
        "    fig, ax = plt.subplots(figsize=(6, 4))\n",
        "    plt.scatter(X[:, 0], X[:, 1], c=z, s=1)\n",
        "    plt.xlabel(\"$x_1$\", fontsize=14)\n",
        "    plt.ylabel(\"$x_2$\", fontsize=14, rotation=0)\n",
        "    plt.grid()\n",
        "    plt.tight_layout()   \n",
        "    plt.show()"
      ],
      "execution_count": 15,
      "outputs": []
    },
    {
      "cell_type": "code",
      "metadata": {
        "id": "lrEQS0xwIyY9"
      },
      "source": [
        "def GMM_fit(X, K, max_iter=100):\n",
        "  # initialise parameters like weights, Pi, Mu, Sigma of all Gaussians in dataset X\n",
        "  Pi, Mu, Sigma, weights = initialize(X,K)\n",
        "  for j in range(max_iter):\n",
        "    z = predict(X, K, Pi, Mu, Sigma)\n",
        "    plot_clusters(X, z)\n",
        "    # iterate to update the value of P(Xi/zi=j)\n",
        "    weights = e_step(X, K, Pi, Mu, Sigma)\n",
        "    Pi_old  = Pi;\n",
        "    Mu_old  = Mu;\n",
        "    # iterate to update the value of Mu, Sigma and Pi as the clusters shift\n",
        "    Pi, Mu, Sigma  = m_step(X, K, weights)\n",
        "\n",
        "    distances = [ norm(Mu[i] - Mu_old[i]) for i in range(K)] \n",
        "    if sum(distances) == 0:\n",
        "      print('Number of iteration is ', j+1)\n",
        "      break\n",
        "\n",
        "  z = predict(X, K, Pi, Mu, Sigma)\n",
        "  plot_clusters(X, z)\n",
        "  return z    \n",
        "\n"
      ],
      "execution_count": 16,
      "outputs": []
    },
    {
      "cell_type": "code",
      "metadata": {
        "id": "y0F0pRdonYYw"
      },
      "source": [
        "z=GMM_fit(X, 5)"
      ],
      "execution_count": null,
      "outputs": []
    }
  ]
}