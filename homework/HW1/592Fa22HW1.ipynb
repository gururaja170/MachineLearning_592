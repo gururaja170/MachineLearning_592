{
  "nbformat": 4,
  "nbformat_minor": 0,
  "metadata": {
    "colab": {
      "name": "592Fa22HW1.ipynb",
      "provenance": [],
      "collapsed_sections": [],
      "authorship_tag": "ABX9TyO3ePUowXfc0lgFJVLiWTY7",
      "include_colab_link": true
    },
    "kernelspec": {
      "name": "python3",
      "display_name": "Python 3"
    },
    "language_info": {
      "name": "python"
    }
  },
  "cells": [
    {
      "cell_type": "markdown",
      "metadata": {
        "id": "view-in-github",
        "colab_type": "text"
      },
      "source": [
        "<a href=\"https://colab.research.google.com/github/yexf308/MAT592/blob/main/homework/HW1/592Fa22HW1.ipynb\" target=\"_parent\"><img src=\"https://colab.research.google.com/assets/colab-badge.svg\" alt=\"Open In Colab\"/></a>"
      ]
    },
    {
      "cell_type": "markdown",
      "source": [
        "$\\def\\m#1{\\mathbf{#1}}$\n",
        "$\\def\\mm#1{\\boldsymbol{#1}}$\n",
        "$\\def\\mb#1{\\mathbb{#1}}$\n",
        "$\\def\\c#1{\\mathcal{#1}}$\n",
        "$\\def\\mr#1{\\mathrm{#1}}$\n",
        "$\\newenvironment{rmat}{\\left[\\begin{array}{rrrrrrrrrrrrr}}{\\end{array}\\right]}$\n",
        "$\\newcommand\\brm{\\begin{rmat}}$\n",
        "$\\newcommand\\erm{\\end{rmat}}$\n",
        "$\\newenvironment{cmat}{\\left[\\begin{array}{ccccccccc}}{\\end{array}\\right]}$\n",
        "$\\newcommand\\bcm{\\begin{cmat}}$\n",
        "$\\newcommand\\ecm{\\end{cmat}}$\n"
      ],
      "metadata": {
        "id": "iFHp96fSQD5U"
      }
    },
    {
      "cell_type": "markdown",
      "source": [
        "# Homework 1\n",
        "## Homework guideline\n",
        "- The deadline is Sep 9th 10:30am. Submission after the deadline will not be graded. \n",
        "\n",
        "- Submit your work(your reasoning and your code) as a SINGLE .ipynb document. Please rename the document as _HW1_YOURNAME.ipynb_ (for example, _HW1_FELIX.ipynb_). You are responsible for checking that you have correctly submitted the correct document. If your code cannot run, you may receive NO point. \n",
        "\n",
        "- Please justify all short answers with a brief explanation. If you use latex command in the markdown, **1 points** bonus will be awarded.   \n",
        "\n",
        "- You only use the Python packages included in the following cell. You are not allowed to use other advanced package or modules unless you are permitted to. \n",
        "\n",
        "- In your final submission include the plots produced by the unedited code as presented below, as well as any additional plots produced after editing the code during the course of a problem. You may find it necessary to copy/paste relevant code into additional cells to accomplish this.\n",
        "\n",
        "- Feel free to use the lecture notes and other resources. But you\n",
        "must understand, write, and hand in your own answers. In addition, you must write and submit\n",
        "your own code in the programming part of the assignment (we may run your code).\n",
        "If you copy someone else homework solution, both of you may receive ZERO point. \n",
        "\n",
        "\n",
        "- Colab is preferred. However, if you use Anaconda, please download the .mat file locally and save it to the same folder as this homework file. "
      ],
      "metadata": {
        "id": "n_zshFYqBruc"
      }
    },
    {
      "cell_type": "markdown",
      "source": [
        "**Collaboration:** List the names of all people you collaborated with and for which question(s). This is important!\n"
      ],
      "metadata": {
        "id": "upu7ip1PO5g-"
      }
    },
    {
      "cell_type": "code",
      "execution_count": null,
      "metadata": {
        "id": "dRUOHEtRBlPJ",
        "colab": {
          "base_uri": "https://localhost:8080/"
        },
        "outputId": "1bb769c4-4c06-474d-9eae-32878ffa1c0c"
      },
      "outputs": [
        {
          "output_type": "stream",
          "name": "stdout",
          "text": [
            "Populating the interactive namespace from numpy and matplotlib\n"
          ]
        }
      ],
      "source": [
        "%pylab inline \n",
        "import numpy.linalg as LA"
      ]
    },
    {
      "cell_type": "markdown",
      "source": [
        "\n",
        "# Q1: Numpy practice problems (35pt)\n",
        "\n",
        "\n",
        "---\n",
        "\n",
        "\n",
        "### Q1.1  Create a random vector of size 20 and sort it "
      ],
      "metadata": {
        "id": "C3Q9WDkdC0Ep"
      }
    },
    {
      "cell_type": "code",
      "source": [
        "# insert your code "
      ],
      "metadata": {
        "id": "K2W1gaVmC_vK"
      },
      "execution_count": null,
      "outputs": []
    },
    {
      "cell_type": "markdown",
      "source": [
        "\n",
        "\n",
        "\n",
        "---\n",
        "\n",
        "\n",
        "### Q1.2  Subtract the mean of each column of a matrix $X$ "
      ],
      "metadata": {
        "id": "wVEX-ol-jh2I"
      }
    },
    {
      "cell_type": "code",
      "source": [
        "X = np.random.rand(15, 10)\n",
        "# insert your code "
      ],
      "metadata": {
        "id": "EVAPVjk3jtw9"
      },
      "execution_count": null,
      "outputs": []
    },
    {
      "cell_type": "markdown",
      "source": [
        "\n",
        "\n",
        "---\n",
        "\n",
        "\n",
        "### Q1.3  Sort an array by the last column of $X$ "
      ],
      "metadata": {
        "id": "6THaQX8fjwxn"
      }
    },
    {
      "cell_type": "code",
      "source": [
        "X = np.random.randint(0,10,(5,4))\n",
        "# insert your code"
      ],
      "metadata": {
        "id": "QUQ2Bslwj5fW"
      },
      "execution_count": null,
      "outputs": []
    },
    {
      "cell_type": "markdown",
      "source": [
        "\n",
        "\n",
        "---\n",
        "### Q1.4  Find the most frequent value in an array $Z$ "
      ],
      "metadata": {
        "id": "89vEBDBPo2cr"
      }
    },
    {
      "cell_type": "code",
      "source": [
        "Z = np.random.randint(0,10,500)\n",
        "# insert your code here"
      ],
      "metadata": {
        "id": "kH-FDI6oo9hg"
      },
      "execution_count": null,
      "outputs": []
    },
    {
      "cell_type": "markdown",
      "source": [
        "\n",
        "\n",
        "---\n",
        "\n",
        "\n",
        "### Q1.5 Find the nearest value from a given value $z$ in an array $Z$"
      ],
      "metadata": {
        "id": "oCXqhPWyrfXD"
      }
    },
    {
      "cell_type": "code",
      "source": [
        "Z = np.random.uniform(0,1,10)\n",
        "z = 0.5\n",
        "# insert your code here"
      ],
      "metadata": {
        "id": "lsjOPKzwrjOh"
      },
      "execution_count": null,
      "outputs": []
    },
    {
      "cell_type": "markdown",
      "source": [
        "\n",
        "\n",
        "---\n",
        "\n",
        "\n",
        "### Q1.6 Replace values between 35 and 50 in the array $Z$ by value 0"
      ],
      "metadata": {
        "id": "fbHnqabortSu"
      }
    },
    {
      "cell_type": "code",
      "source": [
        "Z = np.random.randint(20,60,size=10)\n",
        "print(Z)\n",
        "# insert your code here"
      ],
      "metadata": {
        "id": "usEWdkAXrzec"
      },
      "execution_count": null,
      "outputs": []
    },
    {
      "cell_type": "markdown",
      "source": [
        "\n",
        "\n",
        "---\n",
        "### Q1.7 Compute the one-hot encodings (dummy binary variables for each unique value in the array). \n",
        "i.e., one-hot encoding for 2 in 4 dimension is $[0 ,1 , 0 ,0 ]$. \n",
        "\n"
      ],
      "metadata": {
        "id": "UBG1DzmwsDDV"
      }
    },
    {
      "cell_type": "code",
      "source": [
        "Z = np.random.randint(0,4, size=6)\n",
        "print(Z)\n",
        "# insert yout code here"
      ],
      "metadata": {
        "colab": {
          "base_uri": "https://localhost:8080/"
        },
        "id": "CGckc_TasJ_Q",
        "outputId": "b497f0d6-7bbe-4201-9be5-cb1c5b95a89d"
      },
      "execution_count": null,
      "outputs": [
        {
          "output_type": "stream",
          "name": "stdout",
          "text": [
            "[3 2 0 3 3 1]\n"
          ]
        }
      ]
    },
    {
      "cell_type": "markdown",
      "source": [
        "\n",
        "\n",
        "---\n",
        "\n",
        "\n",
        "---\n",
        "\n",
        "\n",
        "\n",
        "\n",
        "# Q2: Calculus (10pt)\n",
        "\n",
        "### Q2.1 Sigmoid function (5pt) \n",
        "The sigmoid function is \n",
        "$$ \\sigma(x) = \\frac{1}{1+\\exp(-x)}$$\n",
        "Find the first derivative and second derivative of $\\sigma(x)$. Please express these derivatives in terms of $\\sigma(x)$. "
      ],
      "metadata": {
        "id": "xWzDF4Cej-Bj"
      }
    },
    {
      "cell_type": "markdown",
      "source": [
        "## **Your Answer**:"
      ],
      "metadata": {
        "id": "RS17F4RNkd73"
      }
    },
    {
      "cell_type": "markdown",
      "source": [
        "\n",
        "\n",
        "---\n",
        "\n",
        "\n",
        "### Q2.2 Softmax function (5pt) \n",
        "The softmax function $S(\\mathbf{z})$ is \n",
        "$$ S(\\mathbf{z})=\\begin{bmatrix}\\frac{\\exp(z_1)}{\\sum_{i}\\exp(z_i)} \\\\ \\vdots \\\\ \\frac{\\exp(z_D)}{\\sum_{i}\\exp(z_i)} \\end{bmatrix} $$ \n",
        "for $\\mathbf{z}=[z_1, \\dots, z_D]\\in \\mathbb{R}^D$. Find the gradient of the softmax function, $\\nabla_{\\mathbf{z}}S(\\mathbf{z})$. \n"
      ],
      "metadata": {
        "id": "qudLk0uFkgFY"
      }
    },
    {
      "cell_type": "markdown",
      "source": [
        "## **Your Answer**:"
      ],
      "metadata": {
        "id": "gMhtGOFekz0C"
      }
    },
    {
      "cell_type": "markdown",
      "source": [
        "\n",
        "\n",
        "---\n",
        "\n",
        "\n",
        "---\n",
        "\n",
        "\n",
        "\n",
        "\n",
        "# Q3: Low rank approximation (25pt)\n",
        "In class we discussed SVD can be used to help matrix low rank approximation. Say the square matrix $\\m{X}\\in \\mathbb{R}^{n\\times n}$, the SVD for the matrix $\\m{X}$ is $\\m{X} = \\sum_{i=1}^{n} \\sigma_i u_i v_i^\\top$. Let's explore this with the following image example. This is a very famous photo and many used it as the test example. \n"
      ],
      "metadata": {
        "id": "DaVuvY4slNs2"
      }
    },
    {
      "cell_type": "code",
      "source": [
        "img = plt.imread('https://github.com/yexf308/MAT592/blob/main/homework/HW1/cameraman.png?raw=true')\n",
        "# we don't want to work on tensor. Let's turn it into a matrix \n",
        "# encode RGBa image as matrix of intensities, X\n",
        "R = img[::, ::, 0]\n",
        "G = img[::, ::, 1]\n",
        "B = img[::, ::, 2] \n",
        "X = 0.2989 * R + 0.5870 * G + 0.1140 * B\n",
        "X_rank = LA.matrix_rank(X, 0.)\n",
        "\n",
        "# here are some basic information\n",
        "print(X.shape)\n",
        "print(X_rank)\n",
        "\n",
        "# Let's look at this image in grayscale. \n",
        "\n",
        "plt.imshow(X, cmap='gray')\n",
        "plt.title(f\"Matrix $X$ encoding a Grayscale Image\\n(Rank, $r=${X_rank})\")\n",
        "plt.show()"
      ],
      "metadata": {
        "colab": {
          "base_uri": "https://localhost:8080/",
          "height": 354
        },
        "id": "fcFHSTTKlovD",
        "outputId": "9a4930e6-b27b-4c93-b7d5-fbd4dfc5cacc"
      },
      "execution_count": null,
      "outputs": [
        {
          "output_type": "stream",
          "name": "stdout",
          "text": [
            "(256, 256)\n",
            "256\n"
          ]
        },
        {
          "output_type": "execute_result",
          "data": {
            "text/plain": [
              "Text(0.5, 1.0, 'Matrix $X$ encoding a Grayscale Image\\n(Rank, $r=$256)')"
            ]
          },
          "metadata": {},
          "execution_count": 3
        },
        {
          "output_type": "display_data",
          "data": {
            "text/plain": [
              "<Figure size 432x288 with 1 Axes>"
            ],
            "image/png": "[encoded data removed]"
          },
          "metadata": {
            "needs_background": "light"
          }
        }
      ]
    },
    {
      "cell_type": "markdown",
      "source": [
        "\n",
        "\n",
        "---\n",
        "### 1. Plot Singular Values (5pt) \n",
        "(a). Perform the singular value decomposition and plot the singular values of this matrix in descending order. \n",
        "\n",
        "(b). Print out top 20 singular values. \n",
        "\n",
        "(c). Please comment your findings. \n",
        "\n",
        "Note this is very important in image compression. \n"
      ],
      "metadata": {
        "id": "JwVCOHBXl5Ka"
      }
    },
    {
      "cell_type": "code",
      "source": [
        "## Your code starts here\n"
      ],
      "metadata": {
        "id": "2BJ26YjsmHnc"
      },
      "execution_count": null,
      "outputs": []
    },
    {
      "cell_type": "markdown",
      "source": [
        "## **Your Answer**:"
      ],
      "metadata": {
        "id": "H-BhwNQTmftV"
      }
    },
    {
      "cell_type": "markdown",
      "source": [
        "\n",
        "\n",
        "---\n",
        "\n",
        "\n",
        "### 2. Low rank approximation (10pt) \n",
        "\n",
        "(a). Find low rank approximation for the matrix $\\m{X}$ with the rank 10, 15 , and 20, $\\hat{\\m{X}}_{10}, \\hat{\\m{X}}_{15}, \\hat{\\m{X}}_{20}$. You don't need to print out the matrix, instead you can use _imshow_ to show the matrix in the image form, like I did in the first part. \n",
        "\n",
        "(b). Please comment the quality of these image and the **compression rate**(Feel free to ask me if you don't know). "
      ],
      "metadata": {
        "id": "Inx3mS4AmI9q"
      }
    },
    {
      "cell_type": "code",
      "source": [
        "## Your code starts here\n"
      ],
      "metadata": {
        "id": "QPvkPVh0mk6x"
      },
      "execution_count": null,
      "outputs": []
    },
    {
      "cell_type": "markdown",
      "source": [
        "## **Your Answer**:"
      ],
      "metadata": {
        "id": "A5ooQETnmmPb"
      }
    },
    {
      "cell_type": "markdown",
      "source": [
        "\n",
        "---\n",
        "\n",
        "\n",
        "### 3. Residue (10pt) \n",
        "(a). Print out the 2-norm of the residue for the low rank approximation. It is defined as $\\|\\m{X}-\\hat{\\m{X}}\\|_2$. \n",
        "\n",
        "(b). Compare these 2-norm of the residue with the singular values of the matrix $\\m{X}$. \n",
        "\n",
        "(c). Please comment on your findings.  \n",
        "\n",
        "**Optional problem**: What if I change 2-norm to frobenius norm? "
      ],
      "metadata": {
        "id": "uLrarT1Ym2k1"
      }
    },
    {
      "cell_type": "code",
      "source": [
        "## Your code starts here\n"
      ],
      "metadata": {
        "id": "KVSUZPWinA2f"
      },
      "execution_count": null,
      "outputs": []
    },
    {
      "cell_type": "markdown",
      "source": [
        "## **Your Answer**:"
      ],
      "metadata": {
        "id": "hy5_nUjsnDF3"
      }
    },
    {
      "cell_type": "markdown",
      "source": [
        "\n",
        "\n",
        "---\n",
        "\n",
        "\n",
        "\n",
        "---\n",
        "\n",
        "\n",
        "# Q4: Modified MNIST: Logistic regression (30pt)\n",
        "I modified the the original MNIST gray-scale image dataset, where samples of digit 9 belong to class 1, and otherwise class 0. Now it becomes binary logistic regression. \n",
        "It contains a training set of images $\\texttt{Xtr}$ with labels $\\texttt{Ytr}$ and a testing set\n",
        "of images $\\texttt{Xte}$ with labels $\\texttt{Yte}$. There are 6000 samples in training sets and 1000 samples in testing sets."
      ],
      "metadata": {
        "id": "lM_nuhCSnRDn"
      }
    },
    {
      "cell_type": "code",
      "source": [
        "from keras.datasets import mnist\n",
        "(train_X, train_y), (test_X, test_y) = mnist.load_data()\n",
        "Xtr                   = train_X[0:6000, :]\n",
        "train_y_part          = train_y[0:6000]\n",
        "Ytr                   = zeros(train_y_part.size)\n",
        "Ytr[train_y_part==9]=1\n",
        "\n",
        "Xte                   = test_X[0:1000,:]\n",
        "test_y_part           = test_y[0:1000]\n",
        "Yte  = zeros(test_y_part.size)\n",
        "Yte[test_y_part==9]=1\n",
        "\n",
        "print('Xtr: ' + str(Xtr.shape))\n",
        "print('Ytr: ' + str(Ytr.shape))\n",
        "print('Xte: '  + str(Xte.shape))\n",
        "print('Yte: '  + str(Yte.shape))\n",
        "\n"
      ],
      "metadata": {
        "colab": {
          "base_uri": "https://localhost:8080/"
        },
        "id": "lIflsalCneRE",
        "outputId": "a0730842-f0be-4ed5-968f-b76961300ff1"
      },
      "execution_count": null,
      "outputs": [
        {
          "output_type": "stream",
          "name": "stdout",
          "text": [
            "Downloading data from https://storage.googleapis.com/tensorflow/tf-keras-datasets/mnist.npz\n",
            "11493376/11490434 [==============================] - 0s 0us/step\n",
            "11501568/11490434 [==============================] - 0s 0us/step\n",
            "Xtr: (6000, 28, 28)\n",
            "Ytr: (6000,)\n",
            "Xte: (1000, 28, 28)\n",
            "Yte: (1000,)\n"
          ]
        }
      ]
    },
    {
      "cell_type": "code",
      "source": [
        "fig, axs = plt.subplots(3, 3,figsize=(5,5))\n",
        "axs = axs.ravel()\n",
        "index = where(Ytr>0)[0]\n",
        "for i in range(9):\n",
        "    axs[i].imshow(Xtr[index[i]], cmap=pyplot.get_cmap('gray'))"
      ],
      "metadata": {
        "colab": {
          "base_uri": "https://localhost:8080/",
          "height": 593
        },
        "id": "C3dJy6Wgng4c",
        "outputId": "015f74e5-9c20-47f0-a1ad-9cc100b5888c"
      },
      "execution_count": null,
      "outputs": [
        {
          "output_type": "display_data",
          "data": {
            "text/plain": [
              "<Figure size 720x720 with 9 Axes>"
            ],
            "image/png": "[encoded data removed]"
          },
          "metadata": {
            "needs_background": "light"
          }
        }
      ]
    },
    {
      "cell_type": "markdown",
      "source": [
        "\n",
        "\n",
        "---\n",
        "\n",
        "\n",
        "### 1. Data preparation for training and testing (10pt) \n",
        "(a). Prepare your matrix $\\mathbf{X}$ and your output label $\\mathbf{y}$ for the training data. \n",
        "\n",
        "(b). Please count the number of 9 out of these 6000 training set. \n",
        "\n",
        "(c). What is the dimension of the matrix $\\mathbf{X}$. \n",
        "\n",
        "(d). Don't forget to do the same preparation for the testing data. \n"
      ],
      "metadata": {
        "id": "uGKHH5WjnweR"
      }
    },
    {
      "cell_type": "code",
      "source": [
        " # Q4.1 your code starts here"
      ],
      "metadata": {
        "id": "tOwvIq7BoLbw"
      },
      "execution_count": null,
      "outputs": []
    },
    {
      "cell_type": "markdown",
      "source": [
        "## **Your Answer:**"
      ],
      "metadata": {
        "id": "nNxYwjEboqGm"
      }
    },
    {
      "cell_type": "markdown",
      "source": [
        "\n",
        "\n",
        "---\n",
        "\n",
        "### 2. Logistic regression (20pt) \n",
        "\n",
        "(a) Perform logistic regression with the sigmoid activation function using **mini-batches descent method**. The mini-batch size is 25, the learning rate is $\\eta_t = \\frac{1}{(1+2t)^3}$ and total epoch number is $50$. This is only suggested hyper-parameters to start with and I recommend you to explore a bit more. You might need to restart the training with better initial conditions. Modify my code to accomodate it. \n",
        "\n",
        "(b) Please use the testing set to validate the logistic regression model. What is the test error rate?  \n",
        "\n",
        "(c) Could you plot serveral pictures that logistic regression model misclassified the digit 9. \n",
        "\n"
      ],
      "metadata": {
        "id": "541zErt_pyjt"
      }
    },
    {
      "cell_type": "code",
      "source": [
        " # Q4.2 your code starts here\n"
      ],
      "metadata": {
        "id": "kmmH_k2wqCOF"
      },
      "execution_count": null,
      "outputs": []
    },
    {
      "cell_type": "markdown",
      "source": [
        "## **Your Answer:**"
      ],
      "metadata": {
        "id": "0xhLofGOqBJE"
      }
    }
  ]
}