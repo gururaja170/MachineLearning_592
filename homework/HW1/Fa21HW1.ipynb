{
 "cells": [
  {
   "cell_type": "markdown",
   "metadata": {
    "id": "LPszWhXZRuBo"
   },
   "source": [
    "# Homework 1\n",
    "## Homework guideline\n",
    "- The deadline is Sep 28th 10:30am. Submission after the deadline will not be graded. \n",
    "\n",
    "- Submit your work(your reasoning and your code) as a SINGLE .ipynb document. Please rename the document as _HW1_YOURNAME.ipynb_ (for example, _HW1_FELIX.ipynb_). You are responsible for checking that you have correctly submitted the correct document. If your code cannot run, you may receive NO point. \n",
    "\n",
    "- Please justify all short answers with a brief explanation.\n",
    "\n",
    "- You only use the Python packages included in the following cell. You are not allowed to use other advanced package or modules unless you are permitted to. \n",
    "\n",
    "- In your final submission include the plots produced by the unedited code as presented below, as well as any additional plots produced after editing the code during the course of a problem. You may find it necessary to copy/paste relevant code into additional cells to accomplish this.\n",
    "\n",
    "- Feel free to use the lecture notes and other resources but work on your own!\n",
    "\n",
    "- Colab is preferred. However, if you use Anaconda, please download the .mat file locally and save it to the same folder as this homework file. "
   ]
  },
  {
   "cell_type": "code",
   "execution_count": 1,
   "metadata": {
    "colab": {
     "base_uri": "https://localhost:8080/"
    },
    "id": "yUx3yJlPlmip",
    "outputId": "6311bf51-25bd-4ac1-bfac-13bb119be4cd"
   },
   "outputs": [
    {
     "name": "stdout",
     "output_type": "stream",
     "text": [
      "Populating the interactive namespace from numpy and matplotlib\n"
     ]
    }
   ],
   "source": [
    "%pylab inline \n",
    "import numpy.linalg as LA"
   ]
  },
  {
   "cell_type": "markdown",
   "metadata": {
    "id": "60PdQ_ny6cUi"
   },
   "source": [
    "# Q1: Low rank approximation (25pt)\n",
    "In class we discussed SVD can be used to help matrix low rank approximation. Say the square matrix $X\\in \\mathbb{R}^{n\\times n}$, the SVD for the matrix $X$ is $X = \\sum_{i=1}^{n} \\sigma_i u_i v_i^\\top$. Let's explore this with the following image example. This is a very famous photo and many used it as the test example. \n",
    "\n",
    "\n",
    "\n",
    "---\n",
    "\n",
    "\n",
    "### 1. load data\n",
    "\n",
    "You don't need to do anything in this part. Feel free to comment. "
   ]
  },
  {
   "cell_type": "code",
   "execution_count": null,
   "metadata": {
    "id": "CqSTSaRuBlVl"
   },
   "outputs": [],
   "source": [
    "img = plt.imread('https://github.com/yexf308/MAT592/blob/main/homework/HW1/cameraman.png?raw=true')\n",
    "# we don't want to work on tensor. Let's turn it into a matrix \n",
    "# encode RGBa image as matrix of intensities, X\n",
    "R = img[::, ::, 0]\n",
    "G = img[::, ::, 1]\n",
    "B = img[::, ::, 2] \n",
    "X = 0.2989 * R + 0.5870 * G + 0.1140 * B\n",
    "X_rank = LA.matrix_rank(X, 0.)\n",
    "\n",
    "# here are some basic information\n",
    "print(X.shape)\n",
    "print(X_rank)\n",
    "\n",
    "# Let's look at this image in grayscale. \n",
    "plt.imshow(X, cmap='gray')\n",
    "plt.title(f\"Matrix $X$ encoding a Grayscale Image\\n(Rank, $r=${X_rank})\")"
   ]
  },
  {
   "cell_type": "markdown",
   "metadata": {
    "id": "QVlXwmwnDurK"
   },
   "source": [
    "\n",
    "\n",
    "---\n",
    "### 2. Plot Singular Values (5pt)\n",
    "Perform the singular value decomposition and plot the singular values of this matrix in descending order. Print out top 20 singular values. \n",
    "Please comment your findings. Note this is very important in image compression. \n",
    "\n"
   ]
  },
  {
   "cell_type": "code",
   "execution_count": null,
   "metadata": {
    "id": "hvDyt0e-EaZ_"
   },
   "outputs": [],
   "source": [
    "## Your code starts here"
   ]
  },
  {
   "cell_type": "markdown",
   "metadata": {
    "id": "FxQgjQrqEejT"
   },
   "source": [
    "## **Your Answer**:"
   ]
  },
  {
   "cell_type": "markdown",
   "metadata": {
    "id": "16bZEku1E1GA"
   },
   "source": [
    "\n",
    "\n",
    "---\n",
    "\n",
    "\n",
    "### 3. Low rank approximation (10pt)\n",
    "\n",
    "Find low rank approximation for the matrix $X$ with the rank 4, 8, and 16, $\\hat{X}_4, \\hat{X}_8, \\hat{X}_{16}$. You don't need to print out the matrix, instead you can use _imshow_ to show the matrix in the image form, like I did in the first part. Please comment the quality of these image and the **compression rate**(Feel free to ask me if you don't know). "
   ]
  },
  {
   "cell_type": "code",
   "execution_count": null,
   "metadata": {
    "id": "9U9nIyE6Gs5E"
   },
   "outputs": [],
   "source": [
    "## Your code starts here"
   ]
  },
  {
   "cell_type": "markdown",
   "metadata": {
    "id": "6Sv0UPoMIDol"
   },
   "source": [
    "## **Your Answer**:"
   ]
  },
  {
   "cell_type": "markdown",
   "metadata": {
    "id": "jybXDmiTHBT9"
   },
   "source": [
    "\n",
    "\n",
    "---\n",
    "\n",
    "\n",
    "### 4. Residue (10pt)\n",
    "Print out the 2-norm of the residue for the low rank approximation. It is defined as $\\|X-\\hat{X}\\|_2$. Compare these 2-norm of the residue with the singular values of the matrix $X$. Please comment on your findings.  \n",
    "\n",
    "**Optional problem**: What if I change 2-norm to frobenius norm? "
   ]
  },
  {
   "cell_type": "code",
   "execution_count": null,
   "metadata": {
    "id": "gIaXRMWmIIve"
   },
   "outputs": [],
   "source": [
    "## Your code starts here"
   ]
  },
  {
   "cell_type": "markdown",
   "metadata": {
    "id": "Vv9S9lG1GvUD"
   },
   "source": [
    "## **Your Answer**:"
   ]
  },
  {
   "cell_type": "markdown",
   "metadata": {
    "id": "7YwaGnpuYOjD"
   },
   "source": [
    "\n",
    "\n",
    "---\n",
    "\n",
    "\n",
    "## Q2:Monty Hall Problem (15pt)\n",
    "Imagine a game show with the following rules: There are three doors, labelled 1, 2, 3. A single prize (e.g., a car) has been hidden behind one of them. You get to select one door. Then the gameshow host opens one of the other two doors (not the one you picked), in such a way as to not reveal the prize location. At this point, you will be given a fresh choice of door: you can either stick with your first choice, or you can switch to the other closed door. All the doors will then be opened and you\n",
    "will receive whatever is behind your final choice of door.\n",
    "\n",
    "For example, suppose you choose door 3, and the gameshow host opens door 1, revealing nothing behind the door, as promised. Should you (a) stick with door 3, or (b) switch to door 2, or (c) does it make no difference?\n",
    "\n",
    "Please justify your answer in **your own language**."
   ]
  },
  {
   "cell_type": "markdown",
   "metadata": {
    "id": "XPVi56fxY9az"
   },
   "source": [
    "## **Your Answer**: "
   ]
  },
  {
   "cell_type": "markdown",
   "metadata": {
    "id": "ojADLNxUmAZr"
   },
   "source": [
    "\n",
    "\n",
    "---\n",
    "\n",
    "\n",
    "# Q3:Prostate Cancer (35pt)\n",
    "**Background**: The data for this example come from a study by Stamey et al. (1989) that examined the correlation between the level of prostate specific antigen (PSA) and a number of clinical measures, in 97 men who were about to receive a radical prostatectomy.\n",
    "The goal is to predict the log of PSA (lpsa) from a number of measurements.\n",
    "\n",
    "Variables:\n",
    "\n",
    "|         |                                                       |\n",
    "|---------|-------------------------------------------------------|\n",
    "|lpsa     |log prostate specific antigen                          |\n",
    "|lcavol   |log cancer volume                                      |\n",
    "|lweight  |log prostate weight                                    |\n",
    "|age      |age                                                    |\n",
    "|lbph     |log of benign prostatic hyperplasia amount             |\n",
    "|svi      |seminal vesicle invasion                               |\n",
    "|lcp      |log of capsular penetration                            |\n",
    "|gleason  |Gleason score                                          |\n",
    "|pgg45    |percent of Gleason scores 4 or 5                       |"
   ]
  },
  {
   "cell_type": "markdown",
   "metadata": {
    "id": "idU1R4UCnrDg"
   },
   "source": [
    "\n",
    "\n",
    "---\n",
    "\n",
    "\n",
    "### 1.Load and Prepare Data\n",
    "\n",
    "The following code loads the the prostate cancer data set. You can see there are 8 features and 97 cases. We divide the dataset into two parts: the 67 cases as training set (in Xtrain and ytrain) and the 30 cases as test set (in Xtest and ytest). You don't need to do anything in this part."
   ]
  },
  {
   "cell_type": "code",
   "execution_count": 3,
   "metadata": {
    "id": "5-ZvlAxbnqg8"
   },
   "outputs": [
    {
     "name": "stdout",
     "output_type": "stream",
     "text": [
      "/bin/bash: wget: command not found\n",
      "['lcavol', 'lweight', 'age', 'lbph', 'svi', 'lcp', 'gleason', 'pgg45', 'lpsa']\n",
      "(67, 8)\n",
      "(30, 8)\n"
     ]
    }
   ],
   "source": [
    "from scipy.io import loadmat\n",
    "\n",
    "!wget https://github.com/yexf308/MAT592/blob/main/homework/HW1/prostateStnd.mat?raw=true -O prostateStnd.mat\n",
    "data = loadmat('prostateStnd.mat')\n",
    "names = list(map(lambda x: x[0], data['names'][0]))\n",
    "Xtrain, ytrain = data['Xtrain'], data['ytrain']\n",
    "Xtest, ytest   = data['Xtest'], data['ytest']\n",
    "print(names)\n",
    "print(Xtrain.shape)\n",
    "print(Xtest.shape)\n"
   ]
  },
  {
   "cell_type": "markdown",
   "metadata": {
    "id": "AynC0F6UKB54"
   },
   "source": [
    "\n",
    "\n",
    "---\n",
    "\n",
    "\n",
    "\n",
    "### 2. Coefficient of Determination (5pt)\n",
    "Please write a function to calculate **Coefficient of Determination**\n",
    "$$ R^2= 1- \\frac{\\sum_{n=1}^N(\\hat{y}_n-y_n)^2}{\\sum_{n=1}^N(\\bar{y}-y_n)^2}$$"
   ]
  },
  {
   "cell_type": "code",
   "execution_count": null,
   "metadata": {
    "id": "yXOrQZ2LK62W"
   },
   "outputs": [],
   "source": [
    "def r2_score(ytrue, ypred):\n",
    "  # Your code starts here"
   ]
  },
  {
   "cell_type": "markdown",
   "metadata": {
    "id": "E-KT4xb-JwP-"
   },
   "source": [
    "\n",
    "\n",
    "---\n",
    "\n",
    "\n",
    "### 3. Least Square (10pt)\n",
    "\n",
    "Please perform the linear regression with least squares. Use the function defined above to calculate coefficient of determination.\n",
    "Use this model to calculate the RSS(residual sum of squares) on the test set. Do you think we have the overfitting issue?"
   ]
  },
  {
   "cell_type": "code",
   "execution_count": null,
   "metadata": {
    "id": "Zz5JE7n-MT27"
   },
   "outputs": [],
   "source": [
    "# Your code starts here. You may use the functions defined in class."
   ]
  },
  {
   "cell_type": "markdown",
   "metadata": {
    "id": "t08QEK3xMcTE"
   },
   "source": [
    "## **Your Answer**:"
   ]
  },
  {
   "cell_type": "markdown",
   "metadata": {
    "id": "GFdVPMMFPMNL"
   },
   "source": [
    "\n",
    "\n",
    "---\n",
    "\n",
    "\n",
    "### 4. Ridge Regression (10pt)\n",
    "\n",
    "Please perform the Ridge regression. Use the RSS on the test data to find the optimal penalty parameter $\\lambda$. Also calculate coefficient of determination. Compare with the least square, do you have any improvement? "
   ]
  },
  {
   "cell_type": "code",
   "execution_count": null,
   "metadata": {
    "id": "6_yVq8TIkq5m"
   },
   "outputs": [],
   "source": [
    "# Your code starts here. You may use the functions defined in class."
   ]
  },
  {
   "cell_type": "markdown",
   "metadata": {
    "id": "1gnVdYBBksm3"
   },
   "source": [
    "## **Your Answer**:"
   ]
  },
  {
   "cell_type": "markdown",
   "metadata": {
    "id": "EGwqq-2KPTcE"
   },
   "source": [
    "\n",
    "\n",
    "---\n",
    "\n",
    "\n",
    "### 5. LASSO (10pt)\n",
    "\n",
    "Please test LASSO with different choices of $\\lambda$, plot the regularization path, i.e, the coefficients vs the $\\lambda$ for each **feature**. Please use this path to perform the **feature selection**, then re-estimate the chosen coefficients using least squares (**debiasing**). \n",
    "\n"
   ]
  },
  {
   "cell_type": "code",
   "execution_count": null,
   "metadata": {
    "id": "071-vY3VnBNI"
   },
   "outputs": [],
   "source": [
    "# Your code starts here. You may use the functions defined in class."
   ]
  },
  {
   "cell_type": "markdown",
   "metadata": {
    "id": "yMA8WfIFnFps"
   },
   "source": [
    "## **Your Answer**:"
   ]
  },
  {
   "cell_type": "markdown",
   "metadata": {
    "id": "DM0vYzpLZsUd"
   },
   "source": [
    "\n",
    "\n",
    "---\n",
    "\n",
    "\n",
    "# Q4: Robust linear regression (25pt)\n",
    "\n",
    "\n",
    "\n",
    "The data set _regression_outlier.mat_ contains the feature vector $\\mathbf{x}$ and response vector $\\mathbf{y}$, but one of the point is an outlier.  In this case, we consider the robust linear regression or the so-called least absolute deviation (LAD) problem\n",
    "  \\begin{align*}\n",
    "(w_0^*,w_1^*) = \\arg\\min_{w_0,w_1} \\; \\sum_{i=1}^n |y^{(i)} - w_0 -w_1 x^{(i)}|\n",
    "  \\end{align*}\n",
    "\n"
   ]
  },
  {
   "cell_type": "code",
   "execution_count": 2,
   "metadata": {
    "id": "wekmMAqHbzhZ"
   },
   "outputs": [
    {
     "name": "stdout",
     "output_type": "stream",
     "text": [
      "/bin/bash: wget: command not found\r\n"
     ]
    },
    {
     "data": {
      "text/plain": [
       "[<matplotlib.lines.Line2D at 0x7ff9b19cec40>]"
      ]
     },
     "execution_count": 2,
     "metadata": {},
     "output_type": "execute_result"
    },
    {
     "data": {
      "image/png": "[encoded data removed]",
      "text/plain": [
       "<Figure size 432x288 with 1 Axes>"
      ]
     },
     "metadata": {
      "needs_background": "light"
     },
     "output_type": "display_data"
    }
   ],
   "source": [
    "from scipy.io import loadmat\n",
    "\n",
    "!wget https://github.com/yexf308/MAT592/blob/main/homework/HW1/regression_outlier.mat?raw=true -O regression_outlier.mat\n",
    "data = loadmat('regression_outlier.mat')\n",
    "X, Y=data['x_train'], data['y_train']\n",
    "fig, ax = plt.subplots()\n",
    "plt.plot(X,Y,'o',color='black')"
   ]
  },
  {
   "cell_type": "markdown",
   "metadata": {
    "id": "03JFS0dqjk4S"
   },
   "source": [
    "\n",
    "\n",
    "---\n",
    "\n",
    "\n",
    "\n",
    "1.   (15pt) Solve the  above optimization problem for the given data set. You may simply use the subroutine _scipy.optimize_. Create a figure to plot the data points $\\{ (x^{(i)}, y^{(i)}) \\}_{i=1}^n$ and the LAD regression line. Label the axes. Briefly discuss about your findings.\n",
    "\n",
    "\n",
    "\n",
    "\n",
    "\n",
    "\n",
    "\n"
   ]
  },
  {
   "cell_type": "code",
   "execution_count": null,
   "metadata": {
    "id": "-x2oRLA1j-x7"
   },
   "outputs": [],
   "source": [
    "from scipy.optimize import minimize\n",
    "## Your code starts here\n"
   ]
  },
  {
   "cell_type": "markdown",
   "metadata": {
    "id": "OkUGDR8mkUmv"
   },
   "source": [
    "## **Your Answer**:"
   ]
  },
  {
   "cell_type": "markdown",
   "metadata": {
    "id": "jdkWNcHfkuMm"
   },
   "source": [
    "\n",
    "\n",
    "---\n",
    "\n",
    "\n",
    "2.   (10pt) Solve the corresponding least squares (LS) problem:\n",
    "\\begin{align*}\n",
    "\\min_{w_0,w_1} \\; \\sum_{i=1}^n (y^{(i)} - w_0 -w_1 x^{(i)})^2\n",
    "  \\end{align*}\n",
    "  Plot the obtained least square regression line (in different style and color) in the same figure as in part 1. Briefly discuss about your findings.\n"
   ]
  },
  {
   "cell_type": "code",
   "execution_count": null,
   "metadata": {
    "id": "Dh4HcvYFk4nv"
   },
   "outputs": [],
   "source": [
    "## Your code starts here"
   ]
  },
  {
   "cell_type": "markdown",
   "metadata": {
    "id": "WuXfnlxelCED"
   },
   "source": [
    "## **Your Answer**: "
   ]
  },
  {
   "cell_type": "markdown",
   "metadata": {
    "id": "yF7g_Q9uO_9K"
   },
   "source": [
    "\n",
    "\n",
    "---\n",
    "\n"
   ]
  }
 ],
 "metadata": {
  "colab": {
   "collapsed_sections": [],
   "name": "HW1.ipynb",
   "provenance": []
  },
  "kernelspec": {
   "display_name": "Python 3",
   "language": "python",
   "name": "python3"
  },
  "language_info": {
   "codemirror_mode": {
    "name": "ipython",
    "version": 3
   },
   "file_extension": ".py",
   "mimetype": "text/x-python",
   "name": "python",
   "nbconvert_exporter": "python",
   "pygments_lexer": "ipython3",
   "version": "3.8.8"
  }
 },
 "nbformat": 4,
 "nbformat_minor": 1
}
