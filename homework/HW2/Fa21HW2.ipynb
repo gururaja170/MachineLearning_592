{
  "nbformat": 4,
  "nbformat_minor": 0,
  "metadata": {
    "colab": {
      "name": "HW2.ipynb",
      "provenance": [],
      "collapsed_sections": [],
      "authorship_tag": "ABX9TyMrvJTp53gCEiYPhRyUIrGz",
      "include_colab_link": true
    },
    "kernelspec": {
      "name": "python3",
      "display_name": "Python 3"
    },
    "language_info": {
      "name": "python"
    }
  },
  "cells": [
    {
      "cell_type": "markdown",
      "metadata": {
        "id": "view-in-github",
        "colab_type": "text"
      },
      "source": [
        "<a href=\"https://colab.research.google.com/github/yexf308/MAT592/blob/main/homework/HW2.ipynb\" target=\"_parent\"><img src=\"https://colab.research.google.com/assets/colab-badge.svg\" alt=\"Open In Colab\"/></a>"
      ]
    },
    {
      "cell_type": "markdown",
      "metadata": {
        "id": "0PPmXK0NPB16"
      },
      "source": [
        "# Homework 2\n",
        "## Homework guideline\n",
        "- The deadline is Oct 27th 10:30am. Submission after the deadline will not be graded. \n",
        "\n",
        "- Submit your work(your reasoning and your code) as a SINGLE .ipynb document. Please rename the document as _HW1_YOURNAME.ipynb_ (for example, _HW1_FELIX.ipynb_). You are responsible for checking that you have correctly submitted the correct document. If your code cannot run, you may receive NO point. \n",
        "\n",
        "- Please justify all short answers with a brief explanation.\n",
        "\n",
        "- You only use the Python packages included in the following cell. You are not allowed to use other advanced package or modules unless you are permitted to. \n",
        "\n",
        "- In your final submission include the plots produced by the unedited code as presented below, as well as any additional plots produced after editing the code during the course of a problem. You may find it necessary to copy/paste relevant code into additional cells to accomplish this.\n",
        "\n",
        "- Feel free to use the lecture notes and other resources but work on your own!"
      ]
    },
    {
      "cell_type": "code",
      "metadata": {
        "colab": {
          "base_uri": "https://localhost:8080/"
        },
        "id": "tZDH51c-2EU1",
        "outputId": "15f9bf31-8c11-41d8-86dc-85fbd98d5e01"
      },
      "source": [
        "%pylab inline \n"
      ],
      "execution_count": 1,
      "outputs": [
        {
          "output_type": "stream",
          "name": "stdout",
          "text": [
            "Populating the interactive namespace from numpy and matplotlib\n"
          ]
        }
      ]
    },
    {
      "cell_type": "markdown",
      "metadata": {
        "id": "rtKWusbFzQIk"
      },
      "source": [
        "# Modified MNIST\n",
        "I modified the the original MNIST gray-scale image dataset, where samples of digit 9 belong to class 1, and otherwise class 0. Now it becomes binary logistic regression. \n",
        "It contains a training set of images $\\texttt{Xtr}$ with labels $\\texttt{Ytr}$ and a testing set\n",
        "of images $\\texttt{Xte}$ with labels $\\texttt{Yte}$. There are 6000 samples in training sets and 1000 samples in testing sets."
      ]
    },
    {
      "cell_type": "code",
      "metadata": {
        "colab": {
          "base_uri": "https://localhost:8080/"
        },
        "id": "egCp1Xyi2A60",
        "outputId": "44efae60-81ec-489e-a472-bc0d4f7f737a"
      },
      "source": [
        "from keras.datasets import mnist\n",
        "(train_X, train_y), (test_X, test_y) = mnist.load_data()\n",
        "Xtr                   = train_X[0:6000, :]\n",
        "train_y_part          = train_y[0:6000]\n",
        "Ytr                   = zeros(train_y_part.size)\n",
        "Ytr[train_y_part==9]=1\n",
        "\n",
        "Xte                   = test_X[0:1000,:]\n",
        "test_y_part           = test_y[0:1000]\n",
        "Yte  = zeros(test_y_part.size)\n",
        "Yte[test_y_part==9]=1\n",
        "\n",
        "print('Xtr: ' + str(Xtr.shape))\n",
        "print('Ytr: ' + str(Ytr.shape))\n",
        "print('Xte: '  + str(Xte.shape))\n",
        "print('Yte: '  + str(Yte.shape))\n",
        "\n"
      ],
      "execution_count": 2,
      "outputs": [
        {
          "output_type": "stream",
          "name": "stdout",
          "text": [
            "Xtr: (6000, 28, 28)\n",
            "Ytr: (6000,)\n",
            "Xte: (1000, 28, 28)\n",
            "Yte: (1000,)\n"
          ]
        }
      ]
    },
    {
      "cell_type": "code",
      "metadata": {
        "colab": {
          "base_uri": "https://localhost:8080/",
          "height": 593
        },
        "id": "mTnDjIzx3R24",
        "outputId": "32b0900f-cdd0-470a-e643-d8e164af8778"
      },
      "source": [
        "fig, axs = plt.subplots(3, 3,figsize=(10,10))\n",
        "axs = axs.ravel()\n",
        "index = where(Ytr>0)[0]\n",
        "for i in range(9):\n",
        "    axs[i].imshow(Xtr[index[i]], cmap=pyplot.get_cmap('gray'))"
      ],
      "execution_count": 3,
      "outputs": [
        {
          "output_type": "display_data",
          "data": {
            "image/png": "[encoded data removed]",
            "text/plain": [
              "<Figure size 720x720 with 9 Axes>"
            ]
          },
          "metadata": {
            "needs_background": "light"
          }
        }
      ]
    },
    {
      "cell_type": "markdown",
      "metadata": {
        "id": "_f5Jvc-04O05"
      },
      "source": [
        "## Q1: Logistic regression (20pt)\n",
        "\n",
        "---\n",
        "\n",
        "\n",
        "### 1. Data preparation for training and testing (5pt)\n",
        "Prepare your matrix $\\mathbf{X}$ and your output label $\\mathbf{y}$ for the training data. Please count the number of 9 out of these 60000 training set. What is the dimension of the matrix $\\mathbf{X}$. Don't forget to do the same preparation for the testing data. "
      ]
    },
    {
      "cell_type": "code",
      "metadata": {
        "id": "zfPxewPNPaxI",
        "cellView": "form"
      },
      "source": [
        " #@title Q1.1 your code starts here\n",
        " "
      ],
      "execution_count": 4,
      "outputs": []
    },
    {
      "cell_type": "markdown",
      "metadata": {
        "id": "ERvvzBXc5khg"
      },
      "source": [
        "### **Your Answer:**"
      ]
    },
    {
      "cell_type": "markdown",
      "metadata": {
        "id": "joKAPaOEnOu-"
      },
      "source": [
        "\n",
        "---\n",
        "### 2. Logistic regression (15pt)\n",
        "\n",
        "Perform logistic regression with the sigmoid activation function using **mini-batches descent method**. The mini-batch size is 25, the learning rate is $\\eta_t = \\frac{1}{(1+2t)^3}$ and total iteration number is $50$. You might need to restart the training with better initial conditions. Modify my code to accomodate it. \n",
        "\n",
        "Please use the testing set to validate the logistic regression model. What is the test error rate?  Could you plot serveral pictures that logistic regression model misclassified the digit 9. \n"
      ]
    },
    {
      "cell_type": "code",
      "metadata": {
        "id": "rqnurYHKpfEO",
        "cellView": "form"
      },
      "source": [
        " #@title Q1.2 your code starts here\n"
      ],
      "execution_count": 5,
      "outputs": []
    },
    {
      "cell_type": "markdown",
      "metadata": {
        "id": "31BQ2vMFphF6"
      },
      "source": [
        "### **Your Answer:**"
      ]
    },
    {
      "cell_type": "markdown",
      "metadata": {
        "id": "SGwYMQh5veK-"
      },
      "source": [
        "\n",
        "\n",
        "\n",
        "\n",
        "\n",
        "## Q2: Support Vector Machine (50pt)\n",
        "\n",
        "\n",
        "---\n",
        "\n",
        "### 1. Data preparation for training and testing (5pt)\n",
        "Remember in SVM we move the interception out and define the class label is $\\pm1$. Prepare your matrix $\\mathbf{X}$ and your output label $\\mathbf{y}$ for the training data. Don't forget to do the same preparation for the testing data. \n",
        "\n",
        "Can you impose the hard margin classifier for this problem? Why or why not?\n"
      ]
    },
    {
      "cell_type": "code",
      "metadata": {
        "id": "qZkgjb2Gy4Uh",
        "cellView": "form"
      },
      "source": [
        " #@title Q2.1 your code starts here\n"
      ],
      "execution_count": 6,
      "outputs": []
    },
    {
      "cell_type": "markdown",
      "metadata": {
        "id": "9Qt_c9mGwU1T"
      },
      "source": [
        "### **Your Answer:**"
      ]
    },
    {
      "cell_type": "markdown",
      "metadata": {
        "id": "ulRUTLcDzRHl"
      },
      "source": [
        "\n",
        "\n",
        "---\n",
        "\n",
        "\n",
        "### 2. Soft Margin with Hinge Loss (15pt)\n",
        "Perform the soft margin with hinge loss using stochastic gradient descent method. \n",
        "$$\\boxed{\\min_{\\mathbf{w}\\in \\mathbb{R}^d, w_0\\in \\mathbb{R}} \\lambda\\sum_{i=1}^N \\max\\left\\{0, 1-\\mathbf{y}^{(i)}(\\mathbf{w}^\\top \\mathbf{x}^{(i)}+w_0)\\right\\} +\\frac{1}{2} \\|\\mathbf{w}\\|_2^2 }$$\n",
        "The learning rate is $\\eta_t = \\frac{1}{(1+2t)^2}$ and total iteration number is $100$. The regulation parameter $\\lambda$ is selected as follows, \n",
        "$$ \\lambda\\in \\{10^{-4},10^{-3},10^{-2},10^{-1},1,10,100,1000,10000 \\}$$\n",
        "Report the test error rates for each $\\lambda$ and find the best parameter $\\lambda$. \n",
        "You might need to restart the training with better initial conditions. \n"
      ]
    },
    {
      "cell_type": "code",
      "metadata": {
        "id": "l2cxjlVZ3HK4",
        "cellView": "form"
      },
      "source": [
        " #@title Q2.2 your code starts here\n"
      ],
      "execution_count": 7,
      "outputs": []
    },
    {
      "cell_type": "markdown",
      "metadata": {
        "id": "3t3xKcF-3KLH"
      },
      "source": [
        "### **Your Answer:**"
      ]
    },
    {
      "cell_type": "markdown",
      "metadata": {
        "id": "Y0y8ouw8IPOY"
      },
      "source": [
        "\n",
        "\n",
        "---\n",
        "\n",
        "\n",
        "### 3. Prepare for soft margin with log loss (10pt)\n",
        "Please compute the following two gradient:\n",
        "$$ \\nabla_\\mathbf{w} \\log\\left(1+e^{-y^{(i)}(\\mathbf{w}^\\top\\mathbf{x}^{(i)}+w_0 )}\\right)= $$\n",
        "\n",
        "$$ \\nabla_{w_0}\\log\\left(1+e^{-y^{(i)}(\\mathbf{w}^\\top\\mathbf{x}^{(i)}+w_0 )}\\right)=$$"
      ]
    },
    {
      "cell_type": "markdown",
      "metadata": {
        "id": "KPW7r24hI0Bc"
      },
      "source": [
        "### **Your Answer:**"
      ]
    },
    {
      "cell_type": "markdown",
      "metadata": {
        "id": "ewDvguQH9XS-"
      },
      "source": [
        "\n",
        "\n",
        "---\n",
        "\n",
        "\n",
        "### 4. Soft Margin with Log Loss (20pt)\n",
        "Perform the soft margin with log loss using stochastic gradient descent method.\n",
        "$$\\boxed{\\min_{\\mathbf{w}\\in \\mathbb{R}^d, w_0\\in\\mathbb{R}}  \\lambda \\sum_{i=1}^N\\log\\left(1+e^{-y^{(i)}(\\mathbf{w}^\\top\\mathbf{x}^{(i)}+w_0 )}\\right)  +\\frac{1}{2}\\|\\mathbf{w}\\|_2^2 } $$\n",
        "Similarly, the learning rate is $\\eta_t = \\frac{1}{(1+2t)^2}$ and total iteration number is $100$. The regulation parameter $\\lambda$ is selected as follows, \n",
        "$$ \\lambda\\in \\{10^{-4},10^{-3},10^{-2},10^{-1},1,10,100,1000,10000 \\}$$\n",
        "Report the test error rates for each $\\lambda$ and find the best parameter $\\lambda$. \n",
        "You might need to restart the training with better initial conditions. \n"
      ]
    },
    {
      "cell_type": "code",
      "metadata": {
        "id": "6GzE4I64Mdqp",
        "cellView": "form"
      },
      "source": [
        " #@title Q2.4 your code starts here\n"
      ],
      "execution_count": 8,
      "outputs": []
    },
    {
      "cell_type": "markdown",
      "metadata": {
        "id": "iQ9_jl56Mf1_"
      },
      "source": [
        "### **Your Answer:**"
      ]
    },
    {
      "cell_type": "markdown",
      "metadata": {
        "id": "NIXStFDeAPPh"
      },
      "source": [
        "\n",
        "---\n",
        "\n",
        "\n",
        "### 5. Optional problem: try the kernel trick \n",
        "You can try to use the kernel trick with various different $\\sigma^2$ and $\\lambda$. What is your difficulty and your findings here? "
      ]
    },
    {
      "cell_type": "markdown",
      "metadata": {
        "id": "KuOQuIqbA5gE"
      },
      "source": [
        "### **Your Answer:**"
      ]
    },
    {
      "cell_type": "markdown",
      "metadata": {
        "id": "fYrdJc1pJ8g3"
      },
      "source": [
        "\n",
        "\n",
        "\n",
        "\n",
        "## Q3: $k$-NN on Iris data (30pt)\n",
        "\n",
        "\n",
        "---\n",
        "\n",
        "This data sets consists of 3 different types of irises’ (Setosa, Versicolour, and Virginica) petal and sepal length, stored in a $150\\times4$ matrices.\n",
        "\n",
        "The rows being the samples and the columns being: Sepal Length, Sepal Width, Petal Length and Petal Width.\n",
        "\n",
        "\n"
      ]
    },
    {
      "cell_type": "code",
      "metadata": {
        "colab": {
          "base_uri": "https://localhost:8080/"
        },
        "id": "uiHks7wWLaCt",
        "outputId": "ad93f977-9eda-4746-b73e-c5885ed6b27d"
      },
      "source": [
        "# you are not allowed to use other package and modules \n",
        "from sklearn.datasets import load_iris\n",
        "from sklearn.model_selection import train_test_split\n",
        "\n",
        "iris = load_iris()\n",
        "X = iris.data\n",
        "y = iris.target\n",
        "\n",
        "# Split in training and testing set\n",
        "X_train, X_test, y_train, y_test = train_test_split(X, y, test_size=0.6, stratify=y)\n",
        "\n",
        "print(X_train.shape)\n",
        "print(X_test.shape)"
      ],
      "execution_count": 9,
      "outputs": [
        {
          "output_type": "stream",
          "name": "stdout",
          "text": [
            "(60, 4)\n",
            "(90, 4)\n"
          ]
        }
      ]
    },
    {
      "cell_type": "markdown",
      "metadata": {
        "id": "XUVQkjRdMFhD"
      },
      "source": [
        "## 1. Use 5-fold cross validation to find optimal $k$ (20pt)\n",
        "Here we only use the training dataset, `X_train` and `y_train`. We will test $k$ range from 1 to 21. For each $k$, we will use 5-fold cross validation to estimate the average misclassification rate. Please plot the average misclassification rate verse $k$ and find the optimal $k$. "
      ]
    },
    {
      "cell_type": "code",
      "metadata": {
        "id": "FNKDoRedNl_a",
        "cellView": "form"
      },
      "source": [
        " #@title Q3.1 your code starts here\n"
      ],
      "execution_count": 10,
      "outputs": []
    },
    {
      "cell_type": "markdown",
      "metadata": {
        "id": "Hlx7Yin3NowQ"
      },
      "source": [
        "## 2. Use optimal $k$ to predict in the test dataset (10pt)\n",
        "Now we have the optimal $k$. We will apply the optimal $k$-NN on the test dataset and please estimate the misclassification rate in the test dataset. "
      ]
    },
    {
      "cell_type": "code",
      "metadata": {
        "id": "EtgVnGYXOmOE",
        "cellView": "form"
      },
      "source": [
        " #@title Q3.2 your code starts here\n"
      ],
      "execution_count": 11,
      "outputs": []
    }
  ]
}