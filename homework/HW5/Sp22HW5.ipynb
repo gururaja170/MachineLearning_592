{
  "nbformat": 4,
  "nbformat_minor": 0,
  "metadata": {
    "colab": {
      "name": "Sp22HW5.ipynb",
      "provenance": [],
      "collapsed_sections": [],
      "authorship_tag": "ABX9TyMeTVUYkcmzVkUy5Ef8UHGq",
      "include_colab_link": true
    },
    "kernelspec": {
      "name": "python3",
      "display_name": "Python 3"
    },
    "language_info": {
      "name": "python"
    }
  },
  "cells": [
    {
      "cell_type": "markdown",
      "metadata": {
        "id": "view-in-github",
        "colab_type": "text"
      },
      "source": [
        "<a href=\"https://colab.research.google.com/github/yexf308/MAT592/blob/main/homework/HW5/Sp22HW5.ipynb\" target=\"_parent\"><img src=\"https://colab.research.google.com/assets/colab-badge.svg\" alt=\"Open In Colab\"/></a>"
      ]
    },
    {
      "cell_type": "markdown",
      "source": [
        "# Homework 5\n",
        "## Homework guideline\n",
        "- The deadline is May 6th 10:30am. Submission after the deadline will not be graded. \n",
        "\n",
        "- Submit your work(your reasoning and your code) as a SINGLE .ipynb document. Please rename the document as _HW1_YOURNAME.ipynb_ (for example, _HW1_FELIX.ipynb_). You are responsible for checking that you have correctly submitted the correct document. If your code cannot run, you may receive NO point. \n",
        "\n",
        "- Please justify all short answers with a brief explanation.\n",
        "\n",
        "- You only use the Python packages included in the following cell. You are not allowed to use other advanced package or modules unless you are permitted to. \n",
        "\n",
        "- In your final submission include the plots produced by the unedited code as presented below, as well as any additional plots produced after editing the code during the course of a problem. You may find it necessary to copy/paste relevant code into additional cells to accomplish this.\n",
        "\n",
        "- Feel free to use the lecture notes and other resources but work on your own!"
      ],
      "metadata": {
        "id": "4fRo_z5OnSFq"
      }
    },
    {
      "cell_type": "code",
      "execution_count": null,
      "metadata": {
        "id": "gQ4sraJJl3hH"
      },
      "outputs": [],
      "source": [
        "%pylab inline \n",
        "import numpy.linalg as LA\n",
        "from scipy.spatial.distance import cdist\n",
        "\n",
        "\n",
        "## Set some default values of the the matplotlib plots\n",
        "plt.rcParams['figure.figsize'] = (8.0, 8.0)  # Set default plot's sizes\n",
        "plt.rcParams['axes.grid'] = True  # Show grid by default in figures"
      ]
    },
    {
      "cell_type": "markdown",
      "source": [
        "## Description\n",
        "In this assignment, we will use the deep neural network methods for face recognition. Our task here is to be able to predict the correct label (name of the person) given an image of his face.\n",
        "\n",
        "We will use the same dataset in the last homework. "
      ],
      "metadata": {
        "id": "sdzcLhcH0wMB"
      }
    },
    {
      "cell_type": "code",
      "source": [
        "from sklearn.datasets import fetch_lfw_people\n",
        "dataset = fetch_lfw_people(min_faces_per_person=100)\n",
        "\n",
        "X = dataset.images\n",
        "y = dataset.target\n",
        "label_to_name_mapping = dataset.target_names\n",
        "image_shape = X[0].shape\n",
        "\n",
        "print('Number of images in the dataset: {}'.format(len(X)))\n",
        "print('Number of different persons in the dataset: {}'.format(len(np.unique(y))))\n",
        "print('Each images size is: {}'.format(image_shape))\n",
        "\n",
        "_, images_per_class = np.unique(y, return_counts=True)\n",
        "fig, ax = plt.subplots()\n",
        "ax.bar(label_to_name_mapping, images_per_class)\n",
        "ax.set_xticklabels(label_to_name_mapping, rotation=-90);\n",
        "ax.set_title('Images per person')\n",
        "ax.set_ylabel('Number of images')\n",
        "\n",
        "\n",
        "# plots the first 20 images in the dataset. \n",
        "fig, ax_array = plt.subplots(3, 3)\n",
        "for i, ax in enumerate(ax_array.flat):\n",
        "    ax.imshow(X[i], cmap='gray')\n",
        "    ax.set_ylabel(label_to_name_mapping[y[i]])\n",
        "    ax.set_yticks([])\n",
        "    ax.set_xticks([])"
      ],
      "metadata": {
        "id": "k38BIgn02I2M"
      },
      "execution_count": null,
      "outputs": []
    },
    {
      "cell_type": "code",
      "source": [
        "from sklearn.model_selection import train_test_split\n",
        "# split the data into 80% training set and 20% testing set\n",
        "X_train, X_test, y_train, y_test = train_test_split(X, y, test_size=0.2, random_state=42)\n",
        "\n",
        "print(X_train.shape)\n",
        "print(X_test.shape)"
      ],
      "metadata": {
        "id": "X_LPfMCc2JzG"
      },
      "execution_count": null,
      "outputs": []
    },
    {
      "cell_type": "markdown",
      "source": [
        "In DNN, we don't need to use PCA to reduce dimension first. Instead we can use the image itself which is high dimensional as the input."
      ],
      "metadata": {
        "id": "bb1WRjBx2NpM"
      }
    },
    {
      "cell_type": "markdown",
      "source": [
        "# Q1: Deep neural network with Sigmoid function (50pt)\n",
        "In class, we showed how to implement DNN with the sigmoid function as the activation function. In particular, the output layer also uses the sigmoid function. \n",
        "\n",
        "Please setup your own deep neural network to classify these faces. Here you can use sigmoid function as activation function and output function, and you can use the logistic loss function as well. But you have to choose the number of the layer and hidden neurons by yourself. **Happy tuning!** "
      ],
      "metadata": {
        "id": "Bq1337gm2pTB"
      }
    },
    {
      "cell_type": "code",
      "source": [
        "# Q1: your code starts here. "
      ],
      "metadata": {
        "id": "HNRGg37U4EpW"
      },
      "execution_count": null,
      "outputs": []
    },
    {
      "cell_type": "markdown",
      "source": [
        "# Q2: Deep neural network with Relu function (50pt)\n",
        "Another popular choice of the activation function is relu function. Modify your code to use Relu function in these hidden nueron layer and sigmoid/softmax function in the output layer. Compare the performance with Q1. "
      ],
      "metadata": {
        "id": "UsPNilKc4JQn"
      }
    },
    {
      "cell_type": "code",
      "source": [
        "# Q2: your code starts here. "
      ],
      "metadata": {
        "id": "zq6mId8s4uVh"
      },
      "execution_count": null,
      "outputs": []
    },
    {
      "cell_type": "markdown",
      "source": [
        "# Q3: (bonus question) SGD with momentum\n",
        "Instead of using SGD, please implement stochastic gradient methods with momentum and with Nesterov momentum for Q1 and Q2. \n",
        "Please plot the cost as the function of epoch for SGD and SGD with momentum. Comment on your findings. "
      ],
      "metadata": {
        "id": "6epst9co4632"
      }
    },
    {
      "cell_type": "code",
      "source": [
        "#Q3: your code starts here"
      ],
      "metadata": {
        "id": "mibxYREu6Toh"
      },
      "execution_count": null,
      "outputs": []
    }
  ]
}