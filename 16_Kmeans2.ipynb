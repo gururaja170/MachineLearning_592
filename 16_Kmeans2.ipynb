{
  "nbformat": 4,
  "nbformat_minor": 0,
  "metadata": {
    "colab": {
      "name": "16.Kmeans2.ipynb",
      "provenance": [],
      "collapsed_sections": [],
      "authorship_tag": "ABX9TyN7RY3o8egyLqstPBnvvs7J",
      "include_colab_link": true
    },
    "kernelspec": {
      "name": "python3",
      "display_name": "Python 3"
    },
    "language_info": {
      "name": "python"
    }
  },
  "cells": [
    {
      "cell_type": "markdown",
      "metadata": {
        "id": "view-in-github",
        "colab_type": "text"
      },
      "source": [
        "<a href=\"https://colab.research.google.com/github/yexf308/MAT592/blob/main/16_Kmeans2.ipynb\" target=\"_parent\"><img src=\"https://colab.research.google.com/assets/colab-badge.svg\" alt=\"Open In Colab\"/></a>"
      ]
    },
    {
      "cell_type": "code",
      "metadata": {
        "colab": {
          "base_uri": "https://localhost:8080/"
        },
        "id": "81CNIImOqzyw",
        "outputId": "fb84d2b0-8308-42f6-9d3b-177d6af78b45"
      },
      "source": [
        "%pylab inline \n",
        "from IPython.display import Image\n",
        "import numpy.linalg as LA"
      ],
      "execution_count": null,
      "outputs": [
        {
          "output_type": "stream",
          "name": "stdout",
          "text": [
            "Populating the interactive namespace from numpy and matplotlib\n"
          ]
        }
      ]
    },
    {
      "cell_type": "markdown",
      "metadata": {
        "id": "J54ljNs7ZPoi"
      },
      "source": [
        "#More on $K$-means\n",
        " \n",
        "\n"
      ]
    },
    {
      "cell_type": "markdown",
      "metadata": {
        "id": "Ek_Hks9QlpzZ"
      },
      "source": [
        "### Determine the optimal $K$\n",
        "\n",
        "**Elbow method** to determine the optimal value of hyper-parameter $K$:\n",
        "\n",
        "- Run Lloyd's algorithm over a loop for an increasing number of clusters $K$\n",
        "\n",
        "- Plot the minimum of distortion value vs. number of clusters $K$. Note the minimum of distortion value decreases as $K$ increases. \n",
        "\n",
        "- Select the value of $k$ at the elbow, i.e., the point after which the minimum of distortion value starts to decrease slowly."
      ]
    },
    {
      "cell_type": "code",
      "metadata": {
        "colab": {
          "base_uri": "https://localhost:8080/",
          "height": 284
        },
        "id": "Zx-zepNwqR0a",
        "cellView": "form",
        "outputId": "055b824d-ff2c-4b45-dde0-0ff441c608cd"
      },
      "source": [
        " #@title  Generate data\n",
        "\n",
        " from sklearn.datasets import make_blobs\n",
        "\n",
        "def plot_clusters(X,  centroids=array([[0,0]])):\n",
        "    plt.scatter(X[:, 0], X[:, 1],  s=1, label='data points')\n",
        "    plt.xlabel(\"$x_1$\", fontsize=14)\n",
        "    plt.ylabel(\"$x_2$\", fontsize=14, rotation=0)\n",
        "    if centroids[0].all():\n",
        "      plt.scatter(centroids[:-1, 0], centroids[:-1, 1],\n",
        "                  color = 'black', label = 'previously selected centroids')\n",
        "      plt.scatter(centroids[-1, 0], centroids[-1, 1],\n",
        "                  color = 'red', label = 'next centroid')\n",
        "    plt.legend(loc='center left', bbox_to_anchor=(1, 0.5))\n",
        "    plt.show()\n",
        "\n",
        "if 0:\n",
        "    blob_centers = np.array(\n",
        "        [[ 0.2,  2.3],\n",
        "         [-1.5 ,  2.3],\n",
        "         [-2.8,  1.8],\n",
        "         [-2.8,  2.8],\n",
        "         [-2.8,  1.3]])\n",
        "    blob_std = np.array([0.4, 0.3, 0.1, 0.1, 0.1])\n",
        "    X, y = make_blobs(n_samples=2000, centers=blob_centers,\n",
        "                      cluster_std=blob_std, random_state=7)\n",
        "\n",
        "if 1:\n",
        "    # two off-diagonal blobs\n",
        "    X1, _ = make_blobs(n_samples=1000, centers=((4, -4), (0, 0)), random_state=42)\n",
        "    X1 = X1.dot(np.array([[0.374, 0.95], [0.732, 0.598]]))\n",
        "    # three spherical blobs\n",
        "    blob_centers = np.array(\n",
        "        [[ -4,  1],\n",
        "         [-4 ,  3],\n",
        "         [-4,  -2]])\n",
        "    s = 0.5\n",
        "    blob_std = np.array([s, s, s])\n",
        "    X2, _ = make_blobs(n_samples=1000, centers=blob_centers,\n",
        "                      cluster_std=blob_std, random_state=7)\n",
        "    \n",
        "    X = np.r_[X1, X2]\n",
        "    K = 5\n",
        "    \n",
        "figure()\n",
        "plot_clusters(X)"
      ],
      "execution_count": null,
      "outputs": [
        {
          "output_type": "display_data",
          "data": {
            "image/png": "[encoded data removed]",
            "text/plain": [
              "<Figure size 432x288 with 1 Axes>"
            ]
          },
          "metadata": {
            "needs_background": "light"
          }
        }
      ]
    },
    {
      "cell_type": "code",
      "metadata": {
        "id": "1vSmI8U_q7Px",
        "cellView": "form"
      },
      "source": [
        " #@title  my K-means functions\n",
        "\n",
        " def euclidean_distance(x1, x2):\n",
        "    return sqrt(sum((x1 - x2) ** 2))\n",
        "\n",
        "def plot_kmeans(X,clusters, centroids):\n",
        "    fig, ax = plt.subplots(figsize=(12, 8))\n",
        "\n",
        "    for i, index in enumerate(clusters):\n",
        "       point = X[index].T\n",
        "       ax.scatter(*point)\n",
        "\n",
        "    for point in centroids:\n",
        "      ax.scatter(*point, marker=\"x\", color=\"black\", linewidth=2)\n",
        "\n",
        "    plt.show()\n",
        "\n",
        "\n",
        "def mykmeans(X, K, max_iter=100, plot_steps=False):\n",
        "  n_samples, n_features = X.shape\n",
        "  # Step 0: initialize\n",
        "  random_sample_idxs = random.choice(n_samples, K, replace=False)\n",
        "  centroids = [X[idx] for idx in random_sample_idxs]\n",
        "\n",
        "  # Optimize clusters\n",
        "  distortion_list = []\n",
        "  for j in range(max_iter):\n",
        "\n",
        "    # Step 1: Assign samples to closest centroids (create clusters)\n",
        "    clusters = [[] for _ in range(K)]\n",
        "    distortion_curr = 0;\n",
        "    for idx, sample in enumerate(X):\n",
        "       distances     = [euclidean_distance(sample, point) for point in centroids]\n",
        "       closest_index = argmin(distances)\n",
        "       clusters[closest_index].append(idx)\n",
        "       distortion_curr = distortion_curr + min(distances)\n",
        "\n",
        "    distortion_list.append(distortion_curr)   \n",
        "\n",
        "    if plot_steps:\n",
        "      plot_kmeans(X,clusters, centroids)\n",
        "       \n",
        "\n",
        "    # Step 2: Calculate new centroids from the clusters   \n",
        "    centroids_old = centroids\n",
        "    centroids     = zeros((K, n_features))\n",
        "    for cluster_idx, cluster in enumerate(clusters):\n",
        "      cluster_mean = mean(X[cluster], axis=0)\n",
        "      centroids[cluster_idx] = cluster_mean\n",
        "\n",
        "    if plot_steps:\n",
        "      plot_kmeans(X,clusters, centroids)\n",
        "\n",
        "    # Step 3: check if clusters have changed  \n",
        "      # distances between each old and new centroids, for all centroids\n",
        "    distances = [euclidean_distance(centroids_old[i], centroids[i]) for i in range(K)] \n",
        "    if sum(distances) == 0:\n",
        "      print('Number of iteration is ', j+1)\n",
        "      break\n",
        "\n",
        "  # Classify samples as the index of their clusters\n",
        "  labels = empty(n_samples)\n",
        "  for cluster_idx, cluster in enumerate(clusters):\n",
        "     for sample_index in cluster:\n",
        "        labels[sample_index] = cluster_idx\n",
        "  \n",
        "  \n",
        "  return labels, clusters, centroids, distortion_list\n"
      ],
      "execution_count": null,
      "outputs": []
    },
    {
      "cell_type": "code",
      "metadata": {
        "id": "lQeNng1XrTaV"
      },
      "source": [
        "Ks = [i for i in range(2,11)]\n",
        "L  = size(Ks)\n",
        "max_iter = 10\n",
        "distortion_Ks = empty(L)\n",
        "for idx, k in enumerate(Ks):\n",
        "  print('k is ', k)\n",
        "  distortion_curr_Ks = empty(max_iter)\n",
        "  for j in range(max_iter):\n",
        "    labels, clusters, centroids, distortion_list = mykmeans(X,k,  max_iter=200, plot_steps=False)\n",
        "    distortion_curr_Ks[j] = distortion_list[-1]\n",
        "\n",
        "  distortion_Ks[idx]   = min(distortion_curr_Ks)\n",
        "\n"
      ],
      "execution_count": null,
      "outputs": []
    },
    {
      "cell_type": "code",
      "metadata": {
        "colab": {
          "base_uri": "https://localhost:8080/",
          "height": 282
        },
        "id": "WxS9z8HwvBgO",
        "outputId": "ac768cc1-29cd-4229-8c86-87e890367369"
      },
      "source": [
        "scatter(Ks,distortion_Ks)\n",
        "plot(Ks,distortion_Ks)\n",
        "ylabel('min Distortion value')\n",
        "xlabel('k')"
      ],
      "execution_count": null,
      "outputs": [
        {
          "output_type": "execute_result",
          "data": {
            "text/plain": [
              "[<matplotlib.lines.Line2D at 0x7fb7f30da710>]"
            ]
          },
          "metadata": {},
          "execution_count": 25
        },
        {
          "output_type": "display_data",
          "data": {
            "image/png": "[encoded data removed]",
            "text/plain": [
              "<Figure size 432x288 with 1 Axes>"
            ]
          },
          "metadata": {
            "needs_background": "light"
          }
        }
      ]
    },
    {
      "cell_type": "markdown",
      "metadata": {
        "id": "bpHHWGBllnGU"
      },
      "source": [
        "### Sensitive to the initialization of the centroids\n",
        "1. Repeat K-means: Repeating the algorithm and initialization of centroids several times (10 times) and pick the one has the smallest distortion value. \n",
        "\n",
        "2. $K$-means++ (Arthur \\& Vassilvitskii '07): it is a **smart** centroid initialization technique.\n"
      ]
    },
    {
      "cell_type": "markdown",
      "metadata": {
        "id": "2HIn01oam3xP"
      },
      "source": [
        "### $K$-means++: improved initialization\n",
        "\n",
        "It is a probabilistic initialization method for Lloyd's algorithm by **spreading out** the $K$ initial centroids. \n",
        "\n",
        "- **Step 1**: Choose the first centroid uniformly at random from the data samples. \n",
        "\n",
        "- **Step 2**: For each data point compute its distance from the nearest, previously chosen centroid.\n",
        "\n",
        "- **Step 3**: Select the next centroid from the data points such that the probability of choosing a point as centroid is directly proportional to its distance from the nearest, previously chosen centroid. (i.e. the point having maximum distance from the nearest centroid is most likely to be selected next as a centroid)\n",
        "\n",
        "- Repeat steps 2 and 3 until $K$ centroids have been sampled.\n",
        "\n",
        "- proceed using standard Lloyd's algorithm with these new initialization. \n",
        "\n",
        "\n",
        "At iteration $t$, we pick the next cluster center to be $\\mathbf{x}^{(i)}$ with probability\n",
        "$$p(\\mu_t=\\mathbf{x}^{(i)}) = \\frac{D_{t-1}(\\mathbf{x}^{(i)})^2}{\\sum_{j=1}^N D_{t-1}(\\mathbf{x}^{(j)})^2} $$\n",
        "\n",
        "where \n",
        "$$D_t(\\mathbf{x}) = \\min_{j=1}^{t-1}\\|\\mathbf{x}-\\mu_j\\|_2^2 $$\n",
        "Thus points that are far away from a centroid are\n",
        "more likely to be picked, thus reducing the distortion.\n",
        "\n",
        "This simple trick provides th provable improvement in the distortion value, although a global minimum is not guaranteed. (the recontruction error is never more than $O(\\log K)$ worse than optimal). "
      ]
    },
    {
      "cell_type": "code",
      "metadata": {
        "id": "_9ECLkxrRT6A"
      },
      "source": [
        "# initialization for Kmeans++ algorithm\n",
        "def initialize(X, K):\n",
        "    \n",
        "    ## Step 1: initialize the centroids list and add\n",
        "    ## a randomly selected data point to the list\n",
        "    n_samples, n_features = X.shape\n",
        "    random_sample_idxs = random.choice(n_samples, 1, replace=False)\n",
        "    centroids = X[random_sample_idxs,:]\n",
        "    plot_clusters(X,centroids)\n",
        "\n",
        "    ## compute remaining K - 1 centroids\n",
        "    for c_id in range(K - 1):\n",
        "        ## Step 2: initialize a list to store distances of data\n",
        "        ## points from nearest centroid \n",
        "        ## compute distance of 'point' from each of the previously\n",
        "        ## selected centroid and store the minimum distance\n",
        "        dist = zeros(n_samples)\n",
        "        for idx, sample in enumerate(X):\n",
        "          distances     = [euclidean_distance(sample, point) for point in centroids]\n",
        "          dist[idx]     = min(distances)\n",
        "\n",
        "        ## Step 3: select data point with maximum distance as our next centroid  \n",
        "        next_centroid = X[argmax(dist), :]\n",
        "        centroids=vstack([centroids,next_centroid])\n",
        "        plot_clusters(X,centroids)\n",
        "\n",
        "    return centroids\n",
        "\n",
        "\n",
        "\n",
        "centroids = initialize(X,5)"
      ],
      "execution_count": null,
      "outputs": []
    },
    {
      "cell_type": "code",
      "metadata": {
        "id": "oZ_6wMSN0XVK"
      },
      "source": [
        "def mykmeans_plus(X, K, centroids, max_iter=100, plot_steps=False):\n",
        "  n_samples, n_features = X.shape\n",
        "  # Step 0: use initialize function to choose centroids\n",
        "\n",
        "  # Optimize clusters\n",
        "  distortion_list = []\n",
        "  for j in range(max_iter):\n",
        "\n",
        "    # Step 1: Assign samples to closest centroids (create clusters)\n",
        "    clusters = [[] for _ in range(K)]\n",
        "    distortion_curr = 0;\n",
        "    for idx, sample in enumerate(X):\n",
        "       distances     = [euclidean_distance(sample, point) for point in centroids]\n",
        "       closest_index = argmin(distances)\n",
        "       clusters[closest_index].append(idx)\n",
        "       distortion_curr = distortion_curr + min(distances)\n",
        "\n",
        "    distortion_list.append(distortion_curr)   \n",
        "\n",
        "    if plot_steps:\n",
        "      plot_kmeans(X,clusters, centroids)\n",
        "       \n",
        "\n",
        "    # Step 2: Calculate new centroids from the clusters   \n",
        "    centroids_old = centroids\n",
        "    centroids     = zeros((K, n_features))\n",
        "    for cluster_idx, cluster in enumerate(clusters):\n",
        "      cluster_mean = mean(X[cluster], axis=0)\n",
        "      centroids[cluster_idx] = cluster_mean\n",
        "\n",
        "    if plot_steps:\n",
        "      plot_kmeans(X,clusters, centroids)\n",
        "\n",
        "    # Step 3: check if clusters have changed  \n",
        "      # distances between each old and new centroids, for all centroids\n",
        "    distances = [euclidean_distance(centroids_old[i], centroids[i]) for i in range(K)] \n",
        "    if sum(distances) == 0:\n",
        "      print('Number of iteration is ', j+1)\n",
        "      break\n",
        "\n",
        "  # Classify samples as the index of their clusters\n",
        "  labels = empty(n_samples)\n",
        "  for cluster_idx, cluster in enumerate(clusters):\n",
        "     for sample_index in cluster:\n",
        "        labels[sample_index] = cluster_idx\n",
        "  \n",
        "  \n",
        "  return labels, clusters, centroids, distortion_list\n"
      ],
      "execution_count": null,
      "outputs": []
    },
    {
      "cell_type": "code",
      "metadata": {
        "id": "KIM_tYXQ00GU"
      },
      "source": [
        "labels, clusters, centroids, distortion_list = mykmeans_plus(X, 5, centroids, max_iter=200, plot_steps=True)"
      ],
      "execution_count": null,
      "outputs": []
    },
    {
      "cell_type": "markdown",
      "metadata": {
        "id": "aeqVVham2g73"
      },
      "source": [
        "Note: Although the initialization in $K$-means++ is computationally more expensive than the standard $K$-means algorithm, the run-time for convergence to optimum is drastically reduced for $K$-means++. This is because the centroids that are initially chosen are likely to lie in different clusters already."
      ]
    },
    {
      "cell_type": "markdown",
      "metadata": {
        "id": "5fS2EqmH3fQH"
      },
      "source": [
        "## Limitation of $K$-means\n",
        "Not suitable for (even with the correct $K$ value)\n",
        "\n",
        "- non-rounded clusters: like two-moon.\n",
        "\n",
        "- clusters with different densities."
      ]
    },
    {
      "cell_type": "code",
      "metadata": {
        "colab": {
          "base_uri": "https://localhost:8080/",
          "height": 261
        },
        "id": "-rH0FIDu48eR",
        "outputId": "63fb44a3-39ee-4bc6-ecc5-18f5c49d80f3"
      },
      "source": [
        "Image(url='https://github.com/yexf308/MAT592/blob/main/image/two_moon.png?raw=true', width=600)\n"
      ],
      "execution_count": null,
      "outputs": [
        {
          "output_type": "execute_result",
          "data": {
            "text/html": [
              "<img src=\"https://github.com/yexf308/MAT592/blob/main/image/two_moon.png?raw=true\" width=\"600\"/>"
            ],
            "text/plain": [
              "<IPython.core.display.Image object>"
            ]
          },
          "metadata": {},
          "execution_count": 31
        }
      ]
    },
    {
      "cell_type": "code",
      "metadata": {
        "colab": {
          "base_uri": "https://localhost:8080/",
          "height": 271
        },
        "id": "oJn7Ff_t4S2X",
        "outputId": "2add7e0e-895b-4e24-dc3e-0949bb244b64"
      },
      "source": [
        "Image(url='https://github.com/yexf308/MAT592/blob/main/image/densities.png?raw=true', width=600)"
      ],
      "execution_count": null,
      "outputs": [
        {
          "output_type": "execute_result",
          "data": {
            "text/html": [
              "<img src=\"https://github.com/yexf308/MAT592/blob/main/image/densities.png?raw=true\" width=\"600\"/>"
            ],
            "text/plain": [
              "<IPython.core.display.Image object>"
            ]
          },
          "metadata": {},
          "execution_count": 32
        }
      ]
    },
    {
      "cell_type": "markdown",
      "metadata": {
        "id": "bf55Wjze5kvg"
      },
      "source": [
        "## Summary\n",
        "- $K$-means is a clustering model aiming to minimize the total within-cluster\n",
        "variance (i.e., sum of squared Euclidean distances to (nearest) centroids).\n",
        "\n",
        "- can be efficiently solved by Lloyd's algorithm using alternating\n",
        "minimization, yet suffers suboptimal solutions due to non-convexity of the\n",
        "optimization problem.\n",
        "\n",
        "- standard Lloyd's algorithm can be improved by employing a smart\n",
        "initialization scheme called $K$-means++, which chooses spread out\n",
        "centroids at random from the data samples"
      ]
    }
  ]
}