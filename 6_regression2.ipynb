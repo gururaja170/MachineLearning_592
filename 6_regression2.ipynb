{
  "nbformat": 4,
  "nbformat_minor": 0,
  "metadata": {
    "colab": {
      "name": "6.regression2.ipynb",
      "provenance": [],
      "collapsed_sections": [],
      "authorship_tag": "ABX9TyOK3lg4g1rTI7p4fSLwzEcw",
      "include_colab_link": true
    },
    "kernelspec": {
      "name": "python3",
      "display_name": "Python 3"
    },
    "language_info": {
      "name": "python"
    }
  },
  "cells": [
    {
      "cell_type": "markdown",
      "metadata": {
        "id": "view-in-github",
        "colab_type": "text"
      },
      "source": [
        "<a href=\"https://colab.research.google.com/github/yexf308/MAT592/blob/main/6_regression2.ipynb\" target=\"_parent\"><img src=\"https://colab.research.google.com/assets/colab-badge.svg\" alt=\"Open In Colab\"/></a>"
      ]
    },
    {
      "cell_type": "markdown",
      "metadata": {
        "id": "cxN7b1hw8AFT"
      },
      "source": [
        "# Regression part 2\n",
        "- LASSO\n",
        "\n",
        "- Robust linear regression\n",
        "\n",
        "- Big data situation"
      ]
    },
    {
      "cell_type": "markdown",
      "metadata": {
        "id": "ox5DkzWHrw23"
      },
      "source": [
        "## Least Absolute Shrinkage and Selection Operator (LASSO)\n",
        "\n",
        "In ridge regression, we encourage the parameters to be small, and hence prevents overfitting. However, sometimes we want the parameters to not just be small, but to\n",
        "be exactly zero, i.e, $\\hat{\\mathbf{w}}$ to be sparse. In other words, we want to minimize the **L0-norm**, \n",
        "$$ \\|\\mathbf{w}\\|_0=\\sum_{i=1}^d\\mathbb{1}(|w_i|>0)$$\n",
        "It is useful since we can perform the feature selection, i.e, if the weight is 0, we can ignore the corresponding feature. \n",
        "\n"
      ]
    },
    {
      "cell_type": "markdown",
      "metadata": {
        "id": "ZcIt2KvT8Oew"
      },
      "source": [
        "The lost function is defined as \n",
        "$$\\text{RSS}(\\mathbf{w})=\\|\\mathbf{X}\\mathbf{w} - \\mathbf{y}\\|_2^2 +\\lambda \\|\\mathbf{w}\\|_1  $$\n",
        "\n",
        "- add a penalty which penalizes the sum of absolute values, $\\|\\mathbf{w}\\|_1$. \n",
        "\n",
        "- for proper choice of penalty parameter $\\lambda$, many coefficients $w_i$ are exactly zero under LASSO. It is called **$l_1$-regularization**."
      ]
    },
    {
      "cell_type": "markdown",
      "metadata": {
        "id": "cxwIw1cS9yYS"
      },
      "source": [
        "## Why $l_1$ regularization yield sparse solution?\n",
        "We plot the contours of the loss functions, as well as the contours of the $l_1$ and $l_2$ constraint surface. From the theory of constrained optimization, we know\n",
        "that the optimal solution occurs at the point where the lowest level set of the objective function\n",
        "intersects the constraint surface "
      ]
    },
    {
      "cell_type": "code",
      "metadata": {
        "colab": {
          "base_uri": "https://localhost:8080/",
          "height": 363
        },
        "id": "aDCZIhU0rsZn",
        "outputId": "27eabedc-a08e-4f5d-8000-15aceacb071c"
      },
      "source": [
        "%pylab inline \n",
        "from IPython.display import Image\n",
        "import numpy.linalg as LA\n",
        "Image(url='https://github.com/yexf308/MAT592/blob/main/image/lasso.png?raw=true',width=600)"
      ],
      "execution_count": 1,
      "outputs": [
        {
          "output_type": "stream",
          "name": "stdout",
          "text": [
            "Populating the interactive namespace from numpy and matplotlib\n"
          ]
        },
        {
          "output_type": "execute_result",
          "data": {
            "text/html": [
              "<img src=\"https://github.com/yexf308/MAT592/blob/main/image/lasso.png?raw=true\" width=\"600\"/>"
            ],
            "text/plain": [
              "<IPython.core.display.Image object>"
            ]
          },
          "metadata": {},
          "execution_count": 1
        }
      ]
    },
    {
      "cell_type": "code",
      "metadata": {
        "colab": {
          "base_uri": "https://localhost:8080/",
          "height": 455
        },
        "id": "YgYytq8pAOwR",
        "outputId": "fd2be275-dd89-4318-c9f7-d3c919ead297"
      },
      "source": [
        "Image(url='https://github.com/yexf308/MAT592/blob/main/image/lasso1.png?raw=true',width=600)"
      ],
      "execution_count": 2,
      "outputs": [
        {
          "output_type": "execute_result",
          "data": {
            "text/html": [
              "<img src=\"https://github.com/yexf308/MAT592/blob/main/image/lasso1.png?raw=true\" width=\"600\"/>"
            ],
            "text/plain": [
              "<IPython.core.display.Image object>"
            ]
          },
          "metadata": {},
          "execution_count": 2
        }
      ]
    },
    {
      "cell_type": "code",
      "metadata": {
        "colab": {
          "base_uri": "https://localhost:8080/",
          "height": 451
        },
        "id": "kL738mIlAbvt",
        "outputId": "2484d498-d4f5-4dd1-ec44-3087ee1b30eb"
      },
      "source": [
        "Image(url='https://github.com/yexf308/MAT592/blob/main/image/lasso2.png?raw=true',width=600)"
      ],
      "execution_count": 3,
      "outputs": [
        {
          "output_type": "execute_result",
          "data": {
            "text/html": [
              "<img src=\"https://github.com/yexf308/MAT592/blob/main/image/lasso2.png?raw=true\" width=\"600\"/>"
            ],
            "text/plain": [
              "<IPython.core.display.Image object>"
            ]
          },
          "metadata": {},
          "execution_count": 3
        }
      ]
    },
    {
      "cell_type": "markdown",
      "metadata": {
        "id": "NCdvzJumA_Hc"
      },
      "source": [
        "For $q<1$, we can get even sparser solutions, but the problem becomes non-convex. So $l_1$-norm is the tightest convex relaxation of $l_0$-norm.  "
      ]
    },
    {
      "cell_type": "markdown",
      "metadata": {
        "id": "X864P46CjwaX"
      },
      "source": [
        "## Solve LASSO Numerically\n",
        "\n",
        "Unlike the previous models, no closed-form solution exists due to the fact that the loss function is no longer continuously differentiable (non-smooth absolute component). We will use **Pathwise Coordinate Descent** algorithm. Basic idea of this algorithm is to optimize a parameter at a time holding all other parameters constant. We can either cycle through\n",
        "the coordinates in a deterministic fashion, or we can sample them at random. This method is particularly appealing if each one-dimensional optimization problem can be solved\n",
        "analytically. This is known as the shooting algorithm. The gradient on the coordiant $w_d$,\n",
        "\n",
        "\\begin{align}\n",
        "\\frac{\\partial}{\\partial w_d} \\text{RSS}(\\mathbf{w})&=\\underbrace{\\|\\mathbf{X}_{:,d}\\|_2^2}_{a_d}w_d-\\underbrace{\\mathbf{X}^\\top_{:,d}(\\mathbf{y}-\\mathbf{X}_{:,-d}\\mathbf{w}_{-d})}_{c_d}+\\lambda \\frac{\\partial}{\\partial w_d}\\|\\mathbf{w}\\|_1 \\\\\n",
        "&=\\begin{cases} a_dw_d-c_d-\\lambda & \\text{if } w_d<0  \\\\\n",
        "        a_dw_d-c_d+\\lambda & \\text{if } w_d>0     \\\\\n",
        "        [-c_d-\\lambda, -c_d+\\lambda] &  \\text{if } w_d=0 \n",
        " \\end{cases}\n",
        "\\end{align}\n",
        "\n",
        "So the solution of the gradient being zero depends on $c_d$,\n",
        "\\begin{align}\n",
        "\\hat{w}_d(c_d)&= \\begin{cases}(c_d+\\lambda)/a_d & \\text{if } c_d<-\\lambda \\\\\n",
        "0 & \\text{if } \\lambda>c_d>-\\lambda  \\\\ \n",
        "(c_d-\\lambda)/a_d & \\text{if } c_d>\\lambda  \\end{cases} \\\\\n",
        "&= \\text{sign}\\left(\\frac{c_d}{a_d}\\right)\\max\\left(\\left|\\frac{c_d}{a_d}\\right|-\\frac{\\lambda}{a_d},0\\right)\n",
        "\\end{align}\n",
        "\n",
        "\n",
        "\n"
      ]
    },
    {
      "cell_type": "code",
      "metadata": {
        "id": "OXJApTdyxSC9"
      },
      "source": [
        "def lasso(X, y, l1, tol=1e-6):\n",
        "\n",
        "  \"\"\"The Lasso Regression model\n",
        "      Pathwise coordinate descent with co-variance updates is applied.\n",
        "\n",
        "      X - NumPy matrix, size (N, d), of standardized numerical predictors, note the first column is ones.\n",
        "      y - NumPy array, length N, of numerical response.\n",
        "      l1 - L1 penalty tuning parameter (positive scalar)\n",
        "      tol - Coordinate Descent convergence tolerance (exited if change < tol)\n",
        "\n",
        "  \"\"\"\n",
        "  m, n      = np.shape(X)\n",
        "  q, r      = linalg.qr(X);\n",
        "  w_s       = linalg.solve(r, q.T.dot(y))\n",
        "  iter   = 0\n",
        "  while True:\n",
        "      w_star = w_s.copy()\n",
        "      for j in range(n):\n",
        "       # norm_X_j = LA.norm(X[:, j])\n",
        "       # selector = [i for i in range(X.shape[1]) if i != j]\n",
        "       # a = X[:, j].dot(y[:, np.newaxis] - X[:, selector].dot(w_s[:, np.newaxis][selector, :]))\n",
        "       # res = np.sign(a) * max(abs(a) - l1, 0)   \n",
        "       # w_s[j] = res/(norm_X_j**2)\n",
        "\n",
        "         a_j     = LA.norm(X[:, j])**2\n",
        "         index   = arange(n)\n",
        "         index_d = delete(index, j)\n",
        "         c_j     = np.dot(X[:,j].T, y-np.dot(X[:,index_d],w_s[index_d]))\n",
        "         update  = c_j/a_j\n",
        "         w_s[j]  = np.sign(update) * max(abs(update) - l1/a_j, 0)   \n",
        "        \n",
        "      iter += 1\n",
        "      if np.all(abs(w_s - w_star) < tol):\n",
        "        print('Number of iteration is ', iter)\n",
        "        break\n",
        "\n",
        "  return w_s\n",
        "            \n",
        "                  \n",
        "\n",
        "\n"
      ],
      "execution_count": 4,
      "outputs": []
    },
    {
      "cell_type": "code",
      "metadata": {
        "colab": {
          "base_uri": "https://localhost:8080/",
          "height": 282
        },
        "id": "K0tWqlu92c3C",
        "outputId": "26e5282a-efff-4363-853b-20ed9d5fbad3"
      },
      "source": [
        "random.seed(3)\n",
        "\n",
        "# generate sample with error\n",
        "x = 7 * random.rand(150) # between 0 and 7\n",
        "e = 1 * random.randn(x.size) # noise\n",
        "y = 10*cos(x+1) + e;  \n",
        "\n",
        "# use fourth order polynomial again\n",
        "X4 = np.ones((x.size,5));\n",
        "X4[:,1] = x # partials wrt. w1\n",
        "X4[:,2] = x**2 # wrt. w2\n",
        "X4[:,3] = x**3 # wrt. w3\n",
        "X4[:,4] = x**4 # wrt. w4\n",
        "\n",
        "# lets look at these coefficient \n",
        "q, r = linalg.qr(X4);\n",
        "w4    = linalg.solve(r, q.T.dot(y))\n",
        "print(w4)\n",
        "yHat4   = X4.dot(w4)\n",
        "\n",
        "plot(x,y,'bx');\n",
        "plot(x,yHat4,'ro');\n",
        "\n",
        "def RSS(y_residue):\n",
        "  return 1/2 * np.sum(y_residue**2)\n"
      ],
      "execution_count": 5,
      "outputs": [
        {
          "output_type": "stream",
          "name": "stdout",
          "text": [
            "[  9.86810958 -20.83950897   5.92929849  -0.07250649  -0.05649201]\n"
          ]
        },
        {
          "output_type": "display_data",
          "data": {
            "image/png": "[encoded data removed]",
            "text/plain": [
              "<Figure size 432x288 with 1 Axes>"
            ]
          },
          "metadata": {
            "needs_background": "light"
          }
        }
      ]
    },
    {
      "cell_type": "code",
      "metadata": {
        "colab": {
          "base_uri": "https://localhost:8080/",
          "height": 282
        },
        "id": "i-wrlbj6chMa",
        "outputId": "8dd9a48d-3142-458a-b076-dfbdc71c10df"
      },
      "source": [
        "# Let's validate on test data\n",
        "x_test = 3 * random.rand(20)+0 # between 0 and 3\n",
        "e = 1 * random.randn(x_test.size) # noise\n",
        "y_test = 10*cos(x_test+1) + e;  \n",
        "\n",
        "X4_test = np.ones((x_test.size,5));\n",
        "X4_test[:,1] = x_test # partials wrt. w1\n",
        "X4_test[:,2] = x_test**2 # wrt. w2\n",
        "X4_test[:,3] = x_test**3 # wrt. w3\n",
        "X4_test[:,4] = x_test**4 # wrt. w4\n",
        "\n",
        "yHat4_test = X4_test.dot(w4)\n",
        "print('RSS for fourth order is', RSS(y_test - yHat4_test))\n",
        "\n",
        "plot(x_test,y_test,'bx');\n",
        "plot(x_test,yHat4_test,'ro');"
      ],
      "execution_count": 6,
      "outputs": [
        {
          "output_type": "stream",
          "name": "stdout",
          "text": [
            "RSS for fourth order is 34.00317174065699\n"
          ]
        },
        {
          "output_type": "display_data",
          "data": {
            "image/png": "[encoded data removed]",
            "text/plain": [
              "<Figure size 432x288 with 1 Axes>"
            ]
          },
          "metadata": {
            "needs_background": "light"
          }
        }
      ]
    },
    {
      "cell_type": "code",
      "metadata": {
        "colab": {
          "base_uri": "https://localhost:8080/"
        },
        "id": "fWijM0Bd3XYX",
        "outputId": "74638741-eab4-457e-e50f-2e040642d30a"
      },
      "source": [
        "print(lasso(X4, y, 10, tol=1e-6))"
      ],
      "execution_count": 7,
      "outputs": [
        {
          "output_type": "stream",
          "name": "stdout",
          "text": [
            "Number of iteration is  25765\n",
            "[ 3.79384845 -9.5261279  -0.          1.09686222 -0.13382775]\n"
          ]
        }
      ]
    },
    {
      "cell_type": "code",
      "metadata": {
        "colab": {
          "base_uri": "https://localhost:8080/",
          "height": 299
        },
        "id": "RSlbts78UC0M",
        "outputId": "9b2ae7cf-fafe-403f-ba63-6e22a924380e"
      },
      "source": [
        "X4_new = np.ones((x.size,4));\n",
        "X4_new[:,1] = x # partials wrt. w1\n",
        "X4_new[:,2] = x**3 # wrt. w3\n",
        "X4_new[:,3] = x**4 # wrt. w4\n",
        "\n",
        "# lets look at these coeffifients \n",
        "q, r = linalg.qr(X4_new);\n",
        "w4_new    = linalg.solve(r, q.T.dot(y))\n",
        "print(w4_new)\n",
        "\n",
        "X4_new_test = np.ones((x_test.size,4));\n",
        "X4_new_test[:,1] = x_test # partials wrt. w1\n",
        "X4_new_test[:,2] = x_test**3 # wrt. w3\n",
        "X4_new_test[:,3] = x_test**4 # wrt. w4\n",
        "\n",
        "yHat4_new_test = X4_new_test.dot(w4_new)\n",
        "print('RSS without second order is ', RSS(y_test - yHat4_new_test))\n",
        "\n",
        "plot(x_test,y_test,'bx');\n",
        "plot(x_test,yHat4_test,'ro');\n",
        "plot(x_test,yHat4_new_test,'y*');"
      ],
      "execution_count": 8,
      "outputs": [
        {
          "output_type": "stream",
          "name": "stdout",
          "text": [
            "[  5.33113573 -10.664728     1.17893396  -0.1432244 ]\n",
            "RSS without second order is  14.779663206930632\n"
          ]
        },
        {
          "output_type": "display_data",
          "data": {
            "image/png": "[encoded data removed]",
            "text/plain": [
              "<Figure size 432x288 with 1 Axes>"
            ]
          },
          "metadata": {
            "needs_background": "light"
          }
        }
      ]
    },
    {
      "cell_type": "markdown",
      "metadata": {
        "id": "Q-YYLcZ2JslC"
      },
      "source": [
        "## High dimensional data\n",
        "Currently the number of feature is order of $10^1$. If the number of feature is order of $10^4$ or more, these algorithms (with QR or pseudo inverse) will be too expensive. The possible method is gradient descent. At each step $t$, compute $\\mathbf{w}^t = \\mathbf{w}^{t-1} - \\eta \\nabla \\text{RSS}(\\mathbf{w}^{t-1})$. For the learning rate $\\eta$ is related to the Hessian of the function. For **strongly convex** $f$, this algorithm will converge to the minimizer, i,e, $\\mathbf{x}_t\\rightarrow x^*$, as $t\\rightarrow +\\infty$.\n",
        "\n",
        "Gradient descent for linear regression, \n",
        "\n",
        "- least square: $\\mathbf{w}^t = \\mathbf{w}^{t-1} - \\eta \\mathbf{X}^\\top (\\mathbf{X}\\mathbf{w}^{t-1} -\\mathbf{y}) $, where $\\eta <\\frac{1}{2\\sigma_{\\max}(\\mathbf{X}^\\top\\mathbf{X})}$.\n",
        "\n",
        "- ridge regression: $\\mathbf{w}^t = (1-\\eta \\lambda)\\mathbf{w}^{t-1} - \\eta \\mathbf{X}^\\top (\\mathbf{X}\\mathbf{w}^{t-1} -\\mathbf{y}) $, where $\\eta <\\frac{1}{2(\\sigma_{\\max}(\\mathbf{X}^\\top\\mathbf{X})+\\lambda))}$.\n",
        "\n",
        "Let's calculate the computation time\n",
        "- takes $O(\\log(\\frac{1}{\\epsilon}))$ iterations to acheive an $\\epsilon$-accuracy solution $\\hat{\\mathbf{w}}$ with $\\|\\hat{\\mathbf{w}}-\\mathbf{w}^*\\|_2<\\epsilon$. \n",
        "\n",
        "- time complexity for $\\epsilon$-accuracy solution: $O(\\log(\\frac{1}{\\epsilon})+Nd^2)$\n",
        "\n",
        "\n"
      ]
    },
    {
      "cell_type": "markdown",
      "metadata": {
        "id": "Hp0Vi3doB4WW"
      },
      "source": [
        "## Robust linear regression\n",
        "\n",
        "Least squares tends to produce a linear \ft that focused on trying to minimize these large errors { often due to outliers in dataset.)"
      ]
    },
    {
      "cell_type": "code",
      "metadata": {
        "colab": {
          "base_uri": "https://localhost:8080/",
          "height": 423
        },
        "id": "T2ovgQ3EEuU0",
        "outputId": "aceab7c1-6296-428b-ff78-58e9cbddd4d3"
      },
      "source": [
        "Image(url='https://github.com/yexf308/MAT592/blob/main/image/least_abs_dev.png?raw=true',width=600)"
      ],
      "execution_count": 9,
      "outputs": [
        {
          "output_type": "execute_result",
          "data": {
            "text/html": [
              "<img src=\"https://github.com/yexf308/MAT592/blob/main/image/least_abs_dev.png?raw=true\" width=\"600\"/>"
            ],
            "text/plain": [
              "<IPython.core.display.Image object>"
            ]
          },
          "metadata": {},
          "execution_count": 9
        }
      ]
    },
    {
      "cell_type": "markdown",
      "metadata": {
        "id": "93pLgPaTFFIv"
      },
      "source": [
        "The loss function is defined by the sum of absolute errors\n",
        "$$\\text{RSS}(\\mathbf{w})= \\|\\varepsilon\\|_1=\\|\\mathbf{X}\\mathbf{w} - \\mathbf{y}\\|_1$$ (leave it as HW)\n",
        "\n",
        "Here are some optimization methods to minimize RSS: \n",
        "\n",
        "- Direction optimization, Using numpy optimization package. (Okay with small data set)\n",
        "\n",
        "- sub-gradient algorithm: $|\\varepsilon_i|$ is non-differentiable at $\\varepsilon_i = 0$, but sub-derivatives exist. (lots of cases to consider)\n",
        "\n",
        "- Huber loss surrogate: a smooth surrogate of $|\\varepsilon_i|$;  can be minimized via standard gradient descent. (smooth relaxation)\n",
        "\n",
        "\\begin{equation}\n",
        "|\\varepsilon_i| \\approx L_\\delta(\\varepsilon_i) = \n",
        "\\begin{cases}\n",
        "\\frac{\\varepsilon_i^2}{2\\delta} & \\mbox{if} \\; |\\varepsilon_i| \\leq \\delta \\\\\n",
        " |\\varepsilon_i| - \\frac{\\delta}{2} & \\mbox{if} \\; |\\varepsilon_i| > \\delta\n",
        "\\end{cases}\n",
        "\\end{equation}\n",
        "\n"
      ]
    }
  ]
}